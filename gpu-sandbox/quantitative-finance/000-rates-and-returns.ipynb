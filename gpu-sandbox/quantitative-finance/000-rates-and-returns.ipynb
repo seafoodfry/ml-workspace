{
 "cells": [
  {
   "cell_type": "markdown",
   "id": "35404b40-985c-499a-8b4d-c6b994d6f30c",
   "metadata": {},
   "source": [
    "The time value of money refers to the principal of prefering cash now as opposed to cash in the future.\n",
    "An interest rates are a way to establish a consistent basis of comparison between these two scenarios.\n",
    "\n",
    "An interest rate reflects the relationship between differently dated cash flows.\n",
    "It can have three interpretations:\n",
    "1. a required rate of return,\n",
    "2. a discount rate, or\n",
    "3. an opportunity cost.\n",
    "\n",
    "It can be viewed as the sum of the real risk-free interest rate and a set of premiums that compensate lenders for bearing distinct types of risk: an inflation premium, a default risk premium, a liquidity premium, and a maturity premium.\n",
    "xref: CFA Institute. 2025 CFA Program Curriculum Level I Box Set (p. 98).\n",
    "\n",
    "The real risk-free interest rate is estimated without any inflation being expected.\n",
    "It reflects the time preferences of individuals for current versus future real consumption.\n",
    "\n",
    "The premiums compensate the consumer based on the expected risks over the maturity of the debt.\n",
    "\n",
    "The liquidity premium is an interesting one: some securities are not frequently traded in secondary markets.\n",
    "This may cause a loss relative to the invetsments fair value associated with a high spread between bid and ask values.\n",
    "\n",
    "\n",
    "**Example:**\n",
    "If USD 9,500 today and USD 10,000 in one year are equivalent in value, then USD 10,000 – USD 9,500 = USD 500 is the required compensation for receiving USD 10,000 in one year rather than now. The interest rate (i.e., the required compensation stated as a rate of return) is USD 500/USD 9,500 = 0.0526 or 5.26 percent.\n",
    "5.26 percent is the discount rate at which USD 10,000 in one year is equivalent to USD 9,500 today.\n",
    "\n",
    "\n",
    "CFA Institute. 2025 CFA Program Curriculum Level I Box Set (p. 102103).\n",
    "\n",
    "**Example:**\n",
    "Stock valuations are based on the present value of future cash flows.\n",
    "When Treasury yields rise, they increase the \"risk-free rate\" used in valuation models, which raises the discount rate applied to future earnings.\n",
    "This mathematical relationship means stocks are worth less today when future cash flows are discounted at higher rates.\n",
    "\n",
    "Discounting is the mathematical process of calculating what future money is worth in today's terms. We use a \"discount rate\" to do this calculation:\n",
    "$$\n",
    "\\text{Present Value} = \\frac{\\text{Future Cash Flow}} { (1 + \\text{discount rate})^{\\text{number of years}} }\n",
    "$$\n",
    "\n",
    "If the discount rate is $5\\%$, then 100 received one year from now is worth about 95.24 today\n",
    "($\\frac{\\$100}{1.05}$)."
   ]
  },
  {
   "cell_type": "code",
   "execution_count": 2,
   "id": "d90a6617-0f40-466e-92ea-850600b667f9",
   "metadata": {},
   "outputs": [
    {
     "data": {
      "text/plain": [
       "95.23809523809524"
      ]
     },
     "execution_count": 2,
     "metadata": {},
     "output_type": "execute_result"
    }
   ],
   "source": [
    "100 / 1.05"
   ]
  },
  {
   "cell_type": "code",
   "execution_count": 3,
   "id": "4f225066-cc4b-43a9-a6d9-faa09f015c11",
   "metadata": {},
   "outputs": [
    {
     "data": {
      "text/plain": [
       "99.9999"
      ]
     },
     "execution_count": 3,
     "metadata": {},
     "output_type": "execute_result"
    }
   ],
   "source": [
    "95.238 * 1.05"
   ]
  },
  {
   "cell_type": "markdown",
   "id": "e5dd469b-5506-4c45-bdc5-199c06961864",
   "metadata": {},
   "source": [
    "---\n",
    "\n",
    "**Combining rates**\n",
    "\n",
    "When we \"sum\" interest rates, we actually should do it like so:\n",
    "\n",
    "$$\n",
    "(1 + \\text{nominal risk-free rate}) =\n",
    "(1 + \\text{real risk-free rate}) (1 + \\text{inflation premium})\n",
    "$$\n",
    "\n",
    "**Annualizing rates**\n",
    "\n",
    "If we had a 90-day treasury bill with a rate of 2\\%.\n",
    "The annualized interest rate would be\n",
    "\n",
    "$$\n",
    "(1+\\text{rate})^{365/90} - 1\n",
    "$$\n",
    "\n",
    "The exponent is 365/90 because it represents how many 90-day periods fit into a year.\n",
    "\"Take your 90-day return and compound it 4.06 (365/90) times.\""
   ]
  },
  {
   "cell_type": "code",
   "execution_count": 1,
   "id": "46e0bccd-918f-4ccb-af49-f998becd2625",
   "metadata": {},
   "outputs": [
    {
     "name": "stdout",
     "output_type": "stream",
     "text": [
      "0.084 or 8.362%\n"
     ]
    }
   ],
   "source": [
    "tbill_90_days = 0.02\n",
    "ann_rate = (1+tbill_90_days)**(365/90) - 1.0\n",
    "print(f'{ann_rate:.3f} or {100*ann_rate:.3f}%')\n",
    "# More than 4*tbill_90_days ( == 8%) because of compounding."
   ]
  },
  {
   "cell_type": "markdown",
   "id": "41ca1b0e-4f4d-4000-bd48-37bc0cc71b30",
   "metadata": {},
   "source": [
    "In the case where returns are not constant, let's say on year one we have a rate of $R_1$ and at year two we have a rate $R_2$, then the two-yesar holding period return is computed by compounding the two individual annual returns:\n",
    "\n",
    "$$\n",
    "R = \\left(1+R_1\\right)\\left(1+R_2\\right) - 1\n",
    "$$\n",
    "\n",
    "See CFA Institute. 2025 CFA Program Curriculum Level I Box Set (p. 111).\n",
    "\n",
    "The above gives you the **total holdingperiod return**, if the different rates are the rates over years.\n",
    "If, instead, you wanted an equivalent constant annual return that produces same end result\n",
    "(i.e., for comparison against other funds with diffirent time periods), then you could compute the geometric mean\n",
    "\n",
    "$$\n",
    "R  = \\left( \\left(1+R_1\\right)\\left(1+R_2\\right) \\dots \\left(1+R_N\\right) \\right)^{1/N} - 1\n",
    "$$\n",
    "\n",
    "This would give you an average return that over the entire period would be equal to the previous equation.\n",
    "But let's do an example:\n",
    "\n",
    "Stock goes +50\\%, then -20\\%, then +10\\%.\n",
    "\n",
    "Total return = $(1.50)(0.80)(1.10) - 1 = 32\\%$ total gain over 3 years."
   ]
  },
  {
   "cell_type": "code",
   "execution_count": 4,
   "id": "8159fff2-3a0c-4212-a390-a4f556ba907c",
   "metadata": {},
   "outputs": [
    {
     "data": {
      "text/plain": [
       "0.3200000000000003"
      ]
     },
     "execution_count": 4,
     "metadata": {},
     "output_type": "execute_result"
    }
   ],
   "source": [
    "# Total return.\n",
    "(1.5 * 0.8 * 1.1) - 1"
   ]
  },
  {
   "cell_type": "code",
   "execution_count": 6,
   "id": "3ae33525-a4b2-442d-82df-fa7063472b71",
   "metadata": {},
   "outputs": [
    {
     "data": {
      "text/plain": [
       "0.09696131048652368"
      ]
     },
     "execution_count": 6,
     "metadata": {},
     "output_type": "execute_result"
    }
   ],
   "source": [
    "# Average return.\n",
    "(1.5 * 0.8 * 1.1)**(1/3) - 1"
   ]
  },
  {
   "cell_type": "code",
   "execution_count": 9,
   "id": "6d88f456-3025-4c59-bff8-d4b48b3e3c92",
   "metadata": {},
   "outputs": [
    {
     "data": {
      "text/plain": [
       "0.31999526918553567"
      ]
     },
     "execution_count": 9,
     "metadata": {},
     "output_type": "execute_result"
    }
   ],
   "source": [
    "# Average return over 3 years (should match the total return).\n",
    "(1 + 0.09696)**3 - 1"
   ]
  },
  {
   "cell_type": "code",
   "execution_count": 16,
   "id": "b6d5f89d-2171-4819-a353-af2ee340f3c4",
   "metadata": {},
   "outputs": [
    {
     "data": {
      "text/plain": [
       "np.float64(0.09696131048652368)"
      ]
     },
     "execution_count": 16,
     "metadata": {},
     "output_type": "execute_result"
    }
   ],
   "source": [
    "from scipy.stats import gmean\n",
    "\n",
    "# This should match the result from two cells ago (the avg return).\n",
    "gmean([1.5, 0.8, 1.1]) - 1"
   ]
  },
  {
   "cell_type": "markdown",
   "id": "71ad5540-faf4-4a8c-a31b-3cce0edd9bd4",
   "metadata": {},
   "source": [
    "**Note:** For programming: use log-transform method to avoid numerical overflow with long series or extreme returns.\n",
    "\n",
    "$$\n",
    "R = \\exp\\left( \\frac{1}{N} \\sum_{i}^{N} \\ln\\left(1+R_i\\right) \\right) - 1\n",
    "$$"
   ]
  },
  {
   "cell_type": "code",
   "execution_count": 27,
   "id": "19094110-02a6-41c2-a7be-8cb50c119a87",
   "metadata": {},
   "outputs": [
    {
     "data": {
      "text/plain": [
       "-0.14274999999999993"
      ]
     },
     "execution_count": 27,
     "metadata": {},
     "output_type": "execute_result"
    }
   ],
   "source": [
    "# Value and Performance\n",
    "#\n",
    "# CFA Institute. 2025 CFA Program Curriculum Level I Box Set (p. 114).\n",
    "#\n",
    "# This would be the total holding period return over the three years.\n",
    "(0.5 * 1.35 * 1.27) - 1"
   ]
  },
  {
   "cell_type": "code",
   "execution_count": 28,
   "id": "70cf4da5-388a-463a-ae4b-4441e4b06103",
   "metadata": {},
   "outputs": [
    {
     "data": {
      "text/plain": [
       "0.8572500000000001"
      ]
     },
     "execution_count": 28,
     "metadata": {},
     "output_type": "execute_result"
    }
   ],
   "source": [
    "# This should match the ending amount in the example (it does).\n",
    "1  * (1 -0.14274999999999993)"
   ]
  },
  {
   "cell_type": "code",
   "execution_count": 29,
   "id": "de179395-b3ca-4570-91d4-4fe6e4629626",
   "metadata": {},
   "outputs": [
    {
     "data": {
      "text/plain": [
       "np.float64(-0.050046170295562575)"
      ]
     },
     "execution_count": 29,
     "metadata": {},
     "output_type": "execute_result"
    }
   ],
   "source": [
    "# Explicitly computing the geometric mean (might as well, practice).\n",
    "gmean([0.5, 1.35, 1.27]) - 1"
   ]
  },
  {
   "cell_type": "code",
   "execution_count": null,
   "id": "fbe5aa21-8b49-4ec3-ac54-66d8e4efb957",
   "metadata": {},
   "outputs": [],
   "source": []
  }
 ],
 "metadata": {
  "kernelspec": {
   "display_name": "Python 3 (ipykernel)",
   "language": "python",
   "name": "python3"
  },
  "language_info": {
   "codemirror_mode": {
    "name": "ipython",
    "version": 3
   },
   "file_extension": ".py",
   "mimetype": "text/x-python",
   "name": "python",
   "nbconvert_exporter": "python",
   "pygments_lexer": "ipython3",
   "version": "3.13.1"
  }
 },
 "nbformat": 4,
 "nbformat_minor": 5
}
