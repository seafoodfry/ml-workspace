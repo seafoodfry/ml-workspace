{
 "cells": [
  {
   "cell_type": "code",
   "execution_count": 1,
   "id": "a49ee1d4-1a1e-4c99-b881-837b73830aad",
   "metadata": {},
   "outputs": [],
   "source": [
    "import time"
   ]
  },
  {
   "cell_type": "code",
   "execution_count": 2,
   "id": "f28fe8e2-6571-4515-9ffb-addb9ca7e29e",
   "metadata": {},
   "outputs": [
    {
     "name": "stdout",
     "output_type": "stream",
     "text": [
      "Elapsed time: 1.066853 seconds\n"
     ]
    }
   ],
   "source": [
    "#%%timeit -n 1 -r 1\n",
    "start = time.perf_counter()\n",
    "\n",
    "import torch\n",
    "\n",
    "end = time.perf_counter()\n",
    "print(f\"Elapsed time: {end - start:.6f} seconds\")"
   ]
  },
  {
   "cell_type": "code",
   "execution_count": 3,
   "id": "65d8550d-d460-4c33-96c5-aeb3d658c85f",
   "metadata": {},
   "outputs": [],
   "source": [
    "from tqdm import tqdm\n",
    "import matplotlib.pyplot as plt\n",
    "import numpy as np"
   ]
  },
  {
   "cell_type": "markdown",
   "id": "eacf9c7d-5342-4710-8bdb-f9da3677f6ed",
   "metadata": {},
   "source": [
    "# Device Info"
   ]
  },
  {
   "cell_type": "code",
   "execution_count": 4,
   "id": "54b9333b-9c80-46fe-b64a-c0af74858a6d",
   "metadata": {},
   "outputs": [
    {
     "data": {
      "text/plain": [
       "'2.4.1'"
      ]
     },
     "execution_count": 4,
     "metadata": {},
     "output_type": "execute_result"
    }
   ],
   "source": [
    "torch.__version__"
   ]
  },
  {
   "cell_type": "code",
   "execution_count": 5,
   "id": "b32910b9-c14a-4c08-8bbd-72d969c120dd",
   "metadata": {},
   "outputs": [
    {
     "data": {
      "text/plain": [
       "'12.4'"
      ]
     },
     "execution_count": 5,
     "metadata": {},
     "output_type": "execute_result"
    }
   ],
   "source": [
    "torch.version.cuda"
   ]
  },
  {
   "cell_type": "code",
   "execution_count": 5,
   "id": "2c6ffdf7-afaf-4613-a2bd-83ff5132888b",
   "metadata": {},
   "outputs": [
    {
     "data": {
      "text/plain": [
       "True"
      ]
     },
     "execution_count": 5,
     "metadata": {},
     "output_type": "execute_result"
    }
   ],
   "source": [
    "torch.cuda.is_available()"
   ]
  },
  {
   "cell_type": "code",
   "execution_count": 6,
   "id": "c1090f80-9a73-44ee-85c7-d49697d988a6",
   "metadata": {},
   "outputs": [
    {
     "data": {
      "text/plain": [
       "'NVIDIA L40S'"
      ]
     },
     "execution_count": 6,
     "metadata": {},
     "output_type": "execute_result"
    }
   ],
   "source": [
    "torch.cuda.get_device_name()"
   ]
  },
  {
   "cell_type": "code",
   "execution_count": 7,
   "id": "21cac407-ae46-46bf-8764-1e73e1b463ca",
   "metadata": {},
   "outputs": [
    {
     "data": {
      "text/plain": [
       "'GPU:0\\nno processes are running'"
      ]
     },
     "execution_count": 7,
     "metadata": {},
     "output_type": "execute_result"
    }
   ],
   "source": [
    "torch.cuda.list_gpu_processes()"
   ]
  },
  {
   "cell_type": "code",
   "execution_count": 8,
   "id": "3ae269de-9f19-4e05-bc58-ad8391da51cd",
   "metadata": {},
   "outputs": [
    {
     "data": {
      "text/plain": [
       "1"
      ]
     },
     "execution_count": 8,
     "metadata": {},
     "output_type": "execute_result"
    }
   ],
   "source": [
    "torch.cuda.device_count()"
   ]
  },
  {
   "cell_type": "code",
   "execution_count": 9,
   "id": "46e28baf-082e-43f6-b044-9a75d367ebc5",
   "metadata": {},
   "outputs": [
    {
     "data": {
      "text/plain": [
       "_CudaDeviceProperties(name='NVIDIA L40S', major=8, minor=9, total_memory=45372MB, multi_processor_count=142)"
      ]
     },
     "execution_count": 9,
     "metadata": {},
     "output_type": "execute_result"
    }
   ],
   "source": [
    "# See https://github.com/seafoodfry/ml-workspace/blob/main/gpu-sandbox/our-cuda-by-example/03-cudaDeviceProp.cu\n",
    "torch.cuda.get_device_properties(0)"
   ]
  },
  {
   "cell_type": "code",
   "execution_count": 10,
   "id": "9439bb8f-8bb6-45ad-9716-5516a48b9ce0",
   "metadata": {},
   "outputs": [
    {
     "data": {
      "text/plain": [
       "['sm_50', 'sm_60', 'sm_61', 'sm_70', 'sm_75', 'sm_80', 'sm_86', 'sm_90']"
      ]
     },
     "execution_count": 10,
     "metadata": {},
     "output_type": "execute_result"
    }
   ],
   "source": [
    "# See https://arnon.dk/matching-sm-architectures-arch-and-gencode-for-various-nvidia-cards/\n",
    "torch.cuda.get_arch_list()"
   ]
  },
  {
   "cell_type": "code",
   "execution_count": 11,
   "id": "5c308f99-21df-4680-84f8-bf150ab23b84",
   "metadata": {},
   "outputs": [
    {
     "data": {
      "text/plain": [
       "'native'"
      ]
     },
     "execution_count": 11,
     "metadata": {},
     "output_type": "execute_result"
    }
   ],
   "source": [
    "# See\n",
    "# https://pytorch.org/docs/stable/notes/cuda.html#optimizing-memory-usage-with-pytorch-cuda-alloc-conf\n",
    "# and\n",
    "# https://developer.nvidia.com/blog/using-cuda-stream-ordered-memory-allocator-part-1/\n",
    "torch.cuda.get_allocator_backend()"
   ]
  },
  {
   "cell_type": "code",
   "execution_count": 12,
   "id": "4a566a54-7a4b-42b5-948c-2c26f04a522b",
   "metadata": {},
   "outputs": [
    {
     "data": {
      "text/plain": [
       "False"
      ]
     },
     "execution_count": 12,
     "metadata": {},
     "output_type": "execute_result"
    }
   ],
   "source": [
    "# See https://pytorch.org/docs/stable/notes/mps.html\n",
    "torch.backends.mps.is_available()"
   ]
  },
  {
   "cell_type": "code",
   "execution_count": 13,
   "id": "42bc2c3c-db85-4b87-8844-be181edac9c6",
   "metadata": {},
   "outputs": [
    {
     "data": {
      "text/plain": [
       "True"
      ]
     },
     "execution_count": 13,
     "metadata": {},
     "output_type": "execute_result"
    }
   ],
   "source": [
    "torch.backends.cuda.is_built()"
   ]
  },
  {
   "cell_type": "code",
   "execution_count": 14,
   "id": "d88f697d-8475-4777-8803-e79ac4644966",
   "metadata": {},
   "outputs": [
    {
     "data": {
      "text/plain": [
       "'AVX2'"
      ]
     },
     "execution_count": 14,
     "metadata": {},
     "output_type": "execute_result"
    }
   ],
   "source": [
    "torch.backends.cpu.get_cpu_capability()"
   ]
  },
  {
   "cell_type": "code",
   "execution_count": 15,
   "id": "cdc79685-3848-4ad2-81f8-ab0ea67b94b5",
   "metadata": {},
   "outputs": [
    {
     "data": {
      "text/plain": [
       "tensor([1])"
      ]
     },
     "execution_count": 15,
     "metadata": {},
     "output_type": "execute_result"
    }
   ],
   "source": [
    "torch.tensor([1])"
   ]
  },
  {
   "cell_type": "code",
   "execution_count": 16,
   "id": "e2279b88-5b9b-4cd0-8d66-71ecfadb4476",
   "metadata": {},
   "outputs": [
    {
     "data": {
      "text/plain": [
       "tensor([1, 2, 3])"
      ]
     },
     "execution_count": 16,
     "metadata": {},
     "output_type": "execute_result"
    }
   ],
   "source": [
    "torch.tensor([1, 2, 3])"
   ]
  },
  {
   "cell_type": "code",
   "execution_count": 17,
   "id": "27e3541f-5d45-4eb4-8f42-8f6f8a7884c3",
   "metadata": {},
   "outputs": [
    {
     "data": {
      "text/plain": [
       "tensor([[1, 2, 3],\n",
       "        [4, 5, 6]])"
      ]
     },
     "execution_count": 17,
     "metadata": {},
     "output_type": "execute_result"
    }
   ],
   "source": [
    "torch.tensor([\n",
    "    [1, 2, 3],\n",
    "    [4, 5, 6],\n",
    "])"
   ]
  },
  {
   "cell_type": "code",
   "execution_count": 18,
   "id": "08a84065-9e73-4c11-8033-c3f4c28e21e8",
   "metadata": {},
   "outputs": [
    {
     "data": {
      "text/plain": [
       "tensor([[[ 1,  2,  3],\n",
       "         [ 4,  5,  6]],\n",
       "\n",
       "        [[ 7,  8,  9],\n",
       "         [10, 11, 12]]])"
      ]
     },
     "execution_count": 18,
     "metadata": {},
     "output_type": "execute_result"
    }
   ],
   "source": [
    "# 3D.\n",
    "torch.tensor([\n",
    "    [\n",
    "        [1, 2, 3],\n",
    "        [4, 5, 6],\n",
    "    ],\n",
    "    [\n",
    "        [7, 8, 9],\n",
    "        [10, 11, 12],\n",
    "    ]\n",
    "])"
   ]
  },
  {
   "cell_type": "code",
   "execution_count": 19,
   "id": "29987df0-60ef-4436-8aa4-9f08e6620f9e",
   "metadata": {},
   "outputs": [
    {
     "data": {
      "text/plain": [
       "torch.int64"
      ]
     },
     "execution_count": 19,
     "metadata": {},
     "output_type": "execute_result"
    }
   ],
   "source": [
    "torch.tensor([1]).dtype"
   ]
  },
  {
   "cell_type": "code",
   "execution_count": 20,
   "id": "44b652ac-d51d-4a41-8d5b-1a155185495c",
   "metadata": {},
   "outputs": [
    {
     "data": {
      "text/plain": [
       "torch.float32"
      ]
     },
     "execution_count": 20,
     "metadata": {},
     "output_type": "execute_result"
    }
   ],
   "source": [
    "torch.tensor([1]).to(torch.float32).dtype"
   ]
  },
  {
   "cell_type": "code",
   "execution_count": 21,
   "id": "d049a659-b105-461d-a9fe-bf7ea9097b1c",
   "metadata": {},
   "outputs": [
    {
     "data": {
      "text/plain": [
       "torch.float32"
      ]
     },
     "execution_count": 21,
     "metadata": {},
     "output_type": "execute_result"
    }
   ],
   "source": [
    "torch.tensor([1.0]).dtype"
   ]
  },
  {
   "cell_type": "markdown",
   "id": "22226c18-d53f-493f-b3a3-bed8e323e6dc",
   "metadata": {},
   "source": [
    "# Forward pass (prediciton step) of a simple logistic regression classifier"
   ]
  },
  {
   "cell_type": "code",
   "execution_count": 4,
   "id": "2cd9d72a-3995-406e-a8e0-5e5060325d5d",
   "metadata": {},
   "outputs": [],
   "source": [
    "import torch.nn.functional as F"
   ]
  },
  {
   "cell_type": "code",
   "execution_count": 6,
   "id": "89cb7aad-4cdf-439e-8444-cb1d5d3c3910",
   "metadata": {},
   "outputs": [
    {
     "data": {
      "text/plain": [
       "tensor(0.0774)"
      ]
     },
     "execution_count": 6,
     "metadata": {},
     "output_type": "execute_result"
    }
   ],
   "source": [
    "# True label.\n",
    "y = torch.tensor([1.0])\n",
    "\n",
    "# Input feature.\n",
    "x1 = torch.tensor([1.1])\n",
    "w1 = torch.tensor([2.2])\n",
    "b = torch.tensor([0.1])\n",
    "\n",
    "z = x1 * w1 + b\n",
    "\n",
    "activation = torch.sigmoid(z)\n",
    "\n",
    "loss = F.binary_cross_entropy(activation, y)\n",
    "loss"
   ]
  },
  {
   "cell_type": "code",
   "execution_count": 7,
   "id": "8e1344d7-88ce-4694-9dac-ef59d514aa7c",
   "metadata": {},
   "outputs": [
    {
     "data": {
      "image/png": "[encoded data removed]",
      "text/plain": [
       "<Figure size 500x200 with 1 Axes>"
      ]
     },
     "metadata": {},
     "output_type": "display_data"
    }
   ],
   "source": [
    "# Create a clear step-function dataset.\n",
    "x = torch.tensor([[-10.0], [-9.0], [-8.0], [8.0], [9.0], [10.0]], dtype=torch.float32)\n",
    "y = torch.tensor([[0.0], [0.0], [0.0], [1.0], [1.0], [1.0]], dtype=torch.float32)\n",
    "\n",
    "# Visualize the dataset\n",
    "plt.figure(figsize=(5, 2))\n",
    "plt.scatter(x, y, c='blue', s=50, label='Training Data')\n",
    "plt.axvline(x=0.0, color='gray', linestyle='--', label='True Decision Boundary')\n",
    "plt.grid(True, alpha=0.3)\n",
    "plt.title('Step Function Dataset (N=6)')\n",
    "plt.xlabel('x')\n",
    "plt.ylabel('y (binary output)')\n",
    "plt.legend()\n",
    "plt.show()"
   ]
  },
  {
   "cell_type": "code",
   "execution_count": 9,
   "id": "36ff1c15-7ee9-4c67-85a0-adec0ac1cb7b",
   "metadata": {},
   "outputs": [
    {
     "name": "stdout",
     "output_type": "stream",
     "text": [
      "Training Progress:\n"
     ]
    },
    {
     "name": "stderr",
     "output_type": "stream",
     "text": [
      "100%|███████████████████████████████████████████████████████████████████████████████████████| 100/100 [00:00<00:00, 4893.94it/s]"
     ]
    },
    {
     "name": "stdout",
     "output_type": "stream",
     "text": [
      "Epoch 20: Loss = 0.0004, Accuracy = 1.00\n",
      "Epoch 40: Loss = 0.0004, Accuracy = 1.00\n",
      "Epoch 60: Loss = 0.0003, Accuracy = 1.00\n",
      "Epoch 80: Loss = 0.0003, Accuracy = 1.00\n",
      "Epoch 100: Loss = 0.0003, Accuracy = 1.00\n",
      "\n",
      "Final Parameters:\n",
      "Weight (w): 0.9297\n",
      "Bias (b): -0.1993\n"
     ]
    },
    {
     "name": "stderr",
     "output_type": "stream",
     "text": [
      "\n"
     ]
    }
   ],
   "source": [
    "# Model parameters\n",
    "w = torch.tensor([[0.9]], requires_grad=True)\n",
    "b = torch.tensor([[-0.2]], requires_grad=True)\n",
    "\n",
    "def net_input(x, w, b):\n",
    "    return x @ w.T + b\n",
    "\n",
    "# Hyperparameters.\n",
    "learning_rate = 0.1\n",
    "num_epochs = 100\n",
    "\n",
    "# Training loop.\n",
    "losses = []\n",
    "accuracies = []\n",
    "print(\"Training Progress:\")\n",
    "for epoch in tqdm(range(num_epochs)):\n",
    "    # Forward pass.\n",
    "    z = net_input(x, w, b)\n",
    "    \n",
    "    # Compute the activation / predicitons.\n",
    "    activation = torch.sigmoid(z)\n",
    "    \n",
    "    # Compute loss.\n",
    "    loss = F.binary_cross_entropy(activation, y)\n",
    "    \n",
    "    # Backward pass.\n",
    "    # PyTorch's way of implementing backpropagation. It calculates the gradient of the loss\n",
    "    # with respect to all parameters that have requires_grad=True.\n",
    "    loss.backward()\n",
    "    \n",
    "    # Update parameters.\n",
    "    # Temporarily disable gradient tracking.\n",
    "    with torch.no_grad():\n",
    "        # SGD-like algorithm.\n",
    "        w -= learning_rate * w.grad\n",
    "        b -= learning_rate * b.grad\n",
    "        w.grad.zero_()\n",
    "        b.grad.zero_()\n",
    "\n",
    "    # Compute accuracy.\n",
    "    predicted_labels = (activation >= 0.5).float()\n",
    "    accuracy = (predicted_labels == y).float().mean()\n",
    "\n",
    "    # Store metrics.\n",
    "    losses.append( loss.item() )\n",
    "    accuracies.append( accuracy.item() )\n",
    "    \n",
    "    # Print progress every 20 epochs.\n",
    "    if (epoch + 1) % 20 == 0:\n",
    "        print(f'Epoch {epoch+1}: Loss = {loss.item():.4f}, Accuracy = {accuracy.item():.2f}')\n",
    "\n",
    "print(\"\\nFinal Parameters:\")\n",
    "print(f\"Weight (w): {w.item():.4f}\")\n",
    "print(f\"Bias (b): {b.item():.4f}\")"
   ]
  },
  {
   "cell_type": "markdown",
   "id": "727acc9b-46a6-4f08-9f6b-e95eaed4039e",
   "metadata": {},
   "source": [
    "## Quick detour: compressing the X axis in a plot"
   ]
  },
  {
   "cell_type": "code",
   "execution_count": 7,
   "id": "da533aff-4caa-43c4-9821-e1ffc86932af",
   "metadata": {},
   "outputs": [
    {
     "data": {
      "text/plain": [
       "array([0, 1, 2, 3, 4, 5, 6, 7, 8, 9])"
      ]
     },
     "execution_count": 7,
     "metadata": {},
     "output_type": "execute_result"
    }
   ],
   "source": [
    "test_x_axis = np.array([x for x in range(10)])\n",
    "test_x_axis"
   ]
  },
  {
   "cell_type": "code",
   "execution_count": 8,
   "id": "1ac3c0ea-c7dd-47e0-b9e0-c76d4e9b9fda",
   "metadata": {},
   "outputs": [
    {
     "data": {
      "text/plain": [
       "(array([ True, False, False, False, False, False, False, False, False,\n",
       "        False]),\n",
       " array([False,  True,  True,  True,  True,  True,  True,  True, False,\n",
       "        False]),\n",
       " array([False, False, False, False, False, False, False, False,  True,\n",
       "         True]))"
      ]
     },
     "execution_count": 8,
     "metadata": {},
     "output_type": "execute_result"
    }
   ],
   "source": [
    "early, late = 1, 8\n",
    "mask_early = test_x_axis < early\n",
    "mask_middle = (test_x_axis >= early) & (test_x_axis < late)\n",
    "mask_late = test_x_axis >= late\n",
    "\n",
    "mask_early, mask_middle, mask_late"
   ]
  },
  {
   "cell_type": "code",
   "execution_count": 9,
   "id": "43cc3a0e-2aa8-4728-909c-e5fc0dc2adbe",
   "metadata": {},
   "outputs": [
    {
     "data": {
      "text/plain": [
       "array([0., 0., 0., 0., 0., 0., 0., 0., 0., 0.])"
      ]
     },
     "execution_count": 9,
     "metadata": {},
     "output_type": "execute_result"
    }
   ],
   "source": [
    "test_result = np.zeros_like(test_x_axis, dtype=float)\n",
    "scale_middle = 0.1\n",
    "\n",
    "test_result[mask_early] = test_x_axis[mask_early]\n",
    "test_result"
   ]
  },
  {
   "cell_type": "code",
   "execution_count": 10,
   "id": "d0fb4ef9-a551-4a8f-9844-cf59fa6ccabb",
   "metadata": {},
   "outputs": [
    {
     "data": {
      "text/plain": [
       "array([1, 2, 3, 4, 5, 6, 7])"
      ]
     },
     "execution_count": 10,
     "metadata": {},
     "output_type": "execute_result"
    }
   ],
   "source": [
    "test_x_axis[mask_middle]"
   ]
  },
  {
   "cell_type": "code",
   "execution_count": 11,
   "id": "fabdc01d-b67f-44ca-be66-baed92907af8",
   "metadata": {},
   "outputs": [
    {
     "data": {
      "text/plain": [
       "array([0.1, 0.2, 0.3, 0.4, 0.5, 0.6, 0.7])"
      ]
     },
     "execution_count": 11,
     "metadata": {},
     "output_type": "execute_result"
    }
   ],
   "source": [
    "test_x_axis[mask_middle] * 0.1"
   ]
  },
  {
   "cell_type": "code",
   "execution_count": 12,
   "id": "5efc4142-b17e-4e6c-a8b1-99545abec135",
   "metadata": {},
   "outputs": [
    {
     "data": {
      "text/plain": [
       "array([0. , 0.1, 0.2, 0.3, 0.4, 0.5, 0.6])"
      ]
     },
     "execution_count": 12,
     "metadata": {},
     "output_type": "execute_result"
    }
   ],
   "source": [
    "(test_x_axis[mask_middle]-early) * 0.1"
   ]
  },
  {
   "cell_type": "code",
   "execution_count": 13,
   "id": "d1ea2d29-50e1-4940-b7cd-e95da45b8b5a",
   "metadata": {},
   "outputs": [
    {
     "data": {
      "text/plain": [
       "array([1. , 1.1, 1.2, 1.3, 1.4, 1.5, 1.6])"
      ]
     },
     "execution_count": 13,
     "metadata": {},
     "output_type": "execute_result"
    }
   ],
   "source": [
    "# The minus before the multiplication preserves the point at which we start compressing\n",
    "# the x axis.\n",
    "early + (test_x_axis[mask_middle] - early) * 0.1"
   ]
  },
  {
   "cell_type": "code",
   "execution_count": 15,
   "id": "dd81c953-6e63-4e2e-bb13-9febdea19c61",
   "metadata": {},
   "outputs": [
    {
     "data": {
      "text/plain": [
       "(array([1, 2, 3, 4, 5, 6, 7]),\n",
       " array([0. , 1. , 1.1, 1.2, 1.3, 1.4, 1.5, 1.6, 0. , 0. ]))"
      ]
     },
     "execution_count": 15,
     "metadata": {},
     "output_type": "execute_result"
    }
   ],
   "source": [
    "test_result[mask_middle] = ( early + (test_x_axis[mask_middle] - early) * scale_middle )\n",
    "\n",
    "test_x_axis[mask_middle], test_result"
   ]
  },
  {
   "cell_type": "code",
   "execution_count": 12,
   "id": "76cbd3cc-1637-4df3-bc42-778fad195650",
   "metadata": {},
   "outputs": [],
   "source": [
    "def custom_scale(x, early=10, late=90):\n",
    "    \"\"\"Create a custom scale that compresses the middle section.\"\"\"\n",
    "    x = np.array(x)\n",
    "    \n",
    "    # Create scaling factors.\n",
    "    scale_early = 1.0  # Normal scale for early epochs\n",
    "    scale_middle = 0.1  # Compressed scale for middle epochs\n",
    "    scale_late = 1.0   # Normal scale for late epochs\n",
    "    \n",
    "    result = np.zeros_like(x, dtype=float)\n",
    "    \n",
    "    # Apply different scales to different regions.\n",
    "    mask_early = x < early\n",
    "    mask_middle = (x >= early) & (x < late)\n",
    "    mask_late = x >= late\n",
    "    \n",
    "    # Early region: normal scale.\n",
    "    result[mask_early] = x[mask_early] + scale_early\n",
    "    \n",
    "    # Middle region: compressed.\n",
    "    result[mask_middle] = early + (x[mask_middle] - early) * scale_middle\n",
    "    \n",
    "    # Late region: normal scale but shifted due to compression.\n",
    "    middle_width = (late - early) * scale_middle\n",
    "    result[mask_late] = early + middle_width + (x[mask_late] - late) * scale_late\n",
    "    \n",
    "    return result"
   ]
  },
  {
   "cell_type": "code",
   "execution_count": 13,
   "id": "90004c0f-b69d-42dd-9f0c-a0a079f18a76",
   "metadata": {},
   "outputs": [
    {
     "data": {
      "image/png": "[encoded data removed]",
      "text/plain": [
       "<Figure size 700x700 with 3 Axes>"
      ]
     },
     "metadata": {},
     "output_type": "display_data"
    }
   ],
   "source": [
    "plt.figure(figsize=(7, 7))\n",
    "\n",
    "#############################\n",
    "# Plot 1: Decision Boundary #\n",
    "#############################\n",
    "plt.subplot(2, 1, 1)\n",
    "# Plot training data.\n",
    "plt.scatter(x, y, c='blue', s=100, label='Training Data')\n",
    "\n",
    "# Plot decision boundary.\n",
    "x_plot = torch.linspace(-12, 12, 100).reshape(-1, 1)\n",
    "with torch.no_grad():\n",
    "    z_plot = net_input(x_plot, w, b)\n",
    "    y_plot = torch.sigmoid(z_plot)\n",
    "\n",
    "plt.plot(x_plot, y_plot, 'r-', label='Learned Decision Boundary')\n",
    "plt.axhline(y=0.5, color='g', linestyle='--', label='Classification Threshold')\n",
    "plt.axvline(x=0.0, color='gray', linestyle='--', label='True Decision Boundary')\n",
    "\n",
    "plt.grid(True, alpha=0.3)\n",
    "plt.title('Logistic Regression on Step Function Data')\n",
    "plt.xlabel('x')\n",
    "plt.ylabel('Probability')\n",
    "plt.legend()\n",
    "\n",
    "#################################\n",
    "# Second row: Loss and Accuracy #\n",
    "#################################\n",
    "plt.subplot(2, 1, 2)\n",
    "\n",
    "epochs = np.arange(len(losses))\n",
    "epochs_scaled = custom_scale(epochs)\n",
    "\n",
    "# Plot loss on primary y-axis.\n",
    "color_loss = 'tab:blue'\n",
    "ax1 = plt.gca() # get current axis.\n",
    "ax1.set_xlabel('Epoch')\n",
    "ax1.set_ylabel('Loss', color=color_loss)\n",
    "ln1 = ax1.plot(epochs_scaled, losses, color=color_loss, label='Loss')\n",
    "ax1.tick_params(axis='y', labelcolor=color_loss)\n",
    "\n",
    "# Plot accuracy on secondary y-axis.\n",
    "color_acc = 'tab:green'\n",
    "ax2 = ax1.twinx()\n",
    "ax2.set_ylabel('Accuracy', color=color_acc)\n",
    "ln2 = ax2.plot(epochs_scaled, accuracies, color=color_acc, label='Accuracy')\n",
    "ax2.tick_params(axis='y', labelcolor=color_acc)\n",
    "\n",
    "# Set custom ticks to show actual epoch numbers.\n",
    "tick_locations = custom_scale([0, 10, 50, 90, 100])\n",
    "ax1.set_xticks(tick_locations)\n",
    "ax1.set_xticklabels(['0', '10', '50', '90', '100'])\n",
    "\n",
    "# Add markers to show scale change.\n",
    "for _x in [10, 90]:\n",
    "    scaled_x = custom_scale([_x])[0]\n",
    "    ax1.axvline(x=scaled_x, color='gray', linestyle=':', alpha=0.5)\n",
    "\n",
    "# Add legend.\n",
    "lns = ln1 + ln2\n",
    "labs = [l.get_label() for l in lns]\n",
    "ax1.legend(lns, labs, loc='center right')\n",
    "\n",
    "plt.title('Training Metrics')\n",
    "plt.grid(True, alpha=0.3)\n",
    "\n",
    "# Adjust layout\n",
    "plt.tight_layout()\n",
    "plt.show()"
   ]
  },
  {
   "cell_type": "code",
   "execution_count": 14,
   "id": "e7f55902-561b-4151-9254-27a53780db7c",
   "metadata": {},
   "outputs": [
    {
     "name": "stdout",
     "output_type": "stream",
     "text": [
      "\n",
      "Classification Results:\n",
      "----------------------\n",
      "x = -10.0: probability = 0.0001, prediction = 0, true_label = 0\n",
      "x = -9.0: probability = 0.0002, prediction = 0, true_label = 0\n",
      "x = -8.0: probability = 0.0005, prediction = 0, true_label = 0\n",
      "x = 8.0: probability = 0.9993, prediction = 1, true_label = 1\n",
      "x = 9.0: probability = 0.9997, prediction = 1, true_label = 1\n",
      "x = 10.0: probability = 0.9999, prediction = 1, true_label = 1\n"
     ]
    }
   ],
   "source": [
    "# Print classification results\n",
    "with torch.no_grad():\n",
    "    z_test = net_input(x, w, b)\n",
    "    probs = torch.sigmoid(z_test)\n",
    "    predictions = (probs >= 0.5).float()\n",
    "    \n",
    "print(\"\\nClassification Results:\")\n",
    "print(\"----------------------\")\n",
    "for i in range(len(x)):\n",
    "    print(f\"x = {x[i][0]:.1f}: probability = {probs[i][0]:.4f}, prediction = {predictions[i][0]:.0f}, true_label = {y[i][0]:.0f}\")"
   ]
  },
  {
   "cell_type": "code",
   "execution_count": 15,
   "id": "cb22e7e3-5c14-48ad-a002-75857687fa6b",
   "metadata": {},
   "outputs": [],
   "source": [
    "from tabulate import tabulate"
   ]
  },
  {
   "cell_type": "code",
   "execution_count": 16,
   "id": "4c5d7a54-2523-4dd0-a36f-bb9043b108c7",
   "metadata": {},
   "outputs": [
    {
     "name": "stdout",
     "output_type": "stream",
     "text": [
      "+-----+---------------+--------------+--------------+--------------+\n",
      "|   x |   Probability |   Compliment |   Prediction |   True Label |\n",
      "+=====+===============+==============+==============+==============+\n",
      "| -10 |        0.0001 |       0.9999 |            0 |            0 |\n",
      "+-----+---------------+--------------+--------------+--------------+\n",
      "|  -9 |        0.0002 |       0.9998 |            0 |            0 |\n",
      "+-----+---------------+--------------+--------------+--------------+\n",
      "|  -8 |        0.0005 |       0.9995 |            0 |            0 |\n",
      "+-----+---------------+--------------+--------------+--------------+\n",
      "|   8 |        0.9993 |       0.0007 |            1 |            1 |\n",
      "+-----+---------------+--------------+--------------+--------------+\n",
      "|   9 |        0.9997 |       0.0003 |            1 |            1 |\n",
      "+-----+---------------+--------------+--------------+--------------+\n",
      "|  10 |        0.9999 |       0.0001 |            1 |            1 |\n",
      "+-----+---------------+--------------+--------------+--------------+\n"
     ]
    }
   ],
   "source": [
    "# Prepare the data for the table.\n",
    "table_data = [\n",
    "    [x[i][0], f\"{probs[i][0]:.4f}\", f\"{1.0 - probs[i][0]:.4f}\", predictions[i][0], y[i][0]]\n",
    "    for i in range(len(x))\n",
    "]\n",
    "\n",
    "# Define column headers.\n",
    "headers = ['x', 'Probability', 'Compliment', 'Prediction', 'True Label']\n",
    "\n",
    "# Print the table\n",
    "print(tabulate(table_data, headers=headers, tablefmt='grid'))"
   ]
  },
  {
   "cell_type": "markdown",
   "id": "f6265861-35ff-4f9d-8b24-b9da45b4596b",
   "metadata": {},
   "source": [
    "# Iris"
   ]
  },
  {
   "cell_type": "code",
   "execution_count": 4,
   "id": "61e7f561-40f9-419f-a334-c342a60e5513",
   "metadata": {},
   "outputs": [],
   "source": [
    "import torch.nn as nn\n",
    "import torch.optim as optim\n",
    "from torch.utils.data import Dataset, DataLoader\n",
    "from sklearn.datasets import load_iris\n",
    "from sklearn.model_selection import train_test_split\n",
    "from sklearn.preprocessing import StandardScaler"
   ]
  },
  {
   "cell_type": "code",
   "execution_count": 5,
   "id": "d20ccab5-680d-4781-9bf6-a4a7a0390c1b",
   "metadata": {},
   "outputs": [],
   "source": [
    "iris = load_iris()\n",
    "X = iris.data[:, [2, 3]]\n",
    "y = iris.target\n",
    "\n",
    "# Split the dataset into training and testing sets.\n",
    "X_train, X_test, y_train, y_test = train_test_split(X, y, test_size=0.2, random_state=42)\n",
    "\n",
    "# Standardize the features.\n",
    "scaler = StandardScaler()\n",
    "X_train = scaler.fit_transform(X_train)\n",
    "X_test = scaler.transform(X_test)\n",
    "\n",
    "# Convert to PyTorch tensors.\n",
    "X_train = torch.tensor(X_train, dtype=torch.float32)\n",
    "y_train = torch.tensor(y_train, dtype=torch.long)\n",
    "X_test = torch.tensor(X_test, dtype=torch.float32)\n",
    "y_test = torch.tensor(y_test, dtype=torch.long)"
   ]
  },
  {
   "cell_type": "code",
   "execution_count": 6,
   "id": "c441d86e-2079-4ba7-b79b-6cf5a9fca8e8",
   "metadata": {},
   "outputs": [],
   "source": [
    "class IrisDataset(Dataset):\n",
    "    def __init__(self, X, y):\n",
    "        self.X = X\n",
    "        self.y = y\n",
    "\n",
    "    def __len__(self):\n",
    "        return len(self.X)\n",
    "\n",
    "    def __getitem__(self, idx):\n",
    "        return self.X[idx], self.y[idx]\n",
    "\n",
    "train_dataset = IrisDataset(X_train, y_train)\n",
    "test_dataset = IrisDataset(X_test, y_test)"
   ]
  },
  {
   "cell_type": "code",
   "execution_count": 7,
   "id": "344a41fb-cc54-4910-a0ea-55413ecff673",
   "metadata": {},
   "outputs": [],
   "source": [
    "train_loader = DataLoader(\n",
    "    train_dataset, batch_size=32, shuffle=True, num_workers=0, drop_last=False)\n",
    "test_loader = DataLoader(\n",
    "    test_dataset, batch_size=32, num_workers=0, drop_last=False)"
   ]
  },
  {
   "cell_type": "code",
   "execution_count": 8,
   "id": "0a217b90-2883-40fc-852f-df1bbe772c23",
   "metadata": {},
   "outputs": [
    {
     "name": "stdout",
     "output_type": "stream",
     "text": [
      "Batch 0:  torch.Size([32, 2])\n",
      "Batch 1:  torch.Size([32, 2])\n",
      "Batch 2:  torch.Size([32, 2])\n",
      "Batch 3:  torch.Size([24, 2])\n"
     ]
    }
   ],
   "source": [
    "for idx, (x, _) in enumerate(train_loader):\n",
    "    print(f'Batch {idx}: ', x.shape)"
   ]
  },
  {
   "cell_type": "code",
   "execution_count": 9,
   "id": "f51ff020-074e-45ed-8b9d-126435be6692",
   "metadata": {},
   "outputs": [],
   "source": [
    "class IrisClassifier(nn.Module):\n",
    "    def __init__(self):\n",
    "        super().__init__()\n",
    "        self.fc1 = nn.Linear(2, 10)\n",
    "        self.fc2 = nn.Linear(10, 3)\n",
    "\n",
    "    def forward(self, x):\n",
    "        x = torch.relu(self.fc1(x))\n",
    "        x = self.fc2(x)\n",
    "        return x\n",
    "\n",
    "model = IrisClassifier()"
   ]
  },
  {
   "cell_type": "code",
   "execution_count": 10,
   "id": "6365d154-19bc-42b4-8d5d-05da28d2baa9",
   "metadata": {},
   "outputs": [
    {
     "data": {
      "text/plain": [
       "IrisClassifier(\n",
       "  (fc1): Linear(in_features=2, out_features=10, bias=True)\n",
       "  (fc2): Linear(in_features=10, out_features=3, bias=True)\n",
       ")"
      ]
     },
     "execution_count": 10,
     "metadata": {},
     "output_type": "execute_result"
    }
   ],
   "source": [
    "model"
   ]
  },
  {
   "cell_type": "code",
   "execution_count": 11,
   "id": "e3604ae0-a712-4a5f-9a16-9de21b08fd59",
   "metadata": {},
   "outputs": [
    {
     "name": "stdout",
     "output_type": "stream",
     "text": [
      "Epoch:000/1000 | Batch: 000/004 | Train Loss: 1.220\n",
      "Epoch:000/1000 | Batch: 001/004 | Train Loss: 1.130\n",
      "Epoch:000/1000 | Batch: 002/004 | Train Loss: 1.066\n",
      "Epoch:000/1000 | Batch: 003/004 | Train Loss: 1.202\n",
      "Epoch:100/1000 | Batch: 000/004 | Train Loss: 0.351\n",
      "Epoch:100/1000 | Batch: 001/004 | Train Loss: 0.311\n",
      "Epoch:100/1000 | Batch: 002/004 | Train Loss: 0.353\n",
      "Epoch:100/1000 | Batch: 003/004 | Train Loss: 0.266\n",
      "Epoch:200/1000 | Batch: 000/004 | Train Loss: 0.167\n",
      "Epoch:200/1000 | Batch: 001/004 | Train Loss: 0.095\n",
      "Epoch:200/1000 | Batch: 002/004 | Train Loss: 0.181\n",
      "Epoch:200/1000 | Batch: 003/004 | Train Loss: 0.196\n",
      "Epoch:300/1000 | Batch: 000/004 | Train Loss: 0.125\n",
      "Epoch:300/1000 | Batch: 001/004 | Train Loss: 0.176\n",
      "Epoch:300/1000 | Batch: 002/004 | Train Loss: 0.073\n",
      "Epoch:300/1000 | Batch: 003/004 | Train Loss: 0.073\n",
      "Epoch:400/1000 | Batch: 000/004 | Train Loss: 0.124\n",
      "Epoch:400/1000 | Batch: 001/004 | Train Loss: 0.101\n",
      "Epoch:400/1000 | Batch: 002/004 | Train Loss: 0.089\n",
      "Epoch:400/1000 | Batch: 003/004 | Train Loss: 0.075\n",
      "Epoch:500/1000 | Batch: 000/004 | Train Loss: 0.039\n",
      "Epoch:500/1000 | Batch: 001/004 | Train Loss: 0.107\n",
      "Epoch:500/1000 | Batch: 002/004 | Train Loss: 0.135\n",
      "Epoch:500/1000 | Batch: 003/004 | Train Loss: 0.084\n",
      "Epoch:600/1000 | Batch: 000/004 | Train Loss: 0.118\n",
      "Epoch:600/1000 | Batch: 001/004 | Train Loss: 0.085\n",
      "Epoch:600/1000 | Batch: 002/004 | Train Loss: 0.106\n",
      "Epoch:600/1000 | Batch: 003/004 | Train Loss: 0.029\n",
      "Epoch:700/1000 | Batch: 000/004 | Train Loss: 0.025\n",
      "Epoch:700/1000 | Batch: 001/004 | Train Loss: 0.116\n",
      "Epoch:700/1000 | Batch: 002/004 | Train Loss: 0.053\n",
      "Epoch:700/1000 | Batch: 003/004 | Train Loss: 0.170\n",
      "Epoch:800/1000 | Batch: 000/004 | Train Loss: 0.077\n",
      "Epoch:800/1000 | Batch: 001/004 | Train Loss: 0.126\n",
      "Epoch:800/1000 | Batch: 002/004 | Train Loss: 0.062\n",
      "Epoch:800/1000 | Batch: 003/004 | Train Loss: 0.070\n",
      "Epoch:900/1000 | Batch: 000/004 | Train Loss: 0.074\n",
      "Epoch:900/1000 | Batch: 001/004 | Train Loss: 0.096\n",
      "Epoch:900/1000 | Batch: 002/004 | Train Loss: 0.089\n",
      "Epoch:900/1000 | Batch: 003/004 | Train Loss: 0.074\n"
     ]
    }
   ],
   "source": [
    "criterion = nn.CrossEntropyLoss()\n",
    "optimizer = optim.Adam(model.parameters(), lr=0.001)\n",
    "\n",
    "model.train()\n",
    "num_epochs = 1_000\n",
    "for epoch in range(num_epochs):\n",
    "    for i, data in enumerate(train_loader):\n",
    "        inputs, labels = data\n",
    "        optimizer.zero_grad()\n",
    "        outputs = model(inputs)\n",
    "        loss = criterion(outputs, labels)\n",
    "        loss.backward()\n",
    "        optimizer.step()\n",
    "\n",
    "        if (epoch) % 100 == 0:\n",
    "            print(f'Epoch:{epoch:03d}/{num_epochs:03d}'\n",
    "                  f' | Batch: {i:03d}/{len(train_loader):03d}'\n",
    "                  f' | Train Loss: {loss:.3f}',\n",
    "            )"
   ]
  },
  {
   "cell_type": "code",
   "execution_count": 12,
   "id": "6954ade3-ba4b-44f0-a5f8-41144386fb94",
   "metadata": {},
   "outputs": [
    {
     "name": "stdout",
     "output_type": "stream",
     "text": [
      "Accuracy on test set: 100 %\n"
     ]
    }
   ],
   "source": [
    "model.eval()\n",
    "\n",
    "correct = 0\n",
    "total = 0\n",
    "with torch.no_grad():\n",
    "    for data in test_loader:\n",
    "        inputs, labels = data\n",
    "        outputs = model(inputs)\n",
    "        _, predicted = torch.max(outputs.data, 1)\n",
    "        total += labels.size(0)\n",
    "        correct += (predicted == labels).sum().item()\n",
    "\n",
    "print('Accuracy on test set: %d %%' % (100 * correct / total))"
   ]
  },
  {
   "cell_type": "code",
   "execution_count": 13,
   "id": "55507560-cd37-4aad-85bd-f0c4b79e5f52",
   "metadata": {},
   "outputs": [],
   "source": [
    "# Taken from https://github.com/rasbt/machine-learning-book/blob/main/ch03/ch03.ipynb\n",
    "from matplotlib.colors import ListedColormap\n",
    "import matplotlib.pyplot as plt\n",
    "\n",
    "\n",
    "def plot_decision_regions(X, y, classifier, test_idx=None, resolution=0.02):\n",
    "    # setup marker generator and color map\n",
    "    markers = ('o', 's', '^', 'v', '<')\n",
    "    colors = ('red', 'blue', 'lightgreen', 'gray', 'cyan')\n",
    "    cmap = ListedColormap(colors[:len(np.unique(y))])\n",
    "\n",
    "    # plot the decision surface\n",
    "    x1_min, x1_max = X[:, 0].min() - 1, X[:, 0].max() + 1\n",
    "    x2_min, x2_max = X[:, 1].min() - 1, X[:, 1].max() + 1\n",
    "    xx1, xx2 = np.meshgrid(np.arange(x1_min, x1_max, resolution),\n",
    "                           np.arange(x2_min, x2_max, resolution))\n",
    "    #lab = classifier(np.array([xx1.ravel(), xx2.ravel()]).T)\n",
    "    # UserWarning: Creating a tensor from a list of numpy.ndarrays is extremely slow.\n",
    "    # Please consider converting the list to a single numpy.ndarray with numpy.array()\n",
    "    # before converting to a tensor.\n",
    "    lab = classifier( torch.tensor(np.array([xx1.ravel(), xx2.ravel()]), dtype=torch.float32).T )\n",
    "    #lab = lab.reshape(xx1.shape)\n",
    "    _, predictions = torch.max(lab.data, 1)\n",
    "    lab = predictions.numpy()\n",
    "    lab = lab.reshape(xx1.shape)\n",
    "    plt.contourf(xx1, xx2, lab, alpha=0.3, cmap=cmap)\n",
    "    plt.xlim(xx1.min(), xx1.max())\n",
    "    plt.ylim(xx2.min(), xx2.max())\n",
    "\n",
    "    # plot class examples\n",
    "    for idx, cl in enumerate(np.unique(y)):\n",
    "        plt.scatter(x=X[y == cl, 0], \n",
    "                    y=X[y == cl, 1],\n",
    "                    alpha=0.8, \n",
    "                    c=colors[idx],\n",
    "                    marker=markers[idx], \n",
    "                    label=f'Class {cl}', \n",
    "                    edgecolor='black')\n",
    "\n",
    "    # highlight test examples\n",
    "    if test_idx:\n",
    "        # plot all examples\n",
    "        X_test, y_test = X[test_idx, :], y[test_idx]\n",
    "\n",
    "        plt.scatter(X_test[:, 0],\n",
    "                    X_test[:, 1],\n",
    "                    c='none',\n",
    "                    edgecolor='black',\n",
    "                    alpha=1.0,\n",
    "                    linewidth=1,\n",
    "                    marker='o',\n",
    "                    s=100, \n",
    "                    label='Test set')        "
   ]
  },
  {
   "cell_type": "code",
   "execution_count": 48,
   "id": "d18903da-6a27-4712-8d01-d45738c1e569",
   "metadata": {},
   "outputs": [],
   "source": [
    "X_combined_std = np.vstack((X_train, X_test))\n",
    "y_combined = np.hstack((y_train, y_test))"
   ]
  },
  {
   "cell_type": "code",
   "execution_count": 49,
   "id": "5829cb90-4f76-4fbf-bbe4-80dd4bcdfd2e",
   "metadata": {},
   "outputs": [
    {
     "data": {
      "text/plain": [
       "(array([[-1.5625348 , -1.3126028 ],\n",
       "        [-1.2760063 , -1.0456327 ],\n",
       "        [ 0.3858582 ,  0.28921756]], dtype=float32),)"
      ]
     },
     "execution_count": 49,
     "metadata": {},
     "output_type": "execute_result"
    }
   ],
   "source": [
    "X_combined_std[:3, :],"
   ]
  },
  {
   "cell_type": "code",
   "execution_count": 50,
   "id": "404b938a-1dd8-4d67-806c-b5d2be205306",
   "metadata": {},
   "outputs": [
    {
     "data": {
      "text/plain": [
       "tensor([[-1.5625, -1.3126],\n",
       "        [-1.2760, -1.0456],\n",
       "        [ 0.3859,  0.2892]])"
      ]
     },
     "execution_count": 50,
     "metadata": {},
     "output_type": "execute_result"
    }
   ],
   "source": [
    "X_train[:3, :]"
   ]
  },
  {
   "cell_type": "code",
   "execution_count": 51,
   "id": "58a13238-cc51-45b6-8bd7-8fb969873b99",
   "metadata": {},
   "outputs": [],
   "source": [
    "x1_min, x1_max = X_combined_std[:, 0].min() - 1, X_combined_std[:, 0].max() + 1\n",
    "x2_min, x2_max = X_combined_std[:, 1].min() - 1, X_combined_std[:, 1].max() + 1"
   ]
  },
  {
   "cell_type": "code",
   "execution_count": 52,
   "id": "8b183049-a9fa-41f7-bcd6-d697579e793e",
   "metadata": {},
   "outputs": [],
   "source": [
    "xx1, xx2 = np.meshgrid(np.arange(x1_min, x1_max, 0.02),\n",
    "                           np.arange(x2_min, x2_max, 0.02))"
   ]
  },
  {
   "cell_type": "code",
   "execution_count": 53,
   "id": "60d5c28e-ce84-44c6-896d-4bb6cf0c566f",
   "metadata": {},
   "outputs": [
    {
     "data": {
      "text/plain": [
       "array([[-2.56253481, -2.54253481, -2.52253481, ...,  2.77746519,\n",
       "         2.79746519,  2.81746519],\n",
       "       [-2.56253481, -2.54253481, -2.52253481, ...,  2.77746519,\n",
       "         2.79746519,  2.81746519],\n",
       "       [-2.56253481, -2.54253481, -2.52253481, ...,  2.77746519,\n",
       "         2.79746519,  2.81746519],\n",
       "       ...,\n",
       "       [-2.56253481, -2.54253481, -2.52253481, ...,  2.77746519,\n",
       "         2.79746519,  2.81746519],\n",
       "       [-2.56253481, -2.54253481, -2.52253481, ...,  2.77746519,\n",
       "         2.79746519,  2.81746519],\n",
       "       [-2.56253481, -2.54253481, -2.52253481, ...,  2.77746519,\n",
       "         2.79746519,  2.81746519]])"
      ]
     },
     "execution_count": 53,
     "metadata": {},
     "output_type": "execute_result"
    }
   ],
   "source": [
    "xx1"
   ]
  },
  {
   "cell_type": "code",
   "execution_count": 54,
   "id": "523cd02d-d984-4c9d-953a-f33be2fe3a97",
   "metadata": {},
   "outputs": [
    {
     "data": {
      "text/plain": [
       "array([-2.56253481, -2.54253481, -2.52253481, ...,  2.77746519,\n",
       "        2.79746519,  2.81746519])"
      ]
     },
     "execution_count": 54,
     "metadata": {},
     "output_type": "execute_result"
    }
   ],
   "source": [
    "xx1.ravel()"
   ]
  },
  {
   "cell_type": "code",
   "execution_count": 57,
   "id": "85b5235c-664a-4a74-8eac-854997a9491d",
   "metadata": {},
   "outputs": [
    {
     "data": {
      "text/plain": [
       "tensor([[  9.9317,  -4.2587, -14.6105],\n",
       "        [  9.8983,  -4.2308, -14.5695],\n",
       "        [  9.8650,  -4.2028, -14.5286],\n",
       "        ...,\n",
       "        [-18.9482,  -7.9482,  18.2118],\n",
       "        [-19.0212,  -8.0297,  18.3205],\n",
       "        [-19.0943,  -8.1111,  18.4292]], grad_fn=<AddmmBackward0>)"
      ]
     },
     "execution_count": 57,
     "metadata": {},
     "output_type": "execute_result"
    }
   ],
   "source": [
    "lab = model( torch.tensor([xx1.ravel(), xx2.ravel()], dtype=torch.float32).T )\n",
    "lab"
   ]
  },
  {
   "cell_type": "code",
   "execution_count": 58,
   "id": "379d7eda-050f-4120-919d-942ede9a9d24",
   "metadata": {},
   "outputs": [
    {
     "data": {
      "text/plain": [
       "tensor([[  9.9317,  -4.2587, -14.6105],\n",
       "        [  9.8983,  -4.2308, -14.5695],\n",
       "        [  9.8650,  -4.2028, -14.5286],\n",
       "        ...,\n",
       "        [-18.9482,  -7.9482,  18.2118],\n",
       "        [-19.0212,  -8.0297,  18.3205],\n",
       "        [-19.0943,  -8.1111,  18.4292]])"
      ]
     },
     "execution_count": 58,
     "metadata": {},
     "output_type": "execute_result"
    }
   ],
   "source": [
    "lab.data"
   ]
  },
  {
   "cell_type": "code",
   "execution_count": 60,
   "id": "0ca573b5-1e2d-4241-8792-7672ef8107f0",
   "metadata": {},
   "outputs": [
    {
     "data": {
      "text/plain": [
       "(tensor([ 9.9317,  9.8983,  9.8650,  ..., 18.2118, 18.3205, 18.4292]),\n",
       " tensor([0, 0, 0,  ..., 2, 2, 2]))"
      ]
     },
     "execution_count": 60,
     "metadata": {},
     "output_type": "execute_result"
    }
   ],
   "source": [
    "values, indices = torch.max(lab.data, 1)\n",
    "values, indices"
   ]
  },
  {
   "cell_type": "code",
   "execution_count": 16,
   "id": "9d415584-8952-415b-b1df-ac10e7c46eb6",
   "metadata": {},
   "outputs": [
    {
     "data": {
      "image/png": "[encoded data removed]",
      "text/plain": [
       "<Figure size 500x300 with 1 Axes>"
      ]
     },
     "metadata": {},
     "output_type": "display_data"
    }
   ],
   "source": [
    "X_combined_std = np.vstack((X_train, X_test))\n",
    "y_combined = np.hstack((y_train, y_test))\n",
    "\n",
    "plt.figure(figsize=(5, 3))\n",
    "\n",
    "with torch.no_grad():\n",
    "    plot_decision_regions(X=X_combined_std, y=y_combined,\n",
    "                      classifier=model, test_idx=range(105, 150))\n",
    "plt.xlabel('Petal length [standardized]')\n",
    "plt.ylabel('Petal width [standardized]')\n",
    "plt.legend(loc='upper left')\n",
    "\n",
    "plt.tight_layout()\n",
    "#plt.savefig('figures/03_01.png', dpi=300)\n",
    "plt.show()"
   ]
  },
  {
   "cell_type": "code",
   "execution_count": 14,
   "id": "ee699ec9-6cf2-46c0-8efe-e0fb0c1f022d",
   "metadata": {},
   "outputs": [
    {
     "name": "stdout",
     "output_type": "stream",
     "text": [
      "Epoch:000/100 | Batch: 000/004 | Train Loss: 1.098\n",
      "Epoch:000/100 | Batch: 001/004 | Train Loss: 1.011\n",
      "Epoch:000/100 | Batch: 002/004 | Train Loss: 0.908\n",
      "Epoch:000/100 | Batch: 003/004 | Train Loss: 0.885\n",
      "Epoch:020/100 | Batch: 000/004 | Train Loss: 0.097\n",
      "Epoch:020/100 | Batch: 001/004 | Train Loss: 0.107\n",
      "Epoch:020/100 | Batch: 002/004 | Train Loss: 0.047\n",
      "Epoch:020/100 | Batch: 003/004 | Train Loss: 0.072\n",
      "Epoch:040/100 | Batch: 000/004 | Train Loss: 0.142\n",
      "Epoch:040/100 | Batch: 001/004 | Train Loss: 0.022\n",
      "Epoch:040/100 | Batch: 002/004 | Train Loss: 0.127\n",
      "Epoch:040/100 | Batch: 003/004 | Train Loss: 0.013\n",
      "Epoch:060/100 | Batch: 000/004 | Train Loss: 0.061\n",
      "Epoch:060/100 | Batch: 001/004 | Train Loss: 0.038\n",
      "Epoch:060/100 | Batch: 002/004 | Train Loss: 0.042\n",
      "Epoch:060/100 | Batch: 003/004 | Train Loss: 0.185\n",
      "Epoch:080/100 | Batch: 000/004 | Train Loss: 0.031\n",
      "Epoch:080/100 | Batch: 001/004 | Train Loss: 0.181\n",
      "Epoch:080/100 | Batch: 002/004 | Train Loss: 0.044\n",
      "Epoch:080/100 | Batch: 003/004 | Train Loss: 0.006\n"
     ]
    }
   ],
   "source": [
    "class IrisClassifier(nn.Module):\n",
    "    def __init__(self, num_inputs, num_outputs):\n",
    "        super().__init__()\n",
    "\n",
    "        self.layers = torch.nn.Sequential(\n",
    "            # 1st hidden layer.\n",
    "            torch.nn.Linear(num_inputs, 30),\n",
    "            torch.nn.ReLU(),\n",
    "            \n",
    "            # 2nd hidden layer.\n",
    "            torch.nn.Linear(30, 20),\n",
    "            torch.nn.ReLU(),\n",
    "            \n",
    "            # Output layer.\n",
    "            torch.nn.Linear(20, num_outputs),\n",
    "        )\n",
    "\n",
    "    def forward(self, x):\n",
    "        logits = self.layers(x)\n",
    "        return logits\n",
    "\n",
    "model = IrisClassifier(2, 3)\n",
    "\n",
    "\n",
    "criterion = nn.CrossEntropyLoss()\n",
    "optimizer = optim.Adam(model.parameters(), lr=0.01)\n",
    "\n",
    "num_epochs = 100\n",
    "for epoch in range(num_epochs):\n",
    "    for i, data in enumerate(train_loader):\n",
    "        inputs, labels = data\n",
    "        optimizer.zero_grad()\n",
    "        outputs = model(inputs)\n",
    "        loss = criterion(outputs, labels)\n",
    "        loss.backward()\n",
    "        optimizer.step()\n",
    "\n",
    "        if (epoch) % 20 == 0:\n",
    "            print(f'Epoch:{epoch:03d}/{num_epochs:03d}'\n",
    "                  f' | Batch: {i:03d}/{len(train_loader):03d}'\n",
    "                  f' | Train Loss: {loss:.3f}',\n",
    "            )"
   ]
  },
  {
   "cell_type": "code",
   "execution_count": 15,
   "id": "aa40c982-9c82-4326-b0e9-e583fb86b47c",
   "metadata": {},
   "outputs": [
    {
     "data": {
      "text/plain": [
       "IrisClassifier(\n",
       "  (layers): Sequential(\n",
       "    (0): Linear(in_features=2, out_features=30, bias=True)\n",
       "    (1): ReLU()\n",
       "    (2): Linear(in_features=30, out_features=20, bias=True)\n",
       "    (3): ReLU()\n",
       "    (4): Linear(in_features=20, out_features=3, bias=True)\n",
       "  )\n",
       ")"
      ]
     },
     "execution_count": 15,
     "metadata": {},
     "output_type": "execute_result"
    }
   ],
   "source": [
    "model"
   ]
  },
  {
   "cell_type": "code",
   "execution_count": 16,
   "id": "c096b368-c9e9-409a-9969-84110149a5c5",
   "metadata": {},
   "outputs": [
    {
     "name": "stdout",
     "output_type": "stream",
     "text": [
      "(0) 60\n",
      "(1) 30\n",
      "(2) 600\n",
      "(3) 20\n",
      "(4) 60\n",
      "(5) 3\n",
      "Number of trainable parameters: 773\n"
     ]
    }
   ],
   "source": [
    "# numel returns the number of elements in a tensor.\n",
    "num_params = 0\n",
    "for idx, p in enumerate(model.parameters()):\n",
    "    if p.requires_grad:\n",
    "        params = p.numel()\n",
    "        num_params += params\n",
    "        print(f'({idx}) {params}')\n",
    "\n",
    "print(f'Number of trainable parameters: {num_params}')"
   ]
  },
  {
   "cell_type": "code",
   "execution_count": 17,
   "id": "cd8bb2ab-8d21-4ab6-935e-64e7e7f2249a",
   "metadata": {},
   "outputs": [
    {
     "data": {
      "text/plain": [
       "tensor([-4.2840,  4.7068, -3.5271])"
      ]
     },
     "execution_count": 17,
     "metadata": {},
     "output_type": "execute_result"
    }
   ],
   "source": [
    "with torch.no_grad():\n",
    "    output = model(torch.tensor([0, 0], dtype=torch.float32))\n",
    "output"
   ]
  },
  {
   "cell_type": "code",
   "execution_count": 18,
   "id": "d1edb5a1-01bc-450b-86f3-02d424051738",
   "metadata": {},
   "outputs": [
    {
     "data": {
      "text/plain": [
       "tensor([    0.0001,     0.9996,     0.0003])"
      ]
     },
     "execution_count": 18,
     "metadata": {},
     "output_type": "execute_result"
    }
   ],
   "source": [
    "# Class membership probabilities.\n",
    "torch.set_printoptions(sci_mode=False)\n",
    "torch.softmax(output, dim=0)"
   ]
  },
  {
   "cell_type": "code",
   "execution_count": 19,
   "id": "4c4518f9-a391-4cdd-98f3-31476d678847",
   "metadata": {},
   "outputs": [
    {
     "data": {
      "text/plain": [
       "tensor(1)"
      ]
     },
     "execution_count": 19,
     "metadata": {},
     "output_type": "execute_result"
    }
   ],
   "source": [
    "# Predictions. index 0 is for argmax of columns, index 1 is for argmax of the row.\n",
    "# If we had a matrix of samples, then dim=1 would be the way to go but not here since we have a\n",
    "# 1D tensor.\n",
    "# Note that we don't need to apply this to the probabilities obtained from softmax.\n",
    "torch.argmax(output, dim=0)"
   ]
  },
  {
   "cell_type": "code",
   "execution_count": 20,
   "id": "301cd2ad-353e-4b51-9d3d-01f2191726d1",
   "metadata": {},
   "outputs": [
    {
     "data": {
      "image/png": "[encoded data removed]",
      "text/plain": [
       "<Figure size 500x300 with 1 Axes>"
      ]
     },
     "metadata": {},
     "output_type": "display_data"
    }
   ],
   "source": [
    "X_combined_std = np.vstack((X_train, X_test))\n",
    "y_combined = np.hstack((y_train, y_test))\n",
    "\n",
    "plt.figure(figsize=(5, 3))\n",
    "\n",
    "with torch.no_grad():\n",
    "    plot_decision_regions(X=X_combined_std, y=y_combined,\n",
    "                      classifier=model, test_idx=range(105, 150))\n",
    "plt.xlabel('Petal length [standardized]')\n",
    "plt.ylabel('Petal width [standardized]')\n",
    "plt.legend(loc='upper left')\n",
    "\n",
    "plt.tight_layout()\n",
    "#plt.savefig('figures/03_01.png', dpi=300)\n",
    "plt.show()"
   ]
  },
  {
   "cell_type": "code",
   "execution_count": 21,
   "id": "4cdc52bf-9e13-4be0-926f-f27e253c7541",
   "metadata": {},
   "outputs": [],
   "source": [
    "def compute_accuracy(model, dataloader):\n",
    "    model = model.eval()\n",
    "\n",
    "    correct = 0.0\n",
    "    total_samples = 0\n",
    "    for idx, (features, labels) in enumerate(dataloader):\n",
    "        with torch.no_grad():\n",
    "            logits = model(features)\n",
    "\n",
    "        predictions = torch.argmax(logits, dim=1)\n",
    "        correct += torch.sum( predictions == labels )\n",
    "        total_samples += len(labels)\n",
    "        \n",
    "    return correct/total_samples"
   ]
  },
  {
   "cell_type": "code",
   "execution_count": 22,
   "id": "411ddb1d-abd1-4321-b809-b43cb73d22a6",
   "metadata": {},
   "outputs": [
    {
     "data": {
      "text/plain": [
       "1.0"
      ]
     },
     "execution_count": 22,
     "metadata": {},
     "output_type": "execute_result"
    }
   ],
   "source": [
    "acc = compute_accuracy(model, test_loader)\n",
    "acc.item()"
   ]
  },
  {
   "cell_type": "markdown",
   "id": "e87c455c-c69e-478b-b87b-4e45042ee773",
   "metadata": {},
   "source": [
    "## Exporting and Importing Models"
   ]
  },
  {
   "cell_type": "code",
   "execution_count": 23,
   "id": "f324fd66-e911-4401-aaa7-67e2e0caa0a7",
   "metadata": {},
   "outputs": [],
   "source": [
    "torch.save(model.state_dict(), 'model.pth')"
   ]
  },
  {
   "cell_type": "code",
   "execution_count": 24,
   "id": "7ac33e1f-da8a-4ad7-8594-ada005c73db3",
   "metadata": {},
   "outputs": [
    {
     "data": {
      "text/plain": [
       "tensor([[-0.7055,  0.1613],\n",
       "        [ 0.1992,  0.3967],\n",
       "        [ 0.2799,  0.6290]], grad_fn=<SliceBackward0>)"
      ]
     },
     "execution_count": 24,
     "metadata": {},
     "output_type": "execute_result"
    }
   ],
   "source": [
    "model.layers[0].weight[:3, :]"
   ]
  },
  {
   "cell_type": "code",
   "execution_count": 25,
   "id": "fcd328f1-678b-4d6f-aaf7-09a538cf5095",
   "metadata": {},
   "outputs": [
    {
     "data": {
      "text/plain": [
       "IrisClassifier(\n",
       "  (layers): Sequential(\n",
       "    (0): Linear(in_features=2, out_features=30, bias=True)\n",
       "    (1): ReLU()\n",
       "    (2): Linear(in_features=30, out_features=20, bias=True)\n",
       "    (3): ReLU()\n",
       "    (4): Linear(in_features=20, out_features=3, bias=True)\n",
       "  )\n",
       ")"
      ]
     },
     "execution_count": 25,
     "metadata": {},
     "output_type": "execute_result"
    }
   ],
   "source": [
    "loaded_model = IrisClassifier(2, 3)\n",
    "loaded_model"
   ]
  },
  {
   "cell_type": "code",
   "execution_count": 26,
   "id": "75bc07b2-8b0c-4651-9a80-3bad19942188",
   "metadata": {},
   "outputs": [
    {
     "data": {
      "text/plain": [
       "tensor([[ 0.4319, -0.1220],\n",
       "        [ 0.0366,  0.3945],\n",
       "        [ 0.1557, -0.2215]], grad_fn=<SliceBackward0>)"
      ]
     },
     "execution_count": 26,
     "metadata": {},
     "output_type": "execute_result"
    }
   ],
   "source": [
    "loaded_model.layers[0].weight[:3, :]"
   ]
  },
  {
   "cell_type": "code",
   "execution_count": 27,
   "id": "d524b4f7-6714-4581-a322-25dd0dbd4771",
   "metadata": {},
   "outputs": [
    {
     "data": {
      "text/plain": [
       "<All keys matched successfully>"
      ]
     },
     "execution_count": 27,
     "metadata": {},
     "output_type": "execute_result"
    }
   ],
   "source": [
    "# FutureWarning: You are using `torch.load` with `weights_only=False` (the current default value),\n",
    "# which uses the default pickle module implicitly. It is possible to construct malicious pickle\n",
    "# data which will execute arbitrary code during unpickling\n",
    "# (See https://github.com/pytorch/pytorch/blob/main/SECURITY.md#untrusted-models for more details).\n",
    "# In a future release, the default value for `weights_only` will be flipped to `True`.\n",
    "# This limits the functions that could be executed during unpickling.\n",
    "# Arbitrary objects will no longer be allowed to be loaded via this mode unless they are\n",
    "# explicitly allowlisted by the user via `torch.serialization.add_safe_globals`.\n",
    "# We recommend you start setting `weights_only=True` for any use case where you don't have full\n",
    "# control of the loaded file. Please open an issue on GitHub for any issues related to this\n",
    "# experimental feature.\n",
    "loaded_model.load_state_dict(torch.load('model.pth', weights_only=True))"
   ]
  },
  {
   "cell_type": "code",
   "execution_count": 28,
   "id": "cc60652a-a9de-4bb1-a8bf-16a84a1eb718",
   "metadata": {},
   "outputs": [
    {
     "data": {
      "text/plain": [
       "IrisClassifier(\n",
       "  (layers): Sequential(\n",
       "    (0): Linear(in_features=2, out_features=30, bias=True)\n",
       "    (1): ReLU()\n",
       "    (2): Linear(in_features=30, out_features=20, bias=True)\n",
       "    (3): ReLU()\n",
       "    (4): Linear(in_features=20, out_features=3, bias=True)\n",
       "  )\n",
       ")"
      ]
     },
     "execution_count": 28,
     "metadata": {},
     "output_type": "execute_result"
    }
   ],
   "source": [
    "loaded_model"
   ]
  },
  {
   "cell_type": "code",
   "execution_count": 29,
   "id": "d56b01d4-2a0a-4f75-a0ea-b9b3accf69a2",
   "metadata": {},
   "outputs": [
    {
     "data": {
      "text/plain": [
       "tensor([[-0.7055,  0.1613],\n",
       "        [ 0.1992,  0.3967],\n",
       "        [ 0.2799,  0.6290]], grad_fn=<SliceBackward0>)"
      ]
     },
     "execution_count": 29,
     "metadata": {},
     "output_type": "execute_result"
    }
   ],
   "source": [
    "model.layers[0].weight[:3, :]"
   ]
  },
  {
   "cell_type": "markdown",
   "id": "da01ef88-a31f-4fef-9e8f-76dc0376b3ed",
   "metadata": {},
   "source": [
    "## ONNX"
   ]
  },
  {
   "cell_type": "code",
   "execution_count": 30,
   "id": "87179d07-3587-41f7-80a1-a6b63b93056a",
   "metadata": {},
   "outputs": [
    {
     "data": {
      "text/plain": [
       "tensor([[-1.5625, -1.3126],\n",
       "        [-1.2760, -1.0456],\n",
       "        [ 0.3859,  0.2892]])"
      ]
     },
     "execution_count": 30,
     "metadata": {},
     "output_type": "execute_result"
    }
   ],
   "source": [
    "X_train[:3, :]"
   ]
  },
  {
   "cell_type": "code",
   "execution_count": 31,
   "id": "e604f878-11e5-4fa8-aede-946077d80ff6",
   "metadata": {},
   "outputs": [
    {
     "data": {
      "text/plain": [
       "torch.Size([120, 2])"
      ]
     },
     "execution_count": 31,
     "metadata": {},
     "output_type": "execute_result"
    }
   ],
   "source": [
    "X_train.shape"
   ]
  },
  {
   "cell_type": "code",
   "execution_count": 32,
   "id": "a9eb612c-3ede-40e6-8b53-c331387da654",
   "metadata": {},
   "outputs": [
    {
     "data": {
      "text/plain": [
       "tensor([[-0.2780,  1.2735],\n",
       "        [ 0.0548, -0.2567],\n",
       "        [ 0.1459,  0.2462]], requires_grad=True)"
      ]
     },
     "execution_count": 32,
     "metadata": {},
     "output_type": "execute_result"
    }
   ],
   "source": [
    "batch_size = 3\n",
    "x_sample = torch.randn(batch_size, 2, requires_grad=True)\n",
    "x_sample"
   ]
  },
  {
   "cell_type": "code",
   "execution_count": 33,
   "id": "db7f7766-630f-44d0-9031-bb7f258a8967",
   "metadata": {},
   "outputs": [
    {
     "data": {
      "text/plain": [
       "torch.Size([3, 2])"
      ]
     },
     "execution_count": 33,
     "metadata": {},
     "output_type": "execute_result"
    }
   ],
   "source": [
    "x_sample.shape"
   ]
  },
  {
   "cell_type": "code",
   "execution_count": 34,
   "id": "d66c88b2-dd43-48fc-830b-aa65bfd56620",
   "metadata": {},
   "outputs": [],
   "source": [
    "loaded_model.eval()\n",
    "\n",
    "with torch.no_grad():\n",
    "    torch_out = loaded_model(x_sample)"
   ]
  },
  {
   "cell_type": "code",
   "execution_count": 35,
   "id": "5c60ad0c-e8b8-4dce-aeb8-4303bb4b96d4",
   "metadata": {},
   "outputs": [
    {
     "data": {
      "text/plain": [
       "'2.4.1'"
      ]
     },
     "execution_count": 35,
     "metadata": {},
     "output_type": "execute_result"
    }
   ],
   "source": [
    "torch.onnx.producer_version"
   ]
  },
  {
   "cell_type": "code",
   "execution_count": 36,
   "id": "c1ba6380-3e04-42f3-b3a5-a512125c072e",
   "metadata": {},
   "outputs": [
    {
     "data": {
      "text/plain": [
       "20"
      ]
     },
     "execution_count": 36,
     "metadata": {},
     "output_type": "execute_result"
    }
   ],
   "source": [
    "# See https://onnxruntime.ai/docs/reference/compatibility.html\n",
    "# for ONNX opset support.\n",
    "# See https://pytorch.org/docs/stable/onnx_torchscript_supported_aten_ops.html\n",
    "# for ONNX supported TorchScript operators.\n",
    "torch.onnx._constants.ONNX_MAX_OPSET"
   ]
  },
  {
   "cell_type": "code",
   "execution_count": 37,
   "id": "acbffc9a-2580-4ae7-9033-8d4b449cdf9b",
   "metadata": {},
   "outputs": [
    {
     "name": "stderr",
     "output_type": "stream",
     "text": [
      "\u001b[33mWARNING: Skipping onnxruntime as it is not installed.\u001b[0m\u001b[33m\n"
     ]
    },
    {
     "name": "stdout",
     "output_type": "stream",
     "text": [
      "Found existing installation: onnxruntime-gpu 1.20.1\n",
      "Uninstalling onnxruntime-gpu-1.20.1:\n",
      "  Successfully uninstalled onnxruntime-gpu-1.20.1\n"
     ]
    },
    {
     "name": "stderr",
     "output_type": "stream",
     "text": [
      "\u001b[0m"
     ]
    }
   ],
   "source": [
    "%%bash\n",
    "\n",
    "# See\n",
    "# https://onnxruntime.ai/docs/execution-providers/CUDA-ExecutionProvider.html\n",
    "# for ONNX - CUDA - CUDNN compatibility notes.\n",
    "pip uninstall -y onnxruntime onnxruntime-gpu\n",
    "\n",
    "#pip install onnx onnxruntime-gpu==1.18.0"
   ]
  },
  {
   "cell_type": "code",
   "execution_count": 38,
   "id": "874ce18e-36c1-4dc1-9b2d-4b0aa066c1e5",
   "metadata": {},
   "outputs": [
    {
     "name": "stdout",
     "output_type": "stream",
     "text": [
      "Requirement already satisfied: onnxruntime-gpu in /opt/conda/envs/pytorch/lib/python3.11/site-packages (1.19.2)\n",
      "Requirement already satisfied: coloredlogs in /opt/conda/envs/pytorch/lib/python3.11/site-packages (from onnxruntime-gpu) (15.0.1)\n",
      "Requirement already satisfied: flatbuffers in /opt/conda/envs/pytorch/lib/python3.11/site-packages (from onnxruntime-gpu) (24.3.25)\n",
      "Requirement already satisfied: numpy>=1.21.6 in /opt/conda/envs/pytorch/lib/python3.11/site-packages (from onnxruntime-gpu) (1.26.4)\n",
      "Requirement already satisfied: packaging in /opt/conda/envs/pytorch/lib/python3.11/site-packages (from onnxruntime-gpu) (21.3)\n",
      "Requirement already satisfied: protobuf in /opt/conda/envs/pytorch/lib/python3.11/site-packages (from onnxruntime-gpu) (5.28.2)\n",
      "Requirement already satisfied: sympy in /opt/conda/envs/pytorch/lib/python3.11/site-packages (from onnxruntime-gpu) (1.13.3)\n",
      "Requirement already satisfied: humanfriendly>=9.1 in /opt/conda/envs/pytorch/lib/python3.11/site-packages (from coloredlogs->onnxruntime-gpu) (10.0)\n",
      "Requirement already satisfied: pyparsing!=3.0.5,>=2.0.2 in /opt/conda/envs/pytorch/lib/python3.11/site-packages (from packaging->onnxruntime-gpu) (3.2.0)\n",
      "Requirement already satisfied: mpmath<1.4,>=1.1.0 in /opt/conda/envs/pytorch/lib/python3.11/site-packages (from sympy->onnxruntime-gpu) (1.3.0)\n"
     ]
    }
   ],
   "source": [
    "!pip install onnxruntime-gpu"
   ]
  },
  {
   "cell_type": "code",
   "execution_count": 39,
   "id": "a0cc4cb4-9c4c-4ef8-95f4-1ae539dbf2fa",
   "metadata": {},
   "outputs": [
    {
     "name": "stdout",
     "output_type": "stream",
     "text": [
      "Channels:\n",
      " - conda-forge\n",
      " - nvidia\n",
      " - pytorch\n",
      "Platform: linux-64\n",
      "Collecting package metadata (repodata.json): done\n",
      "Solving environment: done\n",
      "\n",
      "# All requested packages already installed.\n",
      "\n"
     ]
    }
   ],
   "source": [
    "!conda update -y -n base -c conda-forge conda"
   ]
  },
  {
   "cell_type": "code",
   "execution_count": 40,
   "id": "4f510e09-3eb2-4899-976f-48b9081fe506",
   "metadata": {},
   "outputs": [
    {
     "name": "stdout",
     "output_type": "stream",
     "text": [
      "Channels:\n",
      " - conda-forge\n",
      " - nvidia\n",
      " - pytorch\n",
      "Platform: linux-64\n",
      "Collecting package metadata (repodata.json): ...working... done\n",
      "Solving environment: ...working... done\n",
      "\n",
      "# All requested packages already installed.\n",
      "\n"
     ]
    }
   ],
   "source": [
    "%%bash\n",
    "\n",
    "conda install -y onnx"
   ]
  },
  {
   "cell_type": "code",
   "execution_count": 41,
   "id": "2442dde1-0ce2-4c84-a9d1-0eb5539834be",
   "metadata": {},
   "outputs": [
    {
     "name": "stdout",
     "output_type": "stream",
     "text": [
      "Channels:\n",
      " - conda-forge\n",
      " - nvidia\n",
      " - pytorch\n",
      "Platform: linux-64\n",
      "Collecting package metadata (repodata.json): done\n",
      "Solving environment: done\n",
      "\n",
      "# All requested packages already installed.\n",
      "\n"
     ]
    }
   ],
   "source": [
    "!conda install -y onnxruntime"
   ]
  },
  {
   "cell_type": "code",
   "execution_count": 42,
   "id": "b5867737-fca8-4d9f-babc-523af18aed64",
   "metadata": {},
   "outputs": [
    {
     "name": "stdout",
     "output_type": "stream",
     "text": [
      "Requirement already satisfied: setuptools==70.0.0 in /opt/conda/envs/pytorch/lib/python3.11/site-packages (70.0.0)\n",
      "Requirement already satisfied: tensorrt in /opt/conda/envs/pytorch/lib/python3.11/site-packages (10.6.0.post1)\n",
      "Requirement already satisfied: tensorrt-cu12==10.6.0.post1 in /opt/conda/envs/pytorch/lib/python3.11/site-packages (from tensorrt) (10.6.0.post1)\n"
     ]
    }
   ],
   "source": [
    "%%bash\n",
    "\n",
    "# TensorRT installation guide\n",
    "# https://docs.nvidia.com/deeplearning/tensorrt/quick-start-guide/index.html\n",
    "# GitHub repo\n",
    "# https://github.com/nvidia/tensorrt\n",
    "# Downgrading setuptools 'cas of:\n",
    "# https://github.com/pypa/setuptools/issues/4483#issuecomment-2430620456\n",
    "pip install --upgrade setuptools==70.0.0\n",
    "pip install tensorrt"
   ]
  },
  {
   "cell_type": "code",
   "execution_count": 43,
   "id": "fd0f1441-e3e8-4c07-ae0a-822786490cc5",
   "metadata": {},
   "outputs": [
    {
     "name": "stdout",
     "output_type": "stream",
     "text": [
      "onnx                               1.17.0\n",
      "onnxruntime-gpu                    1.19.2\n"
     ]
    }
   ],
   "source": [
    "!pip list | grep onnx"
   ]
  },
  {
   "cell_type": "code",
   "execution_count": 44,
   "id": "ff12e8ed-cc4d-4931-8822-3fec56462e59",
   "metadata": {},
   "outputs": [
    {
     "name": "stdout",
     "output_type": "stream",
     "text": [
      "tensorrt                           10.6.0.post1\n",
      "tensorrt-cu12                      10.6.0.post1\n",
      "tensorrt-cu12-bindings             10.6.0.post1\n",
      "tensorrt-cu12-libs                 10.6.0.post1\n"
     ]
    }
   ],
   "source": [
    "!pip list | grep tensor"
   ]
  },
  {
   "cell_type": "code",
   "execution_count": 73,
   "id": "eea5e62e",
   "metadata": {},
   "outputs": [
    {
     "name": "stdout",
     "output_type": "stream",
     "text": [
      "setuptools                         70.0.0\n"
     ]
    }
   ],
   "source": [
    "!pip list | grep setup"
   ]
  },
  {
   "cell_type": "code",
   "execution_count": 74,
   "id": "e39ca442-6b2c-47fa-af68-9db46d21e70c",
   "metadata": {},
   "outputs": [
    {
     "name": "stdout",
     "output_type": "stream",
     "text": [
      "#define CUDNN_MAJOR 8\n",
      "#define CUDNN_MINOR 9\n",
      "#define CUDNN_PATCHLEVEL 7\n",
      "--\n",
      "#define CUDNN_VERSION (CUDNN_MAJOR * 1000 + CUDNN_MINOR * 100 + CUDNN_PATCHLEVEL)\n",
      "\n",
      "/* cannot use constexpr here since this is a C-only file */\n"
     ]
    }
   ],
   "source": [
    "!cat /usr/local/cuda/include/cudnn_version.h | grep CUDNN_MAJOR -A 2"
   ]
  },
  {
   "cell_type": "code",
   "execution_count": 75,
   "id": "56604b22-b6b1-4e3f-9d3f-ac92534cc796",
   "metadata": {},
   "outputs": [
    {
     "data": {
      "text/plain": [
       "'10.6.0.post1'"
      ]
     },
     "execution_count": 75,
     "metadata": {},
     "output_type": "execute_result"
    }
   ],
   "source": [
    "import tensorrt\n",
    "tensorrt.__version__"
   ]
  },
  {
   "cell_type": "code",
   "execution_count": 76,
   "id": "44497149-eca9-4761-ab1a-d679da47fb7f",
   "metadata": {},
   "outputs": [],
   "source": [
    "# Export the model.\n",
    "torch.onnx.export(\n",
    "    loaded_model,              # model being run\n",
    "    x_sample,                  # model input (or a tuple for multiple inputs)\n",
    "    'simple-iris.onnx',        # where to save the model (can be a file or file-like object)\n",
    "    export_params=True,        # store the trained parameter weights inside the model file\n",
    "    opset_version=20,          # the ONNX version to export the model to\n",
    "    do_constant_folding=True,  # whether to execute constant folding for optimization\n",
    "    input_names = ['iris_input'],   # the model's input names\n",
    "    output_names = ['iris_output'], # the model's output names\n",
    "    dynamic_axes={\n",
    "        'iris_input' : {0 : 'batch_size'},    # variable length axes.\n",
    "        'iris_output' : {0 : 'batch_size'},\n",
    "    },\n",
    ")"
   ]
  },
  {
   "cell_type": "markdown",
   "id": "127ee254-4bc8-45d6-a0a2-aba1e664af36",
   "metadata": {},
   "source": [
    "## Using an ONNX Model"
   ]
  },
  {
   "cell_type": "code",
   "execution_count": 77,
   "id": "1ae355cd-4508-4f09-ace0-5231ff39dfa6",
   "metadata": {},
   "outputs": [],
   "source": [
    "import onnx\n",
    "import onnxruntime as ort"
   ]
  },
  {
   "cell_type": "code",
   "execution_count": 78,
   "id": "cc135c94-9aa4-45b5-a101-2c3c74ec9739",
   "metadata": {},
   "outputs": [],
   "source": [
    "onnx_model = onnx.load('simple-iris.onnx')\n",
    "\n",
    "# Verify the model’s structure and confirm that the model has a valid schema.\n",
    "# The validity of the ONNX graph is verified by checking the model’s version,\n",
    "# the graph’s structure, as well as the nodes and their inputs and outputs.\n",
    "onnx.checker.check_model(onnx_model)"
   ]
  },
  {
   "cell_type": "code",
   "execution_count": 79,
   "id": "3b3a42f2-0a4d-4208-9980-50bb4b20aea0",
   "metadata": {},
   "outputs": [
    {
     "name": "stdout",
     "output_type": "stream",
     "text": [
      "Wed Nov 27 01:06:26 2024       \n",
      "+-----------------------------------------------------------------------------------------+\n",
      "| NVIDIA-SMI 550.127.05             Driver Version: 550.127.05     CUDA Version: 12.4     |\n",
      "|-----------------------------------------+------------------------+----------------------+\n",
      "| GPU  Name                 Persistence-M | Bus-Id          Disp.A | Volatile Uncorr. ECC |\n",
      "| Fan  Temp   Perf          Pwr:Usage/Cap |           Memory-Usage | GPU-Util  Compute M. |\n",
      "|                                         |                        |               MIG M. |\n",
      "|=========================================+========================+======================|\n",
      "|   0  NVIDIA L40S                    On  |   00000000:30:00.0 Off |                    0 |\n",
      "| N/A   22C    P8             21W /  350W |       4MiB /  46068MiB |      0%      Default |\n",
      "|                                         |                        |                  N/A |\n",
      "+-----------------------------------------+------------------------+----------------------+\n",
      "                                                                                         \n",
      "+-----------------------------------------------------------------------------------------+\n",
      "| Processes:                                                                              |\n",
      "|  GPU   GI   CI        PID   Type   Process name                              GPU Memory |\n",
      "|        ID   ID                                                               Usage      |\n",
      "|=========================================================================================|\n",
      "|  No running processes found                                                             |\n",
      "+-----------------------------------------------------------------------------------------+\n"
     ]
    }
   ],
   "source": [
    "!nvidia-smi"
   ]
  },
  {
   "cell_type": "code",
   "execution_count": 80,
   "id": "5eb25c2f-7907-4520-a61f-a6dbea0024cd",
   "metadata": {},
   "outputs": [
    {
     "data": {
      "text/plain": [
       "['TensorrtExecutionProvider', 'CUDAExecutionProvider', 'CPUExecutionProvider']"
      ]
     },
     "execution_count": 80,
     "metadata": {},
     "output_type": "execute_result"
    }
   ],
   "source": [
    "ort.get_available_providers()"
   ]
  },
  {
   "cell_type": "code",
   "execution_count": 81,
   "id": "28226a8d-61e8-4182-a578-db87ef24c18c",
   "metadata": {},
   "outputs": [
    {
     "data": {
      "text/plain": [
       "'1.20.1'"
      ]
     },
     "execution_count": 81,
     "metadata": {},
     "output_type": "execute_result"
    }
   ],
   "source": [
    "ort.__version__"
   ]
  },
  {
   "cell_type": "code",
   "execution_count": 82,
   "id": "9473d25a-be04-483d-b47b-ffe51f7858f7",
   "metadata": {},
   "outputs": [
    {
     "data": {
      "text/plain": [
       "'GPU'"
      ]
     },
     "execution_count": 82,
     "metadata": {},
     "output_type": "execute_result"
    }
   ],
   "source": [
    "ort.get_device()"
   ]
  },
  {
   "cell_type": "code",
   "execution_count": 83,
   "id": "7f53421d-50aa-492a-847a-45f32f171cf6",
   "metadata": {},
   "outputs": [],
   "source": [
    "ort_session = ort.InferenceSession(\n",
    "    'simple-iris.onnx',\n",
    "    providers=['TensorrtExecutionProvider'],\n",
    ")"
   ]
  },
  {
   "cell_type": "code",
   "execution_count": 84,
   "id": "d5d2fe26-700b-4242-909a-ed5e1955e871",
   "metadata": {},
   "outputs": [],
   "source": [
    "ort_session = ort.InferenceSession(\n",
    "    'simple-iris.onnx',\n",
    "    providers=['CUDAExecutionProvider'],\n",
    ")"
   ]
  },
  {
   "cell_type": "code",
   "execution_count": 85,
   "id": "424f4e3a-410c-4498-93be-9dde85234937",
   "metadata": {},
   "outputs": [
    {
     "data": {
      "text/plain": [
       "True"
      ]
     },
     "execution_count": 85,
     "metadata": {},
     "output_type": "execute_result"
    }
   ],
   "source": [
    "torch.backends.cudnn.enabled"
   ]
  },
  {
   "cell_type": "code",
   "execution_count": 86,
   "id": "3850c488-1691-44f1-a9be-eb7c5a16af6b",
   "metadata": {},
   "outputs": [
    {
     "data": {
      "text/plain": [
       "90300"
      ]
     },
     "execution_count": 86,
     "metadata": {},
     "output_type": "execute_result"
    }
   ],
   "source": [
    "torch.backends.cudnn.version()"
   ]
  },
  {
   "cell_type": "code",
   "execution_count": 87,
   "id": "4c10bcd6-9305-401f-b954-662a1c95a403",
   "metadata": {},
   "outputs": [
    {
     "name": "stdout",
     "output_type": "stream",
     "text": [
      "Torch library path: /opt/conda/envs/pytorch/lib/python3.11/site-packages/torch/_C.cpython-311-x86_64-linux-gnu.so\n",
      "\n",
      "Dependencies:\n",
      "\tlibcudnn.so.9 => /opt/conda/envs/pytorch/lib/python3.11/site-packages/torch/lib/libcudnn.so.9 (0x00007e2115a00000)\n"
     ]
    }
   ],
   "source": [
    "import torch._C as _C\n",
    "torch_lib_path = _C.__file__\n",
    "print(\"Torch library path:\", torch_lib_path)\n",
    "print(\"\\nDependencies:\")\n",
    "!ldd {torch_lib_path} | grep cudnn"
   ]
  },
  {
   "cell_type": "code",
   "execution_count": 88,
   "id": "f34d0329-48ab-4b83-b6a5-0cadd793a481",
   "metadata": {},
   "outputs": [
    {
     "name": "stdout",
     "output_type": "stream",
     "text": [
      "/opt/conda/envs/pytorch/bin/pip\n"
     ]
    }
   ],
   "source": [
    "!which pip"
   ]
  },
  {
   "cell_type": "code",
   "execution_count": 89,
   "id": "6119999b-464e-4dd9-a199-b8b0d3602eb5",
   "metadata": {},
   "outputs": [
    {
     "data": {
      "text/plain": [
       "([<onnxruntime.capi.onnxruntime_pybind11_state.NodeArg at 0x779fb454d870>],\n",
       " [<onnxruntime.capi.onnxruntime_pybind11_state.NodeArg at 0x779fb454cc70>])"
      ]
     },
     "execution_count": 89,
     "metadata": {},
     "output_type": "execute_result"
    }
   ],
   "source": [
    "ort_session.get_inputs(), ort_session.get_outputs()"
   ]
  },
  {
   "cell_type": "code",
   "execution_count": 90,
   "id": "aaa1bfde-455e-4b9c-9cdc-44a66f97b467",
   "metadata": {},
   "outputs": [
    {
     "data": {
      "text/plain": [
       "'iris_input'"
      ]
     },
     "execution_count": 90,
     "metadata": {},
     "output_type": "execute_result"
    }
   ],
   "source": [
    "input_name = ort_session.get_inputs()[0].name\n",
    "input_name"
   ]
  },
  {
   "cell_type": "code",
   "execution_count": 91,
   "id": "662a7527-621c-463d-8c14-546bfe42d64f",
   "metadata": {},
   "outputs": [
    {
     "data": {
      "text/plain": [
       "'iris_output'"
      ]
     },
     "execution_count": 91,
     "metadata": {},
     "output_type": "execute_result"
    }
   ],
   "source": [
    "output_name = ort_session.get_outputs()[0].name\n",
    "output_name"
   ]
  },
  {
   "cell_type": "code",
   "execution_count": 92,
   "id": "ad9582bf-0c8d-425e-84f2-6282d3cb1441",
   "metadata": {},
   "outputs": [
    {
     "data": {
      "text/plain": [
       "[array([[-3.0693638,  5.929751 , -1.6726893]], dtype=float32)]"
      ]
     },
     "execution_count": 92,
     "metadata": {},
     "output_type": "execute_result"
    }
   ],
   "source": [
    "pred_onx = ort_session.run([output_name], {input_name: np.array([[0, 0]]).astype(np.float32)})\n",
    "pred_onx"
   ]
  },
  {
   "cell_type": "code",
   "execution_count": 93,
   "id": "ba14846a-14e7-4d77-aecf-66c1d7b13b98",
   "metadata": {},
   "outputs": [
    {
     "data": {
      "text/plain": [
       "[array([[-3.069364 ,  5.929751 , -1.6726893],\n",
       "        [-3.2760584,  5.844568 , -1.3823744]], dtype=float32)]"
      ]
     },
     "execution_count": 93,
     "metadata": {},
     "output_type": "execute_result"
    }
   ],
   "source": [
    "madeup_batch = np.array(\n",
    "    [\n",
    "        [0, 0],\n",
    "        [0.1, 0.1],\n",
    "    ]\n",
    "    ).astype(np.float32)\n",
    "pred_onx = ort_session.run([output_name], {input_name:madeup_batch})\n",
    "pred_onx"
   ]
  },
  {
   "cell_type": "code",
   "execution_count": null,
   "id": "8f6588d5-ae3f-4246-b4a0-36031cfd57b2",
   "metadata": {},
   "outputs": [],
   "source": []
  }
 ],
 "metadata": {
  "kernelspec": {
   "display_name": "Python 3 (ipykernel)",
   "language": "python",
   "name": "python3"
  },
  "language_info": {
   "codemirror_mode": {
    "name": "ipython",
    "version": 3
   },
   "file_extension": ".py",
   "mimetype": "text/x-python",
   "name": "python",
   "nbconvert_exporter": "python",
   "pygments_lexer": "ipython3",
   "version": "3.11.10"
  }
 },
 "nbformat": 4,
 "nbformat_minor": 5
}
