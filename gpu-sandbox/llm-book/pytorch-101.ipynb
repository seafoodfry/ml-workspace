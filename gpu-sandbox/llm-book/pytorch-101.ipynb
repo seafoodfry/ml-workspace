{
 "cells": [
  {
   "cell_type": "code",
   "execution_count": 1,
   "id": "a49ee1d4-1a1e-4c99-b881-837b73830aad",
   "metadata": {},
   "outputs": [],
   "source": [
    "import time"
   ]
  },
  {
   "cell_type": "code",
   "execution_count": 2,
   "id": "f28fe8e2-6571-4515-9ffb-addb9ca7e29e",
   "metadata": {},
   "outputs": [
    {
     "name": "stdout",
     "output_type": "stream",
     "text": [
      "Elapsed time: 1.072771 seconds\n"
     ]
    }
   ],
   "source": [
    "#%%timeit -n 1 -r 1\n",
    "start = time.perf_counter()\n",
    "\n",
    "import torch\n",
    "\n",
    "end = time.perf_counter()\n",
    "print(f\"Elapsed time: {end - start:.6f} seconds\")"
   ]
  },
  {
   "cell_type": "code",
   "execution_count": 3,
   "id": "65d8550d-d460-4c33-96c5-aeb3d658c85f",
   "metadata": {},
   "outputs": [],
   "source": [
    "from tqdm import tqdm\n",
    "import matplotlib.pyplot as plt\n",
    "import numpy as np"
   ]
  },
  {
   "cell_type": "markdown",
   "id": "eacf9c7d-5342-4710-8bdb-f9da3677f6ed",
   "metadata": {},
   "source": [
    "# Device Info"
   ]
  },
  {
   "cell_type": "code",
   "execution_count": 4,
   "id": "54b9333b-9c80-46fe-b64a-c0af74858a6d",
   "metadata": {},
   "outputs": [
    {
     "data": {
      "text/plain": [
       "'2.4.1'"
      ]
     },
     "execution_count": 4,
     "metadata": {},
     "output_type": "execute_result"
    }
   ],
   "source": [
    "torch.__version__"
   ]
  },
  {
   "cell_type": "code",
   "execution_count": 5,
   "id": "2c6ffdf7-afaf-4613-a2bd-83ff5132888b",
   "metadata": {},
   "outputs": [
    {
     "data": {
      "text/plain": [
       "True"
      ]
     },
     "execution_count": 5,
     "metadata": {},
     "output_type": "execute_result"
    }
   ],
   "source": [
    "torch.cuda.is_available()"
   ]
  },
  {
   "cell_type": "code",
   "execution_count": 6,
   "id": "c1090f80-9a73-44ee-85c7-d49697d988a6",
   "metadata": {},
   "outputs": [
    {
     "data": {
      "text/plain": [
       "'NVIDIA L40S'"
      ]
     },
     "execution_count": 6,
     "metadata": {},
     "output_type": "execute_result"
    }
   ],
   "source": [
    "torch.cuda.get_device_name()"
   ]
  },
  {
   "cell_type": "code",
   "execution_count": 7,
   "id": "21cac407-ae46-46bf-8764-1e73e1b463ca",
   "metadata": {},
   "outputs": [
    {
     "data": {
      "text/plain": [
       "'GPU:0\\nno processes are running'"
      ]
     },
     "execution_count": 7,
     "metadata": {},
     "output_type": "execute_result"
    }
   ],
   "source": [
    "torch.cuda.list_gpu_processes()"
   ]
  },
  {
   "cell_type": "code",
   "execution_count": 8,
   "id": "3ae269de-9f19-4e05-bc58-ad8391da51cd",
   "metadata": {},
   "outputs": [
    {
     "data": {
      "text/plain": [
       "1"
      ]
     },
     "execution_count": 8,
     "metadata": {},
     "output_type": "execute_result"
    }
   ],
   "source": [
    "torch.cuda.device_count()"
   ]
  },
  {
   "cell_type": "code",
   "execution_count": 9,
   "id": "46e28baf-082e-43f6-b044-9a75d367ebc5",
   "metadata": {},
   "outputs": [
    {
     "data": {
      "text/plain": [
       "_CudaDeviceProperties(name='NVIDIA L40S', major=8, minor=9, total_memory=45372MB, multi_processor_count=142)"
      ]
     },
     "execution_count": 9,
     "metadata": {},
     "output_type": "execute_result"
    }
   ],
   "source": [
    "# See https://github.com/seafoodfry/ml-workspace/blob/main/gpu-sandbox/our-cuda-by-example/03-cudaDeviceProp.cu\n",
    "torch.cuda.get_device_properties(0)"
   ]
  },
  {
   "cell_type": "code",
   "execution_count": 10,
   "id": "9439bb8f-8bb6-45ad-9716-5516a48b9ce0",
   "metadata": {},
   "outputs": [
    {
     "data": {
      "text/plain": [
       "['sm_50', 'sm_60', 'sm_61', 'sm_70', 'sm_75', 'sm_80', 'sm_86', 'sm_90']"
      ]
     },
     "execution_count": 10,
     "metadata": {},
     "output_type": "execute_result"
    }
   ],
   "source": [
    "# See https://arnon.dk/matching-sm-architectures-arch-and-gencode-for-various-nvidia-cards/\n",
    "torch.cuda.get_arch_list()"
   ]
  },
  {
   "cell_type": "code",
   "execution_count": 11,
   "id": "5c308f99-21df-4680-84f8-bf150ab23b84",
   "metadata": {},
   "outputs": [
    {
     "data": {
      "text/plain": [
       "'native'"
      ]
     },
     "execution_count": 11,
     "metadata": {},
     "output_type": "execute_result"
    }
   ],
   "source": [
    "# See\n",
    "# https://pytorch.org/docs/stable/notes/cuda.html#optimizing-memory-usage-with-pytorch-cuda-alloc-conf\n",
    "# and\n",
    "# https://developer.nvidia.com/blog/using-cuda-stream-ordered-memory-allocator-part-1/\n",
    "torch.cuda.get_allocator_backend()"
   ]
  },
  {
   "cell_type": "code",
   "execution_count": 12,
   "id": "4a566a54-7a4b-42b5-948c-2c26f04a522b",
   "metadata": {},
   "outputs": [
    {
     "data": {
      "text/plain": [
       "False"
      ]
     },
     "execution_count": 12,
     "metadata": {},
     "output_type": "execute_result"
    }
   ],
   "source": [
    "# See https://pytorch.org/docs/stable/notes/mps.html\n",
    "torch.backends.mps.is_available()"
   ]
  },
  {
   "cell_type": "code",
   "execution_count": 13,
   "id": "42bc2c3c-db85-4b87-8844-be181edac9c6",
   "metadata": {},
   "outputs": [
    {
     "data": {
      "text/plain": [
       "True"
      ]
     },
     "execution_count": 13,
     "metadata": {},
     "output_type": "execute_result"
    }
   ],
   "source": [
    "torch.backends.cuda.is_built()"
   ]
  },
  {
   "cell_type": "code",
   "execution_count": 14,
   "id": "d88f697d-8475-4777-8803-e79ac4644966",
   "metadata": {},
   "outputs": [
    {
     "data": {
      "text/plain": [
       "'AVX2'"
      ]
     },
     "execution_count": 14,
     "metadata": {},
     "output_type": "execute_result"
    }
   ],
   "source": [
    "torch.backends.cpu.get_cpu_capability()"
   ]
  },
  {
   "cell_type": "code",
   "execution_count": 15,
   "id": "cdc79685-3848-4ad2-81f8-ab0ea67b94b5",
   "metadata": {},
   "outputs": [
    {
     "data": {
      "text/plain": [
       "tensor([1])"
      ]
     },
     "execution_count": 15,
     "metadata": {},
     "output_type": "execute_result"
    }
   ],
   "source": [
    "torch.tensor([1])"
   ]
  },
  {
   "cell_type": "code",
   "execution_count": 16,
   "id": "e2279b88-5b9b-4cd0-8d66-71ecfadb4476",
   "metadata": {},
   "outputs": [
    {
     "data": {
      "text/plain": [
       "tensor([1, 2, 3])"
      ]
     },
     "execution_count": 16,
     "metadata": {},
     "output_type": "execute_result"
    }
   ],
   "source": [
    "torch.tensor([1, 2, 3])"
   ]
  },
  {
   "cell_type": "code",
   "execution_count": 17,
   "id": "27e3541f-5d45-4eb4-8f42-8f6f8a7884c3",
   "metadata": {},
   "outputs": [
    {
     "data": {
      "text/plain": [
       "tensor([[1, 2, 3],\n",
       "        [4, 5, 6]])"
      ]
     },
     "execution_count": 17,
     "metadata": {},
     "output_type": "execute_result"
    }
   ],
   "source": [
    "torch.tensor([\n",
    "    [1, 2, 3],\n",
    "    [4, 5, 6],\n",
    "])"
   ]
  },
  {
   "cell_type": "code",
   "execution_count": 18,
   "id": "08a84065-9e73-4c11-8033-c3f4c28e21e8",
   "metadata": {},
   "outputs": [
    {
     "data": {
      "text/plain": [
       "tensor([[[ 1,  2,  3],\n",
       "         [ 4,  5,  6]],\n",
       "\n",
       "        [[ 7,  8,  9],\n",
       "         [10, 11, 12]]])"
      ]
     },
     "execution_count": 18,
     "metadata": {},
     "output_type": "execute_result"
    }
   ],
   "source": [
    "# 3D.\n",
    "torch.tensor([\n",
    "    [\n",
    "        [1, 2, 3],\n",
    "        [4, 5, 6],\n",
    "    ],\n",
    "    [\n",
    "        [7, 8, 9],\n",
    "        [10, 11, 12],\n",
    "    ]\n",
    "])"
   ]
  },
  {
   "cell_type": "code",
   "execution_count": 19,
   "id": "29987df0-60ef-4436-8aa4-9f08e6620f9e",
   "metadata": {},
   "outputs": [
    {
     "data": {
      "text/plain": [
       "torch.int64"
      ]
     },
     "execution_count": 19,
     "metadata": {},
     "output_type": "execute_result"
    }
   ],
   "source": [
    "torch.tensor([1]).dtype"
   ]
  },
  {
   "cell_type": "code",
   "execution_count": 20,
   "id": "44b652ac-d51d-4a41-8d5b-1a155185495c",
   "metadata": {},
   "outputs": [
    {
     "data": {
      "text/plain": [
       "torch.float32"
      ]
     },
     "execution_count": 20,
     "metadata": {},
     "output_type": "execute_result"
    }
   ],
   "source": [
    "torch.tensor([1]).to(torch.float32).dtype"
   ]
  },
  {
   "cell_type": "code",
   "execution_count": 21,
   "id": "d049a659-b105-461d-a9fe-bf7ea9097b1c",
   "metadata": {},
   "outputs": [
    {
     "data": {
      "text/plain": [
       "torch.float32"
      ]
     },
     "execution_count": 21,
     "metadata": {},
     "output_type": "execute_result"
    }
   ],
   "source": [
    "torch.tensor([1.0]).dtype"
   ]
  },
  {
   "cell_type": "markdown",
   "id": "22226c18-d53f-493f-b3a3-bed8e323e6dc",
   "metadata": {},
   "source": [
    "# Forward pass (prediciton step) of a simple logistic regression classifier"
   ]
  },
  {
   "cell_type": "code",
   "execution_count": 22,
   "id": "2cd9d72a-3995-406e-a8e0-5e5060325d5d",
   "metadata": {},
   "outputs": [],
   "source": [
    "import torch.nn.functional as F"
   ]
  },
  {
   "cell_type": "code",
   "execution_count": 23,
   "id": "89cb7aad-4cdf-439e-8444-cb1d5d3c3910",
   "metadata": {},
   "outputs": [
    {
     "data": {
      "text/plain": [
       "tensor(0.0852)"
      ]
     },
     "execution_count": 23,
     "metadata": {},
     "output_type": "execute_result"
    }
   ],
   "source": [
    "# True label.\n",
    "y = torch.tensor([1.0])\n",
    "\n",
    "# Input feature.\n",
    "x1 = torch.tensor([1.1])\n",
    "w1 = torch.tensor([2.2])\n",
    "b = torch.tensor([0.0])\n",
    "\n",
    "z = x1 * w1 + b\n",
    "\n",
    "activation = torch.sigmoid(z)\n",
    "\n",
    "loss = F.binary_cross_entropy(activation, y)\n",
    "loss"
   ]
  },
  {
   "cell_type": "code",
   "execution_count": 24,
   "id": "8e1344d7-88ce-4694-9dac-ef59d514aa7c",
   "metadata": {},
   "outputs": [
    {
     "data": {
      "image/png": "[encoded data removed]",
      "text/plain": [
       "<Figure size 600x300 with 1 Axes>"
      ]
     },
     "metadata": {},
     "output_type": "display_data"
    }
   ],
   "source": [
    "# Create a clear step-function dataset.\n",
    "x = torch.tensor([[-10.0], [-9.0], [-8.0], [8.0], [9.0], [10.0]], dtype=torch.float32)\n",
    "y = torch.tensor([[0.0], [0.0], [0.0], [1.0], [1.0], [1.0]], dtype=torch.float32)\n",
    "\n",
    "# Visualize the dataset\n",
    "plt.figure(figsize=(6, 3))\n",
    "plt.scatter(x, y, c='blue', s=50, label='Training Data')\n",
    "plt.axvline(x=0.0, color='gray', linestyle='--', label='True Decision Boundary')\n",
    "plt.grid(True, alpha=0.3)\n",
    "plt.title('Step Function Dataset (N=6)')\n",
    "plt.xlabel('x')\n",
    "plt.ylabel('y (binary output)')\n",
    "plt.legend()\n",
    "plt.show()"
   ]
  },
  {
   "cell_type": "code",
   "execution_count": 25,
   "id": "36ff1c15-7ee9-4c67-85a0-adec0ac1cb7b",
   "metadata": {},
   "outputs": [
    {
     "name": "stdout",
     "output_type": "stream",
     "text": [
      "Training Progress:\n"
     ]
    },
    {
     "name": "stderr",
     "output_type": "stream",
     "text": [
      "100%|█████████████████████████████████████████████████████████████████████████████████████████| 100/100 [00:00<00:00, 5243.60it/s]"
     ]
    },
    {
     "name": "stdout",
     "output_type": "stream",
     "text": [
      "Epoch 20: Loss = 0.0052, Accuracy = 1.00\n",
      "Epoch 40: Loss = 0.0029, Accuracy = 1.00\n",
      "Epoch 60: Loss = 0.0020, Accuracy = 1.00\n",
      "Epoch 80: Loss = 0.0016, Accuracy = 1.00\n",
      "Epoch 100: Loss = 0.0013, Accuracy = 1.00\n",
      "\n",
      "Final Parameters:\n",
      "Weight (w): 0.7619\n",
      "Bias (b): -0.0000\n"
     ]
    },
    {
     "name": "stderr",
     "output_type": "stream",
     "text": [
      "\n"
     ]
    }
   ],
   "source": [
    "# Model parameters\n",
    "w = torch.tensor([[0.0]], requires_grad=True)\n",
    "b = torch.tensor([[0.0]], requires_grad=True)\n",
    "\n",
    "def net_input(x, w, b):\n",
    "    return x @ w + b\n",
    "\n",
    "# Hyperparameters.\n",
    "learning_rate = 0.1\n",
    "num_epochs = 100\n",
    "\n",
    "# Training loop.\n",
    "losses = []\n",
    "accuracies = []\n",
    "print(\"Training Progress:\")\n",
    "for epoch in tqdm(range(num_epochs)):\n",
    "    # Forward pass.\n",
    "    z = net_input(x, w, b)\n",
    "    # Compute the activation / predicitons.\n",
    "    predictions = torch.sigmoid(z)\n",
    "    \n",
    "    # Compute loss.\n",
    "    loss = F.binary_cross_entropy(predictions, y)\n",
    "    \n",
    "    # Compute accuracy.\n",
    "    predicted_labels = (predictions >= 0.5).float()\n",
    "    accuracy = (predicted_labels == y).float().mean()\n",
    "    \n",
    "    # Backward pass.\n",
    "    # PyTorch's way of implementing backpropagation. Tt calculates the gradient of the loss\n",
    "    # with respect to all parameters that have requires_grad=True.\n",
    "    loss.backward()\n",
    "    \n",
    "    # Update parameters.\n",
    "    # Temporarily disable gradient tracking.\n",
    "    with torch.no_grad():\n",
    "        w -= learning_rate * w.grad\n",
    "        b -= learning_rate * b.grad\n",
    "        w.grad.zero_()\n",
    "        b.grad.zero_()\n",
    "\n",
    "    losses.append( loss.item() )\n",
    "    accuracies.append( accuracy.item() )\n",
    "    # Print progress every 20 epochs.\n",
    "    if (epoch + 1) % 20 == 0:\n",
    "        print(f'Epoch {epoch+1}: Loss = {loss.item():.4f}, Accuracy = {accuracy.item():.2f}')\n",
    "\n",
    "print(\"\\nFinal Parameters:\")\n",
    "print(f\"Weight (w): {w.item():.4f}\")\n",
    "print(f\"Bias (b): {b.item():.4f}\")"
   ]
  },
  {
   "cell_type": "code",
   "execution_count": 26,
   "id": "76cbd3cc-1637-4df3-bc42-778fad195650",
   "metadata": {},
   "outputs": [],
   "source": [
    "def custom_scale(x, early=10, late=90):\n",
    "    \"\"\"Create a custom scale that compresses the middle section.\"\"\"\n",
    "    x = np.array(x)\n",
    "    \n",
    "    # Create scaling factors.\n",
    "    scale_early = 1.0  # Normal scale for early epochs\n",
    "    scale_middle = 0.1  # Compressed scale for middle epochs\n",
    "    scale_late = 1.0   # Normal scale for late epochs\n",
    "    \n",
    "    result = np.zeros_like(x, dtype=float)\n",
    "    \n",
    "    # Apply different scales to different regions.\n",
    "    mask_early = x < early\n",
    "    mask_middle = (x >= early) & (x < late)\n",
    "    mask_late = x >= late\n",
    "    \n",
    "    # Early region: normal scale.\n",
    "    result[mask_early] = x[mask_early]\n",
    "    \n",
    "    # Middle region: compressed.\n",
    "    middle_width = (late - early) * scale_middle\n",
    "    result[mask_middle] = ( early + (x[mask_middle] - early) * scale_middle )\n",
    "    \n",
    "    # Late region: normal scale but shifted due to compression.\n",
    "    result[mask_late] = ( early + middle_width + (x[mask_late] - late) )\n",
    "    \n",
    "    return result"
   ]
  },
  {
   "cell_type": "code",
   "execution_count": 27,
   "id": "90004c0f-b69d-42dd-9f0c-a0a079f18a76",
   "metadata": {},
   "outputs": [
    {
     "data": {
      "image/png": "[encoded data removed]",
      "text/plain": [
       "<Figure size 700x700 with 3 Axes>"
      ]
     },
     "metadata": {},
     "output_type": "display_data"
    }
   ],
   "source": [
    "plt.figure(figsize=(7, 7))\n",
    "\n",
    "#############################\n",
    "# Plot 1: Decision Boundary #\n",
    "#############################\n",
    "plt.subplot(2, 1, 1)\n",
    "# Plot training data.\n",
    "plt.scatter(x, y, c='blue', s=100, label='Training Data')\n",
    "\n",
    "# Plot decision boundary.\n",
    "x_plot = torch.linspace(-12, 12, 100).reshape(-1, 1)\n",
    "with torch.no_grad():\n",
    "    z_plot = net_input(x_plot, w, b)\n",
    "    y_plot = torch.sigmoid(z_plot)\n",
    "\n",
    "plt.plot(x_plot, y_plot, 'r-', label='Learned Decision Boundary')\n",
    "plt.axhline(y=0.5, color='g', linestyle='--', label='Classification Threshold')\n",
    "plt.axvline(x=0.0, color='gray', linestyle='--', label='True Decision Boundary')\n",
    "\n",
    "plt.grid(True, alpha=0.3)\n",
    "plt.title('Logistic Regression on Step Function Data')\n",
    "plt.xlabel('x')\n",
    "plt.ylabel('Probability')\n",
    "plt.legend()\n",
    "\n",
    "#################################\n",
    "# Second row: Loss and Accuracy #\n",
    "#################################\n",
    "plt.subplot(2, 1, 2)\n",
    "\n",
    "epochs = np.arange(len(losses))\n",
    "epochs_scaled = custom_scale(epochs)\n",
    "\n",
    "# Plot loss on primary y-axis.\n",
    "color_loss = 'tab:blue'\n",
    "ax1 = plt.gca() # get current axis.\n",
    "ax1.set_xlabel('Epoch')\n",
    "ax1.set_ylabel('Loss', color=color_loss)\n",
    "ln1 = ax1.plot(epochs_scaled, losses, color=color_loss, label='Loss')\n",
    "ax1.tick_params(axis='y', labelcolor=color_loss)\n",
    "\n",
    "# Plot accuracy on secondary y-axis.\n",
    "color_acc = 'tab:green'\n",
    "ax2 = ax1.twinx()\n",
    "ax2.set_ylabel('Accuracy', color=color_acc)\n",
    "ln2 = ax2.plot(epochs_scaled, accuracies, color=color_acc, label='Accuracy')\n",
    "ax2.tick_params(axis='y', labelcolor=color_acc)\n",
    "\n",
    "# Set custom ticks to show actual epoch numbers.\n",
    "tick_locations = custom_scale([0, 10, 50, 90, 100])\n",
    "ax1.set_xticks(tick_locations)\n",
    "ax1.set_xticklabels(['0', '10', '50', '90', '100'])\n",
    "\n",
    "# Add markers to show scale change.\n",
    "for _x in [10, 90]:\n",
    "    scaled_x = custom_scale([_x])[0]\n",
    "    ax1.axvline(x=scaled_x, color='gray', linestyle=':', alpha=0.5)\n",
    "\n",
    "# Add legend.\n",
    "lns = ln1 + ln2\n",
    "labs = [l.get_label() for l in lns]\n",
    "ax1.legend(lns, labs, loc='center right')\n",
    "\n",
    "plt.title('Training Metrics')\n",
    "plt.grid(True, alpha=0.3)\n",
    "\n",
    "# Adjust layout\n",
    "plt.tight_layout()\n",
    "plt.show()"
   ]
  },
  {
   "cell_type": "code",
   "execution_count": 28,
   "id": "e7f55902-561b-4151-9254-27a53780db7c",
   "metadata": {},
   "outputs": [
    {
     "name": "stdout",
     "output_type": "stream",
     "text": [
      "\n",
      "Classification Results:\n",
      "----------------------\n",
      "x = -10.0: probability = 0.0005, prediction = 0, true_label = 0\n",
      "x = -9.0: probability = 0.0011, prediction = 0, true_label = 0\n",
      "x = -8.0: probability = 0.0022, prediction = 0, true_label = 0\n",
      "x = 8.0: probability = 0.9978, prediction = 1, true_label = 1\n",
      "x = 9.0: probability = 0.9989, prediction = 1, true_label = 1\n",
      "x = 10.0: probability = 0.9995, prediction = 1, true_label = 1\n"
     ]
    }
   ],
   "source": [
    "# Print classification results\n",
    "with torch.no_grad():\n",
    "    z_test = x @ w + b\n",
    "    probs = torch.sigmoid(z_test)\n",
    "    predictions = (probs >= 0.5).float()\n",
    "    \n",
    "print(\"\\nClassification Results:\")\n",
    "print(\"----------------------\")\n",
    "for i in range(len(x)):\n",
    "    print(f\"x = {x[i][0]:.1f}: probability = {probs[i][0]:.4f}, prediction = {predictions[i][0]:.0f}, true_label = {y[i][0]:.0f}\")"
   ]
  },
  {
   "cell_type": "code",
   "execution_count": null,
   "id": "cb22e7e3-5c14-48ad-a002-75857687fa6b",
   "metadata": {},
   "outputs": [],
   "source": []
  }
 ],
 "metadata": {
  "kernelspec": {
   "display_name": "Python 3 (ipykernel)",
   "language": "python",
   "name": "python3"
  },
  "language_info": {
   "codemirror_mode": {
    "name": "ipython",
    "version": 3
   },
   "file_extension": ".py",
   "mimetype": "text/x-python",
   "name": "python",
   "nbconvert_exporter": "python",
   "pygments_lexer": "ipython3",
   "version": "3.11.10"
  }
 },
 "nbformat": 4,
 "nbformat_minor": 5
}
