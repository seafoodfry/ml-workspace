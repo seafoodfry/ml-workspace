{
 "cells": [
  {
   "cell_type": "code",
   "execution_count": 1,
   "id": "a49ee1d4-1a1e-4c99-b881-837b73830aad",
   "metadata": {},
   "outputs": [],
   "source": [
    "import time"
   ]
  },
  {
   "cell_type": "code",
   "execution_count": 2,
   "id": "f28fe8e2-6571-4515-9ffb-addb9ca7e29e",
   "metadata": {},
   "outputs": [
    {
     "name": "stdout",
     "output_type": "stream",
     "text": [
      "Elapsed time: 1.075143 seconds\n"
     ]
    }
   ],
   "source": [
    "#%%timeit -n 1 -r 1\n",
    "start = time.perf_counter()\n",
    "\n",
    "import torch\n",
    "\n",
    "end = time.perf_counter()\n",
    "print(f\"Elapsed time: {end - start:.6f} seconds\")"
   ]
  },
  {
   "cell_type": "code",
   "execution_count": 3,
   "id": "65d8550d-d460-4c33-96c5-aeb3d658c85f",
   "metadata": {},
   "outputs": [],
   "source": [
    "from tqdm import tqdm\n",
    "import matplotlib.pyplot as plt\n",
    "import numpy as np"
   ]
  },
  {
   "cell_type": "markdown",
   "id": "eacf9c7d-5342-4710-8bdb-f9da3677f6ed",
   "metadata": {},
   "source": [
    "# Device Info"
   ]
  },
  {
   "cell_type": "code",
   "execution_count": 4,
   "id": "54b9333b-9c80-46fe-b64a-c0af74858a6d",
   "metadata": {},
   "outputs": [
    {
     "data": {
      "text/plain": [
       "'2.4.1'"
      ]
     },
     "execution_count": 4,
     "metadata": {},
     "output_type": "execute_result"
    }
   ],
   "source": [
    "torch.__version__"
   ]
  },
  {
   "cell_type": "code",
   "execution_count": 5,
   "id": "b32910b9-c14a-4c08-8bbd-72d969c120dd",
   "metadata": {},
   "outputs": [
    {
     "data": {
      "text/plain": [
       "'12.4'"
      ]
     },
     "execution_count": 5,
     "metadata": {},
     "output_type": "execute_result"
    }
   ],
   "source": [
    "torch.version.cuda"
   ]
  },
  {
   "cell_type": "code",
   "execution_count": 6,
   "id": "2c6ffdf7-afaf-4613-a2bd-83ff5132888b",
   "metadata": {},
   "outputs": [
    {
     "data": {
      "text/plain": [
       "True"
      ]
     },
     "execution_count": 6,
     "metadata": {},
     "output_type": "execute_result"
    }
   ],
   "source": [
    "torch.cuda.is_available()"
   ]
  },
  {
   "cell_type": "code",
   "execution_count": 7,
   "id": "c1090f80-9a73-44ee-85c7-d49697d988a6",
   "metadata": {},
   "outputs": [
    {
     "data": {
      "text/plain": [
       "'NVIDIA L40S'"
      ]
     },
     "execution_count": 7,
     "metadata": {},
     "output_type": "execute_result"
    }
   ],
   "source": [
    "torch.cuda.get_device_name()"
   ]
  },
  {
   "cell_type": "code",
   "execution_count": 8,
   "id": "21cac407-ae46-46bf-8764-1e73e1b463ca",
   "metadata": {},
   "outputs": [
    {
     "data": {
      "text/plain": [
       "'GPU:0\\nprocess       5037 uses      448.000 MB GPU memory'"
      ]
     },
     "execution_count": 8,
     "metadata": {},
     "output_type": "execute_result"
    }
   ],
   "source": [
    "torch.cuda.list_gpu_processes()"
   ]
  },
  {
   "cell_type": "code",
   "execution_count": 9,
   "id": "3ae269de-9f19-4e05-bc58-ad8391da51cd",
   "metadata": {},
   "outputs": [
    {
     "data": {
      "text/plain": [
       "1"
      ]
     },
     "execution_count": 9,
     "metadata": {},
     "output_type": "execute_result"
    }
   ],
   "source": [
    "torch.cuda.device_count()"
   ]
  },
  {
   "cell_type": "code",
   "execution_count": 10,
   "id": "46e28baf-082e-43f6-b044-9a75d367ebc5",
   "metadata": {},
   "outputs": [
    {
     "data": {
      "text/plain": [
       "_CudaDeviceProperties(name='NVIDIA L40S', major=8, minor=9, total_memory=45372MB, multi_processor_count=142)"
      ]
     },
     "execution_count": 10,
     "metadata": {},
     "output_type": "execute_result"
    }
   ],
   "source": [
    "# See https://github.com/seafoodfry/ml-workspace/blob/main/gpu-sandbox/our-cuda-by-example/03-cudaDeviceProp.cu\n",
    "torch.cuda.get_device_properties(0)"
   ]
  },
  {
   "cell_type": "code",
   "execution_count": 11,
   "id": "9439bb8f-8bb6-45ad-9716-5516a48b9ce0",
   "metadata": {},
   "outputs": [
    {
     "data": {
      "text/plain": [
       "['sm_50', 'sm_60', 'sm_61', 'sm_70', 'sm_75', 'sm_80', 'sm_86', 'sm_90']"
      ]
     },
     "execution_count": 11,
     "metadata": {},
     "output_type": "execute_result"
    }
   ],
   "source": [
    "# See https://arnon.dk/matching-sm-architectures-arch-and-gencode-for-various-nvidia-cards/\n",
    "torch.cuda.get_arch_list()"
   ]
  },
  {
   "cell_type": "code",
   "execution_count": 12,
   "id": "5c308f99-21df-4680-84f8-bf150ab23b84",
   "metadata": {},
   "outputs": [
    {
     "data": {
      "text/plain": [
       "'native'"
      ]
     },
     "execution_count": 12,
     "metadata": {},
     "output_type": "execute_result"
    }
   ],
   "source": [
    "# See\n",
    "# https://pytorch.org/docs/stable/notes/cuda.html#optimizing-memory-usage-with-pytorch-cuda-alloc-conf\n",
    "# and\n",
    "# https://developer.nvidia.com/blog/using-cuda-stream-ordered-memory-allocator-part-1/\n",
    "torch.cuda.get_allocator_backend()"
   ]
  },
  {
   "cell_type": "code",
   "execution_count": 13,
   "id": "4a566a54-7a4b-42b5-948c-2c26f04a522b",
   "metadata": {},
   "outputs": [
    {
     "data": {
      "text/plain": [
       "False"
      ]
     },
     "execution_count": 13,
     "metadata": {},
     "output_type": "execute_result"
    }
   ],
   "source": [
    "# See https://pytorch.org/docs/stable/notes/mps.html\n",
    "torch.backends.mps.is_available()"
   ]
  },
  {
   "cell_type": "code",
   "execution_count": 14,
   "id": "42bc2c3c-db85-4b87-8844-be181edac9c6",
   "metadata": {},
   "outputs": [
    {
     "data": {
      "text/plain": [
       "True"
      ]
     },
     "execution_count": 14,
     "metadata": {},
     "output_type": "execute_result"
    }
   ],
   "source": [
    "torch.backends.cuda.is_built()"
   ]
  },
  {
   "cell_type": "code",
   "execution_count": 15,
   "id": "d88f697d-8475-4777-8803-e79ac4644966",
   "metadata": {},
   "outputs": [
    {
     "data": {
      "text/plain": [
       "'AVX2'"
      ]
     },
     "execution_count": 15,
     "metadata": {},
     "output_type": "execute_result"
    }
   ],
   "source": [
    "torch.backends.cpu.get_cpu_capability()"
   ]
  },
  {
   "cell_type": "code",
   "execution_count": 16,
   "id": "29987df0-60ef-4436-8aa4-9f08e6620f9e",
   "metadata": {},
   "outputs": [
    {
     "data": {
      "text/plain": [
       "torch.int64"
      ]
     },
     "execution_count": 16,
     "metadata": {},
     "output_type": "execute_result"
    }
   ],
   "source": [
    "torch.tensor([1]).dtype"
   ]
  },
  {
   "cell_type": "code",
   "execution_count": 17,
   "id": "44b652ac-d51d-4a41-8d5b-1a155185495c",
   "metadata": {},
   "outputs": [
    {
     "data": {
      "text/plain": [
       "torch.float32"
      ]
     },
     "execution_count": 17,
     "metadata": {},
     "output_type": "execute_result"
    }
   ],
   "source": [
    "torch.tensor([1]).to(torch.float32).dtype"
   ]
  },
  {
   "cell_type": "code",
   "execution_count": 18,
   "id": "d049a659-b105-461d-a9fe-bf7ea9097b1c",
   "metadata": {},
   "outputs": [
    {
     "data": {
      "text/plain": [
       "torch.float32"
      ]
     },
     "execution_count": 18,
     "metadata": {},
     "output_type": "execute_result"
    }
   ],
   "source": [
    "torch.tensor([1.0]).dtype"
   ]
  },
  {
   "cell_type": "markdown",
   "id": "f6265861-35ff-4f9d-8b24-b9da45b4596b",
   "metadata": {},
   "source": [
    "# Iris"
   ]
  },
  {
   "cell_type": "code",
   "execution_count": 19,
   "id": "61e7f561-40f9-419f-a334-c342a60e5513",
   "metadata": {},
   "outputs": [],
   "source": [
    "import torch.nn as nn\n",
    "import torch.optim as optim\n",
    "from torch.utils.data import Dataset, DataLoader\n",
    "from sklearn.datasets import load_iris\n",
    "from sklearn.model_selection import train_test_split\n",
    "from sklearn.preprocessing import StandardScaler"
   ]
  },
  {
   "cell_type": "code",
   "execution_count": 20,
   "id": "d20ccab5-680d-4781-9bf6-a4a7a0390c1b",
   "metadata": {},
   "outputs": [],
   "source": [
    "iris = load_iris()\n",
    "X = iris.data[:, [2, 3]]\n",
    "y = iris.target\n",
    "\n",
    "# Split the dataset into training and testing sets.\n",
    "X_train, X_test, y_train, y_test = train_test_split(X, y, test_size=0.2, random_state=42)\n",
    "\n",
    "# Standardize the features.\n",
    "scaler = StandardScaler()\n",
    "X_train = scaler.fit_transform(X_train)\n",
    "X_test = scaler.transform(X_test)\n",
    "\n",
    "# Convert to PyTorch tensors.\n",
    "X_train = torch.tensor(X_train, dtype=torch.float32)\n",
    "y_train = torch.tensor(y_train, dtype=torch.long)\n",
    "X_test = torch.tensor(X_test, dtype=torch.float32)\n",
    "y_test = torch.tensor(y_test, dtype=torch.long)"
   ]
  },
  {
   "cell_type": "code",
   "execution_count": 21,
   "id": "c441d86e-2079-4ba7-b79b-6cf5a9fca8e8",
   "metadata": {},
   "outputs": [],
   "source": [
    "class IrisDataset(Dataset):\n",
    "    def __init__(self, X, y):\n",
    "        self.X = X\n",
    "        self.y = y\n",
    "\n",
    "    def __len__(self):\n",
    "        return len(self.X)\n",
    "\n",
    "    def __getitem__(self, idx):\n",
    "        return self.X[idx], self.y[idx]\n",
    "\n",
    "train_dataset = IrisDataset(X_train, y_train)\n",
    "test_dataset = IrisDataset(X_test, y_test)"
   ]
  },
  {
   "cell_type": "code",
   "execution_count": 22,
   "id": "344a41fb-cc54-4910-a0ea-55413ecff673",
   "metadata": {},
   "outputs": [],
   "source": [
    "train_loader = DataLoader(\n",
    "    train_dataset, batch_size=32, shuffle=True, num_workers=0, drop_last=False)\n",
    "test_loader = DataLoader(\n",
    "    test_dataset, batch_size=32, num_workers=0, drop_last=False)"
   ]
  },
  {
   "cell_type": "code",
   "execution_count": 23,
   "id": "0a217b90-2883-40fc-852f-df1bbe772c23",
   "metadata": {},
   "outputs": [
    {
     "name": "stdout",
     "output_type": "stream",
     "text": [
      "Batch 0:  torch.Size([32, 2])\n",
      "Batch 1:  torch.Size([32, 2])\n",
      "Batch 2:  torch.Size([32, 2])\n",
      "Batch 3:  torch.Size([24, 2])\n"
     ]
    }
   ],
   "source": [
    "for idx, (x, _) in enumerate(train_loader):\n",
    "    print(f'Batch {idx}: ', x.shape)"
   ]
  },
  {
   "cell_type": "code",
   "execution_count": 24,
   "id": "ee699ec9-6cf2-46c0-8efe-e0fb0c1f022d",
   "metadata": {},
   "outputs": [],
   "source": [
    "class IrisClassifier(nn.Module):\n",
    "    def __init__(self, num_inputs, num_outputs):\n",
    "        super().__init__()\n",
    "\n",
    "        self.layers = torch.nn.Sequential(\n",
    "            # 1st hidden layer.\n",
    "            torch.nn.Linear(num_inputs, 30),\n",
    "            torch.nn.ReLU(),\n",
    "            \n",
    "            # 2nd hidden layer.\n",
    "            torch.nn.Linear(30, 20),\n",
    "            torch.nn.ReLU(),\n",
    "            \n",
    "            # Output layer.\n",
    "            torch.nn.Linear(20, num_outputs),\n",
    "        )\n",
    "\n",
    "    def forward(self, x):\n",
    "        logits = self.layers(x)\n",
    "        return logits\n",
    "\n",
    "model = IrisClassifier(2, 3)"
   ]
  },
  {
   "cell_type": "code",
   "execution_count": 25,
   "id": "bf1066f8-886c-43d1-b0fc-3ca7479641c1",
   "metadata": {},
   "outputs": [
    {
     "data": {
      "text/plain": [
       "'cuda'"
      ]
     },
     "execution_count": 25,
     "metadata": {},
     "output_type": "execute_result"
    }
   ],
   "source": [
    "if torch.cuda.is_available():\n",
    "    _device = 'cuda'\n",
    "elif torch.backends.mps.is_available():\n",
    "    _device = 'mps'\n",
    "else:\n",
    "    _device = 'cpu'\n",
    "\n",
    "_device"
   ]
  },
  {
   "cell_type": "code",
   "execution_count": 26,
   "id": "1d9b7c26-d5e0-473f-8fa0-231c2b67189b",
   "metadata": {},
   "outputs": [
    {
     "data": {
      "text/plain": [
       "device(type='cuda')"
      ]
     },
     "execution_count": 26,
     "metadata": {},
     "output_type": "execute_result"
    }
   ],
   "source": [
    "device = torch.device(_device)\n",
    "device"
   ]
  },
  {
   "cell_type": "code",
   "execution_count": 27,
   "id": "919bcb35-ef24-4903-b41a-66a8b021d248",
   "metadata": {},
   "outputs": [
    {
     "data": {
      "text/plain": [
       "IrisClassifier(\n",
       "  (layers): Sequential(\n",
       "    (0): Linear(in_features=2, out_features=30, bias=True)\n",
       "    (1): ReLU()\n",
       "    (2): Linear(in_features=30, out_features=20, bias=True)\n",
       "    (3): ReLU()\n",
       "    (4): Linear(in_features=20, out_features=3, bias=True)\n",
       "  )\n",
       ")"
      ]
     },
     "execution_count": 27,
     "metadata": {},
     "output_type": "execute_result"
    }
   ],
   "source": [
    "model = model.to(device)\n",
    "model"
   ]
  },
  {
   "cell_type": "code",
   "execution_count": 28,
   "id": "664c96d9",
   "metadata": {},
   "outputs": [
    {
     "name": "stdout",
     "output_type": "stream",
     "text": [
      "Epoch:000/100 | Batch: 000/004 | Train Loss: 1.117\n",
      "Epoch:000/100 | Batch: 001/004 | Train Loss: 1.034\n",
      "Epoch:000/100 | Batch: 002/004 | Train Loss: 1.035\n",
      "Epoch:000/100 | Batch: 003/004 | Train Loss: 1.001\n",
      "Epoch:020/100 | Batch: 000/004 | Train Loss: 0.072\n",
      "Epoch:020/100 | Batch: 001/004 | Train Loss: 0.064\n",
      "Epoch:020/100 | Batch: 002/004 | Train Loss: 0.095\n",
      "Epoch:020/100 | Batch: 003/004 | Train Loss: 0.078\n",
      "Epoch:040/100 | Batch: 000/004 | Train Loss: 0.073\n",
      "Epoch:040/100 | Batch: 001/004 | Train Loss: 0.127\n",
      "Epoch:040/100 | Batch: 002/004 | Train Loss: 0.060\n",
      "Epoch:040/100 | Batch: 003/004 | Train Loss: 0.024\n",
      "Epoch:060/100 | Batch: 000/004 | Train Loss: 0.050\n",
      "Epoch:060/100 | Batch: 001/004 | Train Loss: 0.037\n",
      "Epoch:060/100 | Batch: 002/004 | Train Loss: 0.108\n",
      "Epoch:060/100 | Batch: 003/004 | Train Loss: 0.080\n",
      "Epoch:080/100 | Batch: 000/004 | Train Loss: 0.102\n",
      "Epoch:080/100 | Batch: 001/004 | Train Loss: 0.062\n",
      "Epoch:080/100 | Batch: 002/004 | Train Loss: 0.021\n",
      "Epoch:080/100 | Batch: 003/004 | Train Loss: 0.061\n"
     ]
    }
   ],
   "source": [
    "criterion = nn.CrossEntropyLoss()\n",
    "optimizer = optim.Adam(model.parameters(), lr=0.01)\n",
    "\n",
    "num_epochs = 100\n",
    "\n",
    "model.train()\n",
    "for epoch in range(num_epochs):\n",
    "    for batch_idx, (features, labels) in enumerate(train_loader):\n",
    "        features, labels = features.to(device), labels.to(device)\n",
    "\n",
    "        optimizer.zero_grad()\n",
    "        logits = model(features)\n",
    "        loss = criterion(logits, labels)\n",
    "        loss.backward()\n",
    "        optimizer.step()\n",
    "\n",
    "        if (epoch) % 20 == 0:\n",
    "            print(f'Epoch:{epoch:03d}/{num_epochs:03d}'\n",
    "                  f' | Batch: {batch_idx:03d}/{len(train_loader):03d}'\n",
    "                  f' | Train Loss: {loss:.3f}',\n",
    "            )"
   ]
  },
  {
   "cell_type": "code",
   "execution_count": 29,
   "id": "25d25f4f-909e-4b15-8e4e-cef1f40532b0",
   "metadata": {},
   "outputs": [
    {
     "data": {
      "text/plain": [
       "IrisClassifier(\n",
       "  (layers): Sequential(\n",
       "    (0): Linear(in_features=2, out_features=30, bias=True)\n",
       "    (1): ReLU()\n",
       "    (2): Linear(in_features=30, out_features=20, bias=True)\n",
       "    (3): ReLU()\n",
       "    (4): Linear(in_features=20, out_features=3, bias=True)\n",
       "  )\n",
       ")"
      ]
     },
     "execution_count": 29,
     "metadata": {},
     "output_type": "execute_result"
    }
   ],
   "source": [
    "model.eval()"
   ]
  },
  {
   "cell_type": "code",
   "execution_count": 30,
   "id": "c096b368-c9e9-409a-9969-84110149a5c5",
   "metadata": {},
   "outputs": [
    {
     "name": "stdout",
     "output_type": "stream",
     "text": [
      "(0) 60\n",
      "(1) 30\n",
      "(2) 600\n",
      "(3) 20\n",
      "(4) 60\n",
      "(5) 3\n",
      "Number of trainable parameters: 773\n"
     ]
    }
   ],
   "source": [
    "# numel returns the number of elements in a tensor.\n",
    "num_params = 0\n",
    "for idx, p in enumerate(model.parameters()):\n",
    "    if p.requires_grad:\n",
    "        params = p.numel()\n",
    "        num_params += params\n",
    "        print(f'({idx}) {params}')\n",
    "\n",
    "print(f'Number of trainable parameters: {num_params}')"
   ]
  },
  {
   "cell_type": "code",
   "execution_count": 31,
   "id": "cd8bb2ab-8d21-4ab6-935e-64e7e7f2249a",
   "metadata": {},
   "outputs": [
    {
     "data": {
      "text/plain": [
       "tensor([-2.5866,  5.7973, -2.4930], device='cuda:0')"
      ]
     },
     "execution_count": 31,
     "metadata": {},
     "output_type": "execute_result"
    }
   ],
   "source": [
    "with torch.no_grad():\n",
    "    output = model(torch.tensor([0, 0], dtype=torch.float32, device=device))\n",
    "output"
   ]
  },
  {
   "cell_type": "code",
   "execution_count": 32,
   "id": "d1edb5a1-01bc-450b-86f3-02d424051738",
   "metadata": {},
   "outputs": [
    {
     "data": {
      "text/plain": [
       "tensor([    0.0002,     0.9995,     0.0003], device='cuda:0')"
      ]
     },
     "execution_count": 32,
     "metadata": {},
     "output_type": "execute_result"
    }
   ],
   "source": [
    "# Class membership probabilities.\n",
    "torch.set_printoptions(sci_mode=False)\n",
    "torch.softmax(output, dim=0)"
   ]
  },
  {
   "cell_type": "code",
   "execution_count": 33,
   "id": "4c4518f9-a391-4cdd-98f3-31476d678847",
   "metadata": {},
   "outputs": [
    {
     "data": {
      "text/plain": [
       "tensor(1, device='cuda:0')"
      ]
     },
     "execution_count": 33,
     "metadata": {},
     "output_type": "execute_result"
    }
   ],
   "source": [
    "# Predictions. index 0 is for argmax of columns, index 1 is for argmax of the row.\n",
    "# If we had a matrix of samples, then dim=1 would be the way to go but not here since we have a\n",
    "# 1D tensor.\n",
    "# Note that we don't need to apply this to the probabilities obtained from softmax.\n",
    "torch.argmax(output, dim=0)"
   ]
  },
  {
   "cell_type": "code",
   "execution_count": 34,
   "id": "55507560-cd37-4aad-85bd-f0c4b79e5f52",
   "metadata": {},
   "outputs": [],
   "source": [
    "# Taken from https://github.com/rasbt/machine-learning-book/blob/main/ch03/ch03.ipynb\n",
    "from matplotlib.colors import ListedColormap\n",
    "import matplotlib.pyplot as plt\n",
    "\n",
    "\n",
    "def plot_decision_regions(X, y, classifier, device=device, test_idx=None, resolution=0.02):\n",
    "    # setup marker generator and color map\n",
    "    markers = ('o', 's', '^', 'v', '<')\n",
    "    colors = ('red', 'blue', 'lightgreen', 'gray', 'cyan')\n",
    "    cmap = ListedColormap(colors[:len(np.unique(y))])\n",
    "\n",
    "    # plot the decision surface\n",
    "    x1_min, x1_max = X[:, 0].min() - 1, X[:, 0].max() + 1\n",
    "    x2_min, x2_max = X[:, 1].min() - 1, X[:, 1].max() + 1\n",
    "    xx1, xx2 = np.meshgrid(np.arange(x1_min, x1_max, resolution),\n",
    "                           np.arange(x2_min, x2_max, resolution))\n",
    "    #lab = classifier(np.array([xx1.ravel(), xx2.ravel()]).T)\n",
    "    # UserWarning: Creating a tensor from a list of numpy.ndarrays is extremely slow.\n",
    "    # Please consider converting the list to a single numpy.ndarray with numpy.array()\n",
    "    # before converting to a tensor.\n",
    "    lab = classifier(\n",
    "        torch.tensor(np.array([xx1.ravel(), xx2.ravel()]), dtype=torch.float32, device=device).T\n",
    "    )\n",
    "    #lab = lab.reshape(xx1.shape)\n",
    "    _, predictions = torch.max(lab.data, 1)\n",
    "    lab = predictions.cpu().detach().numpy()\n",
    "    lab = lab.reshape(xx1.shape)\n",
    "    plt.contourf(xx1, xx2, lab, alpha=0.3, cmap=cmap)\n",
    "    plt.xlim(xx1.min(), xx1.max())\n",
    "    plt.ylim(xx2.min(), xx2.max())\n",
    "\n",
    "    # plot class examples\n",
    "    for idx, cl in enumerate(np.unique(y)):\n",
    "        plt.scatter(x=X[y == cl, 0], \n",
    "                    y=X[y == cl, 1],\n",
    "                    alpha=0.8, \n",
    "                    c=colors[idx],\n",
    "                    marker=markers[idx], \n",
    "                    label=f'Class {cl}', \n",
    "                    edgecolor='black')\n",
    "\n",
    "    # highlight test examples\n",
    "    if test_idx:\n",
    "        # plot all examples\n",
    "        X_test, y_test = X[test_idx, :], y[test_idx]\n",
    "\n",
    "        plt.scatter(X_test[:, 0],\n",
    "                    X_test[:, 1],\n",
    "                    c='none',\n",
    "                    edgecolor='black',\n",
    "                    alpha=1.0,\n",
    "                    linewidth=1,\n",
    "                    marker='o',\n",
    "                    s=100, \n",
    "                    label='Test set')"
   ]
  },
  {
   "cell_type": "code",
   "execution_count": 35,
   "id": "301cd2ad-353e-4b51-9d3d-01f2191726d1",
   "metadata": {},
   "outputs": [
    {
     "data": {
      "image/png": "[encoded data removed]",
      "text/plain": [
       "<Figure size 500x300 with 1 Axes>"
      ]
     },
     "metadata": {},
     "output_type": "display_data"
    }
   ],
   "source": [
    "X_combined_std = np.vstack((X_train, X_test))\n",
    "y_combined = np.hstack((y_train, y_test))\n",
    "\n",
    "plt.figure(figsize=(5, 3))\n",
    "\n",
    "with torch.no_grad():\n",
    "    plot_decision_regions(X=X_combined_std, y=y_combined,\n",
    "                      classifier=model, test_idx=range(105, 150))\n",
    "plt.xlabel('Petal length [standardized]')\n",
    "plt.ylabel('Petal width [standardized]')\n",
    "plt.legend(loc='upper left')\n",
    "\n",
    "plt.tight_layout()\n",
    "#plt.savefig('figures/03_01.png', dpi=300)\n",
    "plt.show()"
   ]
  },
  {
   "cell_type": "code",
   "execution_count": 38,
   "id": "4cdc52bf-9e13-4be0-926f-f27e253c7541",
   "metadata": {},
   "outputs": [],
   "source": [
    "def compute_accuracy(model, dataloader, device=device):\n",
    "    model = model.eval()\n",
    "\n",
    "    correct = 0.0\n",
    "    total_samples = 0\n",
    "    for idx, (features, labels) in enumerate(dataloader):\n",
    "        features, labels = features.to(device), labels.to(device)\n",
    "        with torch.no_grad():\n",
    "            logits = model(features)\n",
    "\n",
    "        predictions = torch.argmax(logits, dim=1)\n",
    "        correct += torch.sum( predictions == labels )\n",
    "        total_samples += len(labels)\n",
    "        \n",
    "    return correct/total_samples"
   ]
  },
  {
   "cell_type": "code",
   "execution_count": 39,
   "id": "411ddb1d-abd1-4321-b809-b43cb73d22a6",
   "metadata": {},
   "outputs": [
    {
     "data": {
      "text/plain": [
       "1.0"
      ]
     },
     "execution_count": 39,
     "metadata": {},
     "output_type": "execute_result"
    }
   ],
   "source": [
    "acc = compute_accuracy(model, test_loader)\n",
    "acc.item()"
   ]
  },
  {
   "cell_type": "markdown",
   "id": "da01ef88-a31f-4fef-9e8f-76dc0376b3ed",
   "metadata": {},
   "source": [
    "## ONNX"
   ]
  },
  {
   "cell_type": "code",
   "execution_count": 40,
   "id": "87179d07-3587-41f7-80a1-a6b63b93056a",
   "metadata": {},
   "outputs": [
    {
     "data": {
      "text/plain": [
       "tensor([[-1.5625, -1.3126],\n",
       "        [-1.2760, -1.0456],\n",
       "        [ 0.3859,  0.2892]])"
      ]
     },
     "execution_count": 40,
     "metadata": {},
     "output_type": "execute_result"
    }
   ],
   "source": [
    "X_train[:3, :]"
   ]
  },
  {
   "cell_type": "code",
   "execution_count": 41,
   "id": "e604f878-11e5-4fa8-aede-946077d80ff6",
   "metadata": {},
   "outputs": [
    {
     "data": {
      "text/plain": [
       "torch.Size([120, 2])"
      ]
     },
     "execution_count": 41,
     "metadata": {},
     "output_type": "execute_result"
    }
   ],
   "source": [
    "X_train.shape"
   ]
  },
  {
   "cell_type": "code",
   "execution_count": 45,
   "id": "a9eb612c-3ede-40e6-8b53-c331387da654",
   "metadata": {},
   "outputs": [
    {
     "data": {
      "text/plain": [
       "tensor([[ 0.0828, -1.5232],\n",
       "        [-1.4958,  0.1866],\n",
       "        [-1.6016,  0.4938]], device='cuda:0', grad_fn=<ToCopyBackward0>)"
      ]
     },
     "execution_count": 45,
     "metadata": {},
     "output_type": "execute_result"
    }
   ],
   "source": [
    "batch_size = 3\n",
    "x_sample = torch.randn(batch_size, 2, requires_grad=True).to(device)\n",
    "x_sample"
   ]
  },
  {
   "cell_type": "code",
   "execution_count": 46,
   "id": "db7f7766-630f-44d0-9031-bb7f258a8967",
   "metadata": {},
   "outputs": [
    {
     "data": {
      "text/plain": [
       "torch.Size([3, 2])"
      ]
     },
     "execution_count": 46,
     "metadata": {},
     "output_type": "execute_result"
    }
   ],
   "source": [
    "x_sample.shape"
   ]
  },
  {
   "cell_type": "code",
   "execution_count": 47,
   "id": "d66c88b2-dd43-48fc-830b-aa65bfd56620",
   "metadata": {},
   "outputs": [],
   "source": [
    "model.eval()\n",
    "\n",
    "with torch.no_grad():\n",
    "    torch_out = model(x_sample)"
   ]
  },
  {
   "cell_type": "code",
   "execution_count": 48,
   "id": "5c60ad0c-e8b8-4dce-aeb8-4303bb4b96d4",
   "metadata": {},
   "outputs": [
    {
     "data": {
      "text/plain": [
       "'2.4.1'"
      ]
     },
     "execution_count": 48,
     "metadata": {},
     "output_type": "execute_result"
    }
   ],
   "source": [
    "torch.onnx.producer_version"
   ]
  },
  {
   "cell_type": "code",
   "execution_count": 49,
   "id": "c1ba6380-3e04-42f3-b3a5-a512125c072e",
   "metadata": {},
   "outputs": [
    {
     "data": {
      "text/plain": [
       "20"
      ]
     },
     "execution_count": 49,
     "metadata": {},
     "output_type": "execute_result"
    }
   ],
   "source": [
    "# See https://onnxruntime.ai/docs/reference/compatibility.html\n",
    "# for ONNX opset support.\n",
    "# See https://pytorch.org/docs/stable/onnx_torchscript_supported_aten_ops.html\n",
    "# for ONNX supported TorchScript operators.\n",
    "torch.onnx._constants.ONNX_MAX_OPSET"
   ]
  },
  {
   "cell_type": "code",
   "execution_count": 57,
   "id": "acbffc9a-2580-4ae7-9033-8d4b449cdf9b",
   "metadata": {},
   "outputs": [
    {
     "name": "stderr",
     "output_type": "stream",
     "text": [
      "\u001b[33mWARNING: Skipping onnxruntime as it is not installed.\u001b[0m\u001b[33m\n",
      "\u001b[0m\u001b[33mWARNING: Skipping onnxruntime-gpu as it is not installed.\u001b[0m\u001b[33m\n",
      "\u001b[0m"
     ]
    }
   ],
   "source": [
    "%%bash\n",
    "\n",
    "# See\n",
    "# https://onnxruntime.ai/docs/execution-providers/CUDA-ExecutionProvider.html\n",
    "# for ONNX - CUDA - CUDNN compatibility notes.\n",
    "pip uninstall -y onnxruntime onnxruntime-gpu\n",
    "\n",
    "#pip install onnx onnxruntime-gpu==1.18.0"
   ]
  },
  {
   "cell_type": "code",
   "execution_count": 50,
   "id": "874ce18e-36c1-4dc1-9b2d-4b0aa066c1e5",
   "metadata": {},
   "outputs": [
    {
     "name": "stdout",
     "output_type": "stream",
     "text": [
      "Requirement already satisfied: onnxruntime-gpu in /opt/conda/envs/pytorch/lib/python3.11/site-packages (1.20.1)\n",
      "Requirement already satisfied: coloredlogs in /opt/conda/envs/pytorch/lib/python3.11/site-packages (from onnxruntime-gpu) (15.0.1)\n",
      "Requirement already satisfied: flatbuffers in /opt/conda/envs/pytorch/lib/python3.11/site-packages (from onnxruntime-gpu) (24.3.25)\n",
      "Requirement already satisfied: numpy>=1.21.6 in /opt/conda/envs/pytorch/lib/python3.11/site-packages (from onnxruntime-gpu) (1.26.4)\n",
      "Requirement already satisfied: packaging in /opt/conda/envs/pytorch/lib/python3.11/site-packages (from onnxruntime-gpu) (21.3)\n",
      "Requirement already satisfied: protobuf in /opt/conda/envs/pytorch/lib/python3.11/site-packages (from onnxruntime-gpu) (5.28.2)\n",
      "Requirement already satisfied: sympy in /opt/conda/envs/pytorch/lib/python3.11/site-packages (from onnxruntime-gpu) (1.13.3)\n",
      "Requirement already satisfied: humanfriendly>=9.1 in /opt/conda/envs/pytorch/lib/python3.11/site-packages (from coloredlogs->onnxruntime-gpu) (10.0)\n",
      "Requirement already satisfied: pyparsing!=3.0.5,>=2.0.2 in /opt/conda/envs/pytorch/lib/python3.11/site-packages (from packaging->onnxruntime-gpu) (3.2.0)\n",
      "Requirement already satisfied: mpmath<1.4,>=1.1.0 in /opt/conda/envs/pytorch/lib/python3.11/site-packages (from sympy->onnxruntime-gpu) (1.3.0)\n"
     ]
    }
   ],
   "source": [
    "!pip install onnxruntime-gpu"
   ]
  },
  {
   "cell_type": "code",
   "execution_count": 51,
   "id": "a0cc4cb4-9c4c-4ef8-95f4-1ae539dbf2fa",
   "metadata": {},
   "outputs": [
    {
     "name": "stdout",
     "output_type": "stream",
     "text": [
      "Channels:\n",
      " - conda-forge\n",
      " - nvidia\n",
      " - pytorch\n",
      "Platform: linux-64\n",
      "Collecting package metadata (repodata.json): done\n",
      "Solving environment: done\n",
      "\n",
      "# All requested packages already installed.\n",
      "\n"
     ]
    }
   ],
   "source": [
    "!conda update -y -n base -c conda-forge conda"
   ]
  },
  {
   "cell_type": "code",
   "execution_count": 52,
   "id": "4f510e09-3eb2-4899-976f-48b9081fe506",
   "metadata": {},
   "outputs": [
    {
     "name": "stdout",
     "output_type": "stream",
     "text": [
      "Channels:\n",
      " - conda-forge\n",
      " - nvidia\n",
      " - pytorch\n",
      "Platform: linux-64\n",
      "Collecting package metadata (repodata.json): ...working... done\n",
      "Solving environment: ...working... done\n",
      "\n",
      "# All requested packages already installed.\n",
      "\n"
     ]
    }
   ],
   "source": [
    "%%bash\n",
    "\n",
    "conda install -y onnx"
   ]
  },
  {
   "cell_type": "code",
   "execution_count": 53,
   "id": "2442dde1-0ce2-4c84-a9d1-0eb5539834be",
   "metadata": {},
   "outputs": [
    {
     "name": "stdout",
     "output_type": "stream",
     "text": [
      "Channels:\n",
      " - conda-forge\n",
      " - nvidia\n",
      " - pytorch\n",
      "Platform: linux-64\n",
      "Collecting package metadata (repodata.json): done\n",
      "Solving environment: done\n",
      "\n",
      "# All requested packages already installed.\n",
      "\n"
     ]
    }
   ],
   "source": [
    "!conda install -y onnxruntime"
   ]
  },
  {
   "cell_type": "code",
   "execution_count": 54,
   "id": "b5867737-fca8-4d9f-babc-523af18aed64",
   "metadata": {},
   "outputs": [
    {
     "name": "stdout",
     "output_type": "stream",
     "text": [
      "Requirement already satisfied: setuptools==70.0.0 in /opt/conda/envs/pytorch/lib/python3.11/site-packages (70.0.0)\n",
      "Requirement already satisfied: tensorrt in /opt/conda/envs/pytorch/lib/python3.11/site-packages (10.6.0.post1)\n",
      "Requirement already satisfied: tensorrt-cu12==10.6.0.post1 in /opt/conda/envs/pytorch/lib/python3.11/site-packages (from tensorrt) (10.6.0.post1)\n"
     ]
    }
   ],
   "source": [
    "%%bash\n",
    "\n",
    "# TensorRT installation guide\n",
    "# https://docs.nvidia.com/deeplearning/tensorrt/quick-start-guide/index.html\n",
    "# GitHub repo\n",
    "# https://github.com/nvidia/tensorrt\n",
    "# Downgrading setuptools 'cas of:\n",
    "# https://github.com/pypa/setuptools/issues/4483#issuecomment-2430620456\n",
    "pip install --upgrade setuptools==70.0.0\n",
    "pip install tensorrt"
   ]
  },
  {
   "cell_type": "code",
   "execution_count": 55,
   "id": "fd0f1441-e3e8-4c07-ae0a-822786490cc5",
   "metadata": {},
   "outputs": [
    {
     "name": "stdout",
     "output_type": "stream",
     "text": [
      "onnx                               1.17.0\n",
      "onnxruntime-gpu                    1.20.1\n"
     ]
    }
   ],
   "source": [
    "!pip list | grep onnx"
   ]
  },
  {
   "cell_type": "code",
   "execution_count": 56,
   "id": "ff12e8ed-cc4d-4931-8822-3fec56462e59",
   "metadata": {},
   "outputs": [
    {
     "name": "stdout",
     "output_type": "stream",
     "text": [
      "tensorrt                           10.6.0.post1\n",
      "tensorrt-cu12                      10.6.0.post1\n",
      "tensorrt-cu12-bindings             10.6.0.post1\n",
      "tensorrt-cu12-libs                 10.6.0.post1\n"
     ]
    }
   ],
   "source": [
    "!pip list | grep tensor"
   ]
  },
  {
   "cell_type": "code",
   "execution_count": 57,
   "id": "eea5e62e",
   "metadata": {},
   "outputs": [
    {
     "name": "stdout",
     "output_type": "stream",
     "text": [
      "setuptools                         70.0.0\n"
     ]
    }
   ],
   "source": [
    "!pip list | grep setup"
   ]
  },
  {
   "cell_type": "code",
   "execution_count": 58,
   "id": "e39ca442-6b2c-47fa-af68-9db46d21e70c",
   "metadata": {},
   "outputs": [
    {
     "name": "stdout",
     "output_type": "stream",
     "text": [
      "#define CUDNN_MAJOR 8\n",
      "#define CUDNN_MINOR 9\n",
      "#define CUDNN_PATCHLEVEL 7\n",
      "--\n",
      "#define CUDNN_VERSION (CUDNN_MAJOR * 1000 + CUDNN_MINOR * 100 + CUDNN_PATCHLEVEL)\n",
      "\n",
      "/* cannot use constexpr here since this is a C-only file */\n"
     ]
    }
   ],
   "source": [
    "!cat /usr/local/cuda/include/cudnn_version.h | grep CUDNN_MAJOR -A 2"
   ]
  },
  {
   "cell_type": "code",
   "execution_count": 59,
   "id": "56604b22-b6b1-4e3f-9d3f-ac92534cc796",
   "metadata": {},
   "outputs": [
    {
     "data": {
      "text/plain": [
       "'10.6.0.post1'"
      ]
     },
     "execution_count": 59,
     "metadata": {},
     "output_type": "execute_result"
    }
   ],
   "source": [
    "import tensorrt\n",
    "tensorrt.__version__"
   ]
  },
  {
   "cell_type": "code",
   "execution_count": 61,
   "id": "44497149-eca9-4761-ab1a-d679da47fb7f",
   "metadata": {},
   "outputs": [],
   "source": [
    "# Export the model.\n",
    "torch.onnx.export(\n",
    "    model,              # model being run\n",
    "    x_sample,                  # model input (or a tuple for multiple inputs)\n",
    "    'simple-iris.onnx',        # where to save the model (can be a file or file-like object)\n",
    "    export_params=True,        # store the trained parameter weights inside the model file\n",
    "    opset_version=20,          # the ONNX version to export the model to\n",
    "    do_constant_folding=True,  # whether to execute constant folding for optimization\n",
    "    input_names = ['iris_input'],   # the model's input names\n",
    "    output_names = ['iris_output'], # the model's output names\n",
    "    dynamic_axes={\n",
    "        'iris_input' : {0 : 'batch_size'},    # variable length axes.\n",
    "        'iris_output' : {0 : 'batch_size'},\n",
    "    },\n",
    ")"
   ]
  },
  {
   "cell_type": "markdown",
   "id": "127ee254-4bc8-45d6-a0a2-aba1e664af36",
   "metadata": {},
   "source": [
    "## Using an ONNX Model"
   ]
  },
  {
   "cell_type": "code",
   "execution_count": 62,
   "id": "1ae355cd-4508-4f09-ace0-5231ff39dfa6",
   "metadata": {},
   "outputs": [],
   "source": [
    "import onnx\n",
    "import onnxruntime as ort"
   ]
  },
  {
   "cell_type": "code",
   "execution_count": 63,
   "id": "cc135c94-9aa4-45b5-a101-2c3c74ec9739",
   "metadata": {},
   "outputs": [],
   "source": [
    "onnx_model = onnx.load('simple-iris.onnx')\n",
    "\n",
    "# Verify the model’s structure and confirm that the model has a valid schema.\n",
    "# The validity of the ONNX graph is verified by checking the model’s version,\n",
    "# the graph’s structure, as well as the nodes and their inputs and outputs.\n",
    "onnx.checker.check_model(onnx_model)"
   ]
  },
  {
   "cell_type": "code",
   "execution_count": 64,
   "id": "3b3a42f2-0a4d-4208-9980-50bb4b20aea0",
   "metadata": {},
   "outputs": [
    {
     "name": "stdout",
     "output_type": "stream",
     "text": [
      "Wed Nov 27 01:53:03 2024       \n",
      "+-----------------------------------------------------------------------------------------+\n",
      "| NVIDIA-SMI 550.127.05             Driver Version: 550.127.05     CUDA Version: 12.4     |\n",
      "|-----------------------------------------+------------------------+----------------------+\n",
      "| GPU  Name                 Persistence-M | Bus-Id          Disp.A | Volatile Uncorr. ECC |\n",
      "| Fan  Temp   Perf          Pwr:Usage/Cap |           Memory-Usage | GPU-Util  Compute M. |\n",
      "|                                         |                        |               MIG M. |\n",
      "|=========================================+========================+======================|\n",
      "|   0  NVIDIA L40S                    On  |   00000000:30:00.0 Off |                    0 |\n",
      "| N/A   38C    P0             81W /  350W |    1016MiB /  46068MiB |      0%      Default |\n",
      "|                                         |                        |                  N/A |\n",
      "+-----------------------------------------+------------------------+----------------------+\n",
      "                                                                                         \n",
      "+-----------------------------------------------------------------------------------------+\n",
      "| Processes:                                                                              |\n",
      "|  GPU   GI   CI        PID   Type   Process name                              GPU Memory |\n",
      "|        ID   ID                                                               Usage      |\n",
      "|=========================================================================================|\n",
      "|    0   N/A  N/A      5037      C   /opt/conda/envs/pytorch/bin/python            448MiB |\n",
      "|    0   N/A  N/A      5824      C   /opt/conda/envs/pytorch/bin/python            554MiB |\n",
      "+-----------------------------------------------------------------------------------------+\n"
     ]
    }
   ],
   "source": [
    "!nvidia-smi"
   ]
  },
  {
   "cell_type": "code",
   "execution_count": 65,
   "id": "5eb25c2f-7907-4520-a61f-a6dbea0024cd",
   "metadata": {},
   "outputs": [
    {
     "data": {
      "text/plain": [
       "['TensorrtExecutionProvider', 'CUDAExecutionProvider', 'CPUExecutionProvider']"
      ]
     },
     "execution_count": 65,
     "metadata": {},
     "output_type": "execute_result"
    }
   ],
   "source": [
    "ort.get_available_providers()"
   ]
  },
  {
   "cell_type": "code",
   "execution_count": 66,
   "id": "28226a8d-61e8-4182-a578-db87ef24c18c",
   "metadata": {},
   "outputs": [
    {
     "data": {
      "text/plain": [
       "'1.20.1'"
      ]
     },
     "execution_count": 66,
     "metadata": {},
     "output_type": "execute_result"
    }
   ],
   "source": [
    "ort.__version__"
   ]
  },
  {
   "cell_type": "code",
   "execution_count": 67,
   "id": "9473d25a-be04-483d-b47b-ffe51f7858f7",
   "metadata": {},
   "outputs": [
    {
     "data": {
      "text/plain": [
       "'GPU'"
      ]
     },
     "execution_count": 67,
     "metadata": {},
     "output_type": "execute_result"
    }
   ],
   "source": [
    "ort.get_device()"
   ]
  },
  {
   "cell_type": "code",
   "execution_count": 69,
   "id": "d5d2fe26-700b-4242-909a-ed5e1955e871",
   "metadata": {},
   "outputs": [],
   "source": [
    "ort_session = ort.InferenceSession(\n",
    "    'simple-iris.onnx',\n",
    "    providers=['CUDAExecutionProvider'],\n",
    ")"
   ]
  },
  {
   "cell_type": "code",
   "execution_count": 70,
   "id": "7f53421d-50aa-492a-847a-45f32f171cf6",
   "metadata": {},
   "outputs": [],
   "source": [
    "ort_session = ort.InferenceSession(\n",
    "    'simple-iris.onnx',\n",
    "    providers=['TensorrtExecutionProvider'],\n",
    ")"
   ]
  },
  {
   "cell_type": "code",
   "execution_count": 71,
   "id": "424f4e3a-410c-4498-93be-9dde85234937",
   "metadata": {},
   "outputs": [
    {
     "data": {
      "text/plain": [
       "True"
      ]
     },
     "execution_count": 71,
     "metadata": {},
     "output_type": "execute_result"
    }
   ],
   "source": [
    "torch.backends.cudnn.enabled"
   ]
  },
  {
   "cell_type": "code",
   "execution_count": 72,
   "id": "3850c488-1691-44f1-a9be-eb7c5a16af6b",
   "metadata": {},
   "outputs": [
    {
     "data": {
      "text/plain": [
       "90300"
      ]
     },
     "execution_count": 72,
     "metadata": {},
     "output_type": "execute_result"
    }
   ],
   "source": [
    "torch.backends.cudnn.version()"
   ]
  },
  {
   "cell_type": "code",
   "execution_count": 73,
   "id": "4c10bcd6-9305-401f-b954-662a1c95a403",
   "metadata": {},
   "outputs": [
    {
     "name": "stdout",
     "output_type": "stream",
     "text": [
      "Torch library path: /opt/conda/envs/pytorch/lib/python3.11/site-packages/torch/_C.cpython-311-x86_64-linux-gnu.so\n",
      "\n",
      "Dependencies:\n",
      "\tlibcudnn.so.9 => /opt/conda/envs/pytorch/lib/python3.11/site-packages/torch/lib/libcudnn.so.9 (0x0000754c42c00000)\n"
     ]
    }
   ],
   "source": [
    "import torch._C as _C\n",
    "torch_lib_path = _C.__file__\n",
    "print(\"Torch library path:\", torch_lib_path)\n",
    "print(\"\\nDependencies:\")\n",
    "!ldd {torch_lib_path} | grep cudnn"
   ]
  },
  {
   "cell_type": "code",
   "execution_count": 74,
   "id": "f34d0329-48ab-4b83-b6a5-0cadd793a481",
   "metadata": {},
   "outputs": [
    {
     "name": "stdout",
     "output_type": "stream",
     "text": [
      "/opt/conda/envs/pytorch/bin/pip\n"
     ]
    }
   ],
   "source": [
    "!which pip"
   ]
  },
  {
   "cell_type": "code",
   "execution_count": 75,
   "id": "6119999b-464e-4dd9-a199-b8b0d3602eb5",
   "metadata": {},
   "outputs": [
    {
     "data": {
      "text/plain": [
       "([<onnxruntime.capi.onnxruntime_pybind11_state.NodeArg at 0x73e44f7b9df0>],\n",
       " [<onnxruntime.capi.onnxruntime_pybind11_state.NodeArg at 0x73e44f7b8a70>])"
      ]
     },
     "execution_count": 75,
     "metadata": {},
     "output_type": "execute_result"
    }
   ],
   "source": [
    "ort_session.get_inputs(), ort_session.get_outputs()"
   ]
  },
  {
   "cell_type": "code",
   "execution_count": 76,
   "id": "aaa1bfde-455e-4b9c-9cdc-44a66f97b467",
   "metadata": {},
   "outputs": [
    {
     "data": {
      "text/plain": [
       "'iris_input'"
      ]
     },
     "execution_count": 76,
     "metadata": {},
     "output_type": "execute_result"
    }
   ],
   "source": [
    "input_name = ort_session.get_inputs()[0].name\n",
    "input_name"
   ]
  },
  {
   "cell_type": "code",
   "execution_count": 77,
   "id": "662a7527-621c-463d-8c14-546bfe42d64f",
   "metadata": {},
   "outputs": [
    {
     "data": {
      "text/plain": [
       "'iris_output'"
      ]
     },
     "execution_count": 77,
     "metadata": {},
     "output_type": "execute_result"
    }
   ],
   "source": [
    "output_name = ort_session.get_outputs()[0].name\n",
    "output_name"
   ]
  },
  {
   "cell_type": "code",
   "execution_count": 78,
   "id": "ad9582bf-0c8d-425e-84f2-6282d3cb1441",
   "metadata": {},
   "outputs": [
    {
     "data": {
      "text/plain": [
       "[array([[-2.5866406,  5.797317 , -2.4929612]], dtype=float32)]"
      ]
     },
     "execution_count": 78,
     "metadata": {},
     "output_type": "execute_result"
    }
   ],
   "source": [
    "pred_onx = ort_session.run([output_name], {input_name: np.array([[0, 0]]).astype(np.float32)})\n",
    "pred_onx"
   ]
  },
  {
   "cell_type": "code",
   "execution_count": 79,
   "id": "ba14846a-14e7-4d77-aecf-66c1d7b13b98",
   "metadata": {},
   "outputs": [
    {
     "data": {
      "text/plain": [
       "[array([[-2.5866406,  5.7973175, -2.4929612],\n",
       "        [-3.0085957,  5.8048453, -2.0900805]], dtype=float32)]"
      ]
     },
     "execution_count": 79,
     "metadata": {},
     "output_type": "execute_result"
    }
   ],
   "source": [
    "madeup_batch = np.array(\n",
    "    [\n",
    "        [0, 0],\n",
    "        [0.1, 0.1],\n",
    "    ]\n",
    "    ).astype(np.float32)\n",
    "pred_onx = ort_session.run([output_name], {input_name:madeup_batch})\n",
    "pred_onx"
   ]
  },
  {
   "cell_type": "code",
   "execution_count": null,
   "id": "8f6588d5-ae3f-4246-b4a0-36031cfd57b2",
   "metadata": {},
   "outputs": [],
   "source": []
  }
 ],
 "metadata": {
  "kernelspec": {
   "display_name": "Python 3 (ipykernel)",
   "language": "python",
   "name": "python3"
  },
  "language_info": {
   "codemirror_mode": {
    "name": "ipython",
    "version": 3
   },
   "file_extension": ".py",
   "mimetype": "text/x-python",
   "name": "python",
   "nbconvert_exporter": "python",
   "pygments_lexer": "ipython3",
   "version": "3.11.10"
  }
 },
 "nbformat": 4,
 "nbformat_minor": 5
}
