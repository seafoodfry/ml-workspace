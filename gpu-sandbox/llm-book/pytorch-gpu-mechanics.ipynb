{
 "cells": [
  {
   "cell_type": "code",
   "execution_count": 1,
   "id": "75f395f9-a6f1-4af4-a10c-37011a236b2d",
   "metadata": {},
   "outputs": [],
   "source": [
    "import time"
   ]
  },
  {
   "cell_type": "code",
   "execution_count": 2,
   "id": "5acb1893-bc03-4aec-bfa5-1a58f4a96036",
   "metadata": {},
   "outputs": [
    {
     "name": "stdout",
     "output_type": "stream",
     "text": [
      "Elapsed time: 50.034759 seconds\n"
     ]
    }
   ],
   "source": [
    "start = time.perf_counter()\n",
    "\n",
    "import torch\n",
    "\n",
    "end = time.perf_counter()\n",
    "print(f\"Elapsed time: {end - start:.6f} seconds\")"
   ]
  },
  {
   "cell_type": "code",
   "execution_count": 70,
   "id": "43c96f5c-e5de-4ad1-b0e9-b17678d1719b",
   "metadata": {},
   "outputs": [],
   "source": [
    "import matplotlib.pyplot as plt\n",
    "import numpy as np\n",
    "import pandas as pd\n",
    "import seaborn as sns\n",
    "\n",
    "from timeit import timeit\n",
    "from tqdm import tqdm"
   ]
  },
  {
   "cell_type": "code",
   "execution_count": 5,
   "id": "a2173ceb-d514-4e51-970c-37f44d3718da",
   "metadata": {},
   "outputs": [],
   "source": [
    "if not torch.cuda.is_available():\n",
    "    raise RuntimeError(\"CUDA not available. Please ensure your PyTorch installation supports GPU.\")"
   ]
  },
  {
   "cell_type": "code",
   "execution_count": 6,
   "id": "aa8c91ee-253f-4d4b-b418-308ac502a832",
   "metadata": {},
   "outputs": [],
   "source": [
    "sizes = [32, 64, 128, 256, 512, 1024, 2048, 4096]"
   ]
  },
  {
   "cell_type": "code",
   "execution_count": 10,
   "id": "688f2355-211f-49a4-be0e-e46c1fc25f24",
   "metadata": {},
   "outputs": [],
   "source": [
    "def dummy():\n",
    "    time.sleep(1)"
   ]
  },
  {
   "cell_type": "code",
   "execution_count": 11,
   "id": "a5a835fc-f452-498b-817a-d647c723d5cf",
   "metadata": {},
   "outputs": [
    {
     "data": {
      "text/plain": [
       "3.000271494999879"
      ]
     },
     "execution_count": 11,
     "metadata": {},
     "output_type": "execute_result"
    }
   ],
   "source": [
    "timeit(dummy, number=3)"
   ]
  },
  {
   "cell_type": "code",
   "execution_count": 19,
   "id": "93162845-a2f8-43b8-a319-c607efb3ceb9",
   "metadata": {},
   "outputs": [
    {
     "data": {
      "text/plain": [
       "'cuda'"
      ]
     },
     "execution_count": 19,
     "metadata": {},
     "output_type": "execute_result"
    }
   ],
   "source": [
    "if torch.cuda.is_available():\n",
    "    _device = 'cuda'\n",
    "elif torch.backends.mps.is_available():\n",
    "    _device = 'mps'\n",
    "else:\n",
    "    _device = 'cpu'\n",
    "\n",
    "_device"
   ]
  },
  {
   "cell_type": "code",
   "execution_count": 20,
   "id": "ab6c9eaa-2fbf-423b-b9b6-b78724e134eb",
   "metadata": {},
   "outputs": [
    {
     "data": {
      "text/plain": [
       "device(type='cuda')"
      ]
     },
     "execution_count": 20,
     "metadata": {},
     "output_type": "execute_result"
    }
   ],
   "source": [
    "device = torch.device(_device)\n",
    "device"
   ]
  },
  {
   "cell_type": "code",
   "execution_count": 48,
   "id": "05d0eeee-8a2d-45fe-977c-bfe6b8110539",
   "metadata": {},
   "outputs": [],
   "source": [
    "def print_tensor_memory(x):\n",
    "    # element_size() gives bytes per element\n",
    "    memory_bytes = x.element_size() * x.nelement()\n",
    "    print(f\"Memory usage: {memory_bytes / 1024 / 1024:.2f} MB\")"
   ]
  },
  {
   "cell_type": "code",
   "execution_count": 58,
   "id": "6176f038-74f8-4f29-93a9-e4e3ace496b8",
   "metadata": {},
   "outputs": [],
   "source": [
    "def warm_gpu():\n",
    "    '''\n",
    "    Warm up the GPU to ensure it's at full clock speed.\n",
    "    Modern GPUs use dynamic frequency scaling (similar to CPU turbo boost) to save power.\n",
    "    When idle, they run at lower clock speeds. The first operation might run slower because\n",
    "    the GPU needs to \"wake up\" and ramp up to full speed. This is called \"cold start\" latency.\n",
    "    '''\n",
    "    start = torch.cuda.Event(enable_timing=True)\n",
    "    end = torch.cuda.Event(enable_timing=True)\n",
    "\n",
    "    start.record()\n",
    "    for _ in range(10):\n",
    "        _size = 10_000\n",
    "        _a = torch.randn(_size, _size, device=device)\n",
    "        _b = torch.randn(_size, _size).to(device)\n",
    "        _ = _a @ _b\n",
    "        torch.cuda.synchronize()\n",
    "        torch.cuda.empty_cache()\n",
    "    end.record()\n",
    "\n",
    "    elapsed_time_ms = start.elapsed_time(end)\n",
    "    print(f'warming up the GPU took {elapsed_time_ms/1_000:.03f}s')"
   ]
  },
  {
   "cell_type": "code",
   "execution_count": 59,
   "id": "a08d73ae-923e-4d29-b4bd-931b8362920f",
   "metadata": {},
   "outputs": [
    {
     "name": "stdout",
     "output_type": "stream",
     "text": [
      "warming up the GPU took 6.351s\n"
     ]
    }
   ],
   "source": [
    "warm_gpu()"
   ]
  },
  {
   "cell_type": "markdown",
   "id": "8c26eddb-1373-430d-8436-a2aff8981bde",
   "metadata": {},
   "source": [
    "# Benchmarking Tensor Creation on CPU"
   ]
  },
  {
   "cell_type": "code",
   "execution_count": 66,
   "id": "8ca8d041-3312-48ab-a5d8-b6c08ebe14ad",
   "metadata": {},
   "outputs": [
    {
     "name": "stdout",
     "output_type": "stream",
     "text": [
      "warming up the GPU took 6.330s\n"
     ]
    },
    {
     "name": "stderr",
     "output_type": "stream",
     "text": [
      "Size 10000x10000: 100%|█████████████████████████████████████████████████████████████████████████| 10/10 [00:05<00:00,  1.78it/s]"
     ]
    },
    {
     "name": "stdout",
     "output_type": "stream",
     "text": [
      "Average time over 10 runs: 0.541ms ± 0.001ms\n"
     ]
    },
    {
     "name": "stderr",
     "output_type": "stream",
     "text": [
      "\n"
     ]
    }
   ],
   "source": [
    "# Warm up the GPU to ensure it's at full clock speed.\n",
    "warm_gpu()\n",
    "\n",
    "# Multiple runs for more stable measurements.\n",
    "n_runs = 10\n",
    "times = []\n",
    "_size = 10_000\n",
    "\n",
    "for _ in tqdm(range(n_runs), desc=f'Size {_size}x{_size}'):\n",
    "    start = time.perf_counter()\n",
    "    _ = torch.randn(_size, _size)\n",
    "    end = time.perf_counter()\n",
    "    \n",
    "    times.append(end - start)\n",
    "\n",
    "avg_time = sum(times) / len(times)\n",
    "std_time = (sum((t - avg_time) ** 2 for t in times) / len(times)) ** 0.5\n",
    "\n",
    "print(f'Average time over {n_runs} runs: {avg_time:.3f}ms ± {std_time:.3f}ms')"
   ]
  },
  {
   "cell_type": "code",
   "execution_count": 75,
   "id": "695b78fd",
   "metadata": {},
   "outputs": [],
   "source": [
    "def benchmark_tensor_creation(size, n_runs=10):\n",
    "    times = []\n",
    "    \n",
    "    for _ in tqdm(range(n_runs), desc=f'Size {size}x{size}'):\n",
    "        start = time.perf_counter()\n",
    "        _ = torch.randn(size, size)\n",
    "        end = time.perf_counter()\n",
    "        times.append((end - start) * 1000)  # Convert to ms\n",
    "    \n",
    "    avg_time = sum(times) / len(times)\n",
    "    std_time = (sum((t - avg_time) ** 2 for t in times) / len(times)) ** 0.5\n",
    "    \n",
    "    return pd.DataFrame({\n",
    "        'size': [size],\n",
    "        'avg_time_ms': [avg_time],\n",
    "        'std_time_ms': [std_time]\n",
    "    })"
   ]
  },
  {
   "cell_type": "code",
   "execution_count": 76,
   "id": "77bf87bb-d202-47d8-8a95-52694997b4a3",
   "metadata": {},
   "outputs": [
    {
     "name": "stderr",
     "output_type": "stream",
     "text": [
      "Size 1000x1000: 100%|██████████████████████████████████████████████████████████████████████████| 10/10 [00:00<00:00, 236.57it/s]\n",
      "Size 5000x5000: 100%|███████████████████████████████████████████████████████████████████████████| 10/10 [00:01<00:00,  7.15it/s]\n",
      "Size 10000x10000: 100%|█████████████████████████████████████████████████████████████████████████| 10/10 [00:05<00:00,  1.80it/s]\n",
      "Size 15000x15000: 100%|█████████████████████████████████████████████████████████████████████████| 10/10 [00:12<00:00,  1.25s/it]\n",
      "Size 20000x20000: 100%|█████████████████████████████████████████████████████████████████████████| 10/10 [00:22<00:00,  2.23s/it]\n",
      "Size 30000x30000: 100%|█████████████████████████████████████████████████████████████████████████| 10/10 [00:50<00:00,  5.02s/it]\n"
     ]
    }
   ],
   "source": [
    "# Test different size matrices.\n",
    "sizes = [1_000, 5_000, 10_000, 15_000, 20_000, 30_000]\n",
    "results = pd.concat([benchmark_tensor_creation(size) for size in sizes])"
   ]
  },
  {
   "cell_type": "code",
   "execution_count": 81,
   "id": "8c0e1539-f2c9-4487-864c-029900371a63",
   "metadata": {},
   "outputs": [
    {
     "data": {
      "image/png": "[encoded data removed]",
      "text/plain": [
       "<Figure size 600x300 with 1 Axes>"
      ]
     },
     "metadata": {},
     "output_type": "display_data"
    },
    {
     "name": "stdout",
     "output_type": "stream",
     "text": [
      "Detailed Results:\n"
     ]
    },
    {
     "data": {
      "text/html": [
       "<div>\n",
       "<style scoped>\n",
       "    .dataframe tbody tr th:only-of-type {\n",
       "        vertical-align: middle;\n",
       "    }\n",
       "\n",
       "    .dataframe tbody tr th {\n",
       "        vertical-align: top;\n",
       "    }\n",
       "\n",
       "    .dataframe thead th {\n",
       "        text-align: right;\n",
       "    }\n",
       "</style>\n",
       "<table border=\"1\" class=\"dataframe\">\n",
       "  <thead>\n",
       "    <tr style=\"text-align: right;\">\n",
       "      <th></th>\n",
       "      <th>size</th>\n",
       "      <th>avg_time_ms</th>\n",
       "      <th>std_time_ms</th>\n",
       "    </tr>\n",
       "  </thead>\n",
       "  <tbody>\n",
       "    <tr>\n",
       "      <th>0</th>\n",
       "      <td>1000</td>\n",
       "      <td>4.218414</td>\n",
       "      <td>0.586573</td>\n",
       "    </tr>\n",
       "    <tr>\n",
       "      <th>1</th>\n",
       "      <td>5000</td>\n",
       "      <td>134.724479</td>\n",
       "      <td>0.586300</td>\n",
       "    </tr>\n",
       "    <tr>\n",
       "      <th>2</th>\n",
       "      <td>10000</td>\n",
       "      <td>537.909891</td>\n",
       "      <td>0.585343</td>\n",
       "    </tr>\n",
       "    <tr>\n",
       "      <th>3</th>\n",
       "      <td>15000</td>\n",
       "      <td>1210.831102</td>\n",
       "      <td>0.859623</td>\n",
       "    </tr>\n",
       "    <tr>\n",
       "      <th>4</th>\n",
       "      <td>20000</td>\n",
       "      <td>2153.627870</td>\n",
       "      <td>0.825242</td>\n",
       "    </tr>\n",
       "    <tr>\n",
       "      <th>5</th>\n",
       "      <td>30000</td>\n",
       "      <td>4840.159727</td>\n",
       "      <td>4.740422</td>\n",
       "    </tr>\n",
       "  </tbody>\n",
       "</table>\n",
       "</div>"
      ],
      "text/plain": [
       "    size  avg_time_ms  std_time_ms\n",
       "0   1000     4.218414     0.586573\n",
       "1   5000   134.724479     0.586300\n",
       "2  10000   537.909891     0.585343\n",
       "3  15000  1210.831102     0.859623\n",
       "4  20000  2153.627870     0.825242\n",
       "5  30000  4840.159727     4.740422"
      ]
     },
     "execution_count": 81,
     "metadata": {},
     "output_type": "execute_result"
    }
   ],
   "source": [
    "# Make the plot\n",
    "plt.figure(figsize=(6, 3))\n",
    "\n",
    "plt.errorbar(\n",
    "    results['size'], \n",
    "    results['avg_time_ms'],\n",
    "    yerr=results['std_time_ms'],\n",
    "    fmt='o-',  # Points connected by lines\n",
    "    capsize=5,  # Length of the error bar caps\n",
    "    capthick=1,\n",
    "    elinewidth=1,\n",
    "    markersize=8\n",
    ")\n",
    "\n",
    "plt.xlabel('Matrix Size (N×N)')\n",
    "plt.ylabel('Creation Time (ms)')\n",
    "plt.title('Tensor Creation Time vs Size')\n",
    "plt.grid(True, alpha=0.3)\n",
    "\n",
    "# Add exact values above each point\n",
    "for idx, row in results.iterrows():\n",
    "    plt.annotate(\n",
    "        f'{row[\"avg_time_ms\"]:.1f}±{row[\"std_time_ms\"]:.1f}ms',\n",
    "        (row['size'], row['avg_time_ms']),\n",
    "        textcoords=\"offset points\",\n",
    "        xytext=(0,10),\n",
    "        ha='center'\n",
    "    )\n",
    "\n",
    "plt.tight_layout()\n",
    "plt.show()\n",
    "\n",
    "# Print the numeric results too\n",
    "print(\"Detailed Results:\")\n",
    "\n",
    "results = results.reset_index(drop=True)\n",
    "results"
   ]
  },
  {
   "cell_type": "code",
   "execution_count": 80,
   "id": "f7c205e7-c3b5-4eaa-b368-f1f2c66d5705",
   "metadata": {},
   "outputs": [
    {
     "data": {
      "text/plain": [
       "4.218413500166207"
      ]
     },
     "execution_count": 80,
     "metadata": {},
     "output_type": "execute_result"
    }
   ],
   "source": [
    "results['avg_time_ms'].iloc[0]"
   ]
  },
  {
   "cell_type": "code",
   "execution_count": 86,
   "id": "8165ce05-edf3-4079-b81f-5e1ed919d2a9",
   "metadata": {},
   "outputs": [
    {
     "name": "stdout",
     "output_type": "stream",
     "text": [
      "run of size 5_000 was 31.937x slower than the baseline\n",
      "run of size 10_000 was 127.515x slower than the baseline\n",
      "run of size 15_000 was 287.035x slower than the baseline\n",
      "run of size 20_000 was 510.530x slower than the baseline\n",
      "run of size 30_000 was 1147.389x slower than the baseline\n"
     ]
    }
   ],
   "source": [
    "for idx in range(1, len(results)):\n",
    "    baseline = results['avg_time_ms'].iloc[0]\n",
    "    comparison = results['avg_time_ms'].iloc[idx]\n",
    "    ratio = comparison / baseline\n",
    "    comparison_size = results['size'].iloc[idx]\n",
    "    \n",
    "    print(f'run of size {comparison_size:_} was {ratio:.03f}x slower than the baseline')"
   ]
  },
  {
   "cell_type": "code",
   "execution_count": 89,
   "id": "3a97feb6-74e3-40b3-b829-100b7bd77ed4",
   "metadata": {},
   "outputs": [],
   "source": [
    "# Add columns for total elements and time per element.\n",
    "results['total_elements'] = results['size'] ** 2\n",
    "results['time_per_element_ns'] = (results['avg_time_ms'] * 1e6) / results['total_elements']  # Convert to nanoseconds\n",
    "\n",
    "# Create comparison metrics.\n",
    "baseline_size = results['size'].iloc[0]\n",
    "baseline_time = results['avg_time_ms'].iloc[0]\n",
    "baseline_elements = results['total_elements'].iloc[0]\n",
    "baseline_time_per_element = results['time_per_element_ns'].iloc[0]\n",
    "\n",
    "comparisons = pd.DataFrame({\n",
    "    'size': results['size'],\n",
    "    'total_elements': results['total_elements'],\n",
    "    'absolute_time_ratio': results['avg_time_ms'] / baseline_time,\n",
    "    'elements_ratio': results['total_elements'] / baseline_elements,\n",
    "    'time_per_element_ratio': results['time_per_element_ns'] / baseline_time_per_element\n",
    "})"
   ]
  },
  {
   "cell_type": "code",
   "execution_count": 99,
   "id": "a0536a7a-49e2-45d6-9d62-074f285588ea",
   "metadata": {},
   "outputs": [
    {
     "data": {
      "text/html": [
       "<div>\n",
       "<style scoped>\n",
       "    .dataframe tbody tr th:only-of-type {\n",
       "        vertical-align: middle;\n",
       "    }\n",
       "\n",
       "    .dataframe tbody tr th {\n",
       "        vertical-align: top;\n",
       "    }\n",
       "\n",
       "    .dataframe thead th {\n",
       "        text-align: right;\n",
       "    }\n",
       "</style>\n",
       "<table border=\"1\" class=\"dataframe\">\n",
       "  <thead>\n",
       "    <tr style=\"text-align: right;\">\n",
       "      <th></th>\n",
       "      <th>size</th>\n",
       "      <th>total_elements</th>\n",
       "      <th>absolute_time_ratio</th>\n",
       "      <th>elements_ratio</th>\n",
       "      <th>time_per_element_ratio</th>\n",
       "    </tr>\n",
       "  </thead>\n",
       "  <tbody>\n",
       "    <tr>\n",
       "      <th>0</th>\n",
       "      <td>1000</td>\n",
       "      <td>1000000</td>\n",
       "      <td>1.000</td>\n",
       "      <td>1.0</td>\n",
       "      <td>1.000</td>\n",
       "    </tr>\n",
       "    <tr>\n",
       "      <th>1</th>\n",
       "      <td>5000</td>\n",
       "      <td>25000000</td>\n",
       "      <td>31.937</td>\n",
       "      <td>25.0</td>\n",
       "      <td>1.277</td>\n",
       "    </tr>\n",
       "    <tr>\n",
       "      <th>2</th>\n",
       "      <td>10000</td>\n",
       "      <td>100000000</td>\n",
       "      <td>127.515</td>\n",
       "      <td>100.0</td>\n",
       "      <td>1.275</td>\n",
       "    </tr>\n",
       "    <tr>\n",
       "      <th>3</th>\n",
       "      <td>15000</td>\n",
       "      <td>225000000</td>\n",
       "      <td>287.035</td>\n",
       "      <td>225.0</td>\n",
       "      <td>1.276</td>\n",
       "    </tr>\n",
       "    <tr>\n",
       "      <th>4</th>\n",
       "      <td>20000</td>\n",
       "      <td>400000000</td>\n",
       "      <td>510.530</td>\n",
       "      <td>400.0</td>\n",
       "      <td>1.276</td>\n",
       "    </tr>\n",
       "    <tr>\n",
       "      <th>5</th>\n",
       "      <td>30000</td>\n",
       "      <td>900000000</td>\n",
       "      <td>1147.389</td>\n",
       "      <td>900.0</td>\n",
       "      <td>1.275</td>\n",
       "    </tr>\n",
       "  </tbody>\n",
       "</table>\n",
       "</div>"
      ],
      "text/plain": [
       "    size  total_elements  absolute_time_ratio  elements_ratio  \\\n",
       "0   1000         1000000                1.000             1.0   \n",
       "1   5000        25000000               31.937            25.0   \n",
       "2  10000       100000000              127.515           100.0   \n",
       "3  15000       225000000              287.035           225.0   \n",
       "4  20000       400000000              510.530           400.0   \n",
       "5  30000       900000000             1147.389           900.0   \n",
       "\n",
       "   time_per_element_ratio  \n",
       "0                   1.000  \n",
       "1                   1.277  \n",
       "2                   1.275  \n",
       "3                   1.276  \n",
       "4                   1.276  \n",
       "5                   1.275  "
      ]
     },
     "execution_count": 99,
     "metadata": {},
     "output_type": "execute_result"
    }
   ],
   "source": [
    "comparisons.round(3)"
   ]
  },
  {
   "cell_type": "code",
   "execution_count": 96,
   "id": "65be6fe6",
   "metadata": {},
   "outputs": [
    {
     "name": "stdout",
     "output_type": "stream",
     "text": [
      "Baseline: 1_000x1_000 matrix\n",
      "\n",
      "Comparisons:\n",
      "\n",
      "Matrix size: 5_000.0x5_000.0\n",
      "- Total elements: 25_000_000.0 (25.0x more than baseline)\n",
      "- Absolute time: 31.94x slower than baseline\n",
      "- Time per element: 1.28x slower than baseline\n",
      "\n",
      "Matrix size: 10_000.0x10_000.0\n",
      "- Total elements: 100_000_000.0 (100.0x more than baseline)\n",
      "- Absolute time: 127.51x slower than baseline\n",
      "- Time per element: 1.28x slower than baseline\n",
      "\n",
      "Matrix size: 15_000.0x15_000.0\n",
      "- Total elements: 225_000_000.0 (225.0x more than baseline)\n",
      "- Absolute time: 287.03x slower than baseline\n",
      "- Time per element: 1.28x slower than baseline\n",
      "\n",
      "Matrix size: 20_000.0x20_000.0\n",
      "- Total elements: 400_000_000.0 (400.0x more than baseline)\n",
      "- Absolute time: 510.53x slower than baseline\n",
      "- Time per element: 1.28x slower than baseline\n",
      "\n",
      "Matrix size: 30_000.0x30_000.0\n",
      "- Total elements: 900_000_000.0 (900.0x more than baseline)\n",
      "- Absolute time: 1147.39x slower than baseline\n",
      "- Time per element: 1.27x slower than baseline\n"
     ]
    }
   ],
   "source": [
    "print(f\"Baseline: {baseline_size:_}x{baseline_size:_} matrix\")\n",
    "print(\"\\nComparisons:\")\n",
    "for idx, row in comparisons.iloc[1:].iterrows():\n",
    "    print(f\"\\nMatrix size: {row['size']:_}x{row['size']:_}\")\n",
    "    print(f\"- Total elements: {row['total_elements']:_} ({row['elements_ratio']:.1f}x more than baseline)\")\n",
    "    print(f\"- Absolute time: {row['absolute_time_ratio']:.2f}x slower than baseline\")\n",
    "    print(f\"- Time per element: {row['time_per_element_ratio']:.2f}x {'slower' if row['time_per_element_ratio'] > 1 else 'faster'} than baseline\")"
   ]
  },
  {
   "cell_type": "code",
   "execution_count": 110,
   "id": "d2223fd1",
   "metadata": {},
   "outputs": [
    {
     "data": {
      "image/png": "[encoded data removed]",
      "text/plain": [
       "<Figure size 900x300 with 2 Axes>"
      ]
     },
     "metadata": {},
     "output_type": "display_data"
    }
   ],
   "source": [
    "# Visualize the relationships.\n",
    "fig, (ax1, ax2) = plt.subplots(1, 2, figsize=(9, 3))\n",
    "\n",
    "# Plot 1: Time vs Elements with theoretical quadratic growth.\n",
    "x = results['total_elements']\n",
    "y = results['avg_time_ms']\n",
    "ax1.scatter(x, y, label='Actual measurements')\n",
    "ax1.set_xlabel('Total Elements')\n",
    "ax1.set_ylabel('Time (ms)')\n",
    "\n",
    "# Add theoretical quadratic growth line.\n",
    "theoretical_quad = (x/x.iloc[0]) * y.iloc[0]  # If growth was perfectly quadratic.\n",
    "ax1.plot(x, theoretical_quad, '--', label='Theoretical quadratic growth', alpha=0.5)\n",
    "\n",
    "# New theoretical line based on larger matrix timing\n",
    "large_matrix_time_per_element = results['time_per_element_ns'].iloc[-1] * 1e-6  # convert back to ms\n",
    "theoretical_large = x * large_matrix_time_per_element\n",
    "ax1.plot(x, theoretical_large, ':', label='Theoretical (based on large matrix)', alpha=0.5)\n",
    "\n",
    "ax1.legend(loc='best')\n",
    "ax1.set_title('Time vs Total Elements')\n",
    "\n",
    "# Plot 2: Time per element.\n",
    "ax2.plot(results['size'], results['time_per_element_ns'], 'o-')\n",
    "ax2.set_xlabel('Matrix Size (NxN)')\n",
    "ax2.set_ylabel('Time per Element (ns)')\n",
    "ax2.set_title('Time per Element vs Matrix Size')\n",
    "ax2.grid(True, alpha=0.3)\n",
    "\n",
    "plt.tight_layout()\n",
    "plt.show()"
   ]
  },
  {
   "cell_type": "markdown",
   "id": "86cecf47-13a2-42e8-b62e-32f78bab1203",
   "metadata": {},
   "source": [
    "The dashed blue line shows theoretical quadratic growth (what you'd expect if doubling elements exactly doubled the time).\n",
    "This suggests there's some additional overhead as matrices get bigger.\n",
    "\n",
    "Right graph suggests two \"regimes\" of performance:\n",
    "\n",
    "1. Small matrices (<5000x5000): ~4.2ns per element\n",
    "1. Large matrices (≥5000x5000): ~5.4ns per element\n",
    "\n",
    "After hitting this threshold, the operation becomes about 28% slower per element (from 4.2ns to 5.4ns).\n",
    "This pattern often suggests memory/cache effects:\n",
    "\n",
    "1. Smaller matrices might fit entirely in CPU cache\n",
    "1. Larger matrices exceed cache size, forcing slower memory access\n",
    "1. Once you're in \"out of cache\" territory, the performance per element stabilizes"
   ]
  },
  {
   "cell_type": "code",
   "execution_count": 104,
   "id": "c6b6f458-1c15-4eb5-a9d5-cb919df76d8f",
   "metadata": {},
   "outputs": [
    {
     "name": "stdout",
     "output_type": "stream",
     "text": [
      "Memory usage: 3.81 MB\n"
     ]
    }
   ],
   "source": [
    "_dummy = torch.randn(1_000, 1_000)\n",
    "print_tensor_memory(_dummy)\n",
    "del _dummy"
   ]
  },
  {
   "cell_type": "code",
   "execution_count": 114,
   "id": "870564c1",
   "metadata": {},
   "outputs": [
    {
     "name": "stdout",
     "output_type": "stream",
     "text": [
      "Memory usage: 95.37 MB\n"
     ]
    }
   ],
   "source": [
    "_dummy = torch.randn(5_000, 5_000)\n",
    "print_tensor_memory(_dummy)\n",
    "del _dummy"
   ]
  },
  {
   "cell_type": "code",
   "execution_count": 105,
   "id": "ed40512b",
   "metadata": {},
   "outputs": [
    {
     "name": "stdout",
     "output_type": "stream",
     "text": [
      "Memory usage: 381.47 MB\n"
     ]
    }
   ],
   "source": [
    "_dummy = torch.randn(10_000, 10_000)\n",
    "print_tensor_memory(_dummy)\n",
    "del _dummy"
   ]
  },
  {
   "cell_type": "code",
   "execution_count": 130,
   "id": "a7ea5435-f8ef-4192-837b-d59e16524620",
   "metadata": {},
   "outputs": [
    {
     "name": "stdout",
     "output_type": "stream",
     "text": [
      "processor\t: 0\n",
      "vendor_id\t: AuthenticAMD\n",
      "cpu family\t: 25\n",
      "model\t\t: 1\n",
      "model name\t: AMD EPYC 7R13 Processor\n",
      "stepping\t: 1\n",
      "microcode\t: 0xa0011d5\n",
      "cpu MHz\t\t: 3244.941\n",
      "cache size\t: 512 KB\n",
      "physical id\t: 0\n",
      "siblings\t: 4\n",
      "core id\t\t: 0\n",
      "cpu cores\t: 2\n",
      "apicid\t\t: 0\n",
      "initial apicid\t: 0\n",
      "fpu\t\t: yes\n",
      "fpu_exception\t: yes\n",
      "cpuid level\t: 16\n",
      "wp\t\t: yes\n",
      "flags\t\t: fpu vme de pse tsc msr pae mce cx8 apic sep mtrr pge mca cmov pat pse36 clflush mmx fxsr sse sse2 ht syscall nx mmxext fxsr_opt pdpe1gb rdtscp lm constant_tsc rep_good nopl nonstop_tsc cpuid extd_apicid aperfmperf tsc_known_freq pni pclmulqdq ssse3 fma cx16 pcid sse4_1 sse4_2 x2apic movbe popcnt aes xsave avx f16c rdrand hypervisor lahf_lm cmp_legacy cr8_legacy abm sse4a misalignsse 3dnowprefetch topoext ssbd ibrs ibpb stibp vmmcall fsgsbase bmi1 avx2 smep bmi2 invpcid rdseed adx smap clflushopt clwb sha_ni xsaveopt xsavec xgetbv1 clzero xsaveerptr rdpru wbnoinvd arat npt nrip_save vaes vpclmulqdq rdpid\n",
      "bugs\t\t: sysret_ss_attrs null_seg spectre_v1 spectre_v2 spec_store_bypass srso\n",
      "bogomips\t: 5300.00\n",
      "TLB size\t: 2560 4K pages\n",
      "clflush size\t: 64\n",
      "cache_alignment\t: 64\n",
      "address sizes\t: 48 bits physical, 48 bits virtual\n",
      "power management:\n",
      "\n",
      "processor\t: 1\n",
      "vendor_id\t: AuthenticAMD\n"
     ]
    }
   ],
   "source": [
    "!head -n 30 /proc/cpuinfo"
   ]
  },
  {
   "cell_type": "code",
   "execution_count": 112,
   "id": "e9a93eed-bb06-4343-ad5a-2f7ab0988a4e",
   "metadata": {},
   "outputs": [
    {
     "name": "stdout",
     "output_type": "stream",
     "text": [
      "L1d cache:                            64 KiB (2 instances)\n",
      "L1i cache:                            64 KiB (2 instances)\n",
      "L2 cache:                             1 MiB (2 instances)\n",
      "L3 cache:                             8 MiB (1 instance)\n"
     ]
    }
   ],
   "source": [
    "!lscpu | grep \"cache\""
   ]
  },
  {
   "cell_type": "code",
   "execution_count": 115,
   "id": "523f56b7",
   "metadata": {},
   "outputs": [
    {
     "name": "stdout",
     "output_type": "stream",
     "text": [
      "Memory usage: 3.81 MB\n"
     ]
    }
   ],
   "source": [
    "_dummy = torch.randn(1_000, 1_000)\n",
    "print_tensor_memory(_dummy)\n",
    "del _dummy"
   ]
  },
  {
   "cell_type": "code",
   "execution_count": 117,
   "id": "55cfbe29",
   "metadata": {},
   "outputs": [
    {
     "name": "stdout",
     "output_type": "stream",
     "text": [
      "Memory usage: 5.49 MB\n"
     ]
    }
   ],
   "source": [
    "_dummy = torch.randn(1_200, 1_200)\n",
    "print_tensor_memory(_dummy)\n",
    "del _dummy"
   ]
  },
  {
   "cell_type": "code",
   "execution_count": 118,
   "id": "26be4329",
   "metadata": {},
   "outputs": [
    {
     "name": "stdout",
     "output_type": "stream",
     "text": [
      "Memory usage: 7.48 MB\n"
     ]
    }
   ],
   "source": [
    "_dummy = torch.randn(1_400, 1_400)\n",
    "print_tensor_memory(_dummy)\n",
    "del _dummy"
   ]
  },
  {
   "cell_type": "code",
   "execution_count": 116,
   "id": "d26066b8",
   "metadata": {},
   "outputs": [
    {
     "name": "stdout",
     "output_type": "stream",
     "text": [
      "Memory usage: 8.58 MB\n"
     ]
    }
   ],
   "source": [
    "_dummy = torch.randn(1_500, 1_500)\n",
    "print_tensor_memory(_dummy)\n",
    "del _dummy"
   ]
  },
  {
   "cell_type": "code",
   "execution_count": 113,
   "id": "768b67a0",
   "metadata": {},
   "outputs": [
    {
     "name": "stdout",
     "output_type": "stream",
     "text": [
      "Memory usage: 15.26 MB\n"
     ]
    }
   ],
   "source": [
    "_dummy = torch.randn(2_000, 2_000)\n",
    "print_tensor_memory(_dummy)\n",
    "del _dummy"
   ]
  },
  {
   "cell_type": "code",
   "execution_count": 127,
   "id": "631ba2ca-5b57-455f-a3c4-b40d52d089c7",
   "metadata": {},
   "outputs": [
    {
     "name": "stderr",
     "output_type": "stream",
     "text": [
      "Size 1000x1000: 100%|██████████████████████████████████████████████████████████████████████████| 10/10 [00:00<00:00, 249.98it/s]\n",
      "Size 1100x1100: 100%|██████████████████████████████████████████████████████████████████████████| 10/10 [00:00<00:00, 208.27it/s]\n",
      "Size 1200x1200: 100%|██████████████████████████████████████████████████████████████████████████| 10/10 [00:00<00:00, 177.57it/s]\n",
      "Size 1300x1300: 100%|██████████████████████████████████████████████████████████████████████████| 10/10 [00:00<00:00, 151.28it/s]\n",
      "Size 1400x1400: 100%|██████████████████████████████████████████████████████████████████████████| 10/10 [00:00<00:00, 130.07it/s]\n",
      "Size 1500x1500: 100%|██████████████████████████████████████████████████████████████████████████| 10/10 [00:00<00:00, 113.54it/s]\n",
      "Size 1600x1600: 100%|███████████████████████████████████████████████████████████████████████████| 10/10 [00:00<00:00, 98.73it/s]\n"
     ]
    }
   ],
   "source": [
    "# Test different size matrices.\n",
    "sizes = [1_000, 1_100, 1_200, 1_300, 1_400, 1_500, 1_600]\n",
    "results = pd.concat([benchmark_tensor_creation(size) for size in sizes])"
   ]
  },
  {
   "cell_type": "code",
   "execution_count": 128,
   "id": "dce15dc7-cd12-4b8f-9326-6865f4e1fab4",
   "metadata": {},
   "outputs": [],
   "source": [
    "# Add columns for total elements and time per element.\n",
    "results['total_elements'] = results['size'] ** 2\n",
    "results['time_per_element_ns'] = (results['avg_time_ms'] * 1e6) / results['total_elements']  # Convert to nanoseconds\n",
    "\n",
    "# Create comparison metrics.\n",
    "baseline_size = results['size'].iloc[0]\n",
    "baseline_time = results['avg_time_ms'].iloc[0]\n",
    "baseline_elements = results['total_elements'].iloc[0]\n",
    "baseline_time_per_element = results['time_per_element_ns'].iloc[0]\n",
    "\n",
    "comparisons = pd.DataFrame({\n",
    "    'size': results['size'],\n",
    "    'total_elements': results['total_elements'],\n",
    "    'absolute_time_ratio': results['avg_time_ms'] / baseline_time,\n",
    "    'elements_ratio': results['total_elements'] / baseline_elements,\n",
    "    'time_per_element_ratio': results['time_per_element_ns'] / baseline_time_per_element\n",
    "})"
   ]
  },
  {
   "cell_type": "code",
   "execution_count": 129,
   "id": "3e61027e-e17d-4c79-bb1e-1761f79ffbad",
   "metadata": {},
   "outputs": [
    {
     "data": {
      "image/png": "[encoded data removed]",
      "text/plain": [
       "<Figure size 900x300 with 2 Axes>"
      ]
     },
     "metadata": {},
     "output_type": "display_data"
    }
   ],
   "source": [
    "# Visualize the relationships.\n",
    "fig, (ax1, ax2) = plt.subplots(1, 2, figsize=(9, 3))\n",
    "\n",
    "# Plot 1: Time vs Elements with theoretical quadratic growth.\n",
    "x = results['total_elements']\n",
    "y = results['avg_time_ms']\n",
    "ax1.scatter(x, y, label='Actual measurements')\n",
    "ax1.set_xlabel('Total Elements')\n",
    "ax1.set_ylabel('Time (ms)')\n",
    "\n",
    "# Add theoretical quadratic growth line.\n",
    "theoretical_quad = (x/x.iloc[0]) * y.iloc[0]  # If growth was perfectly quadratic.\n",
    "ax1.plot(x, theoretical_quad, '--', label='Theoretical quadratic growth', alpha=0.5)\n",
    "\n",
    "# New theoretical line based on larger matrix timing\n",
    "large_matrix_time_per_element = results['time_per_element_ns'].iloc[-1] * 1e-6  # convert back to ms\n",
    "theoretical_large = x * large_matrix_time_per_element\n",
    "ax1.plot(x, theoretical_large, ':', label='Theoretical (based on large matrix)', alpha=0.5)\n",
    "\n",
    "ax1.legend(loc='best')\n",
    "ax1.set_title('Time vs Total Elements')\n",
    "\n",
    "# Plot 2: Time per element.\n",
    "ax2.plot(results['size'], results['time_per_element_ns'], 'o-')\n",
    "ax2.set_xlabel('Matrix Size (NxN)')\n",
    "ax2.set_ylabel('Time per Element (ns)')\n",
    "ax2.set_title('Time per Element vs Matrix Size')\n",
    "ax2.grid(True, alpha=0.3)\n",
    "\n",
    "plt.tight_layout()\n",
    "plt.show()"
   ]
  },
  {
   "cell_type": "markdown",
   "id": "4288358f-897f-4304-9f13-4ca580c89d64",
   "metadata": {},
   "source": [
    "# Benchmarking Tensor Transfer to GPU"
   ]
  },
  {
   "cell_type": "code",
   "execution_count": 46,
   "id": "ed91e4c6-480a-41ea-9a7a-fa9eb88f7b7b",
   "metadata": {},
   "outputs": [
    {
     "name": "stdout",
     "output_type": "stream",
     "text": [
      "each tensor has 50_000x50_000 elements\n",
      "took: 7500.901ms to to a matmul of 2 matrices with 2_500_000_000 elements\n"
     ]
    }
   ],
   "source": [
    "# Warm up the GPU to ensure it's at full clock speed.\n",
    "# Modern GPUs use dynamic frequency scaling (similar to CPU turbo boost) to save power.\n",
    "# When idle, they run at lower clock speeds. The first operation might run slower because\n",
    "# the GPU needs to \"wake up\" and ramp up to full speed. This is called \"cold start\" latency.\n",
    "_size = 10_000\n",
    "_a = torch.randn(_size, _size).to(device)\n",
    "_b = torch.randn(_size, _size).to(device)\n",
    "_ = _a @ _b\n",
    "torch.cuda.synchronize()\n",
    "\n",
    "# Clear the cache to prevent unfair caching advantages.\n",
    "torch.cuda.empty_cache()\n",
    "\n",
    "start = torch.cuda.Event(enable_timing=True)\n",
    "end = torch.cuda.Event(enable_timing=True)\n",
    "\n",
    "_size = 50_000\n",
    "_a = torch.randn(_size, _size).to(device)\n",
    "_b = torch.randn(_size, _size).to(device)\n",
    "\n",
    "start.record()\n",
    "_ = _a @ _b\n",
    "end.record()\n",
    "\n",
    "# Wait for GPU operations to complete.\n",
    "torch.cuda.synchronize()\n",
    "\n",
    "# Calculate elapsed time in milliseconds.\n",
    "elapsed_time_ms = start.elapsed_time(end)\n",
    "\n",
    "print(f'each tensor has {_a.shape[0]:_}x{_a.shape[1]:_} elements')\n",
    "print(f'took: {elapsed_time_ms:.3f}ms to to a matmul of 2 matrices with {_size*_size:_} elements')"
   ]
  },
  {
   "cell_type": "code",
   "execution_count": 47,
   "id": "a6f5c37e-d887-490f-bd8a-759ecc9d6c3d",
   "metadata": {},
   "outputs": [
    {
     "name": "stdout",
     "output_type": "stream",
     "text": [
      "GPU memory allocated: 34734.23 MB\n",
      "Peak GPU memory allocated: 35116.23 MB\n"
     ]
    }
   ],
   "source": [
    "if _a.is_cuda:\n",
    "    # Current GPU memory allocated\n",
    "    print(f\"GPU memory allocated: {torch.cuda.memory_allocated() / 1024 / 1024:.2f} MB\")\n",
    "    # Peak GPU memory allocated\n",
    "    print(f\"Peak GPU memory allocated: {torch.cuda.max_memory_allocated() / 1024 / 1024:.2f} MB\")"
   ]
  },
  {
   "cell_type": "code",
   "execution_count": 49,
   "id": "b78815c7-c152-4cda-89e7-3baa0dac6ef7",
   "metadata": {},
   "outputs": [
    {
     "name": "stdout",
     "output_type": "stream",
     "text": [
      "Memory usage: 9536.74 MB\n"
     ]
    }
   ],
   "source": [
    "print_tensor_memory(_a)"
   ]
  },
  {
   "cell_type": "code",
   "execution_count": 13,
   "id": "b05e5f2b-1333-4e31-b2a3-7631f5f60902",
   "metadata": {},
   "outputs": [],
   "source": [
    "def benchmark_dot_product(sizes: list[int], num_runs: int=100):\n",
    "    \"\"\"\n",
    "    Benchmark dot product operations for different tensor sizes on CPU and GPU.\n",
    "    \n",
    "    Args:\n",
    "        sizes (list[int]): List of tensor sizes to test\n",
    "        num_runs (int): Number of times to run each test for averaging\n",
    "    \n",
    "    Returns:\n",
    "        dict: Dictionary containing timing results for CPU and GPU\n",
    "    \"\"\"\n",
    "    results = {\n",
    "        'cpu_times': [],\n",
    "        'gpu_times': [],\n",
    "        'sizes': sizes\n",
    "    }\n",
    "        \n",
    "    for size in sizes:\n",
    "        # CPU benchmark.\n",
    "        def cpu_run():\n",
    "            a = torch.randn(size, size)\n",
    "            b = torch.randn(size, size)\n",
    "            # torch.matmul(a, b)\n",
    "            a @ b\n",
    "            \n",
    "        # GPU benchmark.\n",
    "        def gpu_run():\n",
    "            a = torch.randn(size, size, device='cuda')\n",
    "            b = torch.randn(size, size, device='cuda')\n",
    "            # torch.matmul(a, b)\n",
    "            a @ b\n",
    "            torch.cuda.synchronize()  # Ensure GPU operation is complete\n",
    "            \n",
    "        # Time the operations\n",
    "        cpu_time = timeit(cpu_run, number=num_runs) / num_runs\n",
    "        gpu_time = timeit(gpu_run, number=num_runs) / num_runs\n",
    "        \n",
    "        results['cpu_times'].append(cpu_time)\n",
    "        results['gpu_times'].append(gpu_time)\n",
    "        \n",
    "        print(f\"Size {size}x{size}:\")\n",
    "        print(f\"  CPU: {cpu_time*1000:.2f} ms\")\n",
    "        print(f\"  GPU: {gpu_time*1000:.2f} ms\")\n",
    "        print(f\"  Speedup: {cpu_time/gpu_time:.2f}x\")\n",
    "        \n",
    "    return results"
   ]
  },
  {
   "cell_type": "code",
   "execution_count": null,
   "id": "47f173d5-22c3-4a3a-b006-0411c29cf4dc",
   "metadata": {},
   "outputs": [],
   "source": [
    "def plot_results(results):\n",
    "    \"\"\"\n",
    "    Create visualization of benchmark results.\n",
    "    \"\"\"\n",
    "    plt.figure(figsize=(12, 6))\n",
    "    \n",
    "    # Plot timing comparison\n",
    "    plt.subplot(1, 2, 1)\n",
    "    sns.lineplot(x=results['sizes'], y=results['cpu_times'], label='CPU', marker='o')\n",
    "    sns.lineplot(x=results['sizes'], y=results['gpu_times'], label='GPU', marker='o')\n",
    "    plt.xlabel('Matrix Size (N×N)')\n",
    "    plt.ylabel('Time (seconds)')\n",
    "    plt.title('CPU vs GPU Dot Product Performance')\n",
    "    plt.grid(True)\n",
    "    plt.xscale('log')\n",
    "    plt.yscale('log')\n",
    "    \n",
    "    # Plot speedup\n",
    "    plt.subplot(1, 2, 2)\n",
    "    speedups = np.array(results['cpu_times']) / np.array(results['gpu_times'])\n",
    "    sns.lineplot(x=results['sizes'], y=speedups, marker='o', color='green')\n",
    "    plt.xlabel('Matrix Size (N×N)')\n",
    "    plt.ylabel('Speedup (CPU time / GPU time)')\n",
    "    plt.title('GPU Speedup Factor')\n",
    "    plt.grid(True)\n",
    "    plt.xscale('log')\n",
    "    \n",
    "    plt.tight_layout()\n",
    "    plt.show()"
   ]
  }
 ],
 "metadata": {
  "kernelspec": {
   "display_name": "Python 3 (ipykernel)",
   "language": "python",
   "name": "python3"
  },
  "language_info": {
   "codemirror_mode": {
    "name": "ipython",
    "version": 3
   },
   "file_extension": ".py",
   "mimetype": "text/x-python",
   "name": "python",
   "nbconvert_exporter": "python",
   "pygments_lexer": "ipython3",
   "version": "3.11.10"
  }
 },
 "nbformat": 4,
 "nbformat_minor": 5
}
