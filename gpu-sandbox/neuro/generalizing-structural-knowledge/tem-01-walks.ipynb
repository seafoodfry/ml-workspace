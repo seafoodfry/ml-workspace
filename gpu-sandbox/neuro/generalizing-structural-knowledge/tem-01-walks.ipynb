{
 "cells": [
  {
   "cell_type": "code",
   "execution_count": null,
   "id": "e1361972-d825-419d-91e4-a7119a75d446",
   "metadata": {},
   "outputs": [],
   "source": []
  },
  {
   "cell_type": "code",
   "execution_count": 1,
   "id": "059ae61f-fd00-40af-9eea-d0065b2d4984",
   "metadata": {},
   "outputs": [],
   "source": [
    "import torch\n",
    "import numpy as np\n",
    "import json"
   ]
  },
  {
   "cell_type": "markdown",
   "id": "bfc1f576-04cf-40e9-8662-a910d16581f5",
   "metadata": {},
   "source": [
    "Naming in the code is a tad particular but a walk is made up of steps.\n",
    "Each step in the code is called a `walk` (singular).\n",
    "\n",
    "There are 2 types of walks the \"default\" and the \"shiny\".\n",
    "\n",
    "## Default Walks\n",
    "\n",
    "A walk is an entry in a list.\n",
    "An individual walk is itself a tuple.\n",
    "Each tuple has the following elements:\n",
    "\n",
    "**How to chose a location**\n",
    "\n",
    "1. a `new_location` which is the a location object from the env file corresponding to the position being samples\n",
    "2. a `new_observation` which is a one-hot-vector for the observation in the chosen location\n",
    "3. a `new_action` obtained by making a \"policy\" out of all the transition probabilities to form a CDF, then samplign the CDF at random.\n",
    "\n",
    "The first location is chosen at random.\n",
    "All other locations are chosen based on the action from the previous step/walk - the authors call each step a walk.\n",
    "The code is not very comprehensible but what it does is that it takes the `transition` array, displaying with a `1` the index of where the action takes you. It then generates a random number, and compares all entries against the random number after a `cumsum()` operation.\n",
    "This is too convoluted but since all locations other than the next position will be 0s, then the `cumsum()` will have a nonzero after the position of the 1.\n",
    "It then returns the value of that first entry in the `cumsum()` array.\n",
    "\n",
    "**Observabtions** are stored in the walk as one-got-encoded vectors.\n",
    "\n",
    "\n",
    "**POSSIBLE BUG** there is this convoluted piece of code\n",
    "```python\n",
    "def get_action(self, new_location, walk, repeat_bias_factor=2):\n",
    "    # Build policy from action probability of each action of provided location dictionary\n",
    "    policy = np.array([action['probability'] for action in new_location['actions']])        \n",
    "    # Add a bias for repeating previous action to walk in straight lines, only if (this is not the first step) and (the previous action was a move)\n",
    "    policy[[] if len(walk) == 0 or new_location['id'] == walk[-1][0]['id'] else walk[-1][2]] *= repeat_bias_factor\n",
    "```\n",
    "in [github.com/jbakermans/torch_tem/world.py#get_action()](https://github.com/jbakermans/torch_tem/blob/bf103fb32b5fdc7541ebbd95ba77a2d35d049d7c/world.py#L235-L239).\n",
    "\n",
    "If you see, the repeating bias does nothing when we are in the first step of the walk and when the new location ID is the same as the previous location ID.\n",
    "So it doesn't necessarily encourage moving in a striaght line, it just encourages movement.\n",
    "\n",
    "\n",
    "**POSSIBLE BUG**\n",
    "\n",
    "```python\n",
    "# Clean up walk a bit by only keep essential location dictionary entries\n",
    "for step in new_walk[:-1]:\n",
    "    step[0] = {'id': step[0]['id'], 'shiny': step[0]['shiny']}\n",
    "```\n",
    "\n",
    "This code can't be right: `new_walk[:-1]` makes `step` be a location and then the one-hot-encoded vector (not a dictionary!).\n",
    "\n",
    "**Style issue**\n",
    "\n",
    "`walk_default()` modifies the `walk` variable that's passed as an argument by `generate_walks()`.\n",
    "This is not C."
   ]
  },
  {
   "cell_type": "code",
   "execution_count": 2,
   "id": "7b0d5d08-5c4f-4f5e-ad8b-f25d492c5ca5",
   "metadata": {},
   "outputs": [],
   "source": [
    "with open('./envs/5x5.json', 'r') as f:\n",
    "    env = json.load(f)"
   ]
  },
  {
   "cell_type": "code",
   "execution_count": 3,
   "id": "6acbb027-ccc6-40e4-bdbe-0d62647c9861",
   "metadata": {},
   "outputs": [],
   "source": [
    "repeat_bias_factor=2\n",
    "\n",
    "walks = []"
   ]
  },
  {
   "cell_type": "code",
   "execution_count": 4,
   "id": "a3cbfde1-23ba-4e5c-afe0-5e9090196782",
   "metadata": {},
   "outputs": [],
   "source": [
    "new_walk = []"
   ]
  },
  {
   "cell_type": "code",
   "execution_count": 5,
   "id": "c26da688-7dbe-4589-85e8-1939f3c96ae5",
   "metadata": {},
   "outputs": [],
   "source": [
    "walk = new_walk"
   ]
  },
  {
   "cell_type": "code",
   "execution_count": 6,
   "id": "302437a4-55f8-448f-a454-6c116b01cf57",
   "metadata": {},
   "outputs": [
    {
     "data": {
      "text/plain": [
       "0"
      ]
     },
     "execution_count": 6,
     "metadata": {},
     "output_type": "execute_result"
    }
   ],
   "source": [
    "len(walk)"
   ]
  },
  {
   "cell_type": "code",
   "execution_count": 7,
   "id": "2c8bd2f3-568d-488c-ad9a-948aba588a53",
   "metadata": {},
   "outputs": [
    {
     "data": {
      "text/plain": [
       "17"
      ]
     },
     "execution_count": 7,
     "metadata": {},
     "output_type": "execute_result"
    }
   ],
   "source": [
    "# The first location is chosen ar random.\n",
    "new_location_pos = np.random.randint(env['n_locations'])\n",
    "new_location_pos"
   ]
  },
  {
   "cell_type": "markdown",
   "id": "5537ed96-e486-44d3-8201-4f6041c07a6f",
   "metadata": {},
   "source": [
    "## Grid\n",
    "\n",
    "```\n",
    "(0.1,0.1) - (0.3,0.1) - (0.5,0.1) - (0.7,0.1) - (0.9,0.1)\n",
    "    |           |           |           |           |\n",
    "(0.1,0.3) - (0.3,0.3) - (0.5,0.3) - (0.7,0.3) - (0.9,0.3)\n",
    "    |           |           |           |           |\n",
    "(0.1,0.5) - (0.3,0.5) - (0.5,0.5) - (0.7,0.5) - (0.9,0.5)\n",
    "    |           |           |           |           |\n",
    "(0.1,0.7) - (0.3,0.7) - (0.5,0.7) - (0.7,0.7) - (0.9,0.7)\n",
    "    |           |           |           |           |\n",
    "(0.1,0.9) - (0.3,0.9) - (0.5,0.9) - (0.7,0.9) - (0.9,0.9)\n",
    "```\n",
    "\n",
    "## Action Types by ID\n",
    "\n",
    "- 0: Stay in place / No movement\n",
    "- 1: Move North (typically probability 0 if impossible)\n",
    "- 2: Move right (east)\n",
    "- 3: Move down (south)\n",
    "- 4: Move left (west)"
   ]
  },
  {
   "cell_type": "code",
   "execution_count": 8,
   "id": "61435c9d-9b33-4938-a025-67f8574f78f0",
   "metadata": {},
   "outputs": [
    {
     "name": "stdout",
     "output_type": "stream",
     "text": [
      "id           : 17\n",
      "observation  : 40\n",
      "x            : 0.5\n",
      "y            : 0.7\n",
      "in_locations : [12, 16, 17, 18, 22]\n",
      "in_degree    : 5\n",
      "out_locations: [12, 16, 17, 18, 22]\n",
      "out_degree   : 5\n",
      "actions:\n",
      "\t0: 0.2\n",
      "\t1: 0.2\n",
      "\t2: 0.2\n",
      "\t3: 0.2\n",
      "\t4: 0.2\n"
     ]
    }
   ],
   "source": [
    "new_location = env['locations'][new_location_pos]\n",
    "\n",
    "for k, v in new_location.items():\n",
    "    if k != 'actions':\n",
    "        print(f'{k:<13}: {v}')\n",
    "    else:\n",
    "        print('actions:')\n",
    "        for action in v: # The value is the array of actions.\n",
    "            print(f'\\t{action[\"id\"]}: {action[\"probability\"]}')"
   ]
  },
  {
   "cell_type": "code",
   "execution_count": 9,
   "id": "d47f7c16-cd45-4034-b574-360e35aefdfe",
   "metadata": {},
   "outputs": [
    {
     "data": {
      "text/plain": [
       "(tensor([0., 0., 0., 0., 0., 0., 0., 0., 0., 0., 0., 0., 0., 0., 0., 0., 0., 0.,\n",
       "         0., 0., 0., 0., 0., 0., 0., 0., 0., 0., 0., 0., 0., 0., 0., 0., 0., 0.,\n",
       "         0., 0., 0., 0., 1., 0., 0., 0., 0.]),\n",
       " tensor([[40]]),\n",
       " torch.Size([45]))"
      ]
     },
     "execution_count": 9,
     "metadata": {},
     "output_type": "execute_result"
    }
   ],
   "source": [
    "# Find sensory observation for new state, and store it as one-hot vector.\n",
    "new_observation = np.eye(env['n_observations'])[new_location['observation']]\n",
    "\n",
    "# Create a new observation by converting the new observation to a torch tensor.\n",
    "new_observation = torch.tensor(new_observation, dtype=torch.float).view((new_observation.shape[0]))\n",
    " \n",
    "new_observation, torch.nonzero( new_observation ), new_observation.shape"
   ]
  },
  {
   "cell_type": "code",
   "execution_count": 10,
   "id": "7b416674-fa53-4440-8c45-ff7a7feb0aba",
   "metadata": {},
   "outputs": [
    {
     "data": {
      "text/plain": [
       "array([0.2, 0.2, 0.2, 0.2, 0.2])"
      ]
     },
     "execution_count": 10,
     "metadata": {},
     "output_type": "execute_result"
    }
   ],
   "source": [
    "# Build policy from action probability of each action of provided location dictionary.\n",
    "policy = np.array( [action['probability'] for action in new_location['actions']] )\n",
    "policy"
   ]
  },
  {
   "cell_type": "code",
   "execution_count": 11,
   "id": "e8a74ed5-91e3-4add-be8b-2b8d43ce35be",
   "metadata": {},
   "outputs": [
    {
     "data": {
      "text/plain": [
       "array([], dtype=float64)"
      ]
     },
     "execution_count": 11,
     "metadata": {},
     "output_type": "execute_result"
    }
   ],
   "source": [
    "policy[ [] ]"
   ]
  },
  {
   "cell_type": "code",
   "execution_count": 12,
   "id": "e582fcdb-6947-4318-b0eb-cb9385abee01",
   "metadata": {},
   "outputs": [
    {
     "data": {
      "text/plain": [
       "array([0.2, 0.2, 0.2, 0.2, 0.2])"
      ]
     },
     "execution_count": 12,
     "metadata": {},
     "output_type": "execute_result"
    }
   ],
   "source": [
    "policy[ [] ] *= repeat_bias_factor\n",
    "policy"
   ]
  },
  {
   "cell_type": "code",
   "execution_count": 13,
   "id": "24d6be76-830c-4612-ac55-0abcbdf76e80",
   "metadata": {},
   "outputs": [
    {
     "data": {
      "text/plain": [
       "array([0.2, 0.2, 0.2, 0.2, 0.2])"
      ]
     },
     "execution_count": 13,
     "metadata": {},
     "output_type": "execute_result"
    }
   ],
   "source": [
    "# Add a bias for repeating previous action to walk in straight lines,\n",
    "# only if (this is not the first step) and (the previous action was a move).\n",
    "policy[[] if len(walk) == 0 or new_location['id'] == walk[-1][0]['id'] else walk[-1][2]] *= repeat_bias_factor\n",
    "\n",
    "# And renormalise policy (note that for unavailable actions, the policy was 0 and remains 0,\n",
    "# so in that case no renormalisation needed).\n",
    "policy = policy / sum(policy) if sum(policy) > 0 else policy\n",
    "policy"
   ]
  },
  {
   "cell_type": "code",
   "execution_count": 14,
   "id": "09445431-9d20-4af9-89ee-ad95061be19d",
   "metadata": {},
   "outputs": [
    {
     "data": {
      "text/plain": [
       "(array([0.2, 0.4, 0.6, 0.8, 1. ]),\n",
       " 0.9283203881638409,\n",
       " array([False, False, False, False,  True]))"
      ]
     },
     "execution_count": 14,
     "metadata": {},
     "output_type": "execute_result"
    }
   ],
   "source": [
    "_some = np.random.rand()\n",
    "\n",
    "np.cumsum(policy), _some, np.cumsum(policy) > _some"
   ]
  },
  {
   "cell_type": "code",
   "execution_count": 15,
   "id": "a9b2e8bb-ec20-48fc-a955-7e152baa5c41",
   "metadata": {},
   "outputs": [
    {
     "data": {
      "text/plain": [
       "array([4])"
      ]
     },
     "execution_count": 15,
     "metadata": {},
     "output_type": "execute_result"
    }
   ],
   "source": [
    "np.flatnonzero( np.cumsum(policy) > _some )"
   ]
  },
  {
   "cell_type": "code",
   "execution_count": 16,
   "id": "5f1c30bc-d0e0-4fc7-9ab3-ec2abde18a84",
   "metadata": {},
   "outputs": [
    {
     "data": {
      "text/plain": [
       "4"
      ]
     },
     "execution_count": 16,
     "metadata": {},
     "output_type": "execute_result"
    }
   ],
   "source": [
    "# Select action in new state\n",
    "new_action = int(np.flatnonzero(np.cumsum(policy)>_some)[0])\n",
    "new_action"
   ]
  },
  {
   "cell_type": "code",
   "execution_count": 17,
   "id": "89bff307-8411-4757-8d94-be89a4fd25e4",
   "metadata": {},
   "outputs": [],
   "source": [
    "# Append location, observation, and action to the walk.\n",
    "# new_location is the actual location from the env file.\n",
    "# new_observation is the one-hot-vector for the given observation.\n",
    "# new_action is the first action ID that is greater than some random number.\n",
    "walk.append([new_location, new_observation, new_action])"
   ]
  },
  {
   "cell_type": "markdown",
   "id": "45fd99d5-0a09-4774-92a7-c798a5f6ceda",
   "metadata": {},
   "source": [
    "# Next step in the walk (next walk actually)"
   ]
  },
  {
   "cell_type": "code",
   "execution_count": 18,
   "id": "5532f656-5c20-4fed-ad36-dda27855d4ab",
   "metadata": {},
   "outputs": [
    {
     "data": {
      "text/plain": [
       "4"
      ]
     },
     "execution_count": 18,
     "metadata": {},
     "output_type": "execute_result"
    }
   ],
   "source": [
    "walk[-1][2]"
   ]
  },
  {
   "cell_type": "code",
   "execution_count": 19,
   "id": "89794083-181d-4833-a792-8e3bd0247215",
   "metadata": {},
   "outputs": [],
   "source": [
    "prev_location = walk[-1][0]\n",
    "prev_action_chosen = walk[-1][2]"
   ]
  },
  {
   "cell_type": "code",
   "execution_count": 20,
   "id": "d7af2369-9238-4f87-b73e-c05fcffce7af",
   "metadata": {},
   "outputs": [
    {
     "data": {
      "text/plain": [
       "{'id': 4,\n",
       " 'transition': [0,\n",
       "  0,\n",
       "  0,\n",
       "  0,\n",
       "  0,\n",
       "  0,\n",
       "  0,\n",
       "  0,\n",
       "  0,\n",
       "  0,\n",
       "  0,\n",
       "  0,\n",
       "  0,\n",
       "  0,\n",
       "  0,\n",
       "  0,\n",
       "  1,\n",
       "  0,\n",
       "  0,\n",
       "  0,\n",
       "  0,\n",
       "  0,\n",
       "  0,\n",
       "  0,\n",
       "  0],\n",
       " 'probability': 0.2}"
      ]
     },
     "execution_count": 20,
     "metadata": {},
     "output_type": "execute_result"
    }
   ],
   "source": [
    "prev_location['actions'][prev_action_chosen]"
   ]
  },
  {
   "cell_type": "code",
   "execution_count": 21,
   "id": "50ec6bbe-a2eb-49d1-b65f-48152ac2f74c",
   "metadata": {},
   "outputs": [
    {
     "data": {
      "text/plain": [
       "array([False, False, False, False, False, False, False, False, False,\n",
       "       False, False, False, False, False, False, False,  True,  True,\n",
       "        True,  True,  True,  True,  True,  True,  True])"
      ]
     },
     "execution_count": 21,
     "metadata": {},
     "output_type": "execute_result"
    }
   ],
   "source": [
    "_some = np.random.rand()\n",
    "\n",
    "np.cumsum(prev_location['actions'][prev_action_chosen]['transition']) > _some"
   ]
  },
  {
   "cell_type": "code",
   "execution_count": 22,
   "id": "af203262-da71-47b9-8a3f-66d5009ffca0",
   "metadata": {},
   "outputs": [
    {
     "data": {
      "text/plain": [
       "array([16, 17, 18, 19, 20, 21, 22, 23, 24])"
      ]
     },
     "execution_count": 22,
     "metadata": {},
     "output_type": "execute_result"
    }
   ],
   "source": [
    "np.flatnonzero(\n",
    "    np.cumsum(\n",
    "        prev_location['actions'][prev_action_chosen]['transition'],\n",
    "    )>_some,\n",
    ")"
   ]
  },
  {
   "cell_type": "code",
   "execution_count": 23,
   "id": "4f1e87b9-9dfb-4933-a2b2-9b21842dbccd",
   "metadata": {},
   "outputs": [
    {
     "name": "stdout",
     "output_type": "stream",
     "text": [
      "location chosen: 16\n",
      "id           : 16\n",
      "observation  : 16\n",
      "x            : 0.3\n",
      "y            : 0.7\n",
      "in_locations : [11, 15, 16, 17, 21]\n",
      "in_degree    : 5\n",
      "out_locations: [11, 15, 16, 17, 21]\n",
      "out_degree   : 5\n",
      "actions:\n",
      "\t0: 0.2\n",
      "\t1: 0.2\n",
      "\t2: 0.2\n",
      "\t3: 0.2\n",
      "\t4: 0.2\n"
     ]
    }
   ],
   "source": [
    "# TODO: this is a very awkward way of doing np.nonzero([...])[0].\n",
    "new_location = int(\n",
    "    np.flatnonzero(\n",
    "        np.cumsum(\n",
    "            prev_location['actions'][prev_action_chosen]['transition'],\n",
    "        )>np.random.rand(),\n",
    "    )[0]\n",
    ")\n",
    "print(f'location chosen: {new_location}')\n",
    "new_location = env['locations'][new_location]\n",
    "for k, v in new_location.items():\n",
    "    if k != 'actions':\n",
    "        print(f'{k:<13}: {v}')\n",
    "    else:\n",
    "        print('actions:')\n",
    "        for action in v: # The value is the array of actions.\n",
    "            print(f'\\t{action[\"id\"]}: {action[\"probability\"]}')"
   ]
  },
  {
   "cell_type": "code",
   "execution_count": 24,
   "id": "5ed6f501-7138-48e5-b586-15b17c2e1da4",
   "metadata": {},
   "outputs": [],
   "source": [
    "def get_observation(env, new_location):\n",
    "    # Find sensory observation for new state, and store it as one-hot vector\n",
    "    new_observation = np.eye(env['n_observations'])[new_location['observation']]\n",
    "    # Create a new observation by converting the new observation to a torch tensor\n",
    "    new_observation = torch.tensor(new_observation, dtype=torch.float).view((new_observation.shape[0]))\n",
    "    # Return the new observation\n",
    "    return new_observation"
   ]
  },
  {
   "cell_type": "code",
   "execution_count": 25,
   "id": "b6c51329-ea43-45a9-aaaa-66c1efc3e2d4",
   "metadata": {},
   "outputs": [
    {
     "data": {
      "text/plain": [
       "(tensor([0., 0., 0., 0., 0., 0., 0., 0., 0., 0., 0., 0., 0., 0., 0., 0., 1., 0.,\n",
       "         0., 0., 0., 0., 0., 0., 0., 0., 0., 0., 0., 0., 0., 0., 0., 0., 0., 0.,\n",
       "         0., 0., 0., 0., 0., 0., 0., 0., 0.]),\n",
       " tensor([[16]]),\n",
       " torch.Size([45]))"
      ]
     },
     "execution_count": 25,
     "metadata": {},
     "output_type": "execute_result"
    }
   ],
   "source": [
    "new_observation = get_observation(env, new_location)\n",
    "new_observation, torch.nonzero( new_observation ), new_observation.shape"
   ]
  },
  {
   "cell_type": "code",
   "execution_count": 26,
   "id": "f483199b-f427-445b-a278-0fd6abcee465",
   "metadata": {},
   "outputs": [],
   "source": [
    "def get_action(env, new_location, walk, repeat_bias_factor=2):\n",
    "    # Build policy from action probability of each action of provided location dictionary\n",
    "    policy = np.array([action['probability'] for action in new_location['actions']])  \n",
    "    print(f'init policy: {policy}')\n",
    "    \n",
    "    # Add a bias for repeating previous action to walk in straight lines, only if\n",
    "    # (this is not the first step) and (the previous action was a move)\n",
    "    policy[\n",
    "        [] if len(walk) == 0 or new_location['id'] == walk[-1][0]['id'] else walk[-1][2]\n",
    "    ] *= repeat_bias_factor\n",
    "    print(f\"{new_location['id']=} {walk[-1][0]['id']=}\")\n",
    "    print(f\"{walk[-1][2]=}\")\n",
    "    print(f'policy after bias: {policy}')\n",
    "    \n",
    "    # And renormalise policy (note that for unavailable actions, the policy was 0 and remains 0,\n",
    "    # so in that case no renormalisation needed)\n",
    "    policy = policy / sum(policy) if sum(policy) > 0 else policy\n",
    "    print(f'normalized policy after bias: {policy}')\n",
    "    \n",
    "    # Select action in new state.\n",
    "    _some = np.random.rand()\n",
    "    new_action = int(np.flatnonzero(np.cumsum(policy)>_some)[0])\n",
    "    print(f'rand number chosen: {_some}')\n",
    "    # Return the new action\n",
    "    return new_action"
   ]
  },
  {
   "cell_type": "code",
   "execution_count": 27,
   "id": "7a7b181c-a106-4447-9660-eaff6a833c8e",
   "metadata": {},
   "outputs": [
    {
     "name": "stdout",
     "output_type": "stream",
     "text": [
      "init policy: [0.2 0.2 0.2 0.2 0.2]\n",
      "new_location['id']=16 walk[-1][0]['id']=17\n",
      "walk[-1][2]=4\n",
      "policy after bias: [0.2 0.2 0.2 0.2 0.4]\n",
      "normalized policy after bias: [0.16666667 0.16666667 0.16666667 0.16666667 0.33333333]\n",
      "rand number chosen: 0.6593621991698245\n"
     ]
    },
    {
     "data": {
      "text/plain": [
       "3"
      ]
     },
     "execution_count": 27,
     "metadata": {},
     "output_type": "execute_result"
    }
   ],
   "source": [
    "new_action = get_action(env, new_location, walk)\n",
    "new_action"
   ]
  },
  {
   "cell_type": "code",
   "execution_count": 28,
   "id": "27227490-94ff-4faa-94e8-238d45a7f7bb",
   "metadata": {},
   "outputs": [],
   "source": [
    "# Append location, observation, and action to the walk.\n",
    "# new_location is the actual location from the env file.\n",
    "# new_observation is the one-hot-vector for the given observation.\n",
    "# new_action is the first action ID that is greater than some random number.\n",
    "walk.append([new_location, new_observation, new_action])"
   ]
  },
  {
   "cell_type": "code",
   "execution_count": 29,
   "id": "daf6ec96-5bea-410b-bb30-26cb2ecafc07",
   "metadata": {},
   "outputs": [
    {
     "data": {
      "text/plain": [
       "2"
      ]
     },
     "execution_count": 29,
     "metadata": {},
     "output_type": "execute_result"
    }
   ],
   "source": [
    "len(walk)"
   ]
  },
  {
   "cell_type": "code",
   "execution_count": 30,
   "id": "0a4aae27-31bd-49f8-a442-9484582b53cc",
   "metadata": {
    "scrolled": true
   },
   "outputs": [
    {
     "data": {
      "text/plain": [
       "[[{'id': 17,\n",
       "   'observation': 40,\n",
       "   'x': 0.5,\n",
       "   'y': 0.7,\n",
       "   'in_locations': [12, 16, 17, 18, 22],\n",
       "   'in_degree': 5,\n",
       "   'out_locations': [12, 16, 17, 18, 22],\n",
       "   'out_degree': 5,\n",
       "   'actions': [{'id': 0,\n",
       "     'transition': [0,\n",
       "      0,\n",
       "      0,\n",
       "      0,\n",
       "      0,\n",
       "      0,\n",
       "      0,\n",
       "      0,\n",
       "      0,\n",
       "      0,\n",
       "      0,\n",
       "      0,\n",
       "      0,\n",
       "      0,\n",
       "      0,\n",
       "      0,\n",
       "      0,\n",
       "      1,\n",
       "      0,\n",
       "      0,\n",
       "      0,\n",
       "      0,\n",
       "      0,\n",
       "      0,\n",
       "      0],\n",
       "     'probability': 0.2},\n",
       "    {'id': 1,\n",
       "     'transition': [0,\n",
       "      0,\n",
       "      0,\n",
       "      0,\n",
       "      0,\n",
       "      0,\n",
       "      0,\n",
       "      0,\n",
       "      0,\n",
       "      0,\n",
       "      0,\n",
       "      0,\n",
       "      1,\n",
       "      0,\n",
       "      0,\n",
       "      0,\n",
       "      0,\n",
       "      0,\n",
       "      0,\n",
       "      0,\n",
       "      0,\n",
       "      0,\n",
       "      0,\n",
       "      0,\n",
       "      0],\n",
       "     'probability': 0.2},\n",
       "    {'id': 2,\n",
       "     'transition': [0,\n",
       "      0,\n",
       "      0,\n",
       "      0,\n",
       "      0,\n",
       "      0,\n",
       "      0,\n",
       "      0,\n",
       "      0,\n",
       "      0,\n",
       "      0,\n",
       "      0,\n",
       "      0,\n",
       "      0,\n",
       "      0,\n",
       "      0,\n",
       "      0,\n",
       "      0,\n",
       "      1,\n",
       "      0,\n",
       "      0,\n",
       "      0,\n",
       "      0,\n",
       "      0,\n",
       "      0],\n",
       "     'probability': 0.2},\n",
       "    {'id': 3,\n",
       "     'transition': [0,\n",
       "      0,\n",
       "      0,\n",
       "      0,\n",
       "      0,\n",
       "      0,\n",
       "      0,\n",
       "      0,\n",
       "      0,\n",
       "      0,\n",
       "      0,\n",
       "      0,\n",
       "      0,\n",
       "      0,\n",
       "      0,\n",
       "      0,\n",
       "      0,\n",
       "      0,\n",
       "      0,\n",
       "      0,\n",
       "      0,\n",
       "      0,\n",
       "      1,\n",
       "      0,\n",
       "      0],\n",
       "     'probability': 0.2},\n",
       "    {'id': 4,\n",
       "     'transition': [0,\n",
       "      0,\n",
       "      0,\n",
       "      0,\n",
       "      0,\n",
       "      0,\n",
       "      0,\n",
       "      0,\n",
       "      0,\n",
       "      0,\n",
       "      0,\n",
       "      0,\n",
       "      0,\n",
       "      0,\n",
       "      0,\n",
       "      0,\n",
       "      1,\n",
       "      0,\n",
       "      0,\n",
       "      0,\n",
       "      0,\n",
       "      0,\n",
       "      0,\n",
       "      0,\n",
       "      0],\n",
       "     'probability': 0.2}]},\n",
       "  tensor([0., 0., 0., 0., 0., 0., 0., 0., 0., 0., 0., 0., 0., 0., 0., 0., 0., 0.,\n",
       "          0., 0., 0., 0., 0., 0., 0., 0., 0., 0., 0., 0., 0., 0., 0., 0., 0., 0.,\n",
       "          0., 0., 0., 0., 1., 0., 0., 0., 0.]),\n",
       "  4],\n",
       " [{'id': 16,\n",
       "   'observation': 16,\n",
       "   'x': 0.3,\n",
       "   'y': 0.7,\n",
       "   'in_locations': [11, 15, 16, 17, 21],\n",
       "   'in_degree': 5,\n",
       "   'out_locations': [11, 15, 16, 17, 21],\n",
       "   'out_degree': 5,\n",
       "   'actions': [{'id': 0,\n",
       "     'transition': [0,\n",
       "      0,\n",
       "      0,\n",
       "      0,\n",
       "      0,\n",
       "      0,\n",
       "      0,\n",
       "      0,\n",
       "      0,\n",
       "      0,\n",
       "      0,\n",
       "      0,\n",
       "      0,\n",
       "      0,\n",
       "      0,\n",
       "      0,\n",
       "      1,\n",
       "      0,\n",
       "      0,\n",
       "      0,\n",
       "      0,\n",
       "      0,\n",
       "      0,\n",
       "      0,\n",
       "      0],\n",
       "     'probability': 0.2},\n",
       "    {'id': 1,\n",
       "     'transition': [0,\n",
       "      0,\n",
       "      0,\n",
       "      0,\n",
       "      0,\n",
       "      0,\n",
       "      0,\n",
       "      0,\n",
       "      0,\n",
       "      0,\n",
       "      0,\n",
       "      1,\n",
       "      0,\n",
       "      0,\n",
       "      0,\n",
       "      0,\n",
       "      0,\n",
       "      0,\n",
       "      0,\n",
       "      0,\n",
       "      0,\n",
       "      0,\n",
       "      0,\n",
       "      0,\n",
       "      0],\n",
       "     'probability': 0.2},\n",
       "    {'id': 2,\n",
       "     'transition': [0,\n",
       "      0,\n",
       "      0,\n",
       "      0,\n",
       "      0,\n",
       "      0,\n",
       "      0,\n",
       "      0,\n",
       "      0,\n",
       "      0,\n",
       "      0,\n",
       "      0,\n",
       "      0,\n",
       "      0,\n",
       "      0,\n",
       "      0,\n",
       "      0,\n",
       "      1,\n",
       "      0,\n",
       "      0,\n",
       "      0,\n",
       "      0,\n",
       "      0,\n",
       "      0,\n",
       "      0],\n",
       "     'probability': 0.2},\n",
       "    {'id': 3,\n",
       "     'transition': [0,\n",
       "      0,\n",
       "      0,\n",
       "      0,\n",
       "      0,\n",
       "      0,\n",
       "      0,\n",
       "      0,\n",
       "      0,\n",
       "      0,\n",
       "      0,\n",
       "      0,\n",
       "      0,\n",
       "      0,\n",
       "      0,\n",
       "      0,\n",
       "      0,\n",
       "      0,\n",
       "      0,\n",
       "      0,\n",
       "      0,\n",
       "      1,\n",
       "      0,\n",
       "      0,\n",
       "      0],\n",
       "     'probability': 0.2},\n",
       "    {'id': 4,\n",
       "     'transition': [0,\n",
       "      0,\n",
       "      0,\n",
       "      0,\n",
       "      0,\n",
       "      0,\n",
       "      0,\n",
       "      0,\n",
       "      0,\n",
       "      0,\n",
       "      0,\n",
       "      0,\n",
       "      0,\n",
       "      0,\n",
       "      0,\n",
       "      1,\n",
       "      0,\n",
       "      0,\n",
       "      0,\n",
       "      0,\n",
       "      0,\n",
       "      0,\n",
       "      0,\n",
       "      0,\n",
       "      0],\n",
       "     'probability': 0.2}]},\n",
       "  tensor([0., 0., 0., 0., 0., 0., 0., 0., 0., 0., 0., 0., 0., 0., 0., 0., 1., 0.,\n",
       "          0., 0., 0., 0., 0., 0., 0., 0., 0., 0., 0., 0., 0., 0., 0., 0., 0., 0.,\n",
       "          0., 0., 0., 0., 0., 0., 0., 0., 0.]),\n",
       "  3]]"
      ]
     },
     "execution_count": 30,
     "metadata": {},
     "output_type": "execute_result"
    }
   ],
   "source": [
    "walk"
   ]
  },
  {
   "cell_type": "code",
   "execution_count": 31,
   "id": "ec16827a-4f93-44cd-bd2d-391f05d70d2c",
   "metadata": {},
   "outputs": [],
   "source": [
    "_new_walk = walk[-1]"
   ]
  },
  {
   "cell_type": "code",
   "execution_count": 32,
   "id": "b6304af0-14ad-4c86-bc82-5d4fb3d3b3a0",
   "metadata": {},
   "outputs": [
    {
     "data": {
      "text/plain": [
       "[{'id': 16,\n",
       "  'observation': 16,\n",
       "  'x': 0.3,\n",
       "  'y': 0.7,\n",
       "  'in_locations': [11, 15, 16, 17, 21],\n",
       "  'in_degree': 5,\n",
       "  'out_locations': [11, 15, 16, 17, 21],\n",
       "  'out_degree': 5,\n",
       "  'actions': [{'id': 0,\n",
       "    'transition': [0,\n",
       "     0,\n",
       "     0,\n",
       "     0,\n",
       "     0,\n",
       "     0,\n",
       "     0,\n",
       "     0,\n",
       "     0,\n",
       "     0,\n",
       "     0,\n",
       "     0,\n",
       "     0,\n",
       "     0,\n",
       "     0,\n",
       "     0,\n",
       "     1,\n",
       "     0,\n",
       "     0,\n",
       "     0,\n",
       "     0,\n",
       "     0,\n",
       "     0,\n",
       "     0,\n",
       "     0],\n",
       "    'probability': 0.2},\n",
       "   {'id': 1,\n",
       "    'transition': [0,\n",
       "     0,\n",
       "     0,\n",
       "     0,\n",
       "     0,\n",
       "     0,\n",
       "     0,\n",
       "     0,\n",
       "     0,\n",
       "     0,\n",
       "     0,\n",
       "     1,\n",
       "     0,\n",
       "     0,\n",
       "     0,\n",
       "     0,\n",
       "     0,\n",
       "     0,\n",
       "     0,\n",
       "     0,\n",
       "     0,\n",
       "     0,\n",
       "     0,\n",
       "     0,\n",
       "     0],\n",
       "    'probability': 0.2},\n",
       "   {'id': 2,\n",
       "    'transition': [0,\n",
       "     0,\n",
       "     0,\n",
       "     0,\n",
       "     0,\n",
       "     0,\n",
       "     0,\n",
       "     0,\n",
       "     0,\n",
       "     0,\n",
       "     0,\n",
       "     0,\n",
       "     0,\n",
       "     0,\n",
       "     0,\n",
       "     0,\n",
       "     0,\n",
       "     1,\n",
       "     0,\n",
       "     0,\n",
       "     0,\n",
       "     0,\n",
       "     0,\n",
       "     0,\n",
       "     0],\n",
       "    'probability': 0.2},\n",
       "   {'id': 3,\n",
       "    'transition': [0,\n",
       "     0,\n",
       "     0,\n",
       "     0,\n",
       "     0,\n",
       "     0,\n",
       "     0,\n",
       "     0,\n",
       "     0,\n",
       "     0,\n",
       "     0,\n",
       "     0,\n",
       "     0,\n",
       "     0,\n",
       "     0,\n",
       "     0,\n",
       "     0,\n",
       "     0,\n",
       "     0,\n",
       "     0,\n",
       "     0,\n",
       "     1,\n",
       "     0,\n",
       "     0,\n",
       "     0],\n",
       "    'probability': 0.2},\n",
       "   {'id': 4,\n",
       "    'transition': [0,\n",
       "     0,\n",
       "     0,\n",
       "     0,\n",
       "     0,\n",
       "     0,\n",
       "     0,\n",
       "     0,\n",
       "     0,\n",
       "     0,\n",
       "     0,\n",
       "     0,\n",
       "     0,\n",
       "     0,\n",
       "     0,\n",
       "     1,\n",
       "     0,\n",
       "     0,\n",
       "     0,\n",
       "     0,\n",
       "     0,\n",
       "     0,\n",
       "     0,\n",
       "     0,\n",
       "     0],\n",
       "    'probability': 0.2}]},\n",
       " tensor([0., 0., 0., 0., 0., 0., 0., 0., 0., 0., 0., 0., 0., 0., 0., 0., 1., 0.,\n",
       "         0., 0., 0., 0., 0., 0., 0., 0., 0., 0., 0., 0., 0., 0., 0., 0., 0., 0.,\n",
       "         0., 0., 0., 0., 0., 0., 0., 0., 0.]),\n",
       " 3]"
      ]
     },
     "execution_count": 32,
     "metadata": {},
     "output_type": "execute_result"
    }
   ],
   "source": [
    "_new_walk"
   ]
  },
  {
   "cell_type": "code",
   "execution_count": 36,
   "id": "caa8eab4-c403-40ef-8371-dba8e530369b",
   "metadata": {},
   "outputs": [
    {
     "ename": "KeyError",
     "evalue": "0",
     "output_type": "error",
     "traceback": [
      "\u001b[31m---------------------------------------------------------------------------\u001b[39m",
      "\u001b[31mKeyError\u001b[39m                                  Traceback (most recent call last)",
      "\u001b[36mCell\u001b[39m\u001b[36m \u001b[39m\u001b[32mIn[36]\u001b[39m\u001b[32m, line 2\u001b[39m\n\u001b[32m      1\u001b[39m \u001b[38;5;28;01mfor\u001b[39;00m step \u001b[38;5;129;01min\u001b[39;00m _new_walk[:-\u001b[32m1\u001b[39m]:\n\u001b[32m----> \u001b[39m\u001b[32m2\u001b[39m     \u001b[38;5;28mprint\u001b[39m(\u001b[43mstep\u001b[49m\u001b[43m[\u001b[49m\u001b[32;43m0\u001b[39;49m\u001b[43m]\u001b[49m)\n\u001b[32m      3\u001b[39m     \u001b[38;5;28mprint\u001b[39m()\n",
      "\u001b[31mKeyError\u001b[39m: 0"
     ]
    }
   ],
   "source": [
    "for step in _new_walk[:-1]:\n",
    "    print(step[0])\n",
    "    print()"
   ]
  },
  {
   "cell_type": "code",
   "execution_count": 34,
   "id": "3211f657-f503-4fc9-bba5-51976d044af7",
   "metadata": {},
   "outputs": [
    {
     "data": {
      "text/plain": [
       "[{'id': 16,\n",
       "  'observation': 16,\n",
       "  'x': 0.3,\n",
       "  'y': 0.7,\n",
       "  'in_locations': [11, 15, 16, 17, 21],\n",
       "  'in_degree': 5,\n",
       "  'out_locations': [11, 15, 16, 17, 21],\n",
       "  'out_degree': 5,\n",
       "  'actions': [{'id': 0,\n",
       "    'transition': [0,\n",
       "     0,\n",
       "     0,\n",
       "     0,\n",
       "     0,\n",
       "     0,\n",
       "     0,\n",
       "     0,\n",
       "     0,\n",
       "     0,\n",
       "     0,\n",
       "     0,\n",
       "     0,\n",
       "     0,\n",
       "     0,\n",
       "     0,\n",
       "     1,\n",
       "     0,\n",
       "     0,\n",
       "     0,\n",
       "     0,\n",
       "     0,\n",
       "     0,\n",
       "     0,\n",
       "     0],\n",
       "    'probability': 0.2},\n",
       "   {'id': 1,\n",
       "    'transition': [0,\n",
       "     0,\n",
       "     0,\n",
       "     0,\n",
       "     0,\n",
       "     0,\n",
       "     0,\n",
       "     0,\n",
       "     0,\n",
       "     0,\n",
       "     0,\n",
       "     1,\n",
       "     0,\n",
       "     0,\n",
       "     0,\n",
       "     0,\n",
       "     0,\n",
       "     0,\n",
       "     0,\n",
       "     0,\n",
       "     0,\n",
       "     0,\n",
       "     0,\n",
       "     0,\n",
       "     0],\n",
       "    'probability': 0.2},\n",
       "   {'id': 2,\n",
       "    'transition': [0,\n",
       "     0,\n",
       "     0,\n",
       "     0,\n",
       "     0,\n",
       "     0,\n",
       "     0,\n",
       "     0,\n",
       "     0,\n",
       "     0,\n",
       "     0,\n",
       "     0,\n",
       "     0,\n",
       "     0,\n",
       "     0,\n",
       "     0,\n",
       "     0,\n",
       "     1,\n",
       "     0,\n",
       "     0,\n",
       "     0,\n",
       "     0,\n",
       "     0,\n",
       "     0,\n",
       "     0],\n",
       "    'probability': 0.2},\n",
       "   {'id': 3,\n",
       "    'transition': [0,\n",
       "     0,\n",
       "     0,\n",
       "     0,\n",
       "     0,\n",
       "     0,\n",
       "     0,\n",
       "     0,\n",
       "     0,\n",
       "     0,\n",
       "     0,\n",
       "     0,\n",
       "     0,\n",
       "     0,\n",
       "     0,\n",
       "     0,\n",
       "     0,\n",
       "     0,\n",
       "     0,\n",
       "     0,\n",
       "     0,\n",
       "     1,\n",
       "     0,\n",
       "     0,\n",
       "     0],\n",
       "    'probability': 0.2},\n",
       "   {'id': 4,\n",
       "    'transition': [0,\n",
       "     0,\n",
       "     0,\n",
       "     0,\n",
       "     0,\n",
       "     0,\n",
       "     0,\n",
       "     0,\n",
       "     0,\n",
       "     0,\n",
       "     0,\n",
       "     0,\n",
       "     0,\n",
       "     0,\n",
       "     0,\n",
       "     1,\n",
       "     0,\n",
       "     0,\n",
       "     0,\n",
       "     0,\n",
       "     0,\n",
       "     0,\n",
       "     0,\n",
       "     0,\n",
       "     0],\n",
       "    'probability': 0.2}]},\n",
       " tensor([0., 0., 0., 0., 0., 0., 0., 0., 0., 0., 0., 0., 0., 0., 0., 0., 1., 0.,\n",
       "         0., 0., 0., 0., 0., 0., 0., 0., 0., 0., 0., 0., 0., 0., 0., 0., 0., 0.,\n",
       "         0., 0., 0., 0., 0., 0., 0., 0., 0.])]"
      ]
     },
     "execution_count": 34,
     "metadata": {},
     "output_type": "execute_result"
    }
   ],
   "source": [
    "_new_walk[:-1]"
   ]
  },
  {
   "cell_type": "code",
   "execution_count": null,
   "id": "dc661505-cce3-45ca-977e-ab3acbe3ede8",
   "metadata": {},
   "outputs": [],
   "source": []
  }
 ],
 "metadata": {
  "kernelspec": {
   "display_name": "Python 3 (ipykernel)",
   "language": "python",
   "name": "python3"
  },
  "language_info": {
   "codemirror_mode": {
    "name": "ipython",
    "version": 3
   },
   "file_extension": ".py",
   "mimetype": "text/x-python",
   "name": "python",
   "nbconvert_exporter": "python",
   "pygments_lexer": "ipython3",
   "version": "3.13.1"
  }
 },
 "nbformat": 4,
 "nbformat_minor": 5
}
