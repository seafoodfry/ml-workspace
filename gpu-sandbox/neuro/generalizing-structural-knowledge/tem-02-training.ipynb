{
 "cells": [
  {
   "cell_type": "markdown",
   "id": "f6cbe8de-217c-4d43-b767-13f2c983e147",
   "metadata": {},
   "source": [
    "# Chunking\n",
    "\n",
    "First off, the following code should not exist.\n",
    "\n",
    "```python\n",
    "# Now pop the first n_rollout steps from this walk and append them to the chunk\n",
    "for step in range(params['n_rollout']):\n",
    "    # For the first environment: simply copy the components (g, x, a) of each step\n",
    "    if len(chunk) < params['n_rollout']:\n",
    "        chunk.append([[comp] for comp in walk.pop(0)])\n",
    "    # For all next environments: add the components to the existing list of components for each step\n",
    "    else:\n",
    "        for comp_i, comp in enumerate(walk.pop(0)):\n",
    "            chunk[step][comp_i].append(comp)\n",
    "```\n",
    "\n",
    "What that is trying to do is something like so\n",
    "\n",
    "1. `walk.pop(0)` returns `[location, observation, action]`\n",
    "2. `[[comp] for comp in walk.pop(0)]` becomes `[[location], [observation], [action]]`\n",
    "\n",
    "When the chunk is has less than `n_rollout` entries it looks like so\n",
    "```\n",
    "chunk = [\n",
    "    [[loc1], [obs1], [act1]],\n",
    "    [[loc2], [obs2], [act2]],\n",
    "    ...\n",
    "]\n",
    "```\n",
    "\n",
    "**POSSIBLE BUG**\n",
    "```python\n",
    "# Now pop the first n_rollout steps from this walk and append them to the chunk\n",
    "for step in range(params['n_rollout']):\n",
    "    ...\n",
    "    # For all next environments: add the components to the existing list of components for each step\n",
    "    else:\n",
    "        for comp_i, comp in enumerate(walk.pop(0)):\n",
    "            chunk[step][comp_i].append(comp)\n",
    "```\n",
    "\n",
    "Not only cas its confusing but that should give an error because the code doesn't know that `chunk` is a list of lists.\n",
    "Switching to the `chunk[...][...]` syntax should raise an error."
   ]
  },
  {
   "cell_type": "code",
   "execution_count": null,
   "id": "fc50e313-cc08-480d-a627-69414bab35b5",
   "metadata": {},
   "outputs": [],
   "source": []
  }
 ],
 "metadata": {
  "kernelspec": {
   "display_name": "Python 3 (ipykernel)",
   "language": "python",
   "name": "python3"
  },
  "language_info": {
   "codemirror_mode": {
    "name": "ipython",
    "version": 3
   },
   "file_extension": ".py",
   "mimetype": "text/x-python",
   "name": "python",
   "nbconvert_exporter": "python",
   "pygments_lexer": "ipython3",
   "version": "3.13.1"
  }
 },
 "nbformat": 4,
 "nbformat_minor": 5
}
