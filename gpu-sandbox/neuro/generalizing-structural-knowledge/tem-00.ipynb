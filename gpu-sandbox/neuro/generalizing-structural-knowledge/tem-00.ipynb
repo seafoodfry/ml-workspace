{
 "cells": [
  {
   "cell_type": "code",
   "execution_count": 1,
   "id": "31f922c2-a7e2-4461-a359-29b83c514aeb",
   "metadata": {},
   "outputs": [],
   "source": [
    "import numpy as np\n",
    "import torch"
   ]
  },
  {
   "cell_type": "code",
   "execution_count": 5,
   "id": "c6c38e24-733d-492e-b10f-faeccb63429a",
   "metadata": {},
   "outputs": [],
   "source": [
    "import os\n",
    "import datetime\n",
    "import logging\n",
    "import glob\n",
    "import shutil"
   ]
  },
  {
   "cell_type": "code",
   "execution_count": 14,
   "id": "bea2d327-79c8-46d8-9510-4431fe8e98cb",
   "metadata": {},
   "outputs": [],
   "source": [
    "def make_directories():\n",
    "    '''\n",
    "    Creates directories for storing data during a model training run\n",
    "    '''    \n",
    "    # Get current date for saving folder\n",
    "    date = datetime.datetime.today().strftime('%Y-%m-%d')\n",
    "    # Initialise the run and dir_check to create a new run folder within the current date\n",
    "    run = 0\n",
    "    dir_check = True\n",
    "    # Initialise all pahts\n",
    "    train_path, model_path, save_path, script_path, run_path = None, None, None, None, None\n",
    "    # Find the current run: the first run that doesn't exist yet\n",
    "    while dir_check:\n",
    "        # Construct new paths\n",
    "        run_path    = f'./Summaries/{date}/run{run}/'\n",
    "        train_path  = os.path.join(run_path, 'train')\n",
    "        model_path  = os.path.join(run_path, 'model')\n",
    "        save_path   = os.path.join(run_path, 'save')\n",
    "        script_path = os.path.join(run_path, 'script')\n",
    "        envs_path   = os.path.join(script_path, 'envs')\n",
    "        run += 1\n",
    "\n",
    "        # And once a path doesn't exist yet: create new folders\n",
    "        if not os.path.exists(train_path) and not os.path.exists(model_path) and not os.path.exists(save_path):\n",
    "            os.makedirs(train_path)\n",
    "            os.makedirs(model_path)\n",
    "            os.makedirs(save_path)\n",
    "            os.makedirs(script_path)\n",
    "            os.makedirs(envs_path)\n",
    "            dir_check = False\n",
    "    # Return folders to new path\n",
    "    return run_path, train_path, model_path, save_path, script_path, envs_path"
   ]
  },
  {
   "cell_type": "code",
   "execution_count": 15,
   "id": "27b0a0ce-2b08-4a22-aaef-683f77d515bc",
   "metadata": {},
   "outputs": [],
   "source": [
    "# Start training from step 0\n",
    "i_start = 0\n",
    "\n",
    "# Create directories for storing all information about the current run\n",
    "run_path, train_path, model_path, save_path, script_path, envs_path = make_directories()"
   ]
  },
  {
   "cell_type": "code",
   "execution_count": 16,
   "id": "d817a755-14af-4c3e-98dc-f0175c634d15",
   "metadata": {},
   "outputs": [
    {
     "name": "stdout",
     "output_type": "stream",
     "text": [
      "copying file='./hello.py' to dst='./Summaries/2025-05-19/run0/script/./hello.py'\n"
     ]
    }
   ],
   "source": [
    "# Save all python files in current directory to script directory\n",
    "files = glob.iglob(os.path.join('.', '*.py'))\n",
    "for file in files:\n",
    "    if os.path.isfile(file):\n",
    "        dst = os.path.join(script_path, file)\n",
    "        print(f'copying {file=} to {dst=}')\n",
    "        shutil.copy2(file, dst) "
   ]
  },
  {
   "cell_type": "code",
   "execution_count": 28,
   "id": "8adb218f-4586-423b-8506-fd0ae458753a",
   "metadata": {},
   "outputs": [],
   "source": [
    "def parameters():\n",
    "    params = {}\n",
    "    # -- Model parameters   \n",
    "    # Decide whether to use seperate grid modules that recieve shiny information for object vector cells.\n",
    "    # To disable OVC, set this False, and set n_ovc to [0 for _ in range(len(params['n_g_subsampled']))].\n",
    "    params['separate_ovc'] = False\n",
    "\n",
    "    # ---- Neuron and module parameters\n",
    "    # Neurons for subsampled entorhinal abstract location f_g(g) for each frequency module\n",
    "    params['n_g_subsampled'] = [10, 10, 8, 6, 6]\n",
    "    # Neurons for object vector cells. Neurons will get new modules if object vector cell modules\n",
    "    # are separated; otherwise, they are added to existing abstract location modules.\n",
    "    # a) No additional modules, no additional object vector neurons (e.g. when not using shiny\n",
    "    #    environments): [0 for _ in range(len(params['n_g_subsampled']))], and separate_ovc set to False\n",
    "    # b) No additional modules, but n additional object vector neurons in each grid module:\n",
    "    #    [n for _ in range(len(params['n_g_subsampled']))], and separate_ovc set to False\n",
    "    # c) Additional separate object vector modules, with n, m neurons: [n, m], and separate_ovc set to\n",
    "    #    True\n",
    "    params['n_ovc'] = [0 for _ in range(len(params['n_g_subsampled']))]\n",
    "    # Total number of modules\n",
    "    params['n_f'] = len(params['n_g_subsampled'])\n",
    "\n",
    "    # Number of hierarchical frequency modules for object vector cells\n",
    "    params['n_f_ovc'] = len(params['n_ovc']) if params['separate_ovc'] else 0\n",
    "\n",
    "    # Initial frequencies of each module. For ease of interpretation (higher number = higher frequency)\n",
    "    # this is 1 - the frequency as James uses it\n",
    "    params['f_initial'] = [0.99, 0.3, 0.09, 0.03, 0.01]\n",
    "    # Add frequencies of object vector cell modules, if object vector cells get separate modules\n",
    "    params['f_initial'] = params['f_initial'] + params['f_initial'][0:params['n_f_ovc']]\n",
    "    return params\n",
    "\n",
    "# Initalise hyperparameters for model\n",
    "params = parameters()"
   ]
  },
  {
   "cell_type": "code",
   "execution_count": 29,
   "id": "284c72d7-9c33-4be5-ac6d-3a96a31594ce",
   "metadata": {},
   "outputs": [
    {
     "data": {
      "text/plain": [
       "{'separate_ovc': False,\n",
       " 'n_g_subsampled': [10, 10, 8, 6, 6],\n",
       " 'n_ovc': [0, 0, 0, 0, 0],\n",
       " 'n_f': 5,\n",
       " 'n_f_ovc': 0,\n",
       " 'f_initial': [0.99, 0.3, 0.09, 0.03, 0.01]}"
      ]
     },
     "execution_count": 29,
     "metadata": {},
     "output_type": "execute_result"
    }
   ],
   "source": [
    "params"
   ]
  },
  {
   "cell_type": "code",
   "execution_count": 30,
   "id": "0258fe30-6016-4a4d-8d5a-304b3a43e343",
   "metadata": {},
   "outputs": [],
   "source": [
    "# Save parameters\n",
    "np.save(os.path.join(save_path, 'params'), params)"
   ]
  },
  {
   "cell_type": "markdown",
   "id": "9ae1413f-0c80-4975-86bc-93aba6a8206a",
   "metadata": {},
   "source": [
    "# Model"
   ]
  },
  {
   "cell_type": "code",
   "execution_count": 31,
   "id": "4424e70f-9448-4b26-9df3-7def8f566c4b",
   "metadata": {},
   "outputs": [],
   "source": [
    "hyper = params"
   ]
  },
  {
   "cell_type": "code",
   "execution_count": 32,
   "id": "f9b3f4c4-e34f-41bb-b8ce-6e0af36d4d3f",
   "metadata": {},
   "outputs": [],
   "source": [
    "# Scale factor in Laplacian transform for each frequency module. High frequency comes first, low frequency comes last. Learn inverse sigmoid instead of scale factor directly, so domain of alpha is -inf, inf\n",
    "alpha = torch.nn.ParameterList(\n",
    "    [\n",
    "        torch.nn.Parameter(\n",
    "            torch.tensor(\n",
    "                np.log(hyper['f_initial'][f] / (1 - hyper['f_initial'][f])),\n",
    "                dtype=torch.float,\n",
    "            )\n",
    "        ) for f in range(hyper['n_f'])\n",
    "    ]\n",
    ")"
   ]
  },
  {
   "cell_type": "code",
   "execution_count": 33,
   "id": "1ab4cf71-ae73-42c9-85e1-92f558de2ee1",
   "metadata": {},
   "outputs": [
    {
     "data": {
      "text/plain": [
       "ParameterList(\n",
       "    (0): Parameter containing: [torch.float32 of size ]\n",
       "    (1): Parameter containing: [torch.float32 of size ]\n",
       "    (2): Parameter containing: [torch.float32 of size ]\n",
       "    (3): Parameter containing: [torch.float32 of size ]\n",
       "    (4): Parameter containing: [torch.float32 of size ]\n",
       ")"
      ]
     },
     "execution_count": 33,
     "metadata": {},
     "output_type": "execute_result"
    }
   ],
   "source": [
    "alpha"
   ]
  },
  {
   "cell_type": "code",
   "execution_count": null,
   "id": "2d8d3306-d7a4-4160-9fc6-5de0acc438f6",
   "metadata": {},
   "outputs": [],
   "source": []
  }
 ],
 "metadata": {
  "kernelspec": {
   "display_name": "Python 3 (ipykernel)",
   "language": "python",
   "name": "python3"
  },
  "language_info": {
   "codemirror_mode": {
    "name": "ipython",
    "version": 3
   },
   "file_extension": ".py",
   "mimetype": "text/x-python",
   "name": "python",
   "nbconvert_exporter": "python",
   "pygments_lexer": "ipython3",
   "version": "3.13.1"
  }
 },
 "nbformat": 4,
 "nbformat_minor": 5
}
