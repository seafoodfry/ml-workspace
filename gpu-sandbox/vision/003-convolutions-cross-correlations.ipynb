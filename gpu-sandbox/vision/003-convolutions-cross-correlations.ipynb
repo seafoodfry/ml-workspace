{
 "cells": [
  {
   "cell_type": "markdown",
   "id": "8e7ac8a5-35b8-49c6-8617-3ae52b1221e8",
   "metadata": {},
   "source": [
    "Many image processing libraries and frameworks actually implement cross-correlation when they say \"convolution\".\n",
    "This is because for symmetric filters (like Gaussian filters), convolution and cross-correlation give identical results.\n",
    "For asymmetric filters, you might need to be careful about which operation you're actually using.\n",
    "\n",
    "When you do true convolution with an impulse:\n",
    "\n",
    "1. You first flip the filter (both horizontally and vertically)\n",
    "1. Then slide it over the impulse\n",
    "1. Because of the mathematical properties of convolution with an impulse, the result you get is the original filter (not the flipped version)\n",
    "\n",
    "\n",
    "If you did cross-correlation with an impulse:\n",
    "\n",
    "1. You'd slide the filter directly (no flipping)\n",
    "1. The result would be the flipped version of the filter\n",
    "\n",
    "Cross-correlation is when you directly slide the filter over the image, multiplying and summing. The operation looks like this:\n",
    "$$\n",
    "(f \\cdot g)[n] = \\sum f[m] \\times g[m+n]\n",
    "$$\n",
    "\n",
    "Convolution is similar but involves flipping the filter (both horizontally and vertically) first:\n",
    "$$\n",
    "(f \\star g)[n] = \\sum f[m] \\times g[n-m]\n",
    "$$"
   ]
  },
  {
   "cell_type": "code",
   "execution_count": 1,
   "id": "41cee686-e192-4eaa-9d81-9803fe5b8ab6",
   "metadata": {},
   "outputs": [],
   "source": [
    "import numpy as np\n",
    "from scipy import signal"
   ]
  },
  {
   "cell_type": "code",
   "execution_count": 2,
   "id": "4b9ebc42-8713-47a5-9f6d-cdbc5b852c3d",
   "metadata": {},
   "outputs": [
    {
     "data": {
      "text/plain": [
       "array([[1., 0., 0.],\n",
       "       [0., 1., 0.],\n",
       "       [0., 0., 1.]])"
      ]
     },
     "execution_count": 2,
     "metadata": {},
     "output_type": "execute_result"
    }
   ],
   "source": [
    "_identity = np.identity(3)\n",
    "_identity"
   ]
  },
  {
   "cell_type": "code",
   "execution_count": 3,
   "id": "07b87b51-39a0-4577-9961-a6953283d66d",
   "metadata": {},
   "outputs": [
    {
     "data": {
      "text/plain": [
       "(array([[1., 0., 0.],\n",
       "        [0., 1., 0.],\n",
       "        [0., 0., 1.]]),\n",
       " array([[0., 0., 1.],\n",
       "        [0., 1., 0.],\n",
       "        [1., 0., 0.]]),\n",
       " array([[0., 0., 1.],\n",
       "        [0., 1., 0.],\n",
       "        [1., 0., 0.]]))"
      ]
     },
     "execution_count": 3,
     "metadata": {},
     "output_type": "execute_result"
    }
   ],
   "source": [
    "# Flip along the vertical axis (axis=0).\n",
    "# axis=1 is a flip along the horizontal axis.\n",
    "np.flip(_identity), np.flip(_identity, axis=0), np.flip(_identity, axis=1)"
   ]
  },
  {
   "cell_type": "code",
   "execution_count": 4,
   "id": "67ec6120-8d89-40b5-bb13-efc5a8d38748",
   "metadata": {},
   "outputs": [
    {
     "data": {
      "text/plain": [
       "array([[0., 0., 1.],\n",
       "       [0., 1., 0.],\n",
       "       [1., 0., 0.]])"
      ]
     },
     "execution_count": 4,
     "metadata": {},
     "output_type": "execute_result"
    }
   ],
   "source": [
    "_reverse_identity = np.flip(_identity, axis=0)\n",
    "_reverse_identity"
   ]
  },
  {
   "cell_type": "code",
   "execution_count": 5,
   "id": "595a08f6-8de0-40d8-afa4-8f67281565d0",
   "metadata": {},
   "outputs": [
    {
     "data": {
      "text/plain": [
       "array([[0., 0., 1.],\n",
       "       [0., 1., 0.],\n",
       "       [1., 0., 0.]])"
      ]
     },
     "execution_count": 5,
     "metadata": {},
     "output_type": "execute_result"
    }
   ],
   "source": [
    "# The transpose of the reverse identity is itself.\n",
    "_reverse_identity.T"
   ]
  },
  {
   "cell_type": "code",
   "execution_count": 6,
   "id": "25c5f658-9c4a-4185-887b-2528e25df38c",
   "metadata": {},
   "outputs": [
    {
     "data": {
      "text/plain": [
       "array([[1., 0., 0.],\n",
       "       [0., 1., 0.],\n",
       "       [0., 0., 1.]])"
      ]
     },
     "execution_count": 6,
     "metadata": {},
     "output_type": "execute_result"
    }
   ],
   "source": [
    "# The transpose of the identity is itself.\n",
    "_identity.T"
   ]
  },
  {
   "cell_type": "code",
   "execution_count": 7,
   "id": "1eb79a55-396e-4373-b1e1-a79e105eaa47",
   "metadata": {},
   "outputs": [
    {
     "data": {
      "text/plain": [
       "(array([[0, 1, 2],\n",
       "        [3, 4, 5],\n",
       "        [6, 7, 8]]),\n",
       " (3, 3),\n",
       " dtype('int64'))"
      ]
     },
     "execution_count": 7,
     "metadata": {},
     "output_type": "execute_result"
    }
   ],
   "source": [
    "img_filter = np.array(\n",
    "    [\n",
    "        [0, 1, 2],\n",
    "        [3, 4, 5],\n",
    "        [6, 7, 8],\n",
    "    ]\n",
    ")\n",
    "img_filter, img_filter.shape, img_filter.dtype"
   ]
  },
  {
   "cell_type": "code",
   "execution_count": 8,
   "id": "164bf0e3-959b-483d-bf3f-41d2b0d4ec2a",
   "metadata": {},
   "outputs": [
    {
     "data": {
      "text/plain": [
       "array([[6., 7., 8.],\n",
       "       [3., 4., 5.],\n",
       "       [0., 1., 2.]])"
      ]
     },
     "execution_count": 8,
     "metadata": {},
     "output_type": "execute_result"
    }
   ],
   "source": [
    "# Vertical flip.\n",
    "np.matmul(_reverse_identity, img_filter)"
   ]
  },
  {
   "cell_type": "code",
   "execution_count": 9,
   "id": "fac82635-0a52-4128-9d3e-466fb9da856f",
   "metadata": {},
   "outputs": [
    {
     "data": {
      "text/plain": [
       "array([[6., 7., 8.],\n",
       "       [3., 4., 5.],\n",
       "       [0., 1., 2.]])"
      ]
     },
     "execution_count": 9,
     "metadata": {},
     "output_type": "execute_result"
    }
   ],
   "source": [
    "# Vertical flip.\n",
    "# Same as above but using the more convenient notation.\n",
    "_reverse_identity.T @ img_filter"
   ]
  },
  {
   "cell_type": "code",
   "execution_count": 10,
   "id": "5bfa78c1-e03a-4444-9b36-fc52ccb77f86",
   "metadata": {},
   "outputs": [
    {
     "data": {
      "text/plain": [
       "array([[2., 1., 0.],\n",
       "       [5., 4., 3.],\n",
       "       [8., 7., 6.]])"
      ]
     },
     "execution_count": 10,
     "metadata": {},
     "output_type": "execute_result"
    }
   ],
   "source": [
    "# Horizontal flip!!!\n",
    "img_filter @ _reverse_identity"
   ]
  },
  {
   "cell_type": "code",
   "execution_count": 11,
   "id": "879f34f9-b75c-412e-a589-19d04b77c37b",
   "metadata": {},
   "outputs": [
    {
     "data": {
      "text/plain": [
       "array([[8., 7., 6.],\n",
       "       [5., 4., 3.],\n",
       "       [2., 1., 0.]])"
      ]
     },
     "execution_count": 11,
     "metadata": {},
     "output_type": "execute_result"
    }
   ],
   "source": [
    "# Double flip!!!\n",
    "_reverse_identity.T @ img_filter @ _reverse_identity"
   ]
  },
  {
   "cell_type": "code",
   "execution_count": 12,
   "id": "c6507cfe-b8fa-4e94-a0e3-824480387133",
   "metadata": {},
   "outputs": [
    {
     "data": {
      "text/plain": [
       "array([[0., 0., 0.],\n",
       "       [0., 1., 0.],\n",
       "       [0., 0., 0.]])"
      ]
     },
     "execution_count": 12,
     "metadata": {},
     "output_type": "execute_result"
    }
   ],
   "source": [
    "_impulse_img = signal.unit_impulse((3, 3), 'mid')\n",
    "_impulse_img"
   ]
  },
  {
   "cell_type": "code",
   "execution_count": 13,
   "id": "1c32001b-1bbe-486c-a208-b620728cb16d",
   "metadata": {},
   "outputs": [
    {
     "data": {
      "text/plain": [
       "array([[8., 7., 6.],\n",
       "       [5., 4., 3.],\n",
       "       [2., 1., 0.]])"
      ]
     },
     "execution_count": 13,
     "metadata": {},
     "output_type": "execute_result"
    }
   ],
   "source": [
    "_convolve = _reverse_identity.T @ img_filter @ _reverse_identity\n",
    "_convolve"
   ]
  },
  {
   "cell_type": "code",
   "execution_count": 14,
   "id": "813de51f-e2b4-4187-b307-51411568033d",
   "metadata": {},
   "outputs": [
    {
     "data": {
      "text/plain": [
       "array([[0., 0., 0., 0., 0.],\n",
       "       [0., 0., 1., 2., 0.],\n",
       "       [0., 3., 4., 5., 0.],\n",
       "       [0., 6., 7., 8., 0.],\n",
       "       [0., 0., 0., 0., 0.]])"
      ]
     },
     "execution_count": 14,
     "metadata": {},
     "output_type": "execute_result"
    }
   ],
   "source": [
    "# The convention in image processing/computer vision is typically:\n",
    "# First argument is considered the \"image\" or \"signal\".\n",
    "# Second argument is considered the \"kernel\" or \"filter\".\n",
    "# First img_filter gets double flipped and then it does correlation.\n",
    "signal.convolve(_impulse_img, img_filter)"
   ]
  },
  {
   "cell_type": "code",
   "execution_count": 15,
   "id": "4719fbf6",
   "metadata": {},
   "outputs": [
    {
     "data": {
      "text/plain": [
       "array([[0., 0., 0., 0., 0.],\n",
       "       [0., 0., 1., 2., 0.],\n",
       "       [0., 3., 4., 5., 0.],\n",
       "       [0., 6., 7., 8., 0.],\n",
       "       [0., 0., 0., 0., 0.]])"
      ]
     },
     "execution_count": 15,
     "metadata": {},
     "output_type": "execute_result"
    }
   ],
   "source": [
    "# See!\n",
    "# Here we manually did the double flipping of the filter before doing the correlation step\n",
    "# ourselves.\n",
    "signal.correlate(_impulse_img, _convolve)"
   ]
  },
  {
   "cell_type": "code",
   "execution_count": 16,
   "id": "0a95e527-44dc-4781-a742-c2bf84b8f4da",
   "metadata": {},
   "outputs": [
    {
     "data": {
      "text/plain": [
       "array([[0., 0., 0., 0., 0.],\n",
       "       [0., 8., 7., 6., 0.],\n",
       "       [0., 5., 4., 3., 0.],\n",
       "       [0., 2., 1., 0., 0.],\n",
       "       [0., 0., 0., 0., 0.]])"
      ]
     },
     "execution_count": 16,
     "metadata": {},
     "output_type": "execute_result"
    }
   ],
   "source": [
    "# And just for kicks...\n",
    "signal.convolve(_impulse_img, _convolve)"
   ]
  },
  {
   "cell_type": "markdown",
   "id": "3acb3558-b24a-4df1-adf0-a79729c7ab01",
   "metadata": {},
   "source": [
    "## Manual Cross-Correlation"
   ]
  },
  {
   "cell_type": "code",
   "execution_count": 17,
   "id": "ff410f78-9176-417f-949d-aac43c8f70d6",
   "metadata": {},
   "outputs": [
    {
     "data": {
      "text/plain": [
       "array([[ 7.,  9., 11.],\n",
       "       [15., 17., 19.],\n",
       "       [23., 25., 27.]])"
      ]
     },
     "execution_count": 17,
     "metadata": {},
     "output_type": "execute_result"
    }
   ],
   "source": [
    "\"\"\"\n",
    "4x4 input:        Possible 2x2 kernel positions:\n",
    "[ ][ ][ ][ ]      [K][K][ ][ ]     [ ][K][K][ ]     [ ][ ][K][K]\n",
    "[ ][ ][ ][ ]      [K][K][ ][ ]     [ ][K][K][ ]     [ ][ ][K][K]\n",
    "[ ][ ][ ][ ]      [ ][ ][ ][ ]     [ ][ ][ ][ ]     [ ][ ][ ][ ]\n",
    "[ ][ ][ ][ ]      [ ][ ][ ][ ]     [ ][ ][ ][ ]     [ ][ ][ ][ ]\n",
    "\n",
    "                  [ ][ ][ ][ ]      [ ][ ][ ][ ]     [ ][ ][ ][ ]\n",
    "                  [K][K][ ][ ]      [ ][K][K][ ]     [ ][ ][K][K]\n",
    "                  [K][K][ ][ ]      [ ][K][K][ ]     [ ][ ][K][K]\n",
    "                  [ ][ ][ ][ ]      [ ][ ][ ][ ]     [ ][ ][ ][ ]\n",
    "\n",
    "                  [ ][ ][ ][ ]      [ ][ ][ ][ ]     [ ][ ][ ][ ]\n",
    "                  [ ][ ][ ][ ]      [ ][ ][ ][ ]     [ ][ ][ ][ ]\n",
    "                  [K][K][ ][ ]      [ ][K][K][ ]     [ ][ ][K][K]\n",
    "                  [K][K][ ][ ]      [ ][K][K][ ]     [ ][ ][K][K]\n",
    "\"\"\"\n",
    "# Manual correlation.\n",
    "# Create a simple 4x4 \"image\".\n",
    "image = np.array([\n",
    "    [1,  2,  3,  4],\n",
    "    [5,  6,  7,  8],\n",
    "    [9,  10, 11, 12],\n",
    "    [13, 14, 15, 16]\n",
    "])\n",
    "\n",
    "# Create a 2x2 kernel.\n",
    "kernel = np.identity(2)\n",
    "\n",
    "# Output will be 3x3 due to kernel size.\n",
    "# output_size = input_size - kernel_size + 1 -> 4 - 2 + 1 = 3.\n",
    "result = np.zeros((3, 3))\n",
    "\n",
    "for i in range(3):\n",
    "    for j in range(3):\n",
    "        # For each position, multiply kernel with corresponding image region.\n",
    "        # This (the following op, not the op + the np.sum()) is the Hadamard product,\n",
    "        # element-wise multiplication, not matrix multiplication.\n",
    "        region = image[i:i+2, j:j+2]\n",
    "        value = np.sum(region * kernel)\n",
    "        result[i, j] = value\n",
    "\n",
    "result"
   ]
  },
  {
   "cell_type": "code",
   "execution_count": 18,
   "id": "06e78b0b-f941-4c10-9eb3-18aeaa39d052",
   "metadata": {},
   "outputs": [
    {
     "data": {
      "text/plain": [
       "(array([[1., 0.],\n",
       "        [0., 6.]]),\n",
       " array([[1., 2.],\n",
       "        [5., 6.]]))"
      ]
     },
     "execution_count": 18,
     "metadata": {},
     "output_type": "execute_result"
    }
   ],
   "source": [
    "\"\"\"\n",
    "Hadamard product:\n",
    "[[1, 2],     [[1, 0],     [[1*1, 2*0],     [[1, 0],\n",
    " [5, 6]]  *   [0, 1]]  =   [5*0, 6*1]]  =  [0, 6]]\n",
    "\"\"\"\n",
    "# First is Hadamard product.\n",
    "# Second is the matmul.\n",
    "image[0:2, 0:2] * kernel, image[0:2, 0:2] @ kernel"
   ]
  },
  {
   "cell_type": "code",
   "execution_count": 19,
   "id": "45813163-94a2-441a-988d-b72e2261b298",
   "metadata": {},
   "outputs": [
    {
     "data": {
      "text/plain": [
       "(array([[ 7.,  9., 11.],\n",
       "        [15., 17., 19.],\n",
       "        [23., 25., 27.]]),\n",
       " array([[ 1.,  2.,  3.,  4.,  0.],\n",
       "        [ 5.,  7.,  9., 11.,  4.],\n",
       "        [ 9., 15., 17., 19.,  8.],\n",
       "        [13., 23., 25., 27., 12.],\n",
       "        [ 0., 13., 14., 15., 16.]]))"
      ]
     },
     "execution_count": 19,
     "metadata": {},
     "output_type": "execute_result"
    }
   ],
   "source": [
    "# The default mode will take into account the boundary conditions.\n",
    "signal.correlate(image, kernel, mode='valid'), signal.correlate(image, kernel, mode='full')"
   ]
  },
  {
   "cell_type": "code",
   "execution_count": null,
   "id": "6b188cc5-8e20-4e5b-be37-0828b74dc326",
   "metadata": {},
   "outputs": [],
   "source": []
  }
 ],
 "metadata": {
  "kernelspec": {
   "display_name": "Python 3 (ipykernel)",
   "language": "python",
   "name": "python3"
  },
  "language_info": {
   "codemirror_mode": {
    "name": "ipython",
    "version": 3
   },
   "file_extension": ".py",
   "mimetype": "text/x-python",
   "name": "python",
   "nbconvert_exporter": "python",
   "pygments_lexer": "ipython3",
   "version": "3.13.1"
  }
 },
 "nbformat": 4,
 "nbformat_minor": 5
}
