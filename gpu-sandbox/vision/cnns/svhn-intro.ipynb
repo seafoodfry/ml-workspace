{
 "cells": [
  {
   "cell_type": "code",
   "execution_count": 1,
   "id": "d8eda101-483e-4c34-afe1-c8681d710e2b",
   "metadata": {},
   "outputs": [],
   "source": [
    "import torch\n",
    "import torchvision\n",
    "import torchvision.transforms as transforms\n",
    "import matplotlib.pyplot as plt\n",
    "import numpy as np\n",
    "from torch.utils.data import DataLoader\n",
    "import time\n",
    "import os"
   ]
  },
  {
   "cell_type": "code",
   "execution_count": 2,
   "id": "72b9e8b9-b5b9-401b-b372-733dfa678119",
   "metadata": {},
   "outputs": [
    {
     "data": {
      "text/plain": [
       "(True, '12.6', 'NVIDIA T4G')"
      ]
     },
     "execution_count": 2,
     "metadata": {},
     "output_type": "execute_result"
    }
   ],
   "source": [
    "torch.cuda.is_available(), torch.version.cuda, torch.cuda.get_device_name()"
   ]
  },
  {
   "cell_type": "code",
   "execution_count": 3,
   "id": "8e896c66-68e5-4300-a368-dfa1db5b63d9",
   "metadata": {},
   "outputs": [
    {
     "data": {
      "text/plain": [
       "4"
      ]
     },
     "execution_count": 3,
     "metadata": {},
     "output_type": "execute_result"
    }
   ],
   "source": [
    "os.cpu_count()"
   ]
  },
  {
   "cell_type": "code",
   "execution_count": 4,
   "id": "fedc0fe0-5d19-4762-93f0-da79595ca6f9",
   "metadata": {},
   "outputs": [
    {
     "data": {
      "text/plain": [
       "device(type='cpu')"
      ]
     },
     "execution_count": 4,
     "metadata": {},
     "output_type": "execute_result"
    }
   ],
   "source": [
    "cpu = torch.device('cpu')\n",
    "cpu"
   ]
  },
  {
   "cell_type": "code",
   "execution_count": 5,
   "id": "00cc6350-4642-4843-b18a-af340626ddd6",
   "metadata": {},
   "outputs": [
    {
     "data": {
      "text/plain": [
       "device(type='cuda')"
      ]
     },
     "execution_count": 5,
     "metadata": {},
     "output_type": "execute_result"
    }
   ],
   "source": [
    "device = torch.device('cuda')\n",
    "device"
   ]
  },
  {
   "cell_type": "code",
   "execution_count": 6,
   "id": "7232f9a9-9181-4b02-8ab7-f85e18c2a4cd",
   "metadata": {},
   "outputs": [
    {
     "data": {
      "text/plain": [
       "<torch._C.Generator at 0xeda39c310d50>"
      ]
     },
     "execution_count": 6,
     "metadata": {},
     "output_type": "execute_result"
    }
   ],
   "source": [
    "torch.manual_seed(8)"
   ]
  },
  {
   "cell_type": "code",
   "execution_count": 7,
   "id": "a24abed0-0e15-4a56-aed2-9508f69d8440",
   "metadata": {},
   "outputs": [],
   "source": [
    "\"\"\"\n",
    "SVHN images are already in [0, 1] range and RGB format.\n",
    "\n",
    "For the transforms, we'll:\n",
    "1. Covert to tensor\n",
    "2. Normalize\n",
    "    a. The first (0.5, 0.5, 0.5) are the means for each RGB channel. The second one are the stdevs for\n",
    "        each channel.\n",
    "    b. Normalization works by subtracting 0.5 from each color channel, then dividing by 0.5.\n",
    "    c. This transforms the original pixel values from [0, 1] to [-1, 1], which centers the data around\n",
    "        zero, and makes the gradient flow better during training.\n",
    "\"\"\"\n",
    "transform = transforms.Compose([\n",
    "    transforms.ToTensor(),\n",
    "    #transforms.Normalize((0.5, 0.5, 0.5), (0.5, 0.5, 0.5))\n",
    "])"
   ]
  },
  {
   "cell_type": "code",
   "execution_count": 8,
   "id": "9964e77a-a5d3-4380-b38b-879fde5eb46a",
   "metadata": {},
   "outputs": [
    {
     "name": "stdout",
     "output_type": "stream",
     "text": [
      "Elapsed time: 2.603835 seconds\n"
     ]
    }
   ],
   "source": [
    "start = time.perf_counter()\n",
    "\n",
    "train_dataset = torchvision.datasets.SVHN(\n",
    "    root='./data', \n",
    "    split='train', \n",
    "    download=True, \n",
    "    transform=transform\n",
    ")\n",
    "\n",
    "end = time.perf_counter()\n",
    "print(f\"Elapsed time: {end - start:.6f} seconds\")"
   ]
  },
  {
   "cell_type": "code",
   "execution_count": 9,
   "id": "efb50ed7-560e-4200-9349-95414cc0613c",
   "metadata": {},
   "outputs": [
    {
     "name": "stdout",
     "output_type": "stream",
     "text": [
      "Elapsed time: 0.896181 seconds\n"
     ]
    }
   ],
   "source": [
    "start = time.perf_counter()\n",
    "\n",
    "test_dataset = torchvision.datasets.SVHN(\n",
    "    root='./data', \n",
    "    split='test', \n",
    "    download=True, \n",
    "    transform=transform,\n",
    ")\n",
    "\n",
    "end = time.perf_counter()\n",
    "print(f\"Elapsed time: {end - start:.6f} seconds\")"
   ]
  },
  {
   "cell_type": "code",
   "execution_count": 10,
   "id": "2e2b03a2-a6c7-438e-80a6-4354fa483ef5",
   "metadata": {},
   "outputs": [
    {
     "name": "stdout",
     "output_type": "stream",
     "text": [
      "20K\t./.ipynb_checkpoints\n",
      "235M\t./data\n",
      "235M\t.\n"
     ]
    }
   ],
   "source": [
    "!du -h"
   ]
  },
  {
   "cell_type": "code",
   "execution_count": 11,
   "id": "48452082-e110-44b4-a9c0-7f13f8479033",
   "metadata": {},
   "outputs": [],
   "source": [
    "def get_dataset_stats(dataloader, gpu=True):\n",
    "    channels_sum, channels_squared_sum, num_batches = 0, 0, 0\n",
    "    \n",
    "    for data, _ in dataloader:\n",
    "        if gpu:\n",
    "            data = data.to(device)\n",
    "        \n",
    "        # Mean over batch, height and width, but not over channels\n",
    "        channels_sum += torch.mean(data, dim=[0, 2, 3])\n",
    "        channels_squared_sum += torch.mean(data**2, dim=[0, 2, 3])\n",
    "        num_batches += 1\n",
    "    \n",
    "    mean = channels_sum / num_batches\n",
    "    # std = sqrt(E[X^2] - (E[X])^2)\n",
    "    std = (channels_squared_sum / num_batches - mean**2)**0.5\n",
    "    \n",
    "    return mean, std"
   ]
  },
  {
   "cell_type": "code",
   "execution_count": 12,
   "id": "ff1bdef3-421b-4ae5-bf1c-27a3d7bd258a",
   "metadata": {},
   "outputs": [
    {
     "name": "stdout",
     "output_type": "stream",
     "text": [
      "Elapsed time: 11.067550 seconds\n",
      "tensor([0.4377, 0.4438, 0.4728]) tensor([0.1980, 0.2010, 0.1970])\n"
     ]
    }
   ],
   "source": [
    "train_loader = DataLoader(train_dataset, batch_size=64, shuffle=True)\n",
    "\n",
    "start = time.perf_counter()\n",
    "\n",
    "_mean, _std = get_dataset_stats(train_loader, gpu=False)\n",
    "\n",
    "end = time.perf_counter()\n",
    "print(f\"Elapsed time: {end - start:.6f} seconds\")\n",
    "\n",
    "print(_mean, _std)"
   ]
  },
  {
   "cell_type": "code",
   "execution_count": 13,
   "id": "1616e87a-1040-4eab-9910-6dbe76e143d4",
   "metadata": {},
   "outputs": [
    {
     "name": "stdout",
     "output_type": "stream",
     "text": [
      "Elapsed time: 5.578656 seconds\n",
      "tensor([0.4377, 0.4438, 0.4728]) tensor([0.1980, 0.2010, 0.1970])\n"
     ]
    }
   ],
   "source": [
    "# Now set a number of workers for the data loader.\n",
    "train_loader = DataLoader(train_dataset, batch_size=64, shuffle=True, num_workers=os.cpu_count())\n",
    "\n",
    "start = time.perf_counter()\n",
    "\n",
    "_mean, _std = get_dataset_stats(train_loader, gpu=False)\n",
    "\n",
    "end = time.perf_counter()\n",
    "print(f\"Elapsed time: {end - start:.6f} seconds\")\n",
    "\n",
    "print(_mean, _std)"
   ]
  },
  {
   "cell_type": "code",
   "execution_count": 14,
   "id": "d930c7f3-c2e1-4408-858e-b365bf882c2a",
   "metadata": {},
   "outputs": [
    {
     "name": "stdout",
     "output_type": "stream",
     "text": [
      "Elapsed time: 11.472917 seconds\n",
      "tensor([0.4377, 0.4438, 0.4728], device='cuda:0') tensor([0.1980, 0.2010, 0.1970], device='cuda:0')\n"
     ]
    }
   ],
   "source": [
    "# Now pin the memory.\n",
    "train_loader = DataLoader(train_dataset, batch_size=64, shuffle=True, pin_memory=True)\n",
    "\n",
    "start = time.perf_counter()\n",
    "\n",
    "_mean, _std = get_dataset_stats(train_loader, gpu=True)\n",
    "\n",
    "end = time.perf_counter()\n",
    "print(f\"Elapsed time: {end - start:.6f} seconds\")\n",
    "\n",
    "print(_mean, _std)"
   ]
  },
  {
   "cell_type": "markdown",
   "id": "f2d844a1-e169-44e1-ad53-df63fa09e587",
   "metadata": {},
   "source": [
    "As mentioned in https://pytorch.org/docs/stable/data.html#torch.utils.data.DataLoader\n",
    "\n",
    "> It is generally not recommended to return CUDA tensors in multi-process loading because of many subtleties in using CUDA and sharing CUDA tensors in multiprocessing (see CUDA in multiprocessing). Instead, we recommend using automatic memory pinning (i.e., setting pin_memory=True), which enables fast data transfer to CUDA-enabled GPUs."
   ]
  },
  {
   "cell_type": "code",
   "execution_count": 15,
   "id": "5676d4aa-39e2-4eb5-a981-290b0a700296",
   "metadata": {},
   "outputs": [
    {
     "data": {
      "text/plain": [
       "(tensor([0.4377, 0.4438, 0.4728], device='cuda:0'),\n",
       " tensor([0.4377, 0.4438, 0.4728]),\n",
       " [0.43768176436424255, 0.4437732398509979, 0.4728061556816101])"
      ]
     },
     "execution_count": 15,
     "metadata": {},
     "output_type": "execute_result"
    }
   ],
   "source": [
    "_mean.to(), _mean.to(cpu), _mean.cpu().tolist()"
   ]
  },
  {
   "cell_type": "code",
   "execution_count": 16,
   "id": "6ff10e12-dfff-43e3-979c-1b08e139806c",
   "metadata": {},
   "outputs": [],
   "source": [
    "transform = transforms.Compose([\n",
    "    transforms.ToTensor(),\n",
    "    transforms.Normalize(\n",
    "        mean=_mean.cpu().tolist(),\n",
    "        std=_std.cpu().tolist(),\n",
    "    )\n",
    "])"
   ]
  },
  {
   "cell_type": "code",
   "execution_count": 17,
   "id": "d0ee9346-b99a-49ef-8061-dc82ddef57c5",
   "metadata": {},
   "outputs": [],
   "source": [
    "train_dataset = torchvision.datasets.SVHN(\n",
    "    root='./data', \n",
    "    split='train', \n",
    "    download=True, \n",
    "    transform=transform\n",
    ")\n",
    "\n",
    "test_dataset = torchvision.datasets.SVHN(\n",
    "    root='./data', \n",
    "    split='test', \n",
    "    download=True, \n",
    "    transform=transform,\n",
    ")"
   ]
  },
  {
   "cell_type": "code",
   "execution_count": 18,
   "id": "c06645cf-9918-45c9-8f34-6fdc4d44f507",
   "metadata": {},
   "outputs": [],
   "source": [
    "# Create dataloaders.\n",
    "# Note that suffle is set to false for the test dataloader.\n",
    "# Only 'cas if we want to analyze specific examples that gave incorrect predictions,\n",
    "# having a deterministic order makes it easier to trace back which examples those were.\n",
    "train_loader = DataLoader(train_dataset, batch_size=64, shuffle=True)\n",
    "test_loader = DataLoader(test_dataset, batch_size=64, shuffle=False)"
   ]
  },
  {
   "cell_type": "markdown",
   "id": "be5efa05-6b44-4ae7-8a3c-144b1336d4ff",
   "metadata": {},
   "source": [
    "# Inspect the Data"
   ]
  },
  {
   "cell_type": "code",
   "execution_count": 19,
   "id": "deecb184-f1c8-460b-8d1f-f7055c3f45eb",
   "metadata": {},
   "outputs": [
    {
     "data": {
      "text/plain": [
       "'len(train_dataset)=73_257, len(test_dataset)=26_032'"
      ]
     },
     "execution_count": 19,
     "metadata": {},
     "output_type": "execute_result"
    }
   ],
   "source": [
    "f'{len(train_dataset)=:_}, {len(test_dataset)=:_}'"
   ]
  },
  {
   "cell_type": "code",
   "execution_count": 55,
   "id": "e553782b-1d8b-4e1a-aa73-cd1bf8746dc6",
   "metadata": {},
   "outputs": [
    {
     "name": "stdout",
     "output_type": "stream",
     "text": [
      "Image batch shape: torch.Size([64, 3, 32, 32])\n",
      "Image data type: torch.float32\n",
      "\n",
      "Label batch shape: torch.Size([64])\n",
      "Label data type: torch.int64\n"
     ]
    }
   ],
   "source": [
    "data_iter = iter(train_loader)\n",
    "images, labels = next(data_iter)\n",
    "print(f'Image batch shape: {images.shape}')\n",
    "print(f'Image data type: {images.dtype}')\n",
    "print()\n",
    "print(f'Label batch shape: {labels.shape}')\n",
    "print(f'Label data type: {labels.dtype}')"
   ]
  },
  {
   "cell_type": "code",
   "execution_count": 56,
   "id": "47bc700e-34d0-4283-ba7a-e6a1e63c8a77",
   "metadata": {},
   "outputs": [
    {
     "name": "stdout",
     "output_type": "stream",
     "text": [
      "\n",
      "Label distribution in training set:\n",
      "Label 0: 4948 images (6.75%)\n",
      "Label 1: 13861 images (18.92%)\n",
      "Label 2: 10585 images (14.45%)\n",
      "Label 3: 8497 images (11.60%)\n",
      "Label 4: 7458 images (10.18%)\n",
      "Label 5: 6882 images (9.39%)\n",
      "Label 6: 5727 images (7.82%)\n",
      "Label 7: 5595 images (7.64%)\n",
      "Label 8: 5045 images (6.89%)\n",
      "Label 9: 4659 images (6.36%)\n"
     ]
    }
   ],
   "source": [
    "# Let's see what classes we have and their distribution.\n",
    "unique_labels, counts = np.unique(train_dataset.labels, return_counts=True)\n",
    "\n",
    "print('\\nLabel distribution in training set:')\n",
    "for label, count in zip(unique_labels, counts):\n",
    "    print(f'Label {label}: {count} images ({count/len(train_dataset)*100:.2f}%)')"
   ]
  },
  {
   "cell_type": "code",
   "execution_count": 60,
   "id": "71c1ac42-ff5f-4b95-869e-811aa606d2ef",
   "metadata": {},
   "outputs": [
    {
     "name": "stdout",
     "output_type": "stream",
     "text": [
      "\n",
      "Image statistics:\n",
      "Min pixel value: -2.210\n",
      "Max pixel value: 2.840\n",
      "Mean pixel value: 0.046\n",
      "Standard deviation: 0.981\n"
     ]
    }
   ],
   "source": [
    "flattened_imgs = images.view(images.size(0), -1)\n",
    "print('\\nImage statistics:')\n",
    "print(f'Min pixel value: {flattened_imgs.min().item():.3f}')\n",
    "print(f'Max pixel value: {flattened_imgs.max().item():.3f}')\n",
    "print(f'Mean pixel value: {flattened_imgs.mean().item():.3f}')\n",
    "print(f'Standard deviation: {flattened_imgs.std().item():.3f}')"
   ]
  },
  {
   "cell_type": "code",
   "execution_count": 63,
   "id": "d3d8634c-a1da-4fc8-8162-9044d2f629e6",
   "metadata": {},
   "outputs": [
    {
     "data": {
      "text/plain": [
       "torch.Size([64, 3, 32, 32])"
      ]
     },
     "execution_count": 63,
     "metadata": {},
     "output_type": "execute_result"
    }
   ],
   "source": [
    "images.shape"
   ]
  },
  {
   "cell_type": "code",
   "execution_count": 64,
   "id": "c7d64700-ea46-4414-8cb3-00cce0373c02",
   "metadata": {},
   "outputs": [
    {
     "name": "stdout",
     "output_type": "stream",
     "text": [
      "Help on built-in function view:\n",
      "\n",
      "view(...) method of torch.Tensor instance\n",
      "    view(*shape) -> Tensor\n",
      "\n",
      "    Returns a new tensor with the same data as the :attr:`self` tensor but of a\n",
      "    different :attr:`shape`.\n",
      "\n",
      "    The returned tensor shares the same data and must have the same number\n",
      "    of elements, but may have a different size. For a tensor to be viewed, the new\n",
      "    view size must be compatible with its original size and stride, i.e., each new\n",
      "    view dimension must either be a subspace of an original dimension, or only span\n",
      "    across original dimensions :math:`d, d+1, \\dots, d+k` that satisfy the following\n",
      "    contiguity-like condition that :math:`\\forall i = d, \\dots, d+k-1`,\n",
      "\n",
      "    .. math::\n",
      "\n",
      "      \\text{stride}[i] = \\text{stride}[i+1] \\times \\text{size}[i+1]\n",
      "\n",
      "    Otherwise, it will not be possible to view :attr:`self` tensor as :attr:`shape`\n",
      "    without copying it (e.g., via :meth:`contiguous`). When it is unclear whether a\n",
      "    :meth:`view` can be performed, it is advisable to use :meth:`reshape`, which\n",
      "    returns a view if the shapes are compatible, and copies (equivalent to calling\n",
      "    :meth:`contiguous`) otherwise.\n",
      "\n",
      "    Args:\n",
      "        shape (torch.Size or int...): the desired size\n",
      "\n",
      "    Example::\n",
      "\n",
      "        >>> x = torch.randn(4, 4)\n",
      "        >>> x.size()\n",
      "        torch.Size([4, 4])\n",
      "        >>> y = x.view(16)\n",
      "        >>> y.size()\n",
      "        torch.Size([16])\n",
      "        >>> z = x.view(-1, 8)  # the size -1 is inferred from other dimensions\n",
      "        >>> z.size()\n",
      "        torch.Size([2, 8])\n",
      "\n",
      "        >>> a = torch.randn(1, 2, 3, 4)\n",
      "        >>> a.size()\n",
      "        torch.Size([1, 2, 3, 4])\n",
      "        >>> b = a.transpose(1, 2)  # Swaps 2nd and 3rd dimension\n",
      "        >>> b.size()\n",
      "        torch.Size([1, 3, 2, 4])\n",
      "        >>> c = a.view(1, 3, 2, 4)  # Does not change tensor layout in memory\n",
      "        >>> c.size()\n",
      "        torch.Size([1, 3, 2, 4])\n",
      "        >>> torch.equal(b, c)\n",
      "        False\n",
      "\n",
      "\n",
      "    .. method:: view(dtype) -> Tensor\n",
      "       :noindex:\n",
      "\n",
      "    Returns a new tensor with the same data as the :attr:`self` tensor but of a\n",
      "    different :attr:`dtype`.\n",
      "\n",
      "    If the element size of :attr:`dtype` is different than that of ``self.dtype``,\n",
      "    then the size of the last dimension of the output will be scaled\n",
      "    proportionally.  For instance, if :attr:`dtype` element size is twice that of\n",
      "    ``self.dtype``, then each pair of elements in the last dimension of\n",
      "    :attr:`self` will be combined, and the size of the last dimension of the output\n",
      "    will be half that of :attr:`self`. If :attr:`dtype` element size is half that\n",
      "    of ``self.dtype``, then each element in the last dimension of :attr:`self` will\n",
      "    be split in two, and the size of the last dimension of the output will be\n",
      "    double that of :attr:`self`. For this to be possible, the following conditions\n",
      "    must be true:\n",
      "\n",
      "        * ``self.dim()`` must be greater than 0.\n",
      "        * ``self.stride(-1)`` must be 1.\n",
      "\n",
      "    Additionally, if the element size of :attr:`dtype` is greater than that of\n",
      "    ``self.dtype``, the following conditions must be true as well:\n",
      "\n",
      "        * ``self.size(-1)`` must be divisible by the ratio between the element\n",
      "          sizes of the dtypes.\n",
      "        * ``self.storage_offset()`` must be divisible by the ratio between the\n",
      "          element sizes of the dtypes.\n",
      "        * The strides of all dimensions, except the last dimension, must be\n",
      "          divisible by the ratio between the element sizes of the dtypes.\n",
      "\n",
      "    If any of the above conditions are not met, an error is thrown.\n",
      "\n",
      "    .. warning::\n",
      "\n",
      "        This overload is not supported by TorchScript, and using it in a Torchscript\n",
      "        program will cause undefined behavior.\n",
      "\n",
      "\n",
      "    Args:\n",
      "        dtype (:class:`torch.dtype`): the desired dtype\n",
      "\n",
      "    Example::\n",
      "\n",
      "        >>> x = torch.randn(4, 4)\n",
      "        >>> x\n",
      "        tensor([[ 0.9482, -0.0310,  1.4999, -0.5316],\n",
      "                [-0.1520,  0.7472,  0.5617, -0.8649],\n",
      "                [-2.4724, -0.0334, -0.2976, -0.8499],\n",
      "                [-0.2109,  1.9913, -0.9607, -0.6123]])\n",
      "        >>> x.dtype\n",
      "        torch.float32\n",
      "\n",
      "        >>> y = x.view(torch.int32)\n",
      "        >>> y\n",
      "        tensor([[ 1064483442, -1124191867,  1069546515, -1089989247],\n",
      "                [-1105482831,  1061112040,  1057999968, -1084397505],\n",
      "                [-1071760287, -1123489973, -1097310419, -1084649136],\n",
      "                [-1101533110,  1073668768, -1082790149, -1088634448]],\n",
      "            dtype=torch.int32)\n",
      "        >>> y[0, 0] = 1000000000\n",
      "        >>> x\n",
      "        tensor([[ 0.0047, -0.0310,  1.4999, -0.5316],\n",
      "                [-0.1520,  0.7472,  0.5617, -0.8649],\n",
      "                [-2.4724, -0.0334, -0.2976, -0.8499],\n",
      "                [-0.2109,  1.9913, -0.9607, -0.6123]])\n",
      "\n",
      "        >>> x.view(torch.cfloat)\n",
      "        tensor([[ 0.0047-0.0310j,  1.4999-0.5316j],\n",
      "                [-0.1520+0.7472j,  0.5617-0.8649j],\n",
      "                [-2.4724-0.0334j, -0.2976-0.8499j],\n",
      "                [-0.2109+1.9913j, -0.9607-0.6123j]])\n",
      "        >>> x.view(torch.cfloat).size()\n",
      "        torch.Size([4, 2])\n",
      "\n",
      "        >>> x.view(torch.uint8)\n",
      "        tensor([[  0, 202, 154,  59, 182, 243, 253, 188, 185, 252, 191,  63, 240,  22,\n",
      "                   8, 191],\n",
      "                [227, 165,  27, 190, 128,  72,  63,  63, 146, 203,  15,  63,  22, 106,\n",
      "                  93, 191],\n",
      "                [205,  59,  30, 192, 112, 206,   8, 189,   7,  95, 152, 190,  12, 147,\n",
      "                  89, 191],\n",
      "                [ 43, 246,  87, 190, 235, 226, 254,  63, 111, 240, 117, 191, 177, 191,\n",
      "                  28, 191]], dtype=torch.uint8)\n",
      "        >>> x.view(torch.uint8).size()\n",
      "        torch.Size([4, 16])\n",
      "\n"
     ]
    }
   ],
   "source": [
    "help(images.view)"
   ]
  },
  {
   "cell_type": "markdown",
   "id": "9b827b66-4ea4-47ab-9067-4b2fc02e1a64",
   "metadata": {},
   "source": [
    "# Looking at the Images"
   ]
  },
  {
   "cell_type": "code",
   "execution_count": 51,
   "id": "230f6c03-f33e-4822-afc2-91b69cf91f20",
   "metadata": {},
   "outputs": [],
   "source": [
    "def denormalize(image, mean=0.5, std=0.5):\n",
    "    \"\"\"\n",
    "    Remember that to normalize we do:\n",
    "        (X - mean) / std\n",
    "\n",
    "    So now we go backwards:\n",
    "        (X * std) + mean\n",
    "    \n",
    "    Args:\n",
    "        image: Normalized image tensor or array in range of [-1, 1]\n",
    "        mean: The mean used in normalization (default 0.5)\n",
    "        std: The std used in normalization (default 0.5)\n",
    "    \n",
    "    Returns:\n",
    "        Denormalized image in [0, 1] range\n",
    "    \"\"\"\n",
    "    img = (image * std) + mean\n",
    "    img = np.clip(img, 0, 1)\n",
    "    img = (img * 255).astype(np.uint8)\n",
    "    return img"
   ]
  },
  {
   "cell_type": "code",
   "execution_count": 52,
   "id": "aca13e68-caa3-4d95-9358-6834efcf68e7",
   "metadata": {},
   "outputs": [],
   "source": [
    "def imshow(img):\n",
    "    npimg = img.numpy()\n",
    "    npimg = np.transpose(npimg, (1, 2, 0))\n",
    "    img = denormalize(npimg)\n",
    "    plt.imshow(img)\n",
    "    plt.axis('off')"
   ]
  },
  {
   "cell_type": "code",
   "execution_count": 53,
   "id": "f2d72b25-0199-4ca3-8f8d-9efb028b9ec0",
   "metadata": {},
   "outputs": [
    {
     "data": {
      "image/png": "[encoded data removed]",
      "text/plain": [
       "<Figure size 1200x1200 with 25 Axes>"
      ]
     },
     "metadata": {},
     "output_type": "display_data"
    }
   ],
   "source": [
    "# Get a batch of random images.\n",
    "indices = torch.randperm(len(train_dataset))[:25]\n",
    "sample_images = [train_dataset[i][0] for i in indices]\n",
    "sample_labels = [train_dataset[i][1] for i in indices]\n",
    "\n",
    "# Create a grid to display them.\n",
    "plt.figure(figsize=(12, 12))\n",
    "for i in range(25):\n",
    "    plt.subplot(5, 5, i+1)\n",
    "    imshow(sample_images[i])\n",
    "    plt.title(f\"Label: {sample_labels[i]}\")\n",
    "plt.tight_layout()\n",
    "plt.show()"
   ]
  },
  {
   "cell_type": "code",
   "execution_count": 65,
   "id": "d4a77215-1550-4c30-9306-172aae8a8e4c",
   "metadata": {},
   "outputs": [
    {
     "data": {
      "image/png": "[encoded data removed]",
      "text/plain": [
       "<Figure size 640x480 with 1 Axes>"
      ]
     },
     "metadata": {},
     "output_type": "display_data"
    }
   ],
   "source": [
    "img = sample_images[0]\n",
    "npimg = img.numpy()\n",
    "npimg = np.transpose(npimg, (1, 2, 0))\n",
    "img = denormalize(npimg)\n",
    "\n",
    "plt.hist(npimg.flatten(), bins=50)\n",
    "plt.title(\"Pixel Value Distribution\")\n",
    "\n",
    "plt.show()"
   ]
  },
  {
   "cell_type": "code",
   "execution_count": null,
   "id": "6637c097-7243-4b54-8515-68da98f85112",
   "metadata": {},
   "outputs": [],
   "source": []
  }
 ],
 "metadata": {
  "kernelspec": {
   "display_name": "Python 3 (ipykernel)",
   "language": "python",
   "name": "python3"
  },
  "language_info": {
   "codemirror_mode": {
    "name": "ipython",
    "version": 3
   },
   "file_extension": ".py",
   "mimetype": "text/x-python",
   "name": "python",
   "nbconvert_exporter": "python",
   "pygments_lexer": "ipython3",
   "version": "3.12.6"
  }
 },
 "nbformat": 4,
 "nbformat_minor": 5
}
