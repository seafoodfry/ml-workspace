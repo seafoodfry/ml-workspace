{
 "cells": [
  {
   "cell_type": "code",
   "execution_count": 9,
   "id": "2473f1fa-e5c1-4b67-9745-788ef521129f",
   "metadata": {},
   "outputs": [],
   "source": [
    "import cv2\n",
    "import numpy as np\n",
    "import requests\n",
    "\n",
    "from pathlib import Path\n",
    "from tqdm.notebook import tqdm"
   ]
  },
  {
   "cell_type": "code",
   "execution_count": 6,
   "id": "c45fbc58-f4dc-4967-ba4b-349f44fb7ca6",
   "metadata": {},
   "outputs": [],
   "source": [
    "image_urls = {\n",
    "    'img_01.jpg': 'https://www.allplan.com/fileadmin/_processed_/1/c/csm_Petronas-Towers_Wikipedia_20170711_d1c94137d1.jpg',\n",
    "    'img_02.jpg': 'https://encrypted-tbn0.gstatic.com/images?q=tbn:ANd9GcS1uHo9GsI4ZieuGJMOEOK8wJkyKIu6bpMyoQ&s',\n",
    "    'img_03.jpg': 'https://www.landmarksociety.org/wp-content/uploads/2018/10/general1.jpg',\n",
    "    'img_04.jpg': 'https://encrypted-tbn0.gstatic.com/images?q=tbn:ANd9GcRmXR_gtALYWusO2TGAjfrBzDIVI17c2DmnToTHMQKUK6wwtcQXMQGsKobLZNwkM6bMekk&usqp=CAU',\n",
    "    'img_05.jpg': 'https://commonedge.org/wp-content/uploads/2016/05/New_York_City_building-1-1000x625.jpg',\n",
    "    'img_06.jpg': 'https://cdn2.vox-cdn.com/thumbor/w0Wj9NbHa4rgTNR5ZbkRkGbFE1U=/640x0/filters:no_upscale()/cdn.vox-cdn.com/uploads/chorus_asset/file/8575085/432park2016.0.png',\n",
    "    'img_07.jpg': 'https://localyse.eu/wp-content/uploads/2023/07/empty-street-ancient-building-facades-europe-2021-08-30-02-27-54-utc-scaled.jpg',\n",
    "    'img_08.jpg': 'https://www.pbs.org/wgbh/nova/media/original_images/iStock-1086864102.jpg',\n",
    "    'img_09.jpg': 'https://digitalspyuk.cdnds.net/16/29/1468833925-oscorp-building-street-view.jpg',\n",
    "    'img_10.jpg': 'https://encrypted-tbn0.gstatic.com/images?q=tbn:ANd9GcSARjfJfWcfZAf1S2rad9KtYX6IrNjxP8vAQA6MUIktYXxQ7_7ngTObqZ8KBPH6t9Q1uGA&usqp=CAU',\n",
    "    'img_11.jpg': 'https://media.istockphoto.com/id/908031820/photo/lower-manhattan-cityscape-chinatown.jpg?s=612x612&w=0&k=20&c=JBOJ5YIMfJ8bxui1StZcoMSNcysNu8BRbnOSqajpkdM=',\n",
    "    'img_12.jpg': 'https://variety.com/wp-content/uploads/2018/12/Google-315-Hudson-Street.jpg',\n",
    "    'img_13.jpg': 'https://dynamic-media-cdn.tripadvisor.com/media/photo-o/0e/9d/74/9f/photo0jpg.jpg?w=500&h=500&s=1',\n",
    "    'img_14.jpg': 'https://unimovers.com/blog/wp-content/uploads/sites/9/2024/08/36182055102b4f818cc78b1c44709dd9_716x444.jpg',\n",
    "    'img_15.jpg': 'https://www.castlecookemortgage.com/hs-fs/hubfs/BG_HomeTypes_Ranch.jpg?width=804&name=BG_HomeTypes_Ranch.jpg',\n",
    "    'img_16.jpg': 'https://www.zillowstatic.com/bedrock/app/uploads/sites/47/GA_ATL_DOWNTOWN_82792_078-RT_RT_cropRT-5f9e47-1440x960.jpg',\n",
    "}"
   ]
  },
  {
   "cell_type": "code",
   "execution_count": 8,
   "id": "26c97d61-0a90-45ff-b602-9db275efa69d",
   "metadata": {},
   "outputs": [],
   "source": [
    "base_path = Path('./img/buildings')\n",
    "#base_path = Path('./img/buildings-finetune')\n",
    "base_path.mkdir(parents=True, exist_ok=True)"
   ]
  },
  {
   "cell_type": "code",
   "execution_count": 9,
   "id": "ef2a6f6c-5a8a-4b36-9727-97ed3d4ac394",
   "metadata": {},
   "outputs": [
    {
     "data": {
      "application/vnd.jupyter.widget-view+json": {
       "model_id": "7f451c204f8f450cbb9c1893a52d3ddf",
       "version_major": 2,
       "version_minor": 0
      },
      "text/plain": [
       "  0%|          | 0/16 [00:00<?, ?it/s]"
      ]
     },
     "metadata": {},
     "output_type": "display_data"
    }
   ],
   "source": [
    "image_paths = []\n",
    "for img_name, url in tqdm(image_urls.items()):\n",
    "    response = requests.get(url)\n",
    "    response.raise_for_status()\n",
    "\n",
    "    img_data = response.content\n",
    "    img_path = base_path / img_name\n",
    "    with open(img_path, 'wb') as f:\n",
    "        f.write(img_data)\n",
    "    image_paths.append(img_path)"
   ]
  },
  {
   "cell_type": "code",
   "execution_count": 12,
   "id": "0aec09e4-cdef-4558-8ea7-73f3ead76b40",
   "metadata": {},
   "outputs": [],
   "source": [
    "import scipy.io as sio\n",
    "import numpy as np\n",
    "import os\n",
    "\n",
    "\n",
    "def build_negative_samples_mat(image_paths, output_mat_file, window_size=32, stride=12):\n",
    "    if os.path.exists(output_mat_file):\n",
    "        mat_data = sio.loadmat(output_mat_file)\n",
    "        existing_X = mat_data['X']  # Shape: (32, 32, 3, n_samples)\n",
    "        existing_y = mat_data['y']  # Shape: (n_samples, 1)\n",
    "        n_existing = existing_X.shape[3]\n",
    "        print(f\"Found existing .mat with {n_existing} samples\")\n",
    "    else:\n",
    "        existing_X = np.zeros((32, 32, 3, 0))\n",
    "        existing_y = np.zeros((0, 1))\n",
    "        n_existing = 0\n",
    "        print(\"Creating new .mat file\")\n",
    "    \n",
    "    # Extract patches from images.\n",
    "    new_patches = []\n",
    "    for img_path in image_paths:\n",
    "        print(f'extracting patches from {img_path}')\n",
    "        img = cv2.imread(img_path)\n",
    "            \n",
    "        # Convert BGR to RGB.\n",
    "        img = cv2.cvtColor(img, cv2.COLOR_BGR2RGB)\n",
    "        \n",
    "        height, width = img.shape[:2]\n",
    "        patch_count = 0\n",
    "        for y in range(0, height - window_size, stride):\n",
    "            for x in range(0, width - window_size, stride):\n",
    "                patch = img[y:y+window_size, x:x+window_size]\n",
    "                new_patches.append(patch)\n",
    "                patch_count += 1\n",
    "                \n",
    "        print(f\"Extracted {patch_count} patches from {img_path}\")\n",
    "    \n",
    "    # Convert to numpy array.\n",
    "    new_patches = np.array(new_patches)\n",
    "    n_new = len(new_patches)\n",
    "    \n",
    "    # Transpose to match SVHN format: height(1), width(2), channels(3), n_samples(0).\n",
    "    new_patches = np.transpose(new_patches, (1, 2, 3, 0))\n",
    "    \n",
    "    # Create labels for new patches.\n",
    "    new_labels = np.ones((n_new, 1))\n",
    "    \n",
    "    # Combine existing and new data.\n",
    "    combined_X = np.concatenate([existing_X, new_patches], axis=3)\n",
    "    combined_y = np.concatenate([existing_y, new_labels], axis=0)\n",
    "    \n",
    "    # Create updated dictionary.\n",
    "    updated_dict = {\n",
    "        'X': combined_X,\n",
    "        'y': combined_y\n",
    "    }\n",
    "    \n",
    "    # Save to .mat file.\n",
    "    sio.savemat(output_mat_file, updated_dict, format='5')\n",
    "    print(f\"Added {n_new:_} patches. Total: {n_existing + n_new:_} patches\")\n",
    "    \n",
    "    return n_existing + n_new"
   ]
  },
  {
   "cell_type": "code",
   "execution_count": 12,
   "id": "0558e9ae-eccf-443e-9a24-0a93fc3d8fae",
   "metadata": {},
   "outputs": [
    {
     "name": "stdout",
     "output_type": "stream",
     "text": [
      "Creating new .mat file\n",
      "extracting patches from img/buildings/img_01.jpg\n",
      "Extracted 7236 patches from img/buildings/img_01.jpg\n",
      "extracting patches from img/buildings/img_02.jpg\n",
      "Extracted 260 patches from img/buildings/img_02.jpg\n",
      "extracting patches from img/buildings/img_03.jpg\n",
      "Extracted 15088 patches from img/buildings/img_03.jpg\n",
      "extracting patches from img/buildings/img_04.jpg\n",
      "Extracted 266 patches from img/buildings/img_04.jpg\n",
      "extracting patches from img/buildings/img_05.jpg\n",
      "Extracted 4050 patches from img/buildings/img_05.jpg\n",
      "extracting patches from img/buildings/img_06.jpg\n",
      "Extracted 1581 patches from img/buildings/img_06.jpg\n",
      "extracting patches from img/buildings/img_07.jpg\n",
      "Extracted 17064 patches from img/buildings/img_07.jpg\n",
      "extracting patches from img/buildings/img_08.jpg\n",
      "Extracted 21780 patches from img/buildings/img_08.jpg\n",
      "extracting patches from img/buildings/img_09.jpg\n",
      "Extracted 12464 patches from img/buildings/img_09.jpg\n",
      "extracting patches from img/buildings/img_10.jpg\n",
      "Extracted 264 patches from img/buildings/img_10.jpg\n",
      "extracting patches from img/buildings/img_11.jpg\n",
      "Extracted 1568 patches from img/buildings/img_11.jpg\n",
      "extracting patches from img/buildings/img_12.jpg\n",
      "Extracted 6032 patches from img/buildings/img_12.jpg\n",
      "extracting patches from img/buildings/img_13.jpg\n",
      "Extracted 1521 patches from img/buildings/img_13.jpg\n",
      "extracting patches from img/buildings/img_14.jpg\n",
      "Extracted 1995 patches from img/buildings/img_14.jpg\n",
      "extracting patches from img/buildings/img_15.jpg\n",
      "Extracted 2145 patches from img/buildings/img_15.jpg\n",
      "extracting patches from img/buildings/img_16.jpg\n",
      "Extracted 9204 patches from img/buildings/img_16.jpg\n",
      "Added 102_518 patches. Total: 102_518 patches\n"
     ]
    },
    {
     "data": {
      "text/plain": [
       "102518"
      ]
     },
     "execution_count": 12,
     "metadata": {},
     "output_type": "execute_result"
    }
   ],
   "source": [
    "negative_mat_file = 'negative_samples.mat'\n",
    "build_negative_samples_mat(image_paths, negative_mat_file)"
   ]
  },
  {
   "cell_type": "markdown",
   "id": "8e0346f5-2f0a-4274-a71b-6d7b6c84b3c5",
   "metadata": {},
   "source": [
    "# Second dataset"
   ]
  },
  {
   "cell_type": "code",
   "execution_count": 4,
   "id": "c511e68a-e2b8-4a73-8827-38b3ad9fda4a",
   "metadata": {},
   "outputs": [],
   "source": [
    "image_urls = {\n",
    "    'img-01.jpg': 'https://assets.bwbx.io/images/users/iqjWHBFdfxIU/iLnAPfwDkc0Y/v1/1200x800.jpg',\n",
    "    'img-02.jpg': 'https://www.nj.com/resizer/v2/https%3A%2F%2Fadvancelocal-adapter-image-uploads.s3.amazonaws.com%2Fimage.nj.com%2Fhome%2Fnjo-media%2Fwidth2048%2Fimg%2Fledgerupdates_impact%2Fphoto%2F2018%2F08%2F09%2Fkushner-properties-seeks-financing-for-666-fifth-avenue-property-67bd54151087c50b.jpg?auth=24c31d67ee292e72dc47cddf8f0758aa0922067a40038a9b787f086611949cbf&width=1280&quality=90',\n",
    "}"
   ]
  },
  {
   "cell_type": "code",
   "execution_count": 5,
   "id": "9a9645d1-6651-4409-a83d-13d1eb938337",
   "metadata": {},
   "outputs": [],
   "source": [
    "base_path = Path('./img/buildings-finetune')\n",
    "base_path.mkdir(parents=True, exist_ok=True)"
   ]
  },
  {
   "cell_type": "code",
   "execution_count": 6,
   "id": "e084c357-8dfd-437b-973b-1ff5dbb988df",
   "metadata": {},
   "outputs": [
    {
     "data": {
      "application/vnd.jupyter.widget-view+json": {
       "model_id": "6fd2be79cf3545f78c182073ae89297a",
       "version_major": 2,
       "version_minor": 0
      },
      "text/plain": [
       "  0%|          | 0/2 [00:00<?, ?it/s]"
      ]
     },
     "metadata": {},
     "output_type": "display_data"
    }
   ],
   "source": [
    "image_paths = []\n",
    "for img_name, url in tqdm(image_urls.items()):\n",
    "    response = requests.get(url)\n",
    "    response.raise_for_status()\n",
    "\n",
    "    img_data = response.content\n",
    "    img_path = base_path / img_name\n",
    "    with open(img_path, 'wb') as f:\n",
    "        f.write(img_data)\n",
    "    image_paths.append(img_path)"
   ]
  },
  {
   "cell_type": "code",
   "execution_count": 13,
   "id": "a1a7e6c1-3f3e-4350-b777-578d688d0f63",
   "metadata": {},
   "outputs": [],
   "source": [
    "!rm -r ./negative_samples_finetune.mat"
   ]
  },
  {
   "cell_type": "code",
   "execution_count": 14,
   "id": "9f3a7315-57d7-4491-8c54-d1b26b7a7e6c",
   "metadata": {},
   "outputs": [
    {
     "name": "stdout",
     "output_type": "stream",
     "text": [
      "Creating new .mat file\n",
      "extracting patches from img/buildings-finetune/img-01.jpg\n",
      "Extracted 4620 patches from img/buildings-finetune/img-01.jpg\n",
      "extracting patches from img/buildings-finetune/img-02.jpg\n",
      "Extracted 5310 patches from img/buildings-finetune/img-02.jpg\n",
      "Added 9_930 patches. Total: 9_930 patches\n"
     ]
    },
    {
     "data": {
      "text/plain": [
       "9930"
      ]
     },
     "execution_count": 14,
     "metadata": {},
     "output_type": "execute_result"
    }
   ],
   "source": [
    "negative_mat_file = 'negative_samples_finetune.mat'\n",
    "build_negative_samples_mat(image_paths, negative_mat_file, window_size=32, stride=14)"
   ]
  },
  {
   "cell_type": "code",
   "execution_count": 2,
   "id": "919f2628-aa13-4121-95bb-b60235a50402",
   "metadata": {},
   "outputs": [],
   "source": [
    "image_urls = {\n",
    "    'h1.jpg': 'https://i.etsystatic.com/40106094/r/il/ed369a/4601214666/il_1588xN.4601214666_fnpg.jpg',\n",
    "    'h2.jpg': 'https://backlitledsign.com/cdn/shop/products/personalized-suite-plaque-stainless-steel-number-sign-metal-apartment-plate-rectangle-bespoke-address-plaque-door-number-slate-816350.jpg?v=1710695028&width=720',\n",
    "    'h3.jpg': 'https://res.cloudinary.com/emtek/image/fetch/f_auto,q_auto,w_1200,c_fill,d_product-placeholder.jpg,ar_8:5,dpr_auto/https%3A%2F%2Fwww.emtek.com%2Fmedia%2Foriginal_images%2FEmtek_Modern_House_Number_Exterior_Install_US19_709x1024px_300dpi_RGB_High.jpg',\n",
    "    'h4.jpg': 'https://res.cloudinary.com/brickandbatten/images/f_auto,q_auto/v1641215574/wordpress_assets/house-numbers-on-gate-post/house-numbers-on-gate-post.png?_i=AA',\n",
    "}"
   ]
  },
  {
   "cell_type": "code",
   "execution_count": 3,
   "id": "2b4db62a-dda6-4ff2-93b7-6653ffe1efe6",
   "metadata": {},
   "outputs": [
    {
     "data": {
      "application/vnd.jupyter.widget-view+json": {
       "model_id": "4baf3082cdb7453789f74ba9835eeeff",
       "version_major": 2,
       "version_minor": 0
      },
      "text/plain": [
       "  0%|          | 0/4 [00:00<?, ?it/s]"
      ]
     },
     "metadata": {},
     "output_type": "display_data"
    }
   ],
   "source": [
    "base_path = Path('./img/buildings-samples')\n",
    "base_path.mkdir(parents=True, exist_ok=True)\n",
    "\n",
    "image_paths = []\n",
    "for img_name, url in tqdm(image_urls.items()):\n",
    "    response = requests.get(url)\n",
    "    response.raise_for_status()\n",
    "\n",
    "    img_data = response.content\n",
    "    img_path = base_path / img_name\n",
    "    with open(img_path, 'wb') as f:\n",
    "        f.write(img_data)\n",
    "    image_paths.append(img_path)"
   ]
  },
  {
   "cell_type": "code",
   "execution_count": 16,
   "id": "2394fedf-07ba-4fb0-8502-32f17460967d",
   "metadata": {},
   "outputs": [
    {
     "data": {
      "text/plain": [
       "True"
      ]
     },
     "execution_count": 16,
     "metadata": {},
     "output_type": "execute_result"
    }
   ],
   "source": [
    "image = cv2.imread('./img/buildings-samples/h0.jpg')\n",
    "h, w = image.shape[:2]\n",
    "center = w/2, h/2\n",
    "\n",
    "angle = 30 # Rotation angle in degrees\n",
    "scale = 1.0 # Scaling factor (1.0 means no scaling)\n",
    "M = cv2.getRotationMatrix2D(center, angle, scale)\n",
    "\n",
    "rotated = cv2.warpAffine(image, M, (w, h))\n",
    "cv2.imwrite('./img/buildings-samples/h0-rotated.jpg', rotated)"
   ]
  },
  {
   "cell_type": "code",
   "execution_count": 15,
   "id": "938fa3ff-0a21-4ad5-8b42-49869ec845c9",
   "metadata": {},
   "outputs": [
    {
     "data": {
      "text/plain": [
       "True"
      ]
     },
     "execution_count": 15,
     "metadata": {},
     "output_type": "execute_result"
    }
   ],
   "source": [
    "image = cv2.imread('./img/buildings-samples/h4.jpg')\n",
    "row, col, ch = image.shape\n",
    "\n",
    "mean = 0\n",
    "sigma = 100\n",
    "gauss = np.random.normal(mean, sigma, (row, col, ch)).astype(np.float32)\n",
    "noisy_image = np.clip(image + gauss, 0, 255).astype(np.uint8)\n",
    "\n",
    "cv2.imwrite('./img/buildings-samples/h4-noisy.jpg', noisy_image)"
   ]
  },
  {
   "cell_type": "code",
   "execution_count": null,
   "id": "429b78a7-3174-4606-9683-cb8e6cfd64c9",
   "metadata": {},
   "outputs": [],
   "source": []
  }
 ],
 "metadata": {
  "kernelspec": {
   "display_name": "Python 3 (ipykernel)",
   "language": "python",
   "name": "python3"
  },
  "language_info": {
   "codemirror_mode": {
    "name": "ipython",
    "version": 3
   },
   "file_extension": ".py",
   "mimetype": "text/x-python",
   "name": "python",
   "nbconvert_exporter": "python",
   "pygments_lexer": "ipython3",
   "version": "3.13.1"
  }
 },
 "nbformat": 4,
 "nbformat_minor": 5
}
