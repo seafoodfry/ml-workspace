{
 "cells": [
  {
   "cell_type": "code",
   "execution_count": 1,
   "id": "46e451cd-9698-4a08-a91d-02d0247b5dbd",
   "metadata": {},
   "outputs": [
    {
     "data": {
      "application/vnd.jupyter.widget-view+json": {
       "model_id": "187f1f0e4ce241f9a31b55927f2a4ff5",
       "version_major": 2,
       "version_minor": 0
      },
      "text/plain": []
     },
     "metadata": {},
     "output_type": "display_data"
    }
   ],
   "source": [
    "import nglview as ng\n",
    "import mdtraj as md\n",
    "import pandas as pd"
   ]
  },
  {
   "cell_type": "code",
   "execution_count": 2,
   "id": "21a235f3-e702-40fb-89b8-4a575c6effdd",
   "metadata": {},
   "outputs": [
    {
     "data": {
      "application/vnd.jupyter.widget-view+json": {
       "model_id": "0e9d9dc03c694311ad47f6abab1fe8e3",
       "version_major": 2,
       "version_minor": 0
      },
      "text/plain": [
       "NGLWidget()"
      ]
     },
     "metadata": {},
     "output_type": "display_data"
    }
   ],
   "source": [
    "# https://www.rcsb.org/structure/1FJS\n",
    "# ng.show_structure_file('1fjs.pdb')\n",
    "view = ng.show_pdbid(\"3fjs\")\n",
    "view.add_surface(selection=\"protein\", opacity=0.2)\n",
    "view.add_licorice('ALA')\n",
    "view"
   ]
  },
  {
   "cell_type": "code",
   "execution_count": 3,
   "id": "83043be3-7760-4e94-93b2-61e89e9aff7d",
   "metadata": {},
   "outputs": [],
   "source": [
    "def clean_pdb(input_file, output_file):\n",
    "    \"\"\"\n",
    "    This cleaning procedure is not universally appropriate \n",
    "    (e.g., the case of a tightly bound ligand or otherwise functional active-site water molecule).\n",
    "    \n",
    "    HETATM stands for \"HETero ATom\":\n",
    "\n",
    "        These records represent atoms in non-standard residues such as ligands, inhibitors,\n",
    "    solvent molecules (like water), ions, and modified amino acids\n",
    "        By removing lines with HETATM, you're keeping only the standard protein structure (the amino acid chain)\n",
    "\n",
    "\n",
    "    CONECT stands for \"CONnECTivity\":\n",
    "\n",
    "        These records specify the connectivity between atoms, particularly for non-standard residues\n",
    "    They define chemical bonds between atoms that might not be inferred from standard geometry\n",
    "    Removing CONECT records simplifies the file by eliminating these explicit bond definitions\n",
    "    \"\"\"\n",
    "    with open(input_file, 'r') as f_in:\n",
    "        with open(output_file, 'w') as f_out:\n",
    "            for line in f_in:\n",
    "                if line.startswith('HETATM'):\n",
    "                    continue\n",
    "                if line.startswith('CONECT'):\n",
    "                    continue\n",
    "                f_out.write(line)"
   ]
  },
  {
   "cell_type": "code",
   "execution_count": 4,
   "id": "440d51e0-d278-4b84-98c1-a888d81e5c3f",
   "metadata": {},
   "outputs": [],
   "source": [
    "clean_pdb('1fjs.pdb', '1fjs_protein.pdb')"
   ]
  },
  {
   "cell_type": "code",
   "execution_count": 5,
   "id": "cc4299bf-7190-4e5b-8073-832989dc1900",
   "metadata": {},
   "outputs": [],
   "source": [
    "#  Always check your .pdb file for entries listed under the comment MISSING,\n",
    "# as these entries indicate either atoms or whole residues that are not present in the crystal structure.\n",
    "# Terminal regions may be absent, and may not present a problem for dynamics.\n",
    "\"\"\"\n",
    "Protein crystal structures often have incomplete regions, particularly at the N-terminal and C-terminal ends\n",
    "(the beginning and end of the protein chain).\n",
    "When you see \"MISSING\" in a PDB file, it means those parts weren't resolved in the experimental structure\n",
    "determination.\n",
    "\n",
    "The note about terminal regions \"not presenting a problem for dynamics\" means:\n",
    "\n",
    "1. Missing terminal regions (ends of the protein) are typically flexible and disordered in solution,\n",
    "    which is why they often don't show up clearly in crystal structures\n",
    "2. For molecular dynamics simulations, having these terminal regions missing is usually acceptable because:\n",
    "   - They're often not crucial for the core protein function or structure\n",
    "   - They typically extend into the solvent and don't participate in important structural interactions\n",
    "   - The dynamics of the rest of the protein can still be studied meaningfully without them\n",
    "\n",
    "However, if missing regions are in the middle of the protein or in functionally important areas\n",
    "(like active sites or binding interfaces), that would be more problematic for a simulation.\n",
    "Those gaps would need to be addressed by modeling the missing sections before running dynamics.\n",
    "\"\"\"\n",
    "!grep MISSING 1fjs.pdb"
   ]
  },
  {
   "cell_type": "code",
   "execution_count": 6,
   "id": "2d67074c-fd3a-43f4-b5b1-5972eb190161",
   "metadata": {},
   "outputs": [
    {
     "data": {
      "application/vnd.jupyter.widget-view+json": {
       "model_id": "9f6bc642e97f4c1798b3f973bbb2df48",
       "version_major": 2,
       "version_minor": 0
      },
      "text/plain": [
       "NGLWidget()"
      ]
     },
     "metadata": {},
     "output_type": "display_data"
    }
   ],
   "source": [
    "view = ng.show_structure_file(\"1fjs_protein.pdb\")\n",
    "#view.add_surface(selection=\"protein\", opacity=0.2)\n",
    "view.add_licorice('ALA')\n",
    "view"
   ]
  },
  {
   "cell_type": "markdown",
   "id": "144b9a59-8910-4a23-8dd8-f85976574c4f",
   "metadata": {},
   "source": [
    "# Topology"
   ]
  },
  {
   "cell_type": "code",
   "execution_count": 8,
   "id": "c465760a-fa9b-46f3-84ad-305e6ddea564",
   "metadata": {},
   "outputs": [
    {
     "name": "stdout",
     "output_type": "stream",
     "text": [
      "                     :-) GROMACS - gmx pdb2gmx, 2025.0 (-:\n",
      "\n",
      "Executable:   /usr/local/gromacs/bin/gmx_mpi\n",
      "Data prefix:  /usr/local/gromacs\n",
      "Working dir:  /home/ubuntu/src/gromacs\n",
      "Command line:\n",
      "  gmx_mpi pdb2gmx -f 1fjs_protein.pdb -o 1fjs_processed.gro -water tip3p -ff charmm27\n",
      "\n",
      "Using the Charmm27 force field in directory charmm27.ff\n",
      "\n",
      "going to rename charmm27.ff/aminoacids.r2b\n",
      "Opening force field file /usr/local/gromacs/share/gromacs/top/charmm27.ff/aminoacids.r2b\n",
      "\n",
      "going to rename charmm27.ff/rna.r2b\n",
      "Opening force field file /usr/local/gromacs/share/gromacs/top/charmm27.ff/rna.r2b\n",
      "Reading 1fjs_protein.pdb...\n",
      "Read 'COAGULATION FACTOR XA; COAGULATION FACTOR XA', 2236 atoms\n",
      "\n",
      "Analyzing pdb file\n",
      "Splitting chemical chains based on TER records or chain id changing.\n",
      "\n",
      "There are 2 chains and 0 blocks of water and 286 residues with 2236 atoms\n",
      "\n",
      "  chain  #res #atoms\n",
      "\n",
      "  1 'A'   234   1852  \n",
      "\n",
      "  2 'L'    52    384  \n",
      "\n",
      "there were 14 atoms with zero occupancy and 20 atoms with          occupancy unequal to one (out of 2236 atoms). Check your pdb file.\n",
      "there were 14 atoms with zero occupancy and 20 atoms with          occupancy unequal to one (out of 2236 atoms). Check your pdb file.\n",
      "Opening force field file /usr/local/gromacs/share/gromacs/top/charmm27.ff/atomtypes.atp\n",
      "\n",
      "Reading residue database... (Charmm27)\n",
      "Opening force field file /usr/local/gromacs/share/gromacs/top/charmm27.ff/aminoacids.rtp\n",
      "Opening force field file /usr/local/gromacs/share/gromacs/top/charmm27.ff/dna.rtp\n",
      "Opening force field file /usr/local/gromacs/share/gromacs/top/charmm27.ff/lipids.rtp\n",
      "Opening force field file /usr/local/gromacs/share/gromacs/top/charmm27.ff/rna.rtp\n",
      "Opening force field file /usr/local/gromacs/share/gromacs/top/charmm27.ff/aminoacids.hdb\n",
      "Opening force field file /usr/local/gromacs/share/gromacs/top/charmm27.ff/dna.hdb\n",
      "Opening force field file /usr/local/gromacs/share/gromacs/top/charmm27.ff/lipids.hdb\n",
      "Opening force field file /usr/local/gromacs/share/gromacs/top/charmm27.ff/rna.hdb\n",
      "Opening force field file /usr/local/gromacs/share/gromacs/top/charmm27.ff/aminoacids.n.tdb\n",
      "Opening force field file /usr/local/gromacs/share/gromacs/top/charmm27.ff/dna.n.tdb\n",
      "Opening force field file /usr/local/gromacs/share/gromacs/top/charmm27.ff/rna.n.tdb\n",
      "Opening force field file /usr/local/gromacs/share/gromacs/top/charmm27.ff/aminoacids.c.tdb\n",
      "Opening force field file /usr/local/gromacs/share/gromacs/top/charmm27.ff/dna.c.tdb\n",
      "Opening force field file /usr/local/gromacs/share/gromacs/top/charmm27.ff/rna.c.tdb\n",
      "\n",
      "Back Off! I just backed up topol.top to ./#topol.top.1#\n",
      "\n",
      "Processing chain 1 'A' (1852 atoms, 234 residues)\n",
      "Analysing hydrogen-bonding network for automated assignment of histidine\n",
      " protonation. 362 donors and 349 acceptors were found.\n",
      "There are 555 hydrogen bonds\n",
      "Will use HISD for residue 57\n",
      "Will use HISE for residue 83\n",
      "Will use HISE for residue 91\n",
      "Will use HISE for residue 145\n",
      "Will use HISE for residue 199\n",
      "\n",
      "Identified residue ILE16 as a starting terminus.\n",
      "\n",
      "Identified residue THR244 as a ending terminus.\n",
      "9 out of 9 lines of specbond.dat converted successfully\n",
      "Special Atom Distance matrix:\n",
      "                   CYS22   CYS27   CYS42   HIS57   CYS58   HIS83   HIS91\n",
      "                    SG47    SG83   SG206  NE2318   SG324  NE2536  NE2602\n",
      "   CYS27    SG83   0.230\n",
      "   CYS42   SG206   1.706   1.726\n",
      "   HIS57  NE2318   1.948   1.957   0.488\n",
      "   CYS58   SG324   1.773   1.764   0.239   0.410\n",
      "   HIS83  NE2536   1.872   1.798   1.852   2.279   1.873\n",
      "   HIS91  NE2602   2.853   2.730   1.835   1.629   1.597   2.634\n",
      "  MET116   SD817   1.252   1.187   2.584   2.933   2.636   1.627   3.494\n",
      "  CYS122   SG856   1.708   1.478   2.379   2.509   2.269   1.937   2.281\n",
      "  MET131   SD955   2.113   1.962   2.158   1.966   1.988   2.884   1.650\n",
      "  HIS145 NE21060   1.681   1.881   2.029   2.090   2.189   3.133   3.567\n",
      "  MET157  SD1150   0.444   0.441   1.993   2.151   2.030   2.237   2.952\n",
      "  CYS168  SG1240   2.410   2.363   2.047   1.668   1.921   3.430   1.943\n",
      "  MET180  SD1333   2.454   2.400   1.600   1.169   1.431   3.072   1.338\n",
      "  CYS182  SG1351   2.251   2.220   1.931   1.568   1.827   3.346   2.037\n",
      "  CYS191  SG1433   1.587   1.712   1.218   1.163   1.340   2.724   2.665\n",
      "  HIS199 NE21485   1.407   1.306   1.711   1.594   1.615   2.569   1.992\n",
      "  CYS220  SG1644   1.746   1.851   1.264   1.115   1.355   2.864   2.577\n",
      "  MET242  SD1835   2.207   2.023   1.934   2.057   1.767   1.591   1.426\n",
      "                  MET116  CYS122  MET131  HIS145  MET157  CYS168  MET180\n",
      "                   SD817   SG856   SD955 NE21060  SD1150  SG1240  SD1333\n",
      "  CYS122   SG856   1.719\n",
      "  MET131   SD955   2.879   1.549\n",
      "  HIS145 NE21060   2.784   3.257   2.955\n",
      "  MET157  SD1150   1.417   1.664   1.956   1.752\n",
      "  CYS168  SG1240   3.501   2.566   1.163   2.504   2.283\n",
      "  MET180  SD1333   3.482   2.530   1.310   2.641   2.453   0.737\n",
      "  CYS182  SG1351   3.378   2.552   1.241   2.275   2.129   0.230   0.797\n",
      "  CYS191  SG1433   2.789   2.821   2.308   0.954   1.714   1.796   1.759\n",
      "  HIS199 NE21485   2.392   1.569   0.811   2.167   1.251   1.137   1.341\n",
      "  CYS220  SG1644   2.961   2.872   2.227   1.111   1.838   1.617   1.589\n",
      "  MET242  SD1835   2.366   1.191   1.760   3.512   2.346   2.587   2.218\n",
      "                  CYS182  CYS191  HIS199  CYS220\n",
      "                  SG1351  SG1433 NE21485  SG1644\n",
      "  CYS191  SG1433   1.584\n",
      "  HIS199 NE21485   1.054   1.611\n",
      "  CYS220  SG1644   1.407   0.237   1.574\n",
      "  MET242  SD1835   2.606   2.828   1.915   2.851\n",
      "Start terminus ILE-16: NH3+\n",
      "End terminus THR-244: COO-\n",
      "Opening force field file /usr/local/gromacs/share/gromacs/top/charmm27.ff/aminoacids.arn\n",
      "Opening force field file /usr/local/gromacs/share/gromacs/top/charmm27.ff/dna.arn\n",
      "Opening force field file /usr/local/gromacs/share/gromacs/top/charmm27.ff/rna.arn\n",
      "\n",
      "Checking for duplicate atoms....\n",
      "\n",
      "Generating any missing hydrogen atoms and/or adding termini.\n",
      "\n",
      "Now there are 234 residues with 3673 atoms\n",
      "Chain time...\n",
      "\n",
      "Back Off! I just backed up topol_Protein_chain_A.itp to ./#topol_Protein_chain_A.itp.1#\n",
      "\n",
      "Making bonds...\n",
      "\n",
      "Number of bonds was 3711, now 3711\n",
      "\n",
      "Generating angles, dihedrals and pairs...\n",
      "Before cleaning: 9703 pairs\n",
      "Before cleaning: 9778 dihedrals\n",
      "\n",
      "Making cmap torsions...\n",
      "\n",
      "There are  232 cmap torsion pairs\n",
      "\n",
      "There are 9778 dihedrals,  605 impropers, 6679 angles\n",
      "          9631 pairs,     3711 bonds and     0 virtual sites\n",
      "\n",
      "Total mass 26412.137 a.m.u.\n",
      "\n",
      "Total charge 1.000 e\n",
      "\n",
      "Writing topology\n",
      "\n",
      "Back Off! I just backed up posre_Protein_chain_A.itp to ./#posre_Protein_chain_A.itp.1#\n",
      "\n",
      "Processing chain 2 'L' (384 atoms, 52 residues)\n",
      "Analysing hydrogen-bonding network for automated assignment of histidine\n",
      " protonation. 74 donors and 80 acceptors were found.\n",
      "There are 118 hydrogen bonds\n",
      "Will use HISE for residue 101\n",
      "\n",
      "Identified residue LYS87 as a starting terminus.\n",
      "\n",
      "Identified residue GLU138 as a ending terminus.\n",
      "9 out of 9 lines of specbond.dat converted successfully\n",
      "Special Atom Distance matrix:\n",
      "                   CYS89   CYS96  CYS100  HIS101  CYS109  CYS111  CYS124\n",
      "                    SG23    SG71   SG105  NE2115   SG176   SG188   SG280\n",
      "   CYS96    SG71   0.578\n",
      "  CYS100   SG105   0.236   0.347\n",
      "  HIS101  NE2115   0.735   0.673   0.662\n",
      "  CYS109   SG176   0.752   0.229   0.539   0.710\n",
      "  CYS111   SG188   1.344   0.870   1.141   0.855   0.787\n",
      "  CYS124   SG280   1.299   0.804   1.083   0.926   0.760   0.239\n",
      "  CYS132   SG338   1.943   1.630   1.787   1.458   1.656   0.993   0.967\n",
      "                \n",
      "                \n",
      "Start terminus LYS-87: NH3+\n",
      "End terminus GLU-138: COO-\n",
      "Opening force field file /usr/local/gromacs/share/gromacs/top/charmm27.ff/aminoacids.arn\n",
      "Opening force field file /usr/local/gromacs/share/gromacs/top/charmm27.ff/dna.arn\n",
      "Opening force field file /usr/local/gromacs/share/gromacs/top/charmm27.ff/rna.arn\n",
      "\n",
      "Checking for duplicate atoms....\n",
      "\n",
      "Generating any missing hydrogen atoms and/or adding termini.\n",
      "\n",
      "Now there are 52 residues with 744 atoms\n",
      "Chain time...\n",
      "\n",
      "Back Off! I just backed up topol_Protein_chain_L.itp to ./#topol_Protein_chain_L.itp.1#\n",
      "\n",
      "Making bonds...\n",
      "\n",
      "Number of bonds was 750, now 750\n",
      "\n",
      "Generating angles, dihedrals and pairs...\n",
      "Before cleaning: 1959 pairs\n",
      "Before cleaning: 1979 dihedrals\n",
      "\n",
      "Making cmap torsions...\n",
      "\n",
      "There are   50 cmap torsion pairs\n",
      "\n",
      "There are 1979 dihedrals,  141 impropers, 1348 angles\n",
      "          1950 pairs,      750 bonds and     0 virtual sites\n",
      "\n",
      "Total mass 5581.215 a.m.u.\n",
      "\n",
      "Total charge -3.000 e\n",
      "\n",
      "Writing topology\n",
      "\n",
      "Back Off! I just backed up posre_Protein_chain_L.itp to ./#posre_Protein_chain_L.itp.1#\n",
      "\n",
      "Including chain 1 in system: 3673 atoms 234 residues\n",
      "\n",
      "Including chain 2 in system: 744 atoms 52 residues\n",
      "\n",
      "Now there are 4417 atoms and 286 residues\n",
      "\n",
      "Total mass in system 31993.352 a.m.u.\n",
      "\n",
      "Total charge in system -2.000 e\n",
      "\n",
      "Writing coordinate file...\n",
      "\n",
      "Back Off! I just backed up 1fjs_processed.gro to ./#1fjs_processed.gro.1#\n",
      "\n",
      "\t\t--------- PLEASE NOTE ------------\n",
      "\n",
      "You have successfully generated a topology from: 1fjs_protein.pdb.\n",
      "\n",
      "The Charmm27 force field and the tip3p water model are used.\n",
      "\n",
      "\t\t--------- ETON ESAELP ------------\n",
      "\n",
      "GROMACS reminds you: \"This May Come As a Shock\" (F. Black)\n",
      "\n"
     ]
    }
   ],
   "source": [
    "!gmx_mpi pdb2gmx -f 1fjs_protein.pdb -o 1fjs_processed.gro -water tip3p -ff \"charmm27\""
   ]
  },
  {
   "cell_type": "code",
   "execution_count": 9,
   "id": "7f484e26-5747-4540-9292-03abc87d68b9",
   "metadata": {},
   "outputs": [
    {
     "name": "stdout",
     "output_type": "stream",
     "text": [
      ";\n",
      ";\tFile 'topol.top' was generated\n",
      ";\tBy user: ubuntu (1000)\n",
      ";\tOn host: ip-10-0-101-171\n",
      ";\tAt date: Tue Mar  4 05:28:42 2025\n",
      ";\n",
      ";\tThis is a standalone topology file\n",
      ";\n",
      ";\tCreated by:\n",
      ";\t                    :-) GROMACS - gmx pdb2gmx, 2025.0 (-:\n",
      ";\t\n",
      ";\tExecutable:   /usr/local/gromacs/bin/gmx_mpi\n",
      ";\tData prefix:  /usr/local/gromacs\n",
      ";\tWorking dir:  /home/ubuntu/src/gromacs\n",
      ";\tCommand line:\n",
      ";\t  gmx_mpi pdb2gmx -f 1fjs_protein.pdb -o 1fjs_processed.gro -water tip3p -ff charmm27\n",
      ";\tForce field was read from the standard GROMACS share directory.\n",
      ";\n",
      "\n",
      "; Include forcefield parameters\n",
      "#include \"charmm27.ff/forcefield.itp\"\n",
      "\n",
      "; Include chain topologies\n",
      "#include \"topol_Protein_chain_A.itp\"\n",
      "#include \"topol_Protein_chain_L.itp\"\n",
      "\n",
      "; Include water topology\n",
      "#include \"charmm27.ff/tip3p.itp\"\n",
      "\n",
      "#ifdef POSRES_WATER\n",
      "; Position restraint for each water oxygen\n",
      "[ position_restraints ]\n",
      ";  i funct       fcx        fcy        fcz\n",
      "   1    1       1000       1000       1000\n",
      "#endif\n",
      "\n",
      "; Include topology for ions\n",
      "#include \"charmm27.ff/ions.itp\"\n",
      "\n",
      "[ system ]\n",
      "; Name\n",
      "COAGULATION FACTOR XA; COAGULATION FACTOR XA\n",
      "\n",
      "[ molecules ]\n",
      "; Compound        #mols\n",
      "Protein_chain_A     1\n",
      "Protein_chain_L     1\n"
     ]
    }
   ],
   "source": [
    "!cat topol.top"
   ]
  },
  {
   "cell_type": "code",
   "execution_count": 10,
   "id": "5c157971-2104-40c7-90e9-39cb50cd93d2",
   "metadata": {},
   "outputs": [
    {
     "name": "stdout",
     "output_type": "stream",
     "text": [
      "[ moleculetype ]\n",
      "; Name            nrexcl\n",
      "Protein_chain_A     3\n",
      "\n"
     ]
    }
   ],
   "source": [
    "!grep \"moleculetype\" -A 3 topol_Protein_chain_A.itp"
   ]
  },
  {
   "cell_type": "code",
   "execution_count": 11,
   "id": "4c14595e-1e35-4077-8a19-6e5584a4e8a3",
   "metadata": {},
   "outputs": [
    {
     "name": "stdout",
     "output_type": "stream",
     "text": [
      "[ moleculetype ]\n",
      "; Name            nrexcl\n",
      "Protein_chain_L     3\n",
      "\n"
     ]
    }
   ],
   "source": [
    "!grep \"moleculetype\" -A 3 topol_Protein_chain_L.itp"
   ]
  },
  {
   "cell_type": "code",
   "execution_count": 12,
   "id": "358c86ea-1e69-4b06-8a77-c250552b2b85",
   "metadata": {},
   "outputs": [
    {
     "name": "stdout",
     "output_type": "stream",
     "text": [
      "[ atoms ]\n",
      ";   nr       type  resnr residue  atom   cgnr     charge       mass  typeB    chargeB      massB\n",
      "; residue  16 ILE rtp ILE  q +1.0\n",
      "     1        NH3     16    ILE      N      1       -0.3     14.007\n",
      "     2         HC     16    ILE     H1      2       0.33      1.008\n"
     ]
    }
   ],
   "source": [
    "! grep \"atoms\" -A 4 topol_Protein_chain_A.itp"
   ]
  },
  {
   "cell_type": "code",
   "execution_count": 13,
   "id": "e7525e56-70ba-40d6-8868-b44529e9cef6",
   "metadata": {},
   "outputs": [
    {
     "name": "stdout",
     "output_type": "stream",
     "text": [
      "[ bonds ]\n",
      ";  ai    aj funct            c0            c1            c2            c3\n",
      "    1     2     1 \n"
     ]
    }
   ],
   "source": [
    "!grep \"bonds\" -A 2 topol_Protein_chain_A.itp"
   ]
  },
  {
   "cell_type": "code",
   "execution_count": 14,
   "id": "cbee318c-4807-4e3b-83c7-36c7e1defb29",
   "metadata": {},
   "outputs": [
    {
     "name": "stdout",
     "output_type": "stream",
     "text": [
      "[ pairs ]\n",
      ";  ai    aj funct            c0            c1            c2            c3\n",
      "    1     8     1 \n"
     ]
    }
   ],
   "source": [
    "!grep \"pairs\" -A 2  topol_Protein_chain_A.itp"
   ]
  },
  {
   "cell_type": "code",
   "execution_count": 15,
   "id": "78cd4435-c3d8-40db-ac40-b2768d17de79",
   "metadata": {},
   "outputs": [
    {
     "name": "stdout",
     "output_type": "stream",
     "text": [
      "[ angles ]\n",
      ";  ai    aj    ak funct            c0            c1            c2            c3\n",
      "    2     1     3     5 \n"
     ]
    }
   ],
   "source": [
    "!grep \"angles\" -A 2 topol_Protein_chain_A.itp"
   ]
  },
  {
   "cell_type": "code",
   "execution_count": 16,
   "id": "60ba0f87-2a75-48f1-8e07-e5bb2ae171dd",
   "metadata": {},
   "outputs": [
    {
     "name": "stdout",
     "output_type": "stream",
     "text": [
      "[ dihedrals ]\n",
      ";  ai    aj    ak    al funct            c0            c1            c2            c3            c4            c5\n",
      "    2     1     5     6     9 \n",
      "--\n",
      "[ dihedrals ]\n",
      ";  ai    aj    ak    al funct            c0            c1            c2            c3\n",
      "   20     5    22    21     2 \n"
     ]
    }
   ],
   "source": [
    "!grep \"dihedrals\" -A 2 topol_Protein_chain_A.itp"
   ]
  },
  {
   "cell_type": "code",
   "execution_count": 17,
   "id": "9f893663-2dbc-4980-b2c7-92dfd79e2418",
   "metadata": {},
   "outputs": [
    {
     "name": "stdout",
     "output_type": "stream",
     "text": [
      "topol_Protein_chain_A.itp:#include \"posre_Protein_chain_A.itp\"\n",
      "topol_Protein_chain_L.itp:#include \"posre_Protein_chain_L.itp\"\n"
     ]
    }
   ],
   "source": [
    "!grep \"posre\" topol*.itp"
   ]
  },
  {
   "cell_type": "code",
   "execution_count": 18,
   "id": "297320ce-0fa4-4505-a6e1-9ee58179c2c7",
   "metadata": {},
   "outputs": [
    {
     "name": "stdout",
     "output_type": "stream",
     "text": [
      "; In this topology include file, you will find position restraint\n",
      "; entries for all the heavy atoms in your original pdb file.\n",
      "; This means that all the protons which were added by pdb2gmx are\n",
      "; not restrained.\n",
      "\n",
      "[ position_restraints ]\n",
      "; atom  type      fx      fy      fz\n",
      "     1     1  1000  1000  1000\n",
      "     5     1  1000  1000  1000\n",
      "     7     1  1000  1000  1000\n"
     ]
    }
   ],
   "source": [
    "!head posre_Protein_chain_A.itp"
   ]
  },
  {
   "cell_type": "code",
   "execution_count": 19,
   "id": "ed1cd7b8-da6e-47c0-bc50-54f63914016f",
   "metadata": {},
   "outputs": [
    {
     "name": "stdout",
     "output_type": "stream",
     "text": [
      "; Include water topology\n",
      "#include \"charmm27.ff/tip3p.itp\"\n",
      "\n",
      "#ifdef POSRES_WATER\n",
      "; Position restraint for each water oxygen\n",
      "[ position_restraints ]\n",
      ";  i funct       fcx        fcy        fcz\n",
      "   1    1       1000       1000       1000\n",
      "#endif\n"
     ]
    }
   ],
   "source": [
    "!grep \"Include water topology\" -A 8 topol.top"
   ]
  },
  {
   "cell_type": "code",
   "execution_count": 20,
   "id": "5d6e1109-4f2f-4ac7-8167-d44f41c447cf",
   "metadata": {},
   "outputs": [
    {
     "name": "stdout",
     "output_type": "stream",
     "text": [
      "; Include topology for ions\n",
      "#include \"charmm27.ff/ions.itp\"\n"
     ]
    }
   ],
   "source": [
    "!grep \"ions\" topol.top"
   ]
  },
  {
   "cell_type": "code",
   "execution_count": 21,
   "id": "8b8d7eed-c9b5-48dd-ae26-f3c1e76b91ce",
   "metadata": {},
   "outputs": [
    {
     "name": "stdout",
     "output_type": "stream",
     "text": [
      "[ system ]\n",
      "; Name\n",
      "COAGULATION FACTOR XA; COAGULATION FACTOR XA\n",
      "\n",
      "[ molecules ]\n",
      "; Compound        #mols\n",
      "Protein_chain_A     1\n",
      "Protein_chain_L     1\n"
     ]
    }
   ],
   "source": [
    "!tail -8 topol.top"
   ]
  },
  {
   "cell_type": "markdown",
   "id": "a8992689-42db-44e0-861f-e0687e443e6e",
   "metadata": {},
   "source": [
    "# Defining the simulation box"
   ]
  },
  {
   "cell_type": "code",
   "execution_count": 22,
   "id": "828cc7b1-f63c-4b14-a292-44ce30443364",
   "metadata": {},
   "outputs": [
    {
     "name": "stdout",
     "output_type": "stream",
     "text": [
      "                     :-) GROMACS - gmx editconf, 2025.0 (-:\n",
      "\n",
      "Executable:   /usr/local/gromacs/bin/gmx_mpi\n",
      "Data prefix:  /usr/local/gromacs\n",
      "Working dir:  /home/ubuntu/src/gromacs\n",
      "Command line:\n",
      "  gmx_mpi editconf -f 1fjs_processed.gro -o 1fjs_newbox.gro -c -d 1.0 -bt dodecahedron\n",
      "\n",
      "Note that major changes are planned in future for editconf, to improve usability and utility.\n",
      "Read 4417 atoms\n",
      "Volume: 321.98 nm^3, corresponds to roughly 144800 electrons\n",
      "No velocities found\n",
      "    system size :  6.066  5.213  4.092 (nm)\n",
      "    diameter    :  6.268               (nm)\n",
      "    center      :  2.234  1.342  2.544 (nm)\n",
      "    box vectors :  5.577  7.196  8.023 (nm)\n",
      "    box angles  :  90.00  90.00  90.00 (degrees)\n",
      "    box volume  : 321.98               (nm^3)\n",
      "    shift       :  3.967  4.858  0.379 (nm)\n",
      "new center      :  6.201  6.201  2.923 (nm)\n",
      "new box vectors :  8.268  8.268  8.268 (nm)\n",
      "new box angles  :  60.00  60.00  90.00 (degrees)\n",
      "new box volume  : 399.60               (nm^3)\n",
      "\n",
      "GROMACS reminds you: \"Jesus Not Only Saves, He Also Frequently Makes Backups.\" (Myron Bradshaw)\n",
      "\n"
     ]
    }
   ],
   "source": [
    "!gmx_mpi editconf -f 1fjs_processed.gro -o 1fjs_newbox.gro -c -d 1.0 -bt dodecahedron"
   ]
  },
  {
   "cell_type": "markdown",
   "id": "aac0db76-e829-4734-a50c-0a53e2d65b2e",
   "metadata": {},
   "source": [
    "# Fill it with water"
   ]
  },
  {
   "cell_type": "code",
   "execution_count": 23,
   "id": "c808f489-f3df-42b7-ab20-6e89a5a4c342",
   "metadata": {},
   "outputs": [
    {
     "name": "stdout",
     "output_type": "stream",
     "text": [
      "                     :-) GROMACS - gmx solvate, 2025.0 (-:\n",
      "\n",
      "Executable:   /usr/local/gromacs/bin/gmx_mpi\n",
      "Data prefix:  /usr/local/gromacs\n",
      "Working dir:  /home/ubuntu/src/gromacs\n",
      "Command line:\n",
      "  gmx_mpi solvate -cp 1fjs_newbox.gro -cs spc216.gro -o 1fjs_solv.gro -p topol.top\n",
      "\n",
      "Reading solute configuration\n",
      "Reading solvent configuration\n",
      "\n",
      "Initialising inter-atomic distances...\n",
      "\n",
      "WARNING: Masses and atomic (Van der Waals) radii will be guessed\n",
      "         based on residue and atom names, since they could not be\n",
      "         definitively assigned from the information in your input\n",
      "         files. These guessed numbers might deviate from the mass\n",
      "         and radius of the atom type. Please check the output\n",
      "         files if necessary. Note, that this functionality may\n",
      "         be removed in a future GROMACS version. Please, consider\n",
      "         using another file format for your input.\n",
      "\n",
      "NOTE: From version 5.0 gmx solvate uses the Van der Waals radii\n",
      "from the source below. This means the results may be different\n",
      "compared to previous GROMACS versions.\n",
      "\n",
      "++++ PLEASE READ AND CITE THE FOLLOWING REFERENCE ++++\n",
      "A. Bondi\n",
      "van der Waals Volumes and Radii\n",
      "J. Phys. Chem. (1964)\n",
      "DOI: 10.1021/j100785a001\n",
      "-------- -------- --- Thank You --- -------- --------\n",
      "\n",
      "Generating solvent configuration\n",
      "Will generate new solvent configuration of 5x5x4 boxes\n",
      "Solvent box contains 45345 atoms in 15115 residues\n",
      "Removed 5904 solvent atoms due to solvent-solvent overlap\n",
      "Removed 4110 solvent atoms due to solute-solvent overlap\n",
      "Sorting configuration\n",
      "Found 1 molecule type:\n",
      "    SOL (   3 atoms): 11777 residues\n",
      "Generated solvent containing 35331 atoms in 11777 residues\n",
      "Writing generated configuration to 1fjs_solv.gro\n",
      "\n",
      "Output configuration contains 39748 atoms in 12063 residues\n",
      "Volume                 :     399.595 (nm^3)\n",
      "Density                :     1023.56 (g/l)\n",
      "Number of solvent molecules:  11777   \n",
      "\n",
      "Processing topology\n",
      "Adding line for 11777 solvent molecules with resname (SOL) to topology file (topol.top)\n",
      "\n",
      "Back Off! I just backed up topol.top to ./#topol.top.2#\n",
      "\n",
      "GROMACS reminds you: \"Push It Real Good\" (Salt 'n' Pepa)\n",
      "\n"
     ]
    }
   ],
   "source": [
    "!gmx_mpi solvate -cp 1fjs_newbox.gro -cs spc216.gro -o 1fjs_solv.gro -p topol.top"
   ]
  },
  {
   "cell_type": "code",
   "execution_count": 24,
   "id": "ef13d9f9-039e-452e-9a6e-7ef06f15ad94",
   "metadata": {},
   "outputs": [
    {
     "name": "stdout",
     "output_type": "stream",
     "text": [
      "\n",
      "[ system ]\n",
      "; Name\n",
      "COAGULATION FACTOR XA; COAGULATION FACTOR XA in water\n",
      "\n",
      "[ molecules ]\n",
      "; Compound        #mols\n",
      "Protein_chain_A     1\n",
      "Protein_chain_L     1\n",
      "SOL             11777\n"
     ]
    }
   ],
   "source": [
    "!tail topol.top"
   ]
  },
  {
   "cell_type": "code",
   "execution_count": 26,
   "id": "c6210dbc-86c3-4519-bc3d-f235b90ea42a",
   "metadata": {},
   "outputs": [
    {
     "data": {
      "application/vnd.jupyter.widget-view+json": {
       "model_id": "4fa82ed3e48045e5a0c31d5dbf4294c5",
       "version_major": 2,
       "version_minor": 0
      },
      "text/plain": [
       "NGLWidget()"
      ]
     },
     "metadata": {},
     "output_type": "display_data"
    }
   ],
   "source": [
    "view = ng.show_structure_file(\"1fjs_solv.gro\")\n",
    "view.add_surface(selection=\"protein\", opacity=0.2)\n",
    "view.add_representation(repr_type='ball+stick', selection='SOL')\n",
    "view.camera='orthographic'\n",
    "view"
   ]
  },
  {
   "cell_type": "markdown",
   "id": "8056ddec-31d3-41ca-8175-29035d43a5eb",
   "metadata": {},
   "source": [
    "# Adding ions"
   ]
  },
  {
   "cell_type": "code",
   "execution_count": 27,
   "id": "9880404c-bf2a-4a37-85eb-a3a735908cf3",
   "metadata": {},
   "outputs": [],
   "source": [
    "!touch ions.mdp"
   ]
  },
  {
   "cell_type": "code",
   "execution_count": 28,
   "id": "740cad9a-c47a-40aa-8918-a24d9703a0e2",
   "metadata": {},
   "outputs": [
    {
     "name": "stdout",
     "output_type": "stream",
     "text": [
      "                      :-) GROMACS - gmx grompp, 2025.0 (-:\n",
      "\n",
      "Executable:   /usr/local/gromacs/bin/gmx_mpi\n",
      "Data prefix:  /usr/local/gromacs\n",
      "Working dir:  /home/ubuntu/src/gromacs\n",
      "Command line:\n",
      "  gmx_mpi grompp -f ions.mdp -c 1fjs_solv.gro -p topol.top -o ions.tpr\n",
      "\n",
      "\n",
      "NOTE 1 [file ions.mdp]:\n",
      "  For a correct single-point energy evaluation with nsteps = 0, use\n",
      "  continuation = yes to avoid constraining the input coordinates.\n",
      "\n",
      "Setting the LD random seed to -1091568262\n",
      "\n",
      "Generated 20503 of the 20503 non-bonded parameter combinations\n",
      "Generating 1-4 interactions: fudge = 1\n",
      "\n",
      "Generated 17396 of the 20503 1-4 parameter combinations\n",
      "\n",
      "Excluding 3 bonded neighbours molecule type 'Protein_chain_A'\n",
      "\n",
      "Excluding 3 bonded neighbours molecule type 'Protein_chain_L'\n",
      "\n",
      "Excluding 2 bonded neighbours molecule type 'SOL'\n",
      "\n",
      "NOTE 2 [file topol.top, line 48]:\n",
      "  System has non-zero total charge: -2.000000\n",
      "  Total charge should normally be an integer. See\n",
      "  https://manual.gromacs.org/current/user-guide/floating-point.html\n",
      "  for discussion on how close it should be to an integer.\n",
      "\n",
      "\n",
      "\n",
      "\n",
      "Taking velocities from '1fjs_solv.gro', all velocities are zero\n",
      "\n",
      "NOTE 3 [file topol.top, line 48]:\n",
      "  The bond in molecule-type Protein_chain_A between atoms 415 OG1 and 416\n",
      "  HG1 has an estimated oscillational period of 9.1e-03 ps, which is less\n",
      "  than 10 times the time step of 1.0e-03 ps.\n",
      "  Maybe you forgot to change the constraints mdp option.\n",
      "\n",
      "Analysing residue names:\n",
      "There are:   286    Protein residues\n",
      "There are: 11777      Water residues\n",
      "Analysing Protein...\n",
      "Number of degrees of freedom in T-Coupling group rest is 83910.00\n",
      "The integrator does not provide a ensemble temperature, there is no system ensemble temperature\n",
      "\n",
      "NOTE 4 [file ions.mdp]:\n",
      "  NVE simulation with an initial temperature of zero: will use a Verlet\n",
      "  buffer of 10%. Check your energy drift!\n",
      "\n",
      "\n",
      "NOTE 5 [file ions.mdp]:\n",
      "  You are using a plain Coulomb cut-off, which might produce artifacts.\n",
      "  You might want to consider using PME electrostatics.\n",
      "\n",
      "\n",
      "\n",
      "This run will generate roughly 3 Mb of data\n",
      "\n",
      "There were 5 NOTEs\n",
      "\n",
      "GROMACS reminds you: \"It's just the way this stuff is done\" (Built to Spill)\n",
      "\n"
     ]
    }
   ],
   "source": [
    "!gmx_mpi grompp -f ions.mdp -c 1fjs_solv.gro -p topol.top -o ions.tpr"
   ]
  },
  {
   "cell_type": "code",
   "execution_count": 30,
   "id": "e1a5e028-4959-4309-9fe3-89018d6d13f6",
   "metadata": {},
   "outputs": [
    {
     "name": "stdout",
     "output_type": "stream",
     "text": [
      "                      :-) GROMACS - gmx genion, 2025.0 (-:\n",
      "\n",
      "Executable:   /usr/local/gromacs/bin/gmx_mpi\n",
      "Data prefix:  /usr/local/gromacs\n",
      "Working dir:  /home/ubuntu/src/gromacs\n",
      "Command line:\n",
      "  gmx_mpi genion -s ions.tpr -o 1fjs_solv_ions.gro -conc 0.15 -p topol.top -pname NA -nname CL -neutral\n",
      "\n",
      "Reading file ions.tpr, VERSION 2025.0 (single precision)\n",
      "Reading file ions.tpr, VERSION 2025.0 (single precision)\n",
      "Will try to add 38 NA ions and 36 CL ions.\n",
      "Select a continuous group of solvent molecules\n",
      "Group     0 (         System) has 39748 elements\n",
      "Group     1 (        Protein) has  4417 elements\n",
      "Group     2 (      Protein-H) has  2238 elements\n",
      "Group     3 (        C-alpha) has   286 elements\n",
      "Group     4 (       Backbone) has   858 elements\n",
      "Group     5 (      MainChain) has  1142 elements\n",
      "Group     6 (   MainChain+Cb) has  1401 elements\n",
      "Group     7 (    MainChain+H) has  1423 elements\n",
      "Group     8 (      SideChain) has  2994 elements\n",
      "Group     9 (    SideChain-H) has  1096 elements\n",
      "Group    10 (    Prot-Masses) has  4417 elements\n",
      "Group    11 (    non-Protein) has 35331 elements\n",
      "Group    12 (          Water) has 35331 elements\n",
      "Group    13 (            SOL) has 35331 elements\n",
      "Group    14 (      non-Water) has  4417 elements\n",
      "Select a group: Selected 13: 'SOL'\n",
      "Number of (3-atomic) solvent molecules: 11777\n",
      "\n",
      "Processing topology\n",
      "Replacing 74 solute molecules in topology file (topol.top)  by 38 NA and 36 CL ions.\n",
      "\n",
      "Back Off! I just backed up topol.top to ./#topol.top.3#\n",
      "Using random seed -1143873905.\n",
      "Replacing solvent molecule 586 (atom 6175) with NA\n",
      "Replacing solvent molecule 38 (atom 4531) with NA\n",
      "Replacing solvent molecule 1614 (atom 9259) with NA\n",
      "Replacing solvent molecule 2552 (atom 12073) with NA\n",
      "Replacing solvent molecule 1560 (atom 9097) with NA\n",
      "Replacing solvent molecule 9908 (atom 34141) with NA\n",
      "Replacing solvent molecule 7081 (atom 25660) with NA\n",
      "Replacing solvent molecule 7344 (atom 26449) with NA\n",
      "Replacing solvent molecule 10828 (atom 36901) with NA\n",
      "Replacing solvent molecule 5453 (atom 20776) with NA\n",
      "Replacing solvent molecule 9290 (atom 32287) with NA\n",
      "Replacing solvent molecule 4135 (atom 16822) with NA\n",
      "Replacing solvent molecule 8254 (atom 29179) with NA\n",
      "Replacing solvent molecule 3279 (atom 14254) with NA\n",
      "Replacing solvent molecule 1325 (atom 8392) with NA\n",
      "Replacing solvent molecule 9174 (atom 31939) with NA\n",
      "Replacing solvent molecule 5843 (atom 21946) with NA\n",
      "Replacing solvent molecule 9256 (atom 32185) with NA\n",
      "Replacing solvent molecule 5982 (atom 22363) with NA\n",
      "Replacing solvent molecule 11016 (atom 37465) with NA\n",
      "Replacing solvent molecule 7516 (atom 26965) with NA\n",
      "Replacing solvent molecule 6511 (atom 23950) with NA\n",
      "Replacing solvent molecule 5117 (atom 19768) with NA\n",
      "Replacing solvent molecule 10045 (atom 34552) with NA\n",
      "Replacing solvent molecule 6762 (atom 24703) with NA\n",
      "Replacing solvent molecule 8286 (atom 29275) with NA\n",
      "Replacing solvent molecule 10949 (atom 37264) with NA\n",
      "Replacing solvent molecule 1386 (atom 8575) with NA\n",
      "Replacing solvent molecule 1313 (atom 8356) with NA\n",
      "Replacing solvent molecule 8812 (atom 30853) with NA\n",
      "Replacing solvent molecule 2174 (atom 10939) with NA\n",
      "Replacing solvent molecule 656 (atom 6385) with NA\n",
      "Replacing solvent molecule 1424 (atom 8689) with NA\n",
      "Replacing solvent molecule 5770 (atom 21727) with NA\n",
      "Replacing solvent molecule 11161 (atom 37900) with NA\n",
      "Replacing solvent molecule 5909 (atom 22144) with NA\n",
      "Replacing solvent molecule 9495 (atom 32902) with NA\n",
      "Replacing solvent molecule 11221 (atom 38080) with NA\n",
      "Replacing solvent molecule 11413 (atom 38656) with CL\n",
      "Replacing solvent molecule 691 (atom 6490) with CL\n",
      "Replacing solvent molecule 177 (atom 4948) with CL\n",
      "Replacing solvent molecule 4118 (atom 16771) with CL\n",
      "Replacing solvent molecule 2882 (atom 13063) with CL\n",
      "Replacing solvent molecule 10509 (atom 35944) with CL\n",
      "Replacing solvent molecule 10881 (atom 37060) with CL\n",
      "Replacing solvent molecule 6264 (atom 23209) with CL\n",
      "Replacing solvent molecule 1409 (atom 8644) with CL\n",
      "Replacing solvent molecule 9395 (atom 32602) with CL\n",
      "Replacing solvent molecule 5703 (atom 21526) with CL\n",
      "Replacing solvent molecule 4181 (atom 16960) with CL\n",
      "Replacing solvent molecule 4960 (atom 19297) with CL\n",
      "Replacing solvent molecule 4685 (atom 18472) with CL\n",
      "Replacing solvent molecule 5707 (atom 21538) with CL\n",
      "Replacing solvent molecule 2186 (atom 10975) with CL\n",
      "Replacing solvent molecule 5944 (atom 22249) with CL\n",
      "Replacing solvent molecule 11771 (atom 39730) with CL\n",
      "Replacing solvent molecule 2097 (atom 10708) with CL\n",
      "Replacing solvent molecule 4838 (atom 18931) with CL\n",
      "Replacing solvent molecule 4292 (atom 17293) with CL\n",
      "Replacing solvent molecule 1427 (atom 8698) with CL\n",
      "Replacing solvent molecule 3667 (atom 15418) with CL\n",
      "Replacing solvent molecule 4126 (atom 16795) with CL\n",
      "Replacing solvent molecule 9045 (atom 31552) with CL\n",
      "Replacing solvent molecule 3111 (atom 13750) with CL\n",
      "Replacing solvent molecule 8937 (atom 31228) with CL\n",
      "Replacing solvent molecule 868 (atom 7021) with CL\n",
      "Replacing solvent molecule 9104 (atom 31729) with CL\n",
      "Replacing solvent molecule 4948 (atom 19261) with CL\n",
      "Replacing solvent molecule 5777 (atom 21748) with CL\n",
      "Replacing solvent molecule 6956 (atom 25285) with CL\n",
      "Replacing solvent molecule 1150 (atom 7867) with CL\n",
      "Replacing solvent molecule 9693 (atom 33496) with CL\n",
      "Replacing solvent molecule 6112 (atom 22753) with CL\n",
      "Replacing solvent molecule 1869 (atom 10024) with CL\n",
      "\n",
      "\n",
      "GROMACS reminds you: \"The public have an insatiable curiosity to know everything, except what is worth knowing.\" (Oscar Wilde)\n",
      "\n"
     ]
    }
   ],
   "source": [
    "!printf \"SOL\\n\" | gmx_mpi genion -s ions.tpr -o 1fjs_solv_ions.gro -conc 0.15 -p topol.top -pname NA -nname CL -neutral  "
   ]
  },
  {
   "cell_type": "code",
   "execution_count": 31,
   "id": "df4e12aa-3106-46c2-b1cf-f01c96e2b727",
   "metadata": {},
   "outputs": [
    {
     "name": "stdout",
     "output_type": "stream",
     "text": [
      "\n",
      "[ molecules ]\n",
      "; Compound        #mols\n",
      "Protein_chain_A     1\n",
      "Protein_chain_L     1\n",
      "SOL         11703\n",
      "NA               38\n",
      "CL               36\n"
     ]
    }
   ],
   "source": [
    "!tail -8 topol.top"
   ]
  },
  {
   "cell_type": "code",
   "execution_count": 30,
   "id": "8d0e023b-7bf6-48fa-850a-7e546fa1f2b5",
   "metadata": {},
   "outputs": [
    {
     "data": {
      "application/vnd.jupyter.widget-view+json": {
       "model_id": "a9bbc257c7d242b9a4d3587e54c7151f",
       "version_major": 2,
       "version_minor": 0
      },
      "text/plain": [
       "NGLWidget()"
      ]
     },
     "metadata": {},
     "output_type": "display_data"
    }
   ],
   "source": [
    "view = ng.show_structure_file(\"1fjs_solv_ions.gro\")\n",
    "view.add_surface(selection=\"protein\", opacity=0.2)\n",
    "\n",
    "view.add_representation(repr_type='spacefill', selection='NA')\n",
    "view.add_representation(repr_type='spacefill', selection='CL')\n",
    "view.add_representation(repr_type='ball+stick', selection='SOL')\n",
    "view.camera='orthographic'\n",
    "view"
   ]
  },
  {
   "cell_type": "markdown",
   "id": "4b89b7b3-9048-4fb1-9af9-940d9309ae78",
   "metadata": {},
   "source": [
    "# Energy minimization"
   ]
  },
  {
   "cell_type": "code",
   "execution_count": 31,
   "id": "d5441c3a-1528-404e-9058-a59d0baeb8bc",
   "metadata": {},
   "outputs": [
    {
     "name": "stdout",
     "output_type": "stream",
     "text": [
      "                      :-) GROMACS - gmx grompp, 2025.0 (-:\n",
      "\n",
      "Executable:   /usr/local/gromacs/bin/gmx_mpi\n",
      "Data prefix:  /usr/local/gromacs\n",
      "Working dir:  /home/ubuntu/src/gromacs\n",
      "Command line:\n",
      "  gmx_mpi grompp -f emin-charmm.mdp -c 1fjs_solv_ions.gro -p topol.top -o em.tpr\n",
      "\n",
      "Ignoring obsolete mdp entry 'title'\n",
      "Setting the LD random seed to -1821683395\n",
      "\n",
      "Generated 20503 of the 20503 non-bonded parameter combinations\n",
      "Generating 1-4 interactions: fudge = 1\n",
      "\n",
      "Generated 17396 of the 20503 1-4 parameter combinations\n",
      "\n",
      "Excluding 3 bonded neighbours molecule type 'Protein_chain_A'\n",
      "\n",
      "turning H bonds into constraints...\n",
      "\n",
      "Excluding 3 bonded neighbours molecule type 'Protein_chain_L'\n",
      "\n",
      "turning H bonds into constraints...\n",
      "\n",
      "Excluding 2 bonded neighbours molecule type 'SOL'\n",
      "\n",
      "turning H bonds into constraints...\n",
      "\n",
      "Excluding 1 bonded neighbours molecule type 'NA'\n",
      "\n",
      "turning H bonds into constraints...\n",
      "\n",
      "Excluding 1 bonded neighbours molecule type 'CL'\n",
      "\n",
      "turning H bonds into constraints...\n",
      "Analysing residue names:\n",
      "There are:   286    Protein residues\n",
      "There are: 11703      Water residues\n",
      "There are:    74        Ion residues\n",
      "Analysing Protein...\n",
      "Number of degrees of freedom in T-Coupling group rest is 81509.00\n",
      "The integrator does not provide a ensemble temperature, there is no system ensemble temperature\n",
      "\n",
      "The largest distance between excluded atoms is 0.418 nm between atom 3810 and 3812\n",
      "Calculating fourier grid dimensions for X Y Z\n",
      "Using a fourier grid of 56x56x56, spacing 0.148 0.148 0.148\n",
      "\n",
      "Estimate for the relative computational load of the PME mesh part: 0.12\n",
      "\n",
      "This run will generate roughly 3 Mb of data\n",
      "\n",
      "Back Off! I just backed up em.tpr to ./#em.tpr.3#\n",
      "\n",
      "GROMACS reminds you: \"Hangout In the Suburbs If You've Got the Guts\" (Urban Dance Squad)\n",
      "\n"
     ]
    }
   ],
   "source": [
    "!gmx_mpi grompp -f emin-charmm.mdp -c 1fjs_solv_ions.gro -p topol.top -o em.tpr"
   ]
  },
  {
   "cell_type": "code",
   "execution_count": 32,
   "id": "cbe86fc3-30c4-4f64-9f3d-dc78dfcad49c",
   "metadata": {},
   "outputs": [
    {
     "name": "stdout",
     "output_type": "stream",
     "text": [
      "                      :-) GROMACS - gmx mdrun, 2025.0 (-:\n",
      "\n",
      "Executable:   /usr/local/gromacs/bin/gmx_mpi\n",
      "Data prefix:  /usr/local/gromacs\n",
      "Working dir:  /home/ubuntu/src/gromacs\n",
      "Command line:\n",
      "  gmx_mpi mdrun -deffnm em -ntomp 2\n",
      "\n",
      "\n",
      "Back Off! I just backed up em.log to ./#em.log.6#\n",
      "Reading file em.tpr, VERSION 2025.0 (single precision)\n",
      "Using 2 MPI processes\n",
      "\n",
      "Non-default thread affinity set, disabling internal thread affinity\n",
      "\n",
      "Using 2 OpenMP threads per MPI process\n",
      "\n",
      "\n",
      "Back Off! I just backed up em.trr to ./#em.trr.4#\n",
      "\n",
      "Back Off! I just backed up em.edr to ./#em.edr.4#\n",
      "\n",
      "Steepest Descents:\n",
      "   Tolerance (Fmax)   =  1.00000e+03\n",
      "   Number of steps    =           -1\n",
      "\n",
      "writing lowest energy coordinates.\n",
      "\n",
      "Back Off! I just backed up em.gro to ./#em.gro.4#\n",
      "\n",
      "Steepest Descents converged to Fmax < 1000 in 760 steps\n",
      "Potential Energy  = -6.1369144e+05\n",
      "Maximum force     =  9.3193573e+02 on atom 3836\n",
      "Norm of force     =  2.1141010e+01\n",
      "\n",
      "GROMACS reminds you: \"I Don't Like Dirt\" (The Breeders)\n",
      "\n"
     ]
    }
   ],
   "source": [
    "!mpirun -np 2 gmx_mpi mdrun -deffnm em -ntomp 2"
   ]
  },
  {
   "cell_type": "code",
   "execution_count": 33,
   "id": "0d6b798b-a94f-406a-a9f5-ade750ec1035",
   "metadata": {},
   "outputs": [
    {
     "name": "stdout",
     "output_type": "stream",
     "text": [
      "                      :-) GROMACS - gmx energy, 2025.0 (-:\n",
      "\n",
      "Executable:   /usr/local/gromacs/bin/gmx_mpi\n",
      "Data prefix:  /usr/local/gromacs\n",
      "Working dir:  /home/ubuntu/src/gromacs\n",
      "Command line:\n",
      "  gmx_mpi energy -f em.edr -o potential.xvg -xvg none\n",
      "\n",
      "Opened em.edr as single precision energy file\n",
      "\n",
      "Select the terms you want from the following list by\n",
      "selecting either (part of) the name or the number or a combination.\n",
      "End your selection with an empty line or a zero.\n",
      "-------------------------------------------------------------------\n",
      "  1  Bond             2  U-B              3  Proper-Dih.      4  Improper-Dih. \n",
      "  5  CMAP-Dih.        6  LJ-14            7  Coulomb-14       8  LJ-(SR)       \n",
      "  9  Coulomb-(SR)    10  Coul.-recip.    11  Potential       12  Pressure      \n",
      " 13  Constr.-rmsd    14  Vir-XX          15  Vir-XY          16  Vir-XZ        \n",
      " 17  Vir-YX          18  Vir-YY          19  Vir-YZ          20  Vir-ZX        \n",
      " 21  Vir-ZY          22  Vir-ZZ          23  Pres-XX         24  Pres-XY       \n",
      " 25  Pres-XZ         26  Pres-YX         27  Pres-YY         28  Pres-YZ       \n",
      " 29  Pres-ZX         30  Pres-ZY         31  Pres-ZZ         32  #Surf*SurfTen \n",
      " 33  T-rest        \n",
      "\n",
      "\n",
      "Back Off! I just backed up potential.xvg to ./#potential.xvg.3#\n",
      "Last energy frame read 601 time  759.000          \n",
      "\n",
      "Statistics over 760 steps [ 0.0000 through 759.0000 ps ], 1 data sets\n",
      "All statistics are over 602 points (frames)\n",
      "\n",
      "Energy                      Average   Err.Est.       RMSD  Tot-Drift\n",
      "-------------------------------------------------------------------------------\n",
      "Potential                   -583584      16000    43526.1    -103011  (kJ/mol)\n",
      "\n",
      "GROMACS reminds you: \"What They Need's a Damn Good Whacking\" (The Beatles)\n",
      "\n"
     ]
    }
   ],
   "source": [
    "!printf \"Potential\\n0\\n\" | gmx_mpi energy -f em.edr -o potential.xvg -xvg none"
   ]
  },
  {
   "cell_type": "code",
   "execution_count": 34,
   "id": "52d32639-4c3e-405a-9dfa-fa1d1ef3fa43",
   "metadata": {},
   "outputs": [
    {
     "data": {
      "text/plain": [
       "<Axes: xlabel='step'>"
      ]
     },
     "execution_count": 34,
     "metadata": {},
     "output_type": "execute_result"
    },
    {
     "data": {
      "image/png": "[encoded data removed]",
      "text/plain": [
       "<Figure size 640x480 with 1 Axes>"
      ]
     },
     "metadata": {},
     "output_type": "display_data"
    }
   ],
   "source": [
    "df = pd.read_csv('potential.xvg', sep='\\\\s+', header=None, names=['step','energy'])\n",
    "df.plot('step')"
   ]
  },
  {
   "cell_type": "code",
   "execution_count": 47,
   "id": "64c935ba-d0b5-499f-8421-9312ca645dc7",
   "metadata": {},
   "outputs": [
    {
     "name": "stdout",
     "output_type": "stream",
     "text": [
      "                     :-) GROMACS - gmx trjconv, 2025.0 (-:\n",
      "\n",
      "Executable:   /usr/local/gromacs/bin/gmx_mpi\n",
      "Data prefix:  /usr/local/gromacs\n",
      "Working dir:  /home/ubuntu/src/gromacs\n",
      "Command line:\n",
      "  gmx_mpi trjconv -s em.tpr -f em.trr -o em_center.xtc -center -pbc mol\n",
      "\n",
      "Note that major changes are planned in future for trjconv, to improve usability and utility.\n",
      "Will write xtc: Compressed trajectory (portable xdr format): xtc\n",
      "Reading file em.tpr, VERSION 2025.0 (single precision)\n",
      "Reading file em.tpr, VERSION 2025.0 (single precision)\n",
      "Select group for centering\n",
      "Group     0 (         System) has 39600 elements\n",
      "Group     1 (        Protein) has  4417 elements\n",
      "Group     2 (      Protein-H) has  2238 elements\n",
      "Group     3 (        C-alpha) has   286 elements\n",
      "Group     4 (       Backbone) has   858 elements\n",
      "Group     5 (      MainChain) has  1142 elements\n",
      "Group     6 (   MainChain+Cb) has  1401 elements\n",
      "Group     7 (    MainChain+H) has  1423 elements\n",
      "Group     8 (      SideChain) has  2994 elements\n",
      "Group     9 (    SideChain-H) has  1096 elements\n",
      "Group    10 (    Prot-Masses) has  4417 elements\n",
      "Group    11 (    non-Protein) has 35183 elements\n",
      "Group    12 (          Water) has 35109 elements\n",
      "Group    13 (            SOL) has 35109 elements\n",
      "Group    14 (      non-Water) has  4491 elements\n",
      "Group    15 (            Ion) has    74 elements\n",
      "Group    16 ( Water_and_ions) has 35183 elements\n",
      "Select a group: Selected 1: 'Protein'\n",
      "Select group for output\n",
      "Group     0 (         System) has 39600 elements\n",
      "Group     1 (        Protein) has  4417 elements\n",
      "Group     2 (      Protein-H) has  2238 elements\n",
      "Group     3 (        C-alpha) has   286 elements\n",
      "Group     4 (       Backbone) has   858 elements\n",
      "Group     5 (      MainChain) has  1142 elements\n",
      "Group     6 (   MainChain+Cb) has  1401 elements\n",
      "Group     7 (    MainChain+H) has  1423 elements\n",
      "Group     8 (      SideChain) has  2994 elements\n",
      "Group     9 (    SideChain-H) has  1096 elements\n",
      "Group    10 (    Prot-Masses) has  4417 elements\n",
      "Group    11 (    non-Protein) has 35183 elements\n",
      "Group    12 (          Water) has 35109 elements\n",
      "Group    13 (            SOL) has 35109 elements\n",
      "Group    14 (      non-Water) has  4491 elements\n",
      "Group    15 (            Ion) has    74 elements\n",
      "Group    16 ( Water_and_ions) has 35183 elements\n",
      "Select a group: Selected 1: 'Protein'\n",
      "trr version: GMX_trn_file (single precision)\n",
      "Reading frame       0 time    9.000   \n",
      "Setting output precision to 0.001 (nm)\n",
      "\n",
      "Back Off! I just backed up em_center.xtc to ./#em_center.xtc.6#\n",
      "Last frame         60 time  760.000    ->  frame     59 time  756.000      \n",
      " ->  frame     60 time  760.000      \n",
      "Last written: frame     60 time  760.000\n",
      "\n",
      "\n",
      "GROMACS reminds you: \"With four parameters I can fit an elephant, and with five I can make him wiggle his trunk.\" (John von Neumann)\n",
      "\n"
     ]
    }
   ],
   "source": [
    "\"\"\"\n",
    "Select group for centering then for output\n",
    "Group     0 (         System) has 39600 elements\n",
    "Group     1 (        Protein) has  4417 elements\n",
    "Group     2 (      Protein-H) has  2238 elements\n",
    "Group     3 (        C-alpha) has   286 elements\n",
    "Group     4 (       Backbone) has   858 elements\n",
    "Group     5 (      MainChain) has  1142 elements\n",
    "Group     6 (   MainChain+Cb) has  1401 elements\n",
    "Group     7 (    MainChain+H) has  1423 elements\n",
    "Group     8 (      SideChain) has  2994 elements\n",
    "Group     9 (    SideChain-H) has  1096 elements\n",
    "Group    10 (    Prot-Masses) has  4417 elements\n",
    "Group    11 (    non-Protein) has 35183 elements\n",
    "Group    12 (          Water) has 35109 elements\n",
    "Group    13 (            SOL) has 35109 elements\n",
    "Group    14 (      non-Water) has  4491 elements\n",
    "Group    15 (            Ion) has    74 elements\n",
    "Group    16 ( Water_and_ions) has 35183 elements\n",
    "\"\"\"\n",
    "!printf \"1\\n1\\n\" | gmx_mpi trjconv -s em.tpr -f em.trr -o em_center.xtc -center -pbc mol"
   ]
  },
  {
   "cell_type": "code",
   "execution_count": 48,
   "id": "995c4b8d-1927-4265-8c99-9346e7056d14",
   "metadata": {},
   "outputs": [
    {
     "name": "stdout",
     "output_type": "stream",
     "text": [
      "                     :-) GROMACS - gmx editconf, 2025.0 (-:\n",
      "\n",
      "Executable:   /usr/local/gromacs/bin/gmx_mpi\n",
      "Data prefix:  /usr/local/gromacs\n",
      "Working dir:  /home/ubuntu/src/gromacs\n",
      "Command line:\n",
      "  gmx_mpi editconf -f em.tpr -o em_full.gro\n",
      "\n",
      "Note that major changes are planned in future for editconf, to improve usability and utility.\n",
      "Reading file em.tpr, VERSION 2025.0 (single precision)\n",
      "Reading file em.tpr, VERSION 2025.0 (single precision)\n",
      "Read 39600 atoms\n",
      "Volume: 399.595 nm^3, corresponds to roughly 179800 electrons\n",
      "No velocities found\n",
      "\n",
      "Back Off! I just backed up em_full.gro to ./#em_full.gro.5#\n",
      "\n",
      "GROMACS reminds you: \"Calling a system 'non-linear' is like calling all wild animals 'non-elephants'.\" (Stan Ulam)\n",
      "\n"
     ]
    }
   ],
   "source": [
    "# Convert the TPR file to a structure file\n",
    "!gmx_mpi editconf -f em.tpr -o em_full.gro"
   ]
  },
  {
   "cell_type": "code",
   "execution_count": 50,
   "id": "b28e5d04-2c2c-4dd3-bf3a-deffcfddc4d6",
   "metadata": {},
   "outputs": [
    {
     "data": {
      "application/vnd.jupyter.widget-view+json": {
       "model_id": "a051693bacf24fc386fc2ec38e83772b",
       "version_major": 2,
       "version_minor": 0
      },
      "text/plain": [
       "NGLWidget(max_frame=60)"
      ]
     },
     "metadata": {},
     "output_type": "display_data"
    }
   ],
   "source": [
    "traj = md.load(\"em_center.xtc\", top=\"1fjs_newbox.gro\")\n",
    "#traj = md.load(\"em_center.xtc\", top=\"em_full.gro\") #top=\"em.gro\")\n",
    "\n",
    "\n",
    "view = ng.show_mdtraj(traj)\n",
    "view.add_surface(selection=\"protein\", opacity=0.2)\n",
    "\n",
    "view.add_representation(repr_type='spacefill', selection='NA')\n",
    "view.add_representation(repr_type='spacefill', selection='CL')\n",
    "view.add_representation(repr_type='ball+stick', selection='SOL')\n",
    "view.camera='orthographic'\n",
    "\n",
    "view"
   ]
  },
  {
   "cell_type": "code",
   "execution_count": 39,
   "id": "0d2539d9-6963-441a-9e06-97c2d39c141e",
   "metadata": {},
   "outputs": [
    {
     "name": "stdout",
     "output_type": "stream",
     "text": [
      "Residue names in trajectory: {'TYR', 'ALA', 'ARG', 'CL', 'TRP', 'NA', 'VAL', 'SER', 'PHE', 'ASP', 'GLU', 'HIS', 'GLY', 'LEU', 'MET', 'HOH', 'ASN', 'CYS', 'GLN', 'ILE', 'LYS', 'THR', 'PRO'}\n",
      "Number of water molecules: 0\n"
     ]
    }
   ],
   "source": [
    "# Print the residue names to see what's in your trajectory\n",
    "residue_names = set(residue.name for residue in traj.topology.residues)\n",
    "print(\"Residue names in trajectory:\", residue_names)\n",
    "\n",
    "# Count the water molecules\n",
    "num_water = sum(1 for res in traj.topology.residues if res.name == 'SOL')\n",
    "print(\"Number of water molecules:\", num_water)"
   ]
  },
  {
   "cell_type": "code",
   "execution_count": 40,
   "id": "a51eff7e-cd4a-4445-be71-0a8d50964c17",
   "metadata": {},
   "outputs": [
    {
     "name": "stdout",
     "output_type": "stream",
     "text": [
      "Residue names in topology: {'TYR', 'ALA', 'ARG', 'CL', 'TRP', 'NA', 'VAL', 'SER', 'PHE', 'ASP', 'GLU', 'HIS', 'GLY', 'LEU', 'MET', 'HOH', 'ASN', 'CYS', 'GLN', 'ILE', 'LYS', 'THR', 'PRO'}\n",
      "Number of water molecules in topology: 0\n"
     ]
    }
   ],
   "source": [
    "# Check topology contents\n",
    "top = md.load_topology(\"em_full.gro\")\n",
    "residue_names = set(residue.name for residue in top.residues)\n",
    "print(\"Residue names in topology:\", residue_names)\n",
    "print(\"Number of water molecules in topology:\", sum(1 for res in top.residues if res.name == 'SOL'))"
   ]
  },
  {
   "cell_type": "code",
   "execution_count": null,
   "id": "2fffe019-9928-4dd5-bd50-dc12a2f9e8d2",
   "metadata": {},
   "outputs": [],
   "source": []
  }
 ],
 "metadata": {
  "kernelspec": {
   "display_name": "Python 3 (ipykernel)",
   "language": "python",
   "name": "python3"
  },
  "language_info": {
   "codemirror_mode": {
    "name": "ipython",
    "version": 3
   },
   "file_extension": ".py",
   "mimetype": "text/x-python",
   "name": "python",
   "nbconvert_exporter": "python",
   "pygments_lexer": "ipython3",
   "version": "3.13.2"
  }
 },
 "nbformat": 4,
 "nbformat_minor": 5
}
